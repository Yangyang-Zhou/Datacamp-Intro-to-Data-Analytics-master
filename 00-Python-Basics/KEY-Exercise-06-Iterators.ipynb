{
 "cells": [
  {
   "cell_type": "markdown",
   "metadata": {},
   "source": [
    "# Exercise 1\n",
    "Write a function that takes a list and prints a corresponding enumerate object of this list, i.e., index and value of each element. You can do this by using the function `enumerate(L)`.\n",
    "\n",
    "Make sure to include a docstring for this function. Name this function `print_enumerate`."
   ]
  },
  {
   "cell_type": "code",
   "execution_count": 1,
   "metadata": {},
   "outputs": [],
   "source": [
    "L = [4, 'A', 6, 0, 'Z']"
   ]
  },
  {
   "cell_type": "code",
   "execution_count": 2,
   "metadata": {},
   "outputs": [],
   "source": [
    "# Your answer goes here\n",
    "def print_enumerate(L):\n",
    "    \"\"\"Prints enumerate of a list.\n",
    "    \n",
    "    Args:\n",
    "        L (list): A list\n",
    "    \n",
    "    Returns:\n",
    "        None\n",
    "    \"\"\"\n",
    "    for i, val in enumerate(L):\n",
    "        print(i, val)"
   ]
  },
  {
   "cell_type": "code",
   "execution_count": 3,
   "metadata": {},
   "outputs": [
    {
     "name": "stdout",
     "output_type": "stream",
     "text": [
      "0 4\n",
      "1 A\n",
      "2 6\n",
      "3 0\n",
      "4 Z\n"
     ]
    }
   ],
   "source": [
    "print_enumerate(L)"
   ]
  },
  {
   "cell_type": "markdown",
   "metadata": {},
   "source": [
    "# Exercise 2\n",
    "Write a function that accepts a list of words and returns a list with only the ones that are capitalized. \n",
    "\n",
    "Use `filter` in conjunction with a for loop. You can use `isupper()` to identify whether a single letter is capitalized or not.\n",
    "\n",
    "Include a docstring."
   ]
  },
  {
   "cell_type": "code",
   "execution_count": 4,
   "metadata": {},
   "outputs": [],
   "source": [
    "R = ['computers', 'month', 'English', 'digital', 'Questrom']"
   ]
  },
  {
   "cell_type": "code",
   "execution_count": 5,
   "metadata": {},
   "outputs": [],
   "source": [
    "# Your answer goes here\n",
    "def filter_capitalized(words_list):\n",
    "    \"\"\"Filters capitalized words from a list\n",
    "    \n",
    "    Args:\n",
    "        words_list (list): A list of strings\n",
    "    \n",
    "    Returns:\n",
    "        capitalized_words (list): A list which is a subset of the input, where the words are capitalized\"\"\"\n",
    "    capitalized_words = []\n",
    "    for word in filter(lambda x: x[0].isupper(), words_list):\n",
    "        capitalized_words.append(word)\n",
    "    return capitalized_words"
   ]
  },
  {
   "cell_type": "code",
   "execution_count": 6,
   "metadata": {},
   "outputs": [
    {
     "data": {
      "text/plain": [
       "['English', 'Questrom']"
      ]
     },
     "execution_count": 6,
     "metadata": {},
     "output_type": "execute_result"
    }
   ],
   "source": [
    "filter_capitalized(R)"
   ]
  }
 ],
 "metadata": {
  "kernelspec": {
   "display_name": "Python 3",
   "language": "python",
   "name": "python3"
  },
  "language_info": {
   "codemirror_mode": {
    "name": "ipython",
    "version": 3
   },
   "file_extension": ".py",
   "mimetype": "text/x-python",
   "name": "python",
   "nbconvert_exporter": "python",
   "pygments_lexer": "ipython3",
   "version": "3.7.2"
  }
 },
 "nbformat": 4,
 "nbformat_minor": 2
}
