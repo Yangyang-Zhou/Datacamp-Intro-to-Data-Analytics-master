{
  "nbformat": 4,
  "nbformat_minor": 0,
  "metadata": {
    "colab": {
      "name": "IS833 - Team 6 - Final Project",
      "version": "0.3.2",
      "provenance": [],
      "collapsed_sections": []
    },
    "kernelspec": {
      "name": "python3",
      "display_name": "Python 3"
    }
  },
  "cells": [
    {
      "cell_type": "markdown",
      "metadata": {
        "id": "QcMCMP8CBWHv",
        "colab_type": "text"
      },
      "source": [
        "# Team Assignment\n",
        "---\n",
        "\n"
      ]
    },
    {
      "cell_type": "markdown",
      "metadata": {
        "id": "VooeGFLMG5Kq",
        "colab_type": "text"
      },
      "source": [
        "##Introduction"
      ]
    },
    {
      "cell_type": "markdown",
      "metadata": {
        "colab_type": "text",
        "id": "6UbXNMbN0cFv"
      },
      "source": [
        "The following project and its contents have been created by **Saeid Gholami, Kento Minagawa, Bruno Couto, Rishabh Dua, and Chirag Yadav** under the guidance and supervision of **Mohammad Soltanieh-ha**. Reproduction and/or distribution of contents in this project for financial gains or otherwise is strictly prohibited without the written permission of the team members or the instructor. Violators will be prosecuted with full extend of law along with any equitable monetary fines.\n"
      ]
    },
    {
      "cell_type": "markdown",
      "metadata": {
        "colab_type": "text",
        "id": "W2lfpvJo0sDO"
      },
      "source": [
        "### Movie Industry Dataset\n",
        "\n",
        "The dataset that we have selected has a total of 6820 movies. Here,  there are 220 movies which are randomly selected every year for three decades from 1986 to 2016 for analysis and a group of attributes are measured/recorded. Each movie has the following listed attributes represented against columns:\n"
      ]
    },
    {
      "cell_type": "markdown",
      "metadata": {
        "colab_type": "text",
        "id": "lBu6KltJ0z0m"
      },
      "source": [
        "* **Budget:** This attribute gives the overall budget for a movie. There are some movies don't have this data, so for them the budget is 0\n",
        "* **Company:** This attribute gives the name of the production company.\n",
        "* **Country:** This attribute gives the name of the country in which the movie was produced\n",
        "* **Director:** This attribute gives the name of the director for the listed movie.\n",
        "* **Genre:**  This attribute gives the main Genre for the movie.\n",
        "* **Gross:** This attribute gives us the total revenues earned in the the movie's lifetime.\n",
        "* **Name:** The name of the movie\n",
        "* **Rating:** The rating for the movie in terms of (R, PG, etc.)\n",
        "* **Released:** This attribute gives us the release date for the movie(YYYY-MM-DD)\n",
        "* **Runtime:** This attribute gives us the runtime for the movie.\n",
        "* **Score:** IMDb user rating\n",
        "* **Votes:** Total number of user votes\n",
        "* **Star:** Main actor/actress in the movie\n",
        "* **Writer:** This attribute gives us information on the writer for the movie\n",
        " \n"
      ]
    },
    {
      "cell_type": "markdown",
      "metadata": {
        "id": "CQHF7UZvhEf2",
        "colab_type": "text"
      },
      "source": [
        "##Problem Definition"
      ]
    },
    {
      "cell_type": "markdown",
      "metadata": {
        "id": "OLvi1mvaOXT3",
        "colab_type": "text"
      },
      "source": [
        "### The Problem\n",
        "\n",
        "Now we have data set. But we have not seen any relationship among these columns. For example which variable has the strongest relationship with the revenue. In the business world, we have to predict how successfull a new product or service will be based on the history and the trend. So our goal is to create a regression model that predicts the gross revenue of a particular film coming out.\n"
      ]
    },
    {
      "cell_type": "markdown",
      "metadata": {
        "id": "ie2LPyrDOdvm",
        "colab_type": "text"
      },
      "source": [
        "### Goals\n",
        "\n",
        "In this presentation, we are going to predict the revenue of The Avengers: Endgame. In other words, we are not going to set a standard principle of profitable movies. For example, saying ‘if you want to make a profitable movie, use Steven Spielberg as director and Robert Downey Jr. as the main actor then launch during summer holiday season with 3D.’ This is not our goal.  In addition, because all gross revenue data is from the US only, we used data from US-based films."
      ]
    },
    {
      "cell_type": "markdown",
      "metadata": {
        "id": "mfXFU9C3PsHA",
        "colab_type": "text"
      },
      "source": [
        "## Loading the data"
      ]
    },
    {
      "cell_type": "markdown",
      "metadata": {
        "id": "1uQldGn-P2s2",
        "colab_type": "text"
      },
      "source": [
        "Importing libraries and connecting to the Team Drive"
      ]
    },
    {
      "cell_type": "code",
      "metadata": {
        "id": "emUN-o4nPwQu",
        "colab_type": "code",
        "outputId": "d50f8d22-b710-45ab-b45b-7fc9acc63743",
        "colab": {
          "base_uri": "https://localhost:8080/",
          "height": 34
        }
      },
      "source": [
        "import numpy as np\n",
        "import pandas as pd\n",
        "\n",
        "import matplotlib.pyplot as plt \n",
        "plt.rc('font', size=14)\n",
        "\n",
        "import seaborn as sns\n",
        "sns.set(style='white')\n",
        "sns.set(style='whitegrid', color_codes=True)\n",
        "\n",
        "import warnings\n",
        "warnings.filterwarnings('ignore')\n",
        "\n",
        "from google.colab import drive\n",
        "# Mounting Google Drive folder\n",
        "drive.mount('/gdrive');"
      ],
      "execution_count": 0,
      "outputs": [
        {
          "output_type": "stream",
          "text": [
            "Drive already mounted at /gdrive; to attempt to forcibly remount, call drive.mount(\"/gdrive\", force_remount=True).\n"
          ],
          "name": "stdout"
        }
      ]
    },
    {
      "cell_type": "markdown",
      "metadata": {
        "id": "Ww2KS4AlP3Xu",
        "colab_type": "text"
      },
      "source": [
        "Reading the data from the CSV file on the Team Drive"
      ]
    },
    {
      "cell_type": "code",
      "metadata": {
        "id": "ui1Kfj99P1cH",
        "colab_type": "code",
        "outputId": "7d566f16-6ef0-41a3-ecb0-a1b9b8cadd0d",
        "colab": {
          "base_uri": "https://localhost:8080/",
          "height": 204
        }
      },
      "source": [
        "movies = pd.read_csv('/gdrive/Team Drives/Kung Fu Pandas/dataset/movies.csv', encoding='latin-1', parse_dates=True)\n",
        "movies.head()"
      ],
      "execution_count": 0,
      "outputs": [
        {
          "output_type": "execute_result",
          "data": {
            "text/html": [
              "<div>\n",
              "<style scoped>\n",
              "    .dataframe tbody tr th:only-of-type {\n",
              "        vertical-align: middle;\n",
              "    }\n",
              "\n",
              "    .dataframe tbody tr th {\n",
              "        vertical-align: top;\n",
              "    }\n",
              "\n",
              "    .dataframe thead th {\n",
              "        text-align: right;\n",
              "    }\n",
              "</style>\n",
              "<table border=\"1\" class=\"dataframe\">\n",
              "  <thead>\n",
              "    <tr style=\"text-align: right;\">\n",
              "      <th></th>\n",
              "      <th>budget</th>\n",
              "      <th>company</th>\n",
              "      <th>country</th>\n",
              "      <th>director</th>\n",
              "      <th>genre</th>\n",
              "      <th>gross</th>\n",
              "      <th>name</th>\n",
              "      <th>rating</th>\n",
              "      <th>released</th>\n",
              "      <th>runtime</th>\n",
              "      <th>score</th>\n",
              "      <th>star</th>\n",
              "      <th>votes</th>\n",
              "      <th>writer</th>\n",
              "      <th>year</th>\n",
              "    </tr>\n",
              "  </thead>\n",
              "  <tbody>\n",
              "    <tr>\n",
              "      <th>0</th>\n",
              "      <td>8000000.0</td>\n",
              "      <td>Columbia Pictures Corporation</td>\n",
              "      <td>USA</td>\n",
              "      <td>Rob Reiner</td>\n",
              "      <td>Adventure</td>\n",
              "      <td>52287414.0</td>\n",
              "      <td>Stand by Me</td>\n",
              "      <td>R</td>\n",
              "      <td>1986-08-22</td>\n",
              "      <td>89</td>\n",
              "      <td>8.1</td>\n",
              "      <td>Wil Wheaton</td>\n",
              "      <td>299174</td>\n",
              "      <td>Stephen King</td>\n",
              "      <td>1986</td>\n",
              "    </tr>\n",
              "    <tr>\n",
              "      <th>1</th>\n",
              "      <td>6000000.0</td>\n",
              "      <td>Paramount Pictures</td>\n",
              "      <td>USA</td>\n",
              "      <td>John Hughes</td>\n",
              "      <td>Comedy</td>\n",
              "      <td>70136369.0</td>\n",
              "      <td>Ferris Bueller's Day Off</td>\n",
              "      <td>PG-13</td>\n",
              "      <td>1986-06-11</td>\n",
              "      <td>103</td>\n",
              "      <td>7.8</td>\n",
              "      <td>Matthew Broderick</td>\n",
              "      <td>264740</td>\n",
              "      <td>John Hughes</td>\n",
              "      <td>1986</td>\n",
              "    </tr>\n",
              "    <tr>\n",
              "      <th>2</th>\n",
              "      <td>15000000.0</td>\n",
              "      <td>Paramount Pictures</td>\n",
              "      <td>USA</td>\n",
              "      <td>Tony Scott</td>\n",
              "      <td>Action</td>\n",
              "      <td>179800601.0</td>\n",
              "      <td>Top Gun</td>\n",
              "      <td>PG</td>\n",
              "      <td>1986-05-16</td>\n",
              "      <td>110</td>\n",
              "      <td>6.9</td>\n",
              "      <td>Tom Cruise</td>\n",
              "      <td>236909</td>\n",
              "      <td>Jim Cash</td>\n",
              "      <td>1986</td>\n",
              "    </tr>\n",
              "    <tr>\n",
              "      <th>3</th>\n",
              "      <td>18500000.0</td>\n",
              "      <td>Twentieth Century Fox Film Corporation</td>\n",
              "      <td>USA</td>\n",
              "      <td>James Cameron</td>\n",
              "      <td>Action</td>\n",
              "      <td>85160248.0</td>\n",
              "      <td>Aliens</td>\n",
              "      <td>R</td>\n",
              "      <td>1986-07-18</td>\n",
              "      <td>137</td>\n",
              "      <td>8.4</td>\n",
              "      <td>Sigourney Weaver</td>\n",
              "      <td>540152</td>\n",
              "      <td>James Cameron</td>\n",
              "      <td>1986</td>\n",
              "    </tr>\n",
              "    <tr>\n",
              "      <th>4</th>\n",
              "      <td>9000000.0</td>\n",
              "      <td>Walt Disney Pictures</td>\n",
              "      <td>USA</td>\n",
              "      <td>Randal Kleiser</td>\n",
              "      <td>Adventure</td>\n",
              "      <td>18564613.0</td>\n",
              "      <td>Flight of the Navigator</td>\n",
              "      <td>PG</td>\n",
              "      <td>1986-08-01</td>\n",
              "      <td>90</td>\n",
              "      <td>6.9</td>\n",
              "      <td>Joey Cramer</td>\n",
              "      <td>36636</td>\n",
              "      <td>Mark H. Baker</td>\n",
              "      <td>1986</td>\n",
              "    </tr>\n",
              "  </tbody>\n",
              "</table>\n",
              "</div>"
            ],
            "text/plain": [
              "       budget                                 company country        director  \\\n",
              "0   8000000.0           Columbia Pictures Corporation     USA      Rob Reiner   \n",
              "1   6000000.0                      Paramount Pictures     USA     John Hughes   \n",
              "2  15000000.0                      Paramount Pictures     USA      Tony Scott   \n",
              "3  18500000.0  Twentieth Century Fox Film Corporation     USA   James Cameron   \n",
              "4   9000000.0                    Walt Disney Pictures     USA  Randal Kleiser   \n",
              "\n",
              "       genre        gross                      name rating    released  \\\n",
              "0  Adventure   52287414.0               Stand by Me      R  1986-08-22   \n",
              "1     Comedy   70136369.0  Ferris Bueller's Day Off  PG-13  1986-06-11   \n",
              "2     Action  179800601.0                   Top Gun     PG  1986-05-16   \n",
              "3     Action   85160248.0                    Aliens      R  1986-07-18   \n",
              "4  Adventure   18564613.0   Flight of the Navigator     PG  1986-08-01   \n",
              "\n",
              "   runtime  score               star   votes         writer  year  \n",
              "0       89    8.1        Wil Wheaton  299174   Stephen King  1986  \n",
              "1      103    7.8  Matthew Broderick  264740    John Hughes  1986  \n",
              "2      110    6.9         Tom Cruise  236909       Jim Cash  1986  \n",
              "3      137    8.4   Sigourney Weaver  540152  James Cameron  1986  \n",
              "4       90    6.9        Joey Cramer   36636  Mark H. Baker  1986  "
            ]
          },
          "metadata": {
            "tags": []
          },
          "execution_count": 2
        }
      ]
    },
    {
      "cell_type": "markdown",
      "metadata": {
        "id": "C2dGId8IgUYP",
        "colab_type": "text"
      },
      "source": [
        "##Data Exploration"
      ]
    },
    {
      "cell_type": "markdown",
      "metadata": {
        "id": "gBOqcrH9P5xf",
        "colab_type": "text"
      },
      "source": [
        "Checking values for all the columns in the dataset"
      ]
    },
    {
      "cell_type": "code",
      "metadata": {
        "id": "gInm1EKfJZ-G",
        "colab_type": "code",
        "outputId": "2802ac54-cf66-4013-fc72-69ec12736dc5",
        "colab": {
          "base_uri": "https://localhost:8080/",
          "height": 357
        }
      },
      "source": [
        "movies.info()"
      ],
      "execution_count": 0,
      "outputs": [
        {
          "output_type": "stream",
          "text": [
            "<class 'pandas.core.frame.DataFrame'>\n",
            "RangeIndex: 6820 entries, 0 to 6819\n",
            "Data columns (total 15 columns):\n",
            "budget      6820 non-null float64\n",
            "company     6820 non-null object\n",
            "country     6820 non-null object\n",
            "director    6820 non-null object\n",
            "genre       6820 non-null object\n",
            "gross       6820 non-null float64\n",
            "name        6820 non-null object\n",
            "rating      6820 non-null object\n",
            "released    6820 non-null object\n",
            "runtime     6820 non-null int64\n",
            "score       6820 non-null float64\n",
            "star        6820 non-null object\n",
            "votes       6820 non-null int64\n",
            "writer      6820 non-null object\n",
            "year        6820 non-null int64\n",
            "dtypes: float64(3), int64(3), object(9)\n",
            "memory usage: 799.3+ KB\n"
          ],
          "name": "stdout"
        }
      ]
    },
    {
      "cell_type": "markdown",
      "metadata": {
        "id": "R2j3-nr_TG2f",
        "colab_type": "text"
      },
      "source": [
        "Generating statistical descriptors for each numerical column"
      ]
    },
    {
      "cell_type": "code",
      "metadata": {
        "id": "BzjsoxcdHNt-",
        "colab_type": "code",
        "outputId": "470f7b01-147e-48ac-e9f3-0d02e44a939c",
        "colab": {
          "base_uri": "https://localhost:8080/",
          "height": 297
        }
      },
      "source": [
        "movies.describe()"
      ],
      "execution_count": 0,
      "outputs": [
        {
          "output_type": "execute_result",
          "data": {
            "text/html": [
              "<div>\n",
              "<style scoped>\n",
              "    .dataframe tbody tr th:only-of-type {\n",
              "        vertical-align: middle;\n",
              "    }\n",
              "\n",
              "    .dataframe tbody tr th {\n",
              "        vertical-align: top;\n",
              "    }\n",
              "\n",
              "    .dataframe thead th {\n",
              "        text-align: right;\n",
              "    }\n",
              "</style>\n",
              "<table border=\"1\" class=\"dataframe\">\n",
              "  <thead>\n",
              "    <tr style=\"text-align: right;\">\n",
              "      <th></th>\n",
              "      <th>budget</th>\n",
              "      <th>gross</th>\n",
              "      <th>runtime</th>\n",
              "      <th>score</th>\n",
              "      <th>votes</th>\n",
              "      <th>year</th>\n",
              "    </tr>\n",
              "  </thead>\n",
              "  <tbody>\n",
              "    <tr>\n",
              "      <th>count</th>\n",
              "      <td>6.820000e+03</td>\n",
              "      <td>6.820000e+03</td>\n",
              "      <td>6820.00000</td>\n",
              "      <td>6820.000000</td>\n",
              "      <td>6.820000e+03</td>\n",
              "      <td>6820.000000</td>\n",
              "    </tr>\n",
              "    <tr>\n",
              "      <th>mean</th>\n",
              "      <td>2.458113e+07</td>\n",
              "      <td>3.349783e+07</td>\n",
              "      <td>106.55132</td>\n",
              "      <td>6.374897</td>\n",
              "      <td>7.121952e+04</td>\n",
              "      <td>2001.000293</td>\n",
              "    </tr>\n",
              "    <tr>\n",
              "      <th>std</th>\n",
              "      <td>3.702254e+07</td>\n",
              "      <td>5.819760e+07</td>\n",
              "      <td>18.02818</td>\n",
              "      <td>1.003142</td>\n",
              "      <td>1.305176e+05</td>\n",
              "      <td>8.944501</td>\n",
              "    </tr>\n",
              "    <tr>\n",
              "      <th>min</th>\n",
              "      <td>0.000000e+00</td>\n",
              "      <td>7.000000e+01</td>\n",
              "      <td>50.00000</td>\n",
              "      <td>1.500000</td>\n",
              "      <td>2.700000e+01</td>\n",
              "      <td>1986.000000</td>\n",
              "    </tr>\n",
              "    <tr>\n",
              "      <th>25%</th>\n",
              "      <td>0.000000e+00</td>\n",
              "      <td>1.515839e+06</td>\n",
              "      <td>95.00000</td>\n",
              "      <td>5.800000</td>\n",
              "      <td>7.665250e+03</td>\n",
              "      <td>1993.000000</td>\n",
              "    </tr>\n",
              "    <tr>\n",
              "      <th>50%</th>\n",
              "      <td>1.100000e+07</td>\n",
              "      <td>1.213568e+07</td>\n",
              "      <td>102.00000</td>\n",
              "      <td>6.400000</td>\n",
              "      <td>2.589250e+04</td>\n",
              "      <td>2001.000000</td>\n",
              "    </tr>\n",
              "    <tr>\n",
              "      <th>75%</th>\n",
              "      <td>3.200000e+07</td>\n",
              "      <td>4.006534e+07</td>\n",
              "      <td>115.00000</td>\n",
              "      <td>7.100000</td>\n",
              "      <td>7.581225e+04</td>\n",
              "      <td>2009.000000</td>\n",
              "    </tr>\n",
              "    <tr>\n",
              "      <th>max</th>\n",
              "      <td>3.000000e+08</td>\n",
              "      <td>9.366622e+08</td>\n",
              "      <td>366.00000</td>\n",
              "      <td>9.300000</td>\n",
              "      <td>1.861666e+06</td>\n",
              "      <td>2016.000000</td>\n",
              "    </tr>\n",
              "  </tbody>\n",
              "</table>\n",
              "</div>"
            ],
            "text/plain": [
              "             budget         gross     runtime        score         votes  \\\n",
              "count  6.820000e+03  6.820000e+03  6820.00000  6820.000000  6.820000e+03   \n",
              "mean   2.458113e+07  3.349783e+07   106.55132     6.374897  7.121952e+04   \n",
              "std    3.702254e+07  5.819760e+07    18.02818     1.003142  1.305176e+05   \n",
              "min    0.000000e+00  7.000000e+01    50.00000     1.500000  2.700000e+01   \n",
              "25%    0.000000e+00  1.515839e+06    95.00000     5.800000  7.665250e+03   \n",
              "50%    1.100000e+07  1.213568e+07   102.00000     6.400000  2.589250e+04   \n",
              "75%    3.200000e+07  4.006534e+07   115.00000     7.100000  7.581225e+04   \n",
              "max    3.000000e+08  9.366622e+08   366.00000     9.300000  1.861666e+06   \n",
              "\n",
              "              year  \n",
              "count  6820.000000  \n",
              "mean   2001.000293  \n",
              "std       8.944501  \n",
              "min    1986.000000  \n",
              "25%    1993.000000  \n",
              "50%    2001.000000  \n",
              "75%    2009.000000  \n",
              "max    2016.000000  "
            ]
          },
          "metadata": {
            "tags": []
          },
          "execution_count": 4
        }
      ]
    },
    {
      "cell_type": "markdown",
      "metadata": {
        "id": "lmlAJQrNjxOF",
        "colab_type": "text"
      },
      "source": [
        "**Movie Budget:**"
      ]
    },
    {
      "cell_type": "code",
      "metadata": {
        "id": "nfEoaOExjfwP",
        "colab_type": "code",
        "outputId": "d68eaf95-c483-46f9-ccd2-cde294da6ab1",
        "colab": {
          "base_uri": "https://localhost:8080/",
          "height": 34
        }
      },
      "source": [
        "print(\"For {} movies there is no data available with respect to their budget.\".format(movies[(movies.budget==0)].name.count()))"
      ],
      "execution_count": 0,
      "outputs": [
        {
          "output_type": "stream",
          "text": [
            "For 2182 movies there is no data available with respect to their budget.\n"
          ],
          "name": "stdout"
        }
      ]
    },
    {
      "cell_type": "code",
      "metadata": {
        "id": "R_xeLDl6jzc5",
        "colab_type": "code",
        "outputId": "94c5f905-8554-4c33-aeca-2c592bcff586",
        "colab": {
          "base_uri": "https://localhost:8080/",
          "height": 34
        }
      },
      "source": [
        "print(\"For the rest of the data set (i.e eliminating these {} movies), which has {} movies:\".format(movies[(movies.budget==0)].name.count(), movies[(movies.budget>0)].name.count()))"
      ],
      "execution_count": 0,
      "outputs": [
        {
          "output_type": "stream",
          "text": [
            "For the rest of the data set (i.e eliminating these 2182 movies), which has 4638 movies:\n"
          ],
          "name": "stdout"
        }
      ]
    },
    {
      "cell_type": "markdown",
      "metadata": {
        "colab_type": "text",
        "id": "pFewycsK1_jA"
      },
      "source": [
        "* Maximum Movie Budget is  $300 M\n",
        "* Minimum Movie Budget is  \\$6000\n",
        "* Average Movie Budget is \\$36 M\n",
        "* Standard Deviation for the sub-set is \\$39.9 M\n",
        "\n",
        "**Gross Revenue:**\n",
        "* Total indusrty made \\$228.5 Bn in revenue\n",
        "* Total industry had \\$60.8 Bn gross profit\n",
        "* Maximum revenues earned is \\$936 M\n",
        "* Minimum revenues earned is \\$70\n",
        "* The average revenues earned is \\$33 M \n",
        "* 4460 Movies had a profit and 2340 movies showed a loss\n",
        "* Gross revenue is higly correlated with initial budget and the company behind the movie\n",
        "\n",
        "**Gross Revenue in Month:**\n",
        "* In entire industry, the average gross revenue per movie is the highest for the movies released in June (\\$59M), December (\\$54.3M), or July (\\$51.9M)\n",
        "* Marvel Studios tend to realease its movies in May, August, or November.\n",
        "* The average gross revenues per movie in Marvel studion is highest for movies released in May (\\$474.8M) and lowest for November (\\$219M)\n",
        "\n",
        "**Run Time:**\n",
        "\n",
        "* Maximum Run-time is 366 minutes\n",
        "* Minimum Run-time is 50 minute\n",
        "* Average Run-time us 106 minutes\n",
        "\n",
        "* The movie with the longest Run-time i.e. 366 minutes :- The Best of Youth\n",
        "* The movie with the shortest Run-time i.e 50 minutes :- Wings of Courage\n",
        "\n",
        "**IMDB Reviews:**\n",
        "\n",
        "* Maximum rating is 9.3\n",
        "* Minimum rating is 1.5\n",
        "* Average rating is 6.4\n",
        "* Median rating is 6.4\n",
        "\n",
        "**Number of Votes:**\n",
        "\n",
        "* Maximum votes earned are 1.8 Million\n",
        "* Minimum votes earned are 27\n",
        "* Average votes earned are 71,219\n",
        "\n",
        "\n",
        "**Movie Genre:**\n",
        "\n",
        "* Genre under which most movies were produced is Comedy with 2080 movies\n",
        "* Genre under which least movies were produced is Western and War, both with only 2 movies\n",
        "\n",
        "\n",
        "**Other data:**\n",
        "\n",
        "* There are 57 unique countries from where the movies are originated.\n",
        "* United States produced the most of these movies in this list with 4,872 movies\n",
        "* There are 14 different countries which produced just one movie in the data set.\n",
        "* Woody Allen directed 33 movies, which was the most by an indiviual.\n",
        "* There are 2,179 unique companies in the provided data-set.\n",
        "* Universal Pictures produced the most movies in the data set with 302 movies.\n"
      ]
    },
    {
      "cell_type": "code",
      "metadata": {
        "id": "xIqt6hBhZDmL",
        "colab_type": "code",
        "outputId": "dd341028-c469-4a4c-a56f-c5eb2030a81e",
        "colab": {
          "base_uri": "https://localhost:8080/",
          "height": 102
        }
      },
      "source": [
        "movies [movies.runtime==movies.runtime.max()].name.describe()"
      ],
      "execution_count": 0,
      "outputs": [
        {
          "output_type": "execute_result",
          "data": {
            "text/plain": [
              "count                     1\n",
              "unique                    1\n",
              "top       The Best of Youth\n",
              "freq                      1\n",
              "Name: name, dtype: object"
            ]
          },
          "metadata": {
            "tags": []
          },
          "execution_count": 7
        }
      ]
    },
    {
      "cell_type": "code",
      "metadata": {
        "id": "lDGIX7LCZGd7",
        "colab_type": "code",
        "outputId": "63ca2800-08df-47e5-ab5b-07370233c36c",
        "colab": {
          "base_uri": "https://localhost:8080/",
          "height": 102
        }
      },
      "source": [
        "movies [movies.runtime==movies.runtime.min()].name.describe()"
      ],
      "execution_count": 0,
      "outputs": [
        {
          "output_type": "execute_result",
          "data": {
            "text/plain": [
              "count                    1\n",
              "unique                   1\n",
              "top       Wings of Courage\n",
              "freq                     1\n",
              "Name: name, dtype: object"
            ]
          },
          "metadata": {
            "tags": []
          },
          "execution_count": 8
        }
      ]
    },
    {
      "cell_type": "code",
      "metadata": {
        "id": "C2W9tsIMZKe9",
        "colab_type": "code",
        "outputId": "709d9b33-dd0f-4f25-aa30-9042e3f466e0",
        "colab": {
          "base_uri": "https://localhost:8080/",
          "height": 102
        }
      },
      "source": [
        "movies.country.describe()"
      ],
      "execution_count": 0,
      "outputs": [
        {
          "output_type": "execute_result",
          "data": {
            "text/plain": [
              "count     6820\n",
              "unique      57\n",
              "top        USA\n",
              "freq      4872\n",
              "Name: country, dtype: object"
            ]
          },
          "metadata": {
            "tags": []
          },
          "execution_count": 9
        }
      ]
    },
    {
      "cell_type": "code",
      "metadata": {
        "id": "uhILMC0KZjcT",
        "colab_type": "code",
        "outputId": "bb1dabdf-7484-49af-d02c-5b88f8fb39b3",
        "colab": {
          "base_uri": "https://localhost:8080/",
          "height": 204
        }
      },
      "source": [
        "movies.country.value_counts().head(10)"
      ],
      "execution_count": 0,
      "outputs": [
        {
          "output_type": "execute_result",
          "data": {
            "text/plain": [
              "USA          4872\n",
              "UK            698\n",
              "France        283\n",
              "Canada        150\n",
              "Germany       134\n",
              "Australia      82\n",
              "Japan          68\n",
              "Spain          56\n",
              "Italy          51\n",
              "Ireland        44\n",
              "Name: country, dtype: int64"
            ]
          },
          "metadata": {
            "tags": []
          },
          "execution_count": 10
        }
      ]
    },
    {
      "cell_type": "code",
      "metadata": {
        "id": "sTgVgVSrZOo4",
        "colab_type": "code",
        "outputId": "04411e66-2fe9-447f-bce1-dfcb7e5b1070",
        "colab": {
          "base_uri": "https://localhost:8080/",
          "height": 102
        }
      },
      "source": [
        "movies.company.describe()"
      ],
      "execution_count": 0,
      "outputs": [
        {
          "output_type": "execute_result",
          "data": {
            "text/plain": [
              "count                   6820\n",
              "unique                  2179\n",
              "top       Universal Pictures\n",
              "freq                     302\n",
              "Name: company, dtype: object"
            ]
          },
          "metadata": {
            "tags": []
          },
          "execution_count": 11
        }
      ]
    },
    {
      "cell_type": "code",
      "metadata": {
        "id": "OmjeKem1ZWnO",
        "colab_type": "code",
        "outputId": "86cb353c-8d7e-421b-afde-df9079d82126",
        "colab": {
          "base_uri": "https://localhost:8080/",
          "height": 170
        }
      },
      "source": [
        "movies[(movies.budget!=0)].budget.describe()"
      ],
      "execution_count": 0,
      "outputs": [
        {
          "output_type": "execute_result",
          "data": {
            "text/plain": [
              "count    4.638000e+03\n",
              "mean     3.614560e+07\n",
              "std      3.996947e+07\n",
              "min      6.000000e+03\n",
              "25%      1.000000e+07\n",
              "50%      2.300000e+07\n",
              "75%      4.600000e+07\n",
              "max      3.000000e+08\n",
              "Name: budget, dtype: float64"
            ]
          },
          "metadata": {
            "tags": []
          },
          "execution_count": 12
        }
      ]
    },
    {
      "cell_type": "code",
      "metadata": {
        "id": "TkOkVTjjZfEy",
        "colab_type": "code",
        "outputId": "e6cdd194-8e4f-4578-8a50-e51b39e9ef2b",
        "colab": {
          "base_uri": "https://localhost:8080/",
          "height": 204
        }
      },
      "source": [
        "movies.genre.value_counts().head(10)"
      ],
      "execution_count": 0,
      "outputs": [
        {
          "output_type": "execute_result",
          "data": {
            "text/plain": [
              "Comedy       2080\n",
              "Drama        1444\n",
              "Action       1331\n",
              "Crime         522\n",
              "Adventure     392\n",
              "Biography     359\n",
              "Animation     277\n",
              "Horror        277\n",
              "Mystery        38\n",
              "Fantasy        32\n",
              "Name: genre, dtype: int64"
            ]
          },
          "metadata": {
            "tags": []
          },
          "execution_count": 13
        }
      ]
    },
    {
      "cell_type": "code",
      "metadata": {
        "id": "JIJwwdC9ZqOh",
        "colab_type": "code",
        "outputId": "85d08989-af1c-4f7c-d8bc-c16d27b62c85",
        "colab": {
          "base_uri": "https://localhost:8080/",
          "height": 204
        }
      },
      "source": [
        "movies.director.value_counts().head(10)"
      ],
      "execution_count": 0,
      "outputs": [
        {
          "output_type": "execute_result",
          "data": {
            "text/plain": [
              "Woody Allen          33\n",
              "Clint Eastwood       24\n",
              "Steven Soderbergh    21\n",
              "Steven Spielberg     21\n",
              "Ron Howard           20\n",
              "Ridley Scott         19\n",
              "Joel Schumacher      19\n",
              "Barry Levinson       18\n",
              "Spike Lee            18\n",
              "Stephen Frears       17\n",
              "Name: director, dtype: int64"
            ]
          },
          "metadata": {
            "tags": []
          },
          "execution_count": 14
        }
      ]
    },
    {
      "cell_type": "markdown",
      "metadata": {
        "id": "NDCjw14Rc6pE",
        "colab_type": "text"
      },
      "source": [
        "### Exploratory Data Analysis using Scatter Plots "
      ]
    },
    {
      "cell_type": "markdown",
      "metadata": {
        "id": "PFzRiXORsx0P",
        "colab_type": "text"
      },
      "source": [
        "**Adjusting USD values to Millions**"
      ]
    },
    {
      "cell_type": "code",
      "metadata": {
        "id": "521LRr9EKaGF",
        "colab_type": "code",
        "colab": {}
      },
      "source": [
        "movies['gross'] = movies['gross'] / 10**6\n",
        "movies['budget'] = movies['budget'] / 10**6"
      ],
      "execution_count": 0,
      "outputs": []
    },
    {
      "cell_type": "markdown",
      "metadata": {
        "id": "EBBjYl0uudwI",
        "colab_type": "text"
      },
      "source": [
        "**Industry Gross Revenue, and Profit_Loss**"
      ]
    },
    {
      "cell_type": "code",
      "metadata": {
        "id": "xYZNudBf2u30",
        "colab_type": "code",
        "outputId": "54634302-905b-48c6-c197-52ea0046d1c0",
        "colab": {
          "base_uri": "https://localhost:8080/",
          "height": 34
        }
      },
      "source": [
        "movies['gross'].sum()"
      ],
      "execution_count": 0,
      "outputs": [
        {
          "output_type": "execute_result",
          "data": {
            "text/plain": [
              "228455.19115799997"
            ]
          },
          "metadata": {
            "tags": []
          },
          "execution_count": 16
        }
      ]
    },
    {
      "cell_type": "code",
      "metadata": {
        "id": "rF68BxQZ2yHV",
        "colab_type": "code",
        "outputId": "a6c82330-8285-4dab-ef3a-cf795365fc1c",
        "colab": {
          "base_uri": "https://localhost:8080/",
          "height": 34
        }
      },
      "source": [
        "Profit_Loss = movies['gross'] - movies ['budget']\n",
        "Profit_Loss.sum()"
      ],
      "execution_count": 0,
      "outputs": [
        {
          "output_type": "execute_result",
          "data": {
            "text/plain": [
              "60811.890928999994"
            ]
          },
          "metadata": {
            "tags": []
          },
          "execution_count": 17
        }
      ]
    },
    {
      "cell_type": "markdown",
      "metadata": {
        "colab_type": "text",
        "id": "8duCv50Ru9YA"
      },
      "source": [
        "**Number of profitable movies**"
      ]
    },
    {
      "cell_type": "code",
      "metadata": {
        "id": "Q_2IZ9Br29X9",
        "colab_type": "code",
        "outputId": "0b6eb298-d497-4bfb-fdde-8dea0f3ab341",
        "colab": {
          "base_uri": "https://localhost:8080/",
          "height": 34
        }
      },
      "source": [
        "Profit_Loss[('budget' != 0) & (Profit_Loss > 0)].count()"
      ],
      "execution_count": 0,
      "outputs": [
        {
          "output_type": "execute_result",
          "data": {
            "text/plain": [
              "4460"
            ]
          },
          "metadata": {
            "tags": []
          },
          "execution_count": 18
        }
      ]
    },
    {
      "cell_type": "markdown",
      "metadata": {
        "id": "POV0u03Ci7J4",
        "colab_type": "text"
      },
      "source": [
        "**Industry Revenue Per Month**\n",
        "\n",
        "* In entire industry, the average gross revenue per movie is the highest for the movies released in June (\\$59M), December (\\$54.3M), or July (\\$51.9M)"
      ]
    },
    {
      "cell_type": "code",
      "metadata": {
        "id": "6bm_sy9y3Mvl",
        "colab_type": "code",
        "outputId": "1bcc2de5-c6a9-4b9d-c122-dee2ad229d1f",
        "colab": {
          "base_uri": "https://localhost:8080/",
          "height": 306
        }
      },
      "source": [
        "movies['month'] = pd.DatetimeIndex(movies['released']).strftime(\"%b\")\n",
        "\n",
        "monthly_avg_gross = movies.pivot_table(values='gross', index=['month'], aggfunc='mean').sort_values('gross', ascending=False)\n",
        "monthly_avg_gross.plot(kind='bar');\n",
        "plt.xticks(rotation=70);"
      ],
      "execution_count": 0,
      "outputs": [
        {
          "output_type": "display_data",
          "data": {
            "image/png": "[encoded data removed]",
            "text/plain": [
              "<Figure size 432x288 with 1 Axes>"
            ]
          },
          "metadata": {
            "tags": []
          }
        }
      ]
    },
    {
      "cell_type": "markdown",
      "metadata": {
        "id": "LddrG2pWh_wl",
        "colab_type": "text"
      },
      "source": [
        "**Marvel Studios Revenue Per Month**\n",
        "* Marvel Studios tend to realease its movies in May, August, or November.\n",
        "* The average gross revenues per movie in Marvel studion is highest for movies released in May (\\$474.8M) and lowest for November (\\$219M)"
      ]
    },
    {
      "cell_type": "code",
      "metadata": {
        "id": "chlrmyNA3WzN",
        "colab_type": "code",
        "outputId": "c7f6d6ea-8a22-4489-94e3-99a3f8b14e90",
        "colab": {
          "base_uri": "https://localhost:8080/",
          "height": 173
        }
      },
      "source": [
        "Marvel_monthly_gross = movies[(movies.company== 'Marvel Studios')].pivot_table(values='gross', index=['month'], aggfunc='mean').sort_values('gross', ascending=False)\n",
        "Marvel_monthly_gross"
      ],
      "execution_count": 0,
      "outputs": [
        {
          "output_type": "execute_result",
          "data": {
            "text/html": [
              "<div>\n",
              "<style scoped>\n",
              "    .dataframe tbody tr th:only-of-type {\n",
              "        vertical-align: middle;\n",
              "    }\n",
              "\n",
              "    .dataframe tbody tr th {\n",
              "        vertical-align: top;\n",
              "    }\n",
              "\n",
              "    .dataframe thead th {\n",
              "        text-align: right;\n",
              "    }\n",
              "</style>\n",
              "<table border=\"1\" class=\"dataframe\">\n",
              "  <thead>\n",
              "    <tr style=\"text-align: right;\">\n",
              "      <th></th>\n",
              "      <th>gross</th>\n",
              "    </tr>\n",
              "    <tr>\n",
              "      <th>month</th>\n",
              "      <th></th>\n",
              "    </tr>\n",
              "  </thead>\n",
              "  <tbody>\n",
              "    <tr>\n",
              "      <th>May</th>\n",
              "      <td>474.86553</td>\n",
              "    </tr>\n",
              "    <tr>\n",
              "      <th>Aug</th>\n",
              "      <td>333.17660</td>\n",
              "    </tr>\n",
              "    <tr>\n",
              "      <th>Nov</th>\n",
              "      <td>219.50203</td>\n",
              "    </tr>\n",
              "  </tbody>\n",
              "</table>\n",
              "</div>"
            ],
            "text/plain": [
              "           gross\n",
              "month           \n",
              "May    474.86553\n",
              "Aug    333.17660\n",
              "Nov    219.50203"
            ]
          },
          "metadata": {
            "tags": []
          },
          "execution_count": 20
        }
      ]
    },
    {
      "cell_type": "markdown",
      "metadata": {
        "id": "nE3qNkFSkji3",
        "colab_type": "text"
      },
      "source": [
        "** Scatter Plot Year x Gross Revenue **"
      ]
    },
    {
      "cell_type": "code",
      "metadata": {
        "id": "e2L3Wd6CKEuU",
        "colab_type": "code",
        "outputId": "323e5293-e491-4ca7-c8c1-884f3844055a",
        "colab": {
          "base_uri": "https://localhost:8080/",
          "height": 291
        }
      },
      "source": [
        "sns.regplot('year', 'gross', data=movies);"
      ],
      "execution_count": 0,
      "outputs": [
        {
          "output_type": "display_data",
          "data": {
            "image/png": "[encoded data removed]",
            "text/plain": [
              "<Figure size 432x288 with 1 Axes>"
            ]
          },
          "metadata": {
            "tags": []
          }
        }
      ]
    },
    {
      "cell_type": "markdown",
      "metadata": {
        "id": "nxcKjjTyksHH",
        "colab_type": "text"
      },
      "source": [
        "** Scatter Plot Runtime x Gross Revenue **"
      ]
    },
    {
      "cell_type": "code",
      "metadata": {
        "id": "QCIsxF8DLf2Q",
        "colab_type": "code",
        "outputId": "2603b488-a46e-40aa-87e2-34f7a6caff41",
        "colab": {
          "base_uri": "https://localhost:8080/",
          "height": 291
        }
      },
      "source": [
        "sns.regplot('runtime', 'gross', data=movies);"
      ],
      "execution_count": 0,
      "outputs": [
        {
          "output_type": "display_data",
          "data": {
            "image/png": "[encoded data removed]",
            "text/plain": [
              "<Figure size 432x288 with 1 Axes>"
            ]
          },
          "metadata": {
            "tags": []
          }
        }
      ]
    },
    {
      "cell_type": "markdown",
      "metadata": {
        "id": "bVIeIbDwkvWh",
        "colab_type": "text"
      },
      "source": [
        "** Scatter Plot Score x Gross Revenue **"
      ]
    },
    {
      "cell_type": "code",
      "metadata": {
        "id": "WwByg_bVMWSV",
        "colab_type": "code",
        "outputId": "6440fcec-0a55-4665-a697-aad208dfac99",
        "colab": {
          "base_uri": "https://localhost:8080/",
          "height": 291
        }
      },
      "source": [
        "sns.regplot('score', 'gross', data=movies);"
      ],
      "execution_count": 0,
      "outputs": [
        {
          "output_type": "display_data",
          "data": {
            "image/png": "[encoded data removed]",
            "text/plain": [
              "<Figure size 432x288 with 1 Axes>"
            ]
          },
          "metadata": {
            "tags": []
          }
        }
      ]
    },
    {
      "cell_type": "markdown",
      "metadata": {
        "id": "xWchhyjfkxqO",
        "colab_type": "text"
      },
      "source": [
        "** Scatter Plot Budget x Gross Revenue **"
      ]
    },
    {
      "cell_type": "code",
      "metadata": {
        "id": "JUMcLUHLMY-M",
        "colab_type": "code",
        "outputId": "e1769f8d-affb-4a1a-abbb-03515dcaa951",
        "colab": {
          "base_uri": "https://localhost:8080/",
          "height": 291
        }
      },
      "source": [
        "sns.regplot('budget', 'gross', data=movies);"
      ],
      "execution_count": 0,
      "outputs": [
        {
          "output_type": "display_data",
          "data": {
            "image/png": "[encoded data removed]",
            "text/plain": [
              "<Figure size 432x288 with 1 Axes>"
            ]
          },
          "metadata": {
            "tags": []
          }
        }
      ]
    },
    {
      "cell_type": "markdown",
      "metadata": {
        "id": "ad1CbDq4G7FO",
        "colab_type": "text"
      },
      "source": [
        "**Heatmap for data correlations**"
      ]
    },
    {
      "cell_type": "code",
      "metadata": {
        "id": "uUCs_zraG6WO",
        "colab_type": "code",
        "outputId": "1ad0b1c9-d38e-48f3-c819-a66630be014b",
        "colab": {
          "base_uri": "https://localhost:8080/",
          "height": 543
        }
      },
      "source": [
        "plt.figure(figsize=(16, 8))\n",
        "\n",
        "heatmap_data = movies[['gross', 'budget', 'company', 'director', 'star', 'votes', 'writer', 'year', 'month', 'genre', 'rating', 'runtime', 'score']]\n",
        "\n",
        "heatmap_corr = heatmap_data.apply(lambda x: pd.factorize(x)[0]).corr()\n",
        "\n",
        "sns.heatmap(heatmap_corr, linewidths=.2, cmap=\"YlGnBu\", annot=True)\n",
        "\n",
        "plt.title('Dataset features correlation analysis')\n",
        "\n",
        "plt.xticks(rotation=70);"
      ],
      "execution_count": 0,
      "outputs": [
        {
          "output_type": "display_data",
          "data": {
            "image/png": "[encoded data removed]",
            "text/plain": [
              "<Figure size 1152x576 with 2 Axes>"
            ]
          },
          "metadata": {
            "tags": []
          }
        }
      ]
    },
    {
      "cell_type": "markdown",
      "metadata": {
        "id": "68PyPY9OicEo",
        "colab_type": "text"
      },
      "source": [
        "##Data Analysis"
      ]
    },
    {
      "cell_type": "markdown",
      "metadata": {
        "id": "nOoOBTRidBHy",
        "colab_type": "text"
      },
      "source": [
        "**Identify TOP 10 companies by Mean Gross Revenue**"
      ]
    },
    {
      "cell_type": "code",
      "metadata": {
        "id": "QKMg7W0ybwlV",
        "colab_type": "code",
        "outputId": "fe747192-3070-4473-d4d7-78add1b0d9bf",
        "colab": {
          "base_uri": "https://localhost:8080/",
          "height": 390
        }
      },
      "source": [
        "top10_company = movies.pivot_table(values='gross', index=['company'], aggfunc='mean').sort_values('gross', ascending=False).head(10)\n",
        "top10_company"
      ],
      "execution_count": 0,
      "outputs": [
        {
          "output_type": "execute_result",
          "data": {
            "text/html": [
              "<div>\n",
              "<style scoped>\n",
              "    .dataframe tbody tr th:only-of-type {\n",
              "        vertical-align: middle;\n",
              "    }\n",
              "\n",
              "    .dataframe tbody tr th {\n",
              "        vertical-align: top;\n",
              "    }\n",
              "\n",
              "    .dataframe thead th {\n",
              "        text-align: right;\n",
              "    }\n",
              "</style>\n",
              "<table border=\"1\" class=\"dataframe\">\n",
              "  <thead>\n",
              "    <tr style=\"text-align: right;\">\n",
              "      <th></th>\n",
              "      <th>gross</th>\n",
              "    </tr>\n",
              "    <tr>\n",
              "      <th>company</th>\n",
              "      <th></th>\n",
              "    </tr>\n",
              "  </thead>\n",
              "  <tbody>\n",
              "    <tr>\n",
              "      <th>Lucasfilm</th>\n",
              "      <td>442.329167</td>\n",
              "    </tr>\n",
              "    <tr>\n",
              "      <th>Marvel Studios</th>\n",
              "      <td>381.663254</td>\n",
              "    </tr>\n",
              "    <tr>\n",
              "      <th>Fairview Entertainment</th>\n",
              "      <td>364.001123</td>\n",
              "    </tr>\n",
              "    <tr>\n",
              "      <th>Illumination Entertainment</th>\n",
              "      <td>336.045770</td>\n",
              "    </tr>\n",
              "    <tr>\n",
              "      <th>Color Force</th>\n",
              "      <td>276.882865</td>\n",
              "    </tr>\n",
              "    <tr>\n",
              "      <th>Pixar Animation Studios</th>\n",
              "      <td>270.168731</td>\n",
              "    </tr>\n",
              "    <tr>\n",
              "      <th>Marvel Entertainment</th>\n",
              "      <td>259.766572</td>\n",
              "    </tr>\n",
              "    <tr>\n",
              "      <th>FortyFour Studios</th>\n",
              "      <td>223.167996</td>\n",
              "    </tr>\n",
              "    <tr>\n",
              "      <th>B24</th>\n",
              "      <td>200.074175</td>\n",
              "    </tr>\n",
              "    <tr>\n",
              "      <th>Roth Films</th>\n",
              "      <td>198.371379</td>\n",
              "    </tr>\n",
              "  </tbody>\n",
              "</table>\n",
              "</div>"
            ],
            "text/plain": [
              "                                 gross\n",
              "company                               \n",
              "Lucasfilm                   442.329167\n",
              "Marvel Studios              381.663254\n",
              "Fairview Entertainment      364.001123\n",
              "Illumination Entertainment  336.045770\n",
              "Color Force                 276.882865\n",
              "Pixar Animation Studios     270.168731\n",
              "Marvel Entertainment        259.766572\n",
              "FortyFour Studios           223.167996\n",
              "B24                         200.074175\n",
              "Roth Films                  198.371379"
            ]
          },
          "metadata": {
            "tags": []
          },
          "execution_count": 26
        }
      ]
    },
    {
      "cell_type": "markdown",
      "metadata": {
        "id": "wp3-C7SElPWF",
        "colab_type": "text"
      },
      "source": [
        "**Undestand the distribution of data for TOP 10 companies by Mean Gross Revenue**"
      ]
    },
    {
      "cell_type": "code",
      "metadata": {
        "id": "kDiiygCqO25F",
        "colab_type": "code",
        "outputId": "78ca3f29-3771-4fe5-e6f5-f6f067d764dc",
        "colab": {
          "base_uri": "https://localhost:8080/",
          "height": 543
        }
      },
      "source": [
        "plt.figure(figsize=(16, 6))\n",
        "\n",
        "top10_company = movies.pivot_table(values='gross', index=['company'], aggfunc='mean').sort_values('gross', ascending=False).head(10)\n",
        "plt.title('TOP 10 Companies by mean gross revenue')\n",
        "sns.boxplot('company', 'gross', data=movies[movies['company'].isin(top10_company.index)]);\n",
        "plt.xticks(rotation=70);"
      ],
      "execution_count": 0,
      "outputs": [
        {
          "output_type": "display_data",
          "data": {
            "image/png": "[encoded data removed]",
            "text/plain": [
              "<Figure size 1152x432 with 1 Axes>"
            ]
          },
          "metadata": {
            "tags": []
          }
        }
      ]
    },
    {
      "cell_type": "markdown",
      "metadata": {
        "id": "YnjoPpRJlIHg",
        "colab_type": "text"
      },
      "source": [
        "**Identify TOP 10 companies by Total Gross Revenue**"
      ]
    },
    {
      "cell_type": "code",
      "metadata": {
        "id": "K2uLXIp3b7Q3",
        "colab_type": "code",
        "outputId": "bd523a39-32d4-48db-f459-ee43d742f3e5",
        "colab": {
          "base_uri": "https://localhost:8080/",
          "height": 390
        }
      },
      "source": [
        "top10_company = movies.pivot_table(values='gross', index=['company'], aggfunc='mean').sort_values('gross', ascending=False).head(10)\n",
        "top10_company"
      ],
      "execution_count": 0,
      "outputs": [
        {
          "output_type": "execute_result",
          "data": {
            "text/html": [
              "<div>\n",
              "<style scoped>\n",
              "    .dataframe tbody tr th:only-of-type {\n",
              "        vertical-align: middle;\n",
              "    }\n",
              "\n",
              "    .dataframe tbody tr th {\n",
              "        vertical-align: top;\n",
              "    }\n",
              "\n",
              "    .dataframe thead th {\n",
              "        text-align: right;\n",
              "    }\n",
              "</style>\n",
              "<table border=\"1\" class=\"dataframe\">\n",
              "  <thead>\n",
              "    <tr style=\"text-align: right;\">\n",
              "      <th></th>\n",
              "      <th>gross</th>\n",
              "    </tr>\n",
              "    <tr>\n",
              "      <th>company</th>\n",
              "      <th></th>\n",
              "    </tr>\n",
              "  </thead>\n",
              "  <tbody>\n",
              "    <tr>\n",
              "      <th>Lucasfilm</th>\n",
              "      <td>442.329167</td>\n",
              "    </tr>\n",
              "    <tr>\n",
              "      <th>Marvel Studios</th>\n",
              "      <td>381.663254</td>\n",
              "    </tr>\n",
              "    <tr>\n",
              "      <th>Fairview Entertainment</th>\n",
              "      <td>364.001123</td>\n",
              "    </tr>\n",
              "    <tr>\n",
              "      <th>Illumination Entertainment</th>\n",
              "      <td>336.045770</td>\n",
              "    </tr>\n",
              "    <tr>\n",
              "      <th>Color Force</th>\n",
              "      <td>276.882865</td>\n",
              "    </tr>\n",
              "    <tr>\n",
              "      <th>Pixar Animation Studios</th>\n",
              "      <td>270.168731</td>\n",
              "    </tr>\n",
              "    <tr>\n",
              "      <th>Marvel Entertainment</th>\n",
              "      <td>259.766572</td>\n",
              "    </tr>\n",
              "    <tr>\n",
              "      <th>FortyFour Studios</th>\n",
              "      <td>223.167996</td>\n",
              "    </tr>\n",
              "    <tr>\n",
              "      <th>B24</th>\n",
              "      <td>200.074175</td>\n",
              "    </tr>\n",
              "    <tr>\n",
              "      <th>Roth Films</th>\n",
              "      <td>198.371379</td>\n",
              "    </tr>\n",
              "  </tbody>\n",
              "</table>\n",
              "</div>"
            ],
            "text/plain": [
              "                                 gross\n",
              "company                               \n",
              "Lucasfilm                   442.329167\n",
              "Marvel Studios              381.663254\n",
              "Fairview Entertainment      364.001123\n",
              "Illumination Entertainment  336.045770\n",
              "Color Force                 276.882865\n",
              "Pixar Animation Studios     270.168731\n",
              "Marvel Entertainment        259.766572\n",
              "FortyFour Studios           223.167996\n",
              "B24                         200.074175\n",
              "Roth Films                  198.371379"
            ]
          },
          "metadata": {
            "tags": []
          },
          "execution_count": 28
        }
      ]
    },
    {
      "cell_type": "markdown",
      "metadata": {
        "id": "kLG5gBhPlcAl",
        "colab_type": "text"
      },
      "source": [
        "**Undestand the distribution of data for TOP 10 companies by Total Gross Revenue**"
      ]
    },
    {
      "cell_type": "code",
      "metadata": {
        "id": "Ic4HFn-wU3ku",
        "colab_type": "code",
        "outputId": "2dcdebbf-91f9-4fa4-abb8-9021864170d5",
        "colab": {
          "base_uri": "https://localhost:8080/",
          "height": 611
        }
      },
      "source": [
        "plt.figure(figsize=(20, 6))\n",
        "\n",
        "top10_company = movies.pivot_table(values='gross', index=['company'], aggfunc='sum').sort_values('gross', ascending=False).head(10)\n",
        "\n",
        "plt.title('TOP 10 Companies by total gross revenue')\n",
        "\n",
        "sns.boxplot('company', 'gross', data=movies[movies['company'].isin(top10_company.index)]);\n",
        "\n",
        "plt.xticks(rotation=70);"
      ],
      "execution_count": 0,
      "outputs": [
        {
          "output_type": "display_data",
          "data": {
            "image/png": "[encoded data removed]",
            "text/plain": [
              "<Figure size 1440x432 with 1 Axes>"
            ]
          },
          "metadata": {
            "tags": []
          }
        }
      ]
    },
    {
      "cell_type": "markdown",
      "metadata": {
        "id": "UEItlQfljyVI",
        "colab_type": "text"
      },
      "source": [
        "**Comparing Marvel's revenues, profits and budgets**"
      ]
    },
    {
      "cell_type": "code",
      "metadata": {
        "id": "lcPQQVVQI_fv",
        "colab_type": "code",
        "outputId": "4c935492-e72b-40a9-bf7e-b1021440d61d",
        "colab": {
          "base_uri": "https://localhost:8080/",
          "height": 434
        }
      },
      "source": [
        "marvel=movies[movies['company'].str.match('Marvel Studios')]\n",
        "\n",
        "marvel['profit'] = marvel['gross'] - marvel['budget']\n",
        "\n",
        "marvel.plot(x='name', y=['gross', 'profit', 'budget'], kind='bar')\n",
        "\n",
        "plt.title('Marvel Studios movies performance')\n",
        "\n",
        "plt.xticks(rotation=70);"
      ],
      "execution_count": 0,
      "outputs": [
        {
          "output_type": "display_data",
          "data": {
            "image/png": "[encoded data removed]",
            "text/plain": [
              "<Figure size 432x288 with 1 Axes>"
            ]
          },
          "metadata": {
            "tags": []
          }
        }
      ]
    },
    {
      "cell_type": "markdown",
      "metadata": {
        "id": "BCtk24MkkAUL",
        "colab_type": "text"
      },
      "source": [
        "**Taking a closer look at movies from 2010-2016**"
      ]
    },
    {
      "cell_type": "code",
      "metadata": {
        "id": "8f0nDwdvJDNm",
        "colab_type": "code",
        "outputId": "a0e3c42e-30ca-4a9e-ea9c-dfe722fb1bf7",
        "colab": {
          "base_uri": "https://localhost:8080/",
          "height": 204
        }
      },
      "source": [
        "z=movies[movies['year'].between(2010, 2016, inclusive=True)]\n",
        "\n",
        "z.head()"
      ],
      "execution_count": 0,
      "outputs": [
        {
          "output_type": "execute_result",
          "data": {
            "text/html": [
              "<div>\n",
              "<style scoped>\n",
              "    .dataframe tbody tr th:only-of-type {\n",
              "        vertical-align: middle;\n",
              "    }\n",
              "\n",
              "    .dataframe tbody tr th {\n",
              "        vertical-align: top;\n",
              "    }\n",
              "\n",
              "    .dataframe thead th {\n",
              "        text-align: right;\n",
              "    }\n",
              "</style>\n",
              "<table border=\"1\" class=\"dataframe\">\n",
              "  <thead>\n",
              "    <tr style=\"text-align: right;\">\n",
              "      <th></th>\n",
              "      <th>budget</th>\n",
              "      <th>company</th>\n",
              "      <th>country</th>\n",
              "      <th>director</th>\n",
              "      <th>genre</th>\n",
              "      <th>gross</th>\n",
              "      <th>name</th>\n",
              "      <th>rating</th>\n",
              "      <th>released</th>\n",
              "      <th>runtime</th>\n",
              "      <th>score</th>\n",
              "      <th>star</th>\n",
              "      <th>votes</th>\n",
              "      <th>writer</th>\n",
              "      <th>year</th>\n",
              "      <th>month</th>\n",
              "    </tr>\n",
              "  </thead>\n",
              "  <tbody>\n",
              "    <tr>\n",
              "      <th>5280</th>\n",
              "      <td>160.0</td>\n",
              "      <td>Warner Bros.</td>\n",
              "      <td>USA</td>\n",
              "      <td>Christopher Nolan</td>\n",
              "      <td>Action</td>\n",
              "      <td>292.576195</td>\n",
              "      <td>Inception</td>\n",
              "      <td>PG-13</td>\n",
              "      <td>2010-07-16</td>\n",
              "      <td>148</td>\n",
              "      <td>8.8</td>\n",
              "      <td>Leonardo DiCaprio</td>\n",
              "      <td>1629342</td>\n",
              "      <td>Christopher Nolan</td>\n",
              "      <td>2010</td>\n",
              "      <td>Jul</td>\n",
              "    </tr>\n",
              "    <tr>\n",
              "      <th>5281</th>\n",
              "      <td>13.0</td>\n",
              "      <td>Fox Searchlight Pictures</td>\n",
              "      <td>USA</td>\n",
              "      <td>Darren Aronofsky</td>\n",
              "      <td>Drama</td>\n",
              "      <td>106.954678</td>\n",
              "      <td>Black Swan</td>\n",
              "      <td>R</td>\n",
              "      <td>2010-12-17</td>\n",
              "      <td>108</td>\n",
              "      <td>8.0</td>\n",
              "      <td>Natalie Portman</td>\n",
              "      <td>594148</td>\n",
              "      <td>Mark Heyman</td>\n",
              "      <td>2010</td>\n",
              "      <td>Dec</td>\n",
              "    </tr>\n",
              "    <tr>\n",
              "      <th>5282</th>\n",
              "      <td>60.0</td>\n",
              "      <td>Universal Pictures</td>\n",
              "      <td>USA</td>\n",
              "      <td>Edgar Wright</td>\n",
              "      <td>Action</td>\n",
              "      <td>31.494270</td>\n",
              "      <td>Scott Pilgrim vs. the World</td>\n",
              "      <td>PG-13</td>\n",
              "      <td>2010-08-13</td>\n",
              "      <td>112</td>\n",
              "      <td>7.5</td>\n",
              "      <td>Michael Cera</td>\n",
              "      <td>302029</td>\n",
              "      <td>Michael Bacall</td>\n",
              "      <td>2010</td>\n",
              "      <td>Aug</td>\n",
              "    </tr>\n",
              "    <tr>\n",
              "      <th>5283</th>\n",
              "      <td>80.0</td>\n",
              "      <td>Paramount Pictures</td>\n",
              "      <td>USA</td>\n",
              "      <td>Martin Scorsese</td>\n",
              "      <td>Mystery</td>\n",
              "      <td>128.012934</td>\n",
              "      <td>Shutter Island</td>\n",
              "      <td>R</td>\n",
              "      <td>2010-02-19</td>\n",
              "      <td>138</td>\n",
              "      <td>8.1</td>\n",
              "      <td>Leonardo DiCaprio</td>\n",
              "      <td>883895</td>\n",
              "      <td>Laeta Kalogridis</td>\n",
              "      <td>2010</td>\n",
              "      <td>Feb</td>\n",
              "    </tr>\n",
              "    <tr>\n",
              "      <th>5284</th>\n",
              "      <td>0.0</td>\n",
              "      <td>Warner Bros.</td>\n",
              "      <td>UK</td>\n",
              "      <td>David Yates</td>\n",
              "      <td>Adventure</td>\n",
              "      <td>295.983305</td>\n",
              "      <td>Harry Potter and the Deathly Hallows: Part 1</td>\n",
              "      <td>PG-13</td>\n",
              "      <td>2010-11-19</td>\n",
              "      <td>146</td>\n",
              "      <td>7.7</td>\n",
              "      <td>Daniel Radcliffe</td>\n",
              "      <td>368576</td>\n",
              "      <td>Steve Kloves</td>\n",
              "      <td>2010</td>\n",
              "      <td>Nov</td>\n",
              "    </tr>\n",
              "  </tbody>\n",
              "</table>\n",
              "</div>"
            ],
            "text/plain": [
              "      budget                   company country           director      genre  \\\n",
              "5280   160.0              Warner Bros.     USA  Christopher Nolan     Action   \n",
              "5281    13.0  Fox Searchlight Pictures     USA   Darren Aronofsky      Drama   \n",
              "5282    60.0        Universal Pictures     USA       Edgar Wright     Action   \n",
              "5283    80.0        Paramount Pictures     USA    Martin Scorsese    Mystery   \n",
              "5284     0.0              Warner Bros.      UK        David Yates  Adventure   \n",
              "\n",
              "           gross                                          name rating  \\\n",
              "5280  292.576195                                     Inception  PG-13   \n",
              "5281  106.954678                                    Black Swan      R   \n",
              "5282   31.494270                   Scott Pilgrim vs. the World  PG-13   \n",
              "5283  128.012934                                Shutter Island      R   \n",
              "5284  295.983305  Harry Potter and the Deathly Hallows: Part 1  PG-13   \n",
              "\n",
              "        released  runtime  score               star    votes  \\\n",
              "5280  2010-07-16      148    8.8  Leonardo DiCaprio  1629342   \n",
              "5281  2010-12-17      108    8.0    Natalie Portman   594148   \n",
              "5282  2010-08-13      112    7.5       Michael Cera   302029   \n",
              "5283  2010-02-19      138    8.1  Leonardo DiCaprio   883895   \n",
              "5284  2010-11-19      146    7.7   Daniel Radcliffe   368576   \n",
              "\n",
              "                 writer  year month  \n",
              "5280  Christopher Nolan  2010   Jul  \n",
              "5281        Mark Heyman  2010   Dec  \n",
              "5282     Michael Bacall  2010   Aug  \n",
              "5283   Laeta Kalogridis  2010   Feb  \n",
              "5284       Steve Kloves  2010   Nov  "
            ]
          },
          "metadata": {
            "tags": []
          },
          "execution_count": 31
        }
      ]
    },
    {
      "cell_type": "markdown",
      "metadata": {
        "id": "LtTjPWqokNeE",
        "colab_type": "text"
      },
      "source": [
        "**Mean revenue per studio and benchmarking against Marvel Studios**"
      ]
    },
    {
      "cell_type": "code",
      "metadata": {
        "id": "ZJk62iXoJE42",
        "colab_type": "code",
        "outputId": "60376aac-01a3-4144-fb10-a6db92d864f5",
        "colab": {
          "base_uri": "https://localhost:8080/",
          "height": 421
        }
      },
      "source": [
        "twentyten = z.pivot_table(values='gross', index=['company'], aggfunc=['mean', 'count']).sort_values(('mean', 'gross'), ascending=False).head(10)\n",
        "\n",
        "twentyten['marvel_ratio'] = twentyten[('mean', 'gross')] / twentyten.loc['Marvel Studios'][('mean', 'gross')]\n",
        "\n",
        "twentyten"
      ],
      "execution_count": 0,
      "outputs": [
        {
          "output_type": "execute_result",
          "data": {
            "text/html": [
              "<div>\n",
              "<style scoped>\n",
              "    .dataframe tbody tr th:only-of-type {\n",
              "        vertical-align: middle;\n",
              "    }\n",
              "\n",
              "    .dataframe tbody tr th {\n",
              "        vertical-align: top;\n",
              "    }\n",
              "\n",
              "    .dataframe thead tr th {\n",
              "        text-align: left;\n",
              "    }\n",
              "\n",
              "    .dataframe thead tr:last-of-type th {\n",
              "        text-align: right;\n",
              "    }\n",
              "</style>\n",
              "<table border=\"1\" class=\"dataframe\">\n",
              "  <thead>\n",
              "    <tr>\n",
              "      <th></th>\n",
              "      <th>mean</th>\n",
              "      <th>count</th>\n",
              "      <th>marvel_ratio</th>\n",
              "    </tr>\n",
              "    <tr>\n",
              "      <th></th>\n",
              "      <th>gross</th>\n",
              "      <th>gross</th>\n",
              "      <th></th>\n",
              "    </tr>\n",
              "    <tr>\n",
              "      <th>company</th>\n",
              "      <th></th>\n",
              "      <th></th>\n",
              "      <th></th>\n",
              "    </tr>\n",
              "  </thead>\n",
              "  <tbody>\n",
              "    <tr>\n",
              "      <th>Lucasfilm</th>\n",
              "      <td>734.419775</td>\n",
              "      <td>2</td>\n",
              "      <td>1.924261</td>\n",
              "    </tr>\n",
              "    <tr>\n",
              "      <th>Marvel Studios</th>\n",
              "      <td>381.663254</td>\n",
              "      <td>7</td>\n",
              "      <td>1.000000</td>\n",
              "    </tr>\n",
              "    <tr>\n",
              "      <th>Fairview Entertainment</th>\n",
              "      <td>364.001123</td>\n",
              "      <td>1</td>\n",
              "      <td>0.953723</td>\n",
              "    </tr>\n",
              "    <tr>\n",
              "      <th>Illumination Entertainment</th>\n",
              "      <td>336.045770</td>\n",
              "      <td>1</td>\n",
              "      <td>0.880477</td>\n",
              "    </tr>\n",
              "    <tr>\n",
              "      <th>Pixar Animation Studios</th>\n",
              "      <td>321.948131</td>\n",
              "      <td>3</td>\n",
              "      <td>0.843540</td>\n",
              "    </tr>\n",
              "    <tr>\n",
              "      <th>Eon Productions</th>\n",
              "      <td>304.360277</td>\n",
              "      <td>1</td>\n",
              "      <td>0.797458</td>\n",
              "    </tr>\n",
              "    <tr>\n",
              "      <th>Color Force</th>\n",
              "      <td>276.882865</td>\n",
              "      <td>4</td>\n",
              "      <td>0.725464</td>\n",
              "    </tr>\n",
              "    <tr>\n",
              "      <th>Walt Disney Animation Studios</th>\n",
              "      <td>259.934969</td>\n",
              "      <td>4</td>\n",
              "      <td>0.681058</td>\n",
              "    </tr>\n",
              "    <tr>\n",
              "      <th>Marvel Entertainment</th>\n",
              "      <td>259.766572</td>\n",
              "      <td>1</td>\n",
              "      <td>0.680617</td>\n",
              "    </tr>\n",
              "    <tr>\n",
              "      <th>FortyFour Studios</th>\n",
              "      <td>222.527828</td>\n",
              "      <td>1</td>\n",
              "      <td>0.583048</td>\n",
              "    </tr>\n",
              "  </tbody>\n",
              "</table>\n",
              "</div>"
            ],
            "text/plain": [
              "                                     mean count marvel_ratio\n",
              "                                    gross gross             \n",
              "company                                                     \n",
              "Lucasfilm                      734.419775     2     1.924261\n",
              "Marvel Studios                 381.663254     7     1.000000\n",
              "Fairview Entertainment         364.001123     1     0.953723\n",
              "Illumination Entertainment     336.045770     1     0.880477\n",
              "Pixar Animation Studios        321.948131     3     0.843540\n",
              "Eon Productions                304.360277     1     0.797458\n",
              "Color Force                    276.882865     4     0.725464\n",
              "Walt Disney Animation Studios  259.934969     4     0.681058\n",
              "Marvel Entertainment           259.766572     1     0.680617\n",
              "FortyFour Studios              222.527828     1     0.583048"
            ]
          },
          "metadata": {
            "tags": []
          },
          "execution_count": 32
        }
      ]
    },
    {
      "cell_type": "markdown",
      "metadata": {
        "id": "3IxdTAgTkhF4",
        "colab_type": "text"
      },
      "source": [
        "**Comparing Marvel with largest studios by gross revenue**"
      ]
    },
    {
      "cell_type": "code",
      "metadata": {
        "id": "Vl3KLiPwJHtO",
        "colab_type": "code",
        "outputId": "5d9fdeab-8ec6-4b1f-f5ba-f6e025bc8574",
        "colab": {
          "base_uri": "https://localhost:8080/",
          "height": 421
        }
      },
      "source": [
        "twentyten = z.pivot_table(values='gross', index=['company'], aggfunc=['sum', 'count'])\n",
        "\n",
        "twentyten['avg_per_movie'] = twentyten[('sum', 'gross')] / twentyten[('count', 'gross')]\n",
        "\n",
        "twentyten['marvel_ratio'] = twentyten[('sum', 'gross')] / twentyten.loc['Marvel Studios'][('sum', 'gross')]\n",
        "\n",
        "twentyten.sort_values(('sum', 'gross'), ascending=False).head(10)"
      ],
      "execution_count": 0,
      "outputs": [
        {
          "output_type": "execute_result",
          "data": {
            "text/html": [
              "<div>\n",
              "<style scoped>\n",
              "    .dataframe tbody tr th:only-of-type {\n",
              "        vertical-align: middle;\n",
              "    }\n",
              "\n",
              "    .dataframe tbody tr th {\n",
              "        vertical-align: top;\n",
              "    }\n",
              "\n",
              "    .dataframe thead tr th {\n",
              "        text-align: left;\n",
              "    }\n",
              "\n",
              "    .dataframe thead tr:last-of-type th {\n",
              "        text-align: right;\n",
              "    }\n",
              "</style>\n",
              "<table border=\"1\" class=\"dataframe\">\n",
              "  <thead>\n",
              "    <tr>\n",
              "      <th></th>\n",
              "      <th>sum</th>\n",
              "      <th>count</th>\n",
              "      <th>avg_per_movie</th>\n",
              "      <th>marvel_ratio</th>\n",
              "    </tr>\n",
              "    <tr>\n",
              "      <th></th>\n",
              "      <th>gross</th>\n",
              "      <th>gross</th>\n",
              "      <th></th>\n",
              "      <th></th>\n",
              "    </tr>\n",
              "    <tr>\n",
              "      <th>company</th>\n",
              "      <th></th>\n",
              "      <th></th>\n",
              "      <th></th>\n",
              "      <th></th>\n",
              "    </tr>\n",
              "  </thead>\n",
              "  <tbody>\n",
              "    <tr>\n",
              "      <th>Warner Bros.</th>\n",
              "      <td>6121.903008</td>\n",
              "      <td>52</td>\n",
              "      <td>117.728904</td>\n",
              "      <td>2.291438</td>\n",
              "    </tr>\n",
              "    <tr>\n",
              "      <th>Universal Pictures</th>\n",
              "      <td>5929.740643</td>\n",
              "      <td>60</td>\n",
              "      <td>98.829011</td>\n",
              "      <td>2.219511</td>\n",
              "    </tr>\n",
              "    <tr>\n",
              "      <th>Paramount Pictures</th>\n",
              "      <td>5262.896619</td>\n",
              "      <td>46</td>\n",
              "      <td>114.410796</td>\n",
              "      <td>1.969910</td>\n",
              "    </tr>\n",
              "    <tr>\n",
              "      <th>Columbia Pictures</th>\n",
              "      <td>5172.849727</td>\n",
              "      <td>59</td>\n",
              "      <td>87.675419</td>\n",
              "      <td>1.936206</td>\n",
              "    </tr>\n",
              "    <tr>\n",
              "      <th>Twentieth Century Fox Film Corporation</th>\n",
              "      <td>3995.736728</td>\n",
              "      <td>41</td>\n",
              "      <td>97.456993</td>\n",
              "      <td>1.495610</td>\n",
              "    </tr>\n",
              "    <tr>\n",
              "      <th>Walt Disney Pictures</th>\n",
              "      <td>3529.963446</td>\n",
              "      <td>26</td>\n",
              "      <td>135.767825</td>\n",
              "      <td>1.321271</td>\n",
              "    </tr>\n",
              "    <tr>\n",
              "      <th>Marvel Studios</th>\n",
              "      <td>2671.642781</td>\n",
              "      <td>7</td>\n",
              "      <td>381.663254</td>\n",
              "      <td>1.000000</td>\n",
              "    </tr>\n",
              "    <tr>\n",
              "      <th>New Line Cinema</th>\n",
              "      <td>2170.318688</td>\n",
              "      <td>25</td>\n",
              "      <td>86.812748</td>\n",
              "      <td>0.812354</td>\n",
              "    </tr>\n",
              "    <tr>\n",
              "      <th>Summit Entertainment</th>\n",
              "      <td>2122.625133</td>\n",
              "      <td>29</td>\n",
              "      <td>73.193970</td>\n",
              "      <td>0.794502</td>\n",
              "    </tr>\n",
              "    <tr>\n",
              "      <th>DreamWorks Animation</th>\n",
              "      <td>2100.335849</td>\n",
              "      <td>13</td>\n",
              "      <td>161.564296</td>\n",
              "      <td>0.786159</td>\n",
              "    </tr>\n",
              "  </tbody>\n",
              "</table>\n",
              "</div>"
            ],
            "text/plain": [
              "                                                sum count avg_per_movie  \\\n",
              "                                              gross gross                 \n",
              "company                                                                   \n",
              "Warner Bros.                            6121.903008    52    117.728904   \n",
              "Universal Pictures                      5929.740643    60     98.829011   \n",
              "Paramount Pictures                      5262.896619    46    114.410796   \n",
              "Columbia Pictures                       5172.849727    59     87.675419   \n",
              "Twentieth Century Fox Film Corporation  3995.736728    41     97.456993   \n",
              "Walt Disney Pictures                    3529.963446    26    135.767825   \n",
              "Marvel Studios                          2671.642781     7    381.663254   \n",
              "New Line Cinema                         2170.318688    25     86.812748   \n",
              "Summit Entertainment                    2122.625133    29     73.193970   \n",
              "DreamWorks Animation                    2100.335849    13    161.564296   \n",
              "\n",
              "                                       marvel_ratio  \n",
              "                                                     \n",
              "company                                              \n",
              "Warner Bros.                               2.291438  \n",
              "Universal Pictures                         2.219511  \n",
              "Paramount Pictures                         1.969910  \n",
              "Columbia Pictures                          1.936206  \n",
              "Twentieth Century Fox Film Corporation     1.495610  \n",
              "Walt Disney Pictures                       1.321271  \n",
              "Marvel Studios                             1.000000  \n",
              "New Line Cinema                            0.812354  \n",
              "Summit Entertainment                       0.794502  \n",
              "DreamWorks Animation                       0.786159  "
            ]
          },
          "metadata": {
            "tags": []
          },
          "execution_count": 33
        }
      ]
    },
    {
      "cell_type": "markdown",
      "metadata": {
        "id": "JJv5u2Sdi1g2",
        "colab_type": "text"
      },
      "source": [
        "##Regression Model"
      ]
    },
    {
      "cell_type": "markdown",
      "metadata": {
        "id": "1WEd0F3GmA5g",
        "colab_type": "text"
      },
      "source": [
        "###Preprocessing"
      ]
    },
    {
      "cell_type": "markdown",
      "metadata": {
        "id": "q87IrrGCi4_4",
        "colab_type": "text"
      },
      "source": [
        "** Dropping data points for non-USA movies **"
      ]
    },
    {
      "cell_type": "code",
      "metadata": {
        "id": "ZTF2sy3cJgHR",
        "colab_type": "code",
        "outputId": "1a35333d-007d-44c1-bdaf-c2bf81fd1836",
        "colab": {
          "base_uri": "https://localhost:8080/",
          "height": 34
        }
      },
      "source": [
        "# drop non-USA rows\n",
        "movies = movies[movies['country'] == 'USA']\n",
        "movies = movies.drop(['country'], axis=1)\n",
        "movies.shape"
      ],
      "execution_count": 0,
      "outputs": [
        {
          "output_type": "execute_result",
          "data": {
            "text/plain": [
              "(4872, 15)"
            ]
          },
          "metadata": {
            "tags": []
          },
          "execution_count": 34
        }
      ]
    },
    {
      "cell_type": "markdown",
      "metadata": {
        "id": "DWW7cVyalvZG",
        "colab_type": "text"
      },
      "source": [
        "**Creating data point for the new movie**"
      ]
    },
    {
      "cell_type": "code",
      "metadata": {
        "id": "ft0M5uDtRdVe",
        "colab_type": "code",
        "outputId": "ecb46086-7f4f-42f2-b4d9-c7d82974cebd",
        "colab": {
          "base_uri": "https://localhost:8080/",
          "height": 204
        }
      },
      "source": [
        "# Movie info collected from https://www.imdb.com/title/tt4154796/\n",
        "avengers_endgame = pd.DataFrame([[400, 'Marvel Studios', 'Anthony Russo', 'Action',\n",
        "                                  0.00, 'Avengers: Endgame', 'PG-13', '2019-04-26', \n",
        "                                  181, 9.0, 'Robert Downey Jr.', 272986, 'Christopher Markus', \n",
        "                                  '2019', 'Apr']], columns=movies.columns)\n",
        "\n",
        "movies = movies.append(avengers_endgame)\n",
        "\n",
        "movies.tail()"
      ],
      "execution_count": 0,
      "outputs": [
        {
          "output_type": "execute_result",
          "data": {
            "text/html": [
              "<div>\n",
              "<style scoped>\n",
              "    .dataframe tbody tr th:only-of-type {\n",
              "        vertical-align: middle;\n",
              "    }\n",
              "\n",
              "    .dataframe tbody tr th {\n",
              "        vertical-align: top;\n",
              "    }\n",
              "\n",
              "    .dataframe thead th {\n",
              "        text-align: right;\n",
              "    }\n",
              "</style>\n",
              "<table border=\"1\" class=\"dataframe\">\n",
              "  <thead>\n",
              "    <tr style=\"text-align: right;\">\n",
              "      <th></th>\n",
              "      <th>budget</th>\n",
              "      <th>company</th>\n",
              "      <th>director</th>\n",
              "      <th>genre</th>\n",
              "      <th>gross</th>\n",
              "      <th>name</th>\n",
              "      <th>rating</th>\n",
              "      <th>released</th>\n",
              "      <th>runtime</th>\n",
              "      <th>score</th>\n",
              "      <th>star</th>\n",
              "      <th>votes</th>\n",
              "      <th>writer</th>\n",
              "      <th>year</th>\n",
              "      <th>month</th>\n",
              "    </tr>\n",
              "  </thead>\n",
              "  <tbody>\n",
              "    <tr>\n",
              "      <th>6814</th>\n",
              "      <td>20.0</td>\n",
              "      <td>LD Entertainment</td>\n",
              "      <td>Kevin Reynolds</td>\n",
              "      <td>Action</td>\n",
              "      <td>36.874745</td>\n",
              "      <td>Risen</td>\n",
              "      <td>PG-13</td>\n",
              "      <td>2016-02-19</td>\n",
              "      <td>107</td>\n",
              "      <td>6.3</td>\n",
              "      <td>Joseph Fiennes</td>\n",
              "      <td>19084</td>\n",
              "      <td>Kevin Reynolds</td>\n",
              "      <td>2016</td>\n",
              "      <td>Feb</td>\n",
              "    </tr>\n",
              "    <tr>\n",
              "      <th>6816</th>\n",
              "      <td>0.0</td>\n",
              "      <td>Siempre Viva Productions</td>\n",
              "      <td>Paul Duddridge</td>\n",
              "      <td>Drama</td>\n",
              "      <td>0.028368</td>\n",
              "      <td>Mothers and Daughters</td>\n",
              "      <td>PG-13</td>\n",
              "      <td>2016-05-06</td>\n",
              "      <td>90</td>\n",
              "      <td>4.9</td>\n",
              "      <td>Selma Blair</td>\n",
              "      <td>1959</td>\n",
              "      <td>Paige Cameron</td>\n",
              "      <td>2016</td>\n",
              "      <td>May</td>\n",
              "    </tr>\n",
              "    <tr>\n",
              "      <th>6817</th>\n",
              "      <td>3.5</td>\n",
              "      <td>Warner Bros. Animation</td>\n",
              "      <td>Sam Liu</td>\n",
              "      <td>Animation</td>\n",
              "      <td>3.775000</td>\n",
              "      <td>Batman: The Killing Joke</td>\n",
              "      <td>R</td>\n",
              "      <td>2016-07-25</td>\n",
              "      <td>76</td>\n",
              "      <td>6.5</td>\n",
              "      <td>Kevin Conroy</td>\n",
              "      <td>36333</td>\n",
              "      <td>Brian Azzarello</td>\n",
              "      <td>2016</td>\n",
              "      <td>Jul</td>\n",
              "    </tr>\n",
              "    <tr>\n",
              "      <th>6818</th>\n",
              "      <td>0.0</td>\n",
              "      <td>Borderline Presents</td>\n",
              "      <td>Nicolas Pesce</td>\n",
              "      <td>Drama</td>\n",
              "      <td>0.025981</td>\n",
              "      <td>The Eyes of My Mother</td>\n",
              "      <td>R</td>\n",
              "      <td>2016-12-02</td>\n",
              "      <td>76</td>\n",
              "      <td>6.2</td>\n",
              "      <td>Kika Magalhães</td>\n",
              "      <td>6947</td>\n",
              "      <td>Nicolas Pesce</td>\n",
              "      <td>2016</td>\n",
              "      <td>Dec</td>\n",
              "    </tr>\n",
              "    <tr>\n",
              "      <th>0</th>\n",
              "      <td>400.0</td>\n",
              "      <td>Marvel Studios</td>\n",
              "      <td>Anthony Russo</td>\n",
              "      <td>Action</td>\n",
              "      <td>0.000000</td>\n",
              "      <td>Avengers: Endgame</td>\n",
              "      <td>PG-13</td>\n",
              "      <td>2019-04-26</td>\n",
              "      <td>181</td>\n",
              "      <td>9.0</td>\n",
              "      <td>Robert Downey Jr.</td>\n",
              "      <td>272986</td>\n",
              "      <td>Christopher Markus</td>\n",
              "      <td>2019</td>\n",
              "      <td>Apr</td>\n",
              "    </tr>\n",
              "  </tbody>\n",
              "</table>\n",
              "</div>"
            ],
            "text/plain": [
              "      budget                   company        director      genre      gross  \\\n",
              "6814    20.0          LD Entertainment  Kevin Reynolds     Action  36.874745   \n",
              "6816     0.0  Siempre Viva Productions  Paul Duddridge      Drama   0.028368   \n",
              "6817     3.5    Warner Bros. Animation         Sam Liu  Animation   3.775000   \n",
              "6818     0.0       Borderline Presents   Nicolas Pesce      Drama   0.025981   \n",
              "0      400.0            Marvel Studios   Anthony Russo     Action   0.000000   \n",
              "\n",
              "                          name rating    released  runtime  score  \\\n",
              "6814                     Risen  PG-13  2016-02-19      107    6.3   \n",
              "6816     Mothers and Daughters  PG-13  2016-05-06       90    4.9   \n",
              "6817  Batman: The Killing Joke      R  2016-07-25       76    6.5   \n",
              "6818     The Eyes of My Mother      R  2016-12-02       76    6.2   \n",
              "0            Avengers: Endgame  PG-13  2019-04-26      181    9.0   \n",
              "\n",
              "                   star   votes              writer  year month  \n",
              "6814     Joseph Fiennes   19084      Kevin Reynolds  2016   Feb  \n",
              "6816        Selma Blair    1959       Paige Cameron  2016   May  \n",
              "6817       Kevin Conroy   36333     Brian Azzarello  2016   Jul  \n",
              "6818     Kika Magalhães    6947       Nicolas Pesce  2016   Dec  \n",
              "0     Robert Downey Jr.  272986  Christopher Markus  2019   Apr  "
            ]
          },
          "metadata": {
            "tags": []
          },
          "execution_count": 35
        }
      ]
    },
    {
      "cell_type": "markdown",
      "metadata": {
        "id": "3sWGkwgsl8DQ",
        "colab_type": "text"
      },
      "source": [
        "**Resetting datafram index**"
      ]
    },
    {
      "cell_type": "code",
      "metadata": {
        "id": "Vm45S8I2JgzG",
        "colab_type": "code",
        "outputId": "72957aca-5919-4b5e-9a87-21d25647bd29",
        "colab": {
          "base_uri": "https://localhost:8080/",
          "height": 235
        }
      },
      "source": [
        "movies['released'] =  pd.to_datetime(movies['released'], format='%Y-%m-%d')\n",
        "movies.set_index('released', inplace=True)\n",
        "\n",
        "movies['2016'].head()"
      ],
      "execution_count": 0,
      "outputs": [
        {
          "output_type": "execute_result",
          "data": {
            "text/html": [
              "<div>\n",
              "<style scoped>\n",
              "    .dataframe tbody tr th:only-of-type {\n",
              "        vertical-align: middle;\n",
              "    }\n",
              "\n",
              "    .dataframe tbody tr th {\n",
              "        vertical-align: top;\n",
              "    }\n",
              "\n",
              "    .dataframe thead th {\n",
              "        text-align: right;\n",
              "    }\n",
              "</style>\n",
              "<table border=\"1\" class=\"dataframe\">\n",
              "  <thead>\n",
              "    <tr style=\"text-align: right;\">\n",
              "      <th></th>\n",
              "      <th>budget</th>\n",
              "      <th>company</th>\n",
              "      <th>director</th>\n",
              "      <th>genre</th>\n",
              "      <th>gross</th>\n",
              "      <th>name</th>\n",
              "      <th>rating</th>\n",
              "      <th>runtime</th>\n",
              "      <th>score</th>\n",
              "      <th>star</th>\n",
              "      <th>votes</th>\n",
              "      <th>writer</th>\n",
              "      <th>year</th>\n",
              "      <th>month</th>\n",
              "    </tr>\n",
              "    <tr>\n",
              "      <th>released</th>\n",
              "      <th></th>\n",
              "      <th></th>\n",
              "      <th></th>\n",
              "      <th></th>\n",
              "      <th></th>\n",
              "      <th></th>\n",
              "      <th></th>\n",
              "      <th></th>\n",
              "      <th></th>\n",
              "      <th></th>\n",
              "      <th></th>\n",
              "      <th></th>\n",
              "      <th></th>\n",
              "      <th></th>\n",
              "    </tr>\n",
              "  </thead>\n",
              "  <tbody>\n",
              "    <tr>\n",
              "      <th>2016-02-19</th>\n",
              "      <td>3.5</td>\n",
              "      <td>Parts and Labor</td>\n",
              "      <td>Robert Eggers</td>\n",
              "      <td>Horror</td>\n",
              "      <td>25.138292</td>\n",
              "      <td>The Witch</td>\n",
              "      <td>R</td>\n",
              "      <td>92</td>\n",
              "      <td>6.8</td>\n",
              "      <td>Anya Taylor-Joy</td>\n",
              "      <td>111384</td>\n",
              "      <td>Robert Eggers</td>\n",
              "      <td>2015</td>\n",
              "      <td>Feb</td>\n",
              "    </tr>\n",
              "    <tr>\n",
              "      <th>2016-04-08</th>\n",
              "      <td>0.0</td>\n",
              "      <td>Gamechanger Films</td>\n",
              "      <td>Karyn Kusama</td>\n",
              "      <td>Drama</td>\n",
              "      <td>0.231703</td>\n",
              "      <td>The Invitation</td>\n",
              "      <td>NOT RATED</td>\n",
              "      <td>100</td>\n",
              "      <td>6.7</td>\n",
              "      <td>Logan Marshall-Green</td>\n",
              "      <td>46822</td>\n",
              "      <td>Phil Hay</td>\n",
              "      <td>2015</td>\n",
              "      <td>Apr</td>\n",
              "    </tr>\n",
              "    <tr>\n",
              "      <th>2016-04-08</th>\n",
              "      <td>10.0</td>\n",
              "      <td>Black Label Media</td>\n",
              "      <td>Jean-Marc Vallée</td>\n",
              "      <td>Comedy</td>\n",
              "      <td>1.978592</td>\n",
              "      <td>Demolition</td>\n",
              "      <td>R</td>\n",
              "      <td>101</td>\n",
              "      <td>7.0</td>\n",
              "      <td>Jake Gyllenhaal</td>\n",
              "      <td>64109</td>\n",
              "      <td>Bryan Sipe</td>\n",
              "      <td>2015</td>\n",
              "      <td>Apr</td>\n",
              "    </tr>\n",
              "    <tr>\n",
              "      <th>2016-05-13</th>\n",
              "      <td>5.0</td>\n",
              "      <td>Broad Green Pictures</td>\n",
              "      <td>Jeremy Saulnier</td>\n",
              "      <td>Crime</td>\n",
              "      <td>3.219029</td>\n",
              "      <td>Green Room</td>\n",
              "      <td>R</td>\n",
              "      <td>95</td>\n",
              "      <td>7.0</td>\n",
              "      <td>Anton Yelchin</td>\n",
              "      <td>69349</td>\n",
              "      <td>Jeremy Saulnier</td>\n",
              "      <td>2015</td>\n",
              "      <td>May</td>\n",
              "    </tr>\n",
              "    <tr>\n",
              "      <th>2016-03-04</th>\n",
              "      <td>0.0</td>\n",
              "      <td>Dogwood Films</td>\n",
              "      <td>Terrence Malick</td>\n",
              "      <td>Drama</td>\n",
              "      <td>0.558402</td>\n",
              "      <td>Knight of Cups</td>\n",
              "      <td>R</td>\n",
              "      <td>118</td>\n",
              "      <td>5.7</td>\n",
              "      <td>Christian Bale</td>\n",
              "      <td>18771</td>\n",
              "      <td>Terrence Malick</td>\n",
              "      <td>2015</td>\n",
              "      <td>Mar</td>\n",
              "    </tr>\n",
              "  </tbody>\n",
              "</table>\n",
              "</div>"
            ],
            "text/plain": [
              "            budget               company          director   genre      gross  \\\n",
              "released                                                                        \n",
              "2016-02-19     3.5       Parts and Labor     Robert Eggers  Horror  25.138292   \n",
              "2016-04-08     0.0     Gamechanger Films      Karyn Kusama   Drama   0.231703   \n",
              "2016-04-08    10.0     Black Label Media  Jean-Marc Vallée  Comedy   1.978592   \n",
              "2016-05-13     5.0  Broad Green Pictures   Jeremy Saulnier   Crime   3.219029   \n",
              "2016-03-04     0.0         Dogwood Films   Terrence Malick   Drama   0.558402   \n",
              "\n",
              "                      name     rating  runtime  score                  star  \\\n",
              "released                                                                      \n",
              "2016-02-19       The Witch          R       92    6.8       Anya Taylor-Joy   \n",
              "2016-04-08  The Invitation  NOT RATED      100    6.7  Logan Marshall-Green   \n",
              "2016-04-08      Demolition          R      101    7.0       Jake Gyllenhaal   \n",
              "2016-05-13      Green Room          R       95    7.0         Anton Yelchin   \n",
              "2016-03-04  Knight of Cups          R      118    5.7        Christian Bale   \n",
              "\n",
              "             votes           writer  year month  \n",
              "released                                         \n",
              "2016-02-19  111384    Robert Eggers  2015   Feb  \n",
              "2016-04-08   46822         Phil Hay  2015   Apr  \n",
              "2016-04-08   64109       Bryan Sipe  2015   Apr  \n",
              "2016-05-13   69349  Jeremy Saulnier  2015   May  \n",
              "2016-03-04   18771  Terrence Malick  2015   Mar  "
            ]
          },
          "metadata": {
            "tags": []
          },
          "execution_count": 36
        }
      ]
    },
    {
      "cell_type": "code",
      "metadata": {
        "id": "Q9yk1uWwJjxp",
        "colab_type": "code",
        "outputId": "ca6fb594-6a6c-4189-c803-240ebc2fcb13",
        "colab": {
          "base_uri": "https://localhost:8080/",
          "height": 252
        }
      },
      "source": [
        "# Exclude any companies with less than 5 movies\n",
        "movies_per_company = movies.pivot_table(values='name', index=['company'], aggfunc='count').sort_values('name', ascending=True)\n",
        "movies_per_company = movies_per_company[movies_per_company['name'] >= 5]\n",
        "\n",
        "movies = movies[movies['company'].isin(movies_per_company.index)]\n",
        "print(movies.shape)\n",
        "\n",
        "movies.tail()"
      ],
      "execution_count": 0,
      "outputs": [
        {
          "output_type": "stream",
          "text": [
            "(3189, 14)\n"
          ],
          "name": "stdout"
        },
        {
          "output_type": "execute_result",
          "data": {
            "text/html": [
              "<div>\n",
              "<style scoped>\n",
              "    .dataframe tbody tr th:only-of-type {\n",
              "        vertical-align: middle;\n",
              "    }\n",
              "\n",
              "    .dataframe tbody tr th {\n",
              "        vertical-align: top;\n",
              "    }\n",
              "\n",
              "    .dataframe thead th {\n",
              "        text-align: right;\n",
              "    }\n",
              "</style>\n",
              "<table border=\"1\" class=\"dataframe\">\n",
              "  <thead>\n",
              "    <tr style=\"text-align: right;\">\n",
              "      <th></th>\n",
              "      <th>budget</th>\n",
              "      <th>company</th>\n",
              "      <th>director</th>\n",
              "      <th>genre</th>\n",
              "      <th>gross</th>\n",
              "      <th>name</th>\n",
              "      <th>rating</th>\n",
              "      <th>runtime</th>\n",
              "      <th>score</th>\n",
              "      <th>star</th>\n",
              "      <th>votes</th>\n",
              "      <th>writer</th>\n",
              "      <th>year</th>\n",
              "      <th>month</th>\n",
              "    </tr>\n",
              "    <tr>\n",
              "      <th>released</th>\n",
              "      <th></th>\n",
              "      <th></th>\n",
              "      <th></th>\n",
              "      <th></th>\n",
              "      <th></th>\n",
              "      <th></th>\n",
              "      <th></th>\n",
              "      <th></th>\n",
              "      <th></th>\n",
              "      <th></th>\n",
              "      <th></th>\n",
              "      <th></th>\n",
              "      <th></th>\n",
              "      <th></th>\n",
              "    </tr>\n",
              "  </thead>\n",
              "  <tbody>\n",
              "    <tr>\n",
              "      <th>2016-03-25</th>\n",
              "      <td>18.0</td>\n",
              "      <td>Gold Circle Films</td>\n",
              "      <td>Kirk Jones</td>\n",
              "      <td>Comedy</td>\n",
              "      <td>59.573085</td>\n",
              "      <td>My Big Fat Greek Wedding 2</td>\n",
              "      <td>PG-13</td>\n",
              "      <td>94</td>\n",
              "      <td>6.0</td>\n",
              "      <td>Nia Vardalos</td>\n",
              "      <td>22142</td>\n",
              "      <td>Nia Vardalos</td>\n",
              "      <td>2016</td>\n",
              "      <td>Mar</td>\n",
              "    </tr>\n",
              "    <tr>\n",
              "      <th>2016-05-13</th>\n",
              "      <td>4.0</td>\n",
              "      <td>Blumhouse Productions</td>\n",
              "      <td>Greg McLean</td>\n",
              "      <td>Horror</td>\n",
              "      <td>10.732841</td>\n",
              "      <td>The Darkness</td>\n",
              "      <td>PG-13</td>\n",
              "      <td>92</td>\n",
              "      <td>4.4</td>\n",
              "      <td>Kevin Bacon</td>\n",
              "      <td>9450</td>\n",
              "      <td>Greg McLean</td>\n",
              "      <td>2016</td>\n",
              "      <td>May</td>\n",
              "    </tr>\n",
              "    <tr>\n",
              "      <th>2016-10-07</th>\n",
              "      <td>8.5</td>\n",
              "      <td>CBS Films</td>\n",
              "      <td>Steve Carr</td>\n",
              "      <td>Animation</td>\n",
              "      <td>19.985196</td>\n",
              "      <td>Middle School: The Worst Years of My Life</td>\n",
              "      <td>PG</td>\n",
              "      <td>92</td>\n",
              "      <td>6.1</td>\n",
              "      <td>Griffin Gluck</td>\n",
              "      <td>4556</td>\n",
              "      <td>Chris Bowman</td>\n",
              "      <td>2016</td>\n",
              "      <td>Oct</td>\n",
              "    </tr>\n",
              "    <tr>\n",
              "      <th>2016-02-19</th>\n",
              "      <td>20.0</td>\n",
              "      <td>LD Entertainment</td>\n",
              "      <td>Kevin Reynolds</td>\n",
              "      <td>Action</td>\n",
              "      <td>36.874745</td>\n",
              "      <td>Risen</td>\n",
              "      <td>PG-13</td>\n",
              "      <td>107</td>\n",
              "      <td>6.3</td>\n",
              "      <td>Joseph Fiennes</td>\n",
              "      <td>19084</td>\n",
              "      <td>Kevin Reynolds</td>\n",
              "      <td>2016</td>\n",
              "      <td>Feb</td>\n",
              "    </tr>\n",
              "    <tr>\n",
              "      <th>2019-04-26</th>\n",
              "      <td>400.0</td>\n",
              "      <td>Marvel Studios</td>\n",
              "      <td>Anthony Russo</td>\n",
              "      <td>Action</td>\n",
              "      <td>0.000000</td>\n",
              "      <td>Avengers: Endgame</td>\n",
              "      <td>PG-13</td>\n",
              "      <td>181</td>\n",
              "      <td>9.0</td>\n",
              "      <td>Robert Downey Jr.</td>\n",
              "      <td>272986</td>\n",
              "      <td>Christopher Markus</td>\n",
              "      <td>2019</td>\n",
              "      <td>Apr</td>\n",
              "    </tr>\n",
              "  </tbody>\n",
              "</table>\n",
              "</div>"
            ],
            "text/plain": [
              "            budget                company        director      genre  \\\n",
              "released                                                               \n",
              "2016-03-25    18.0      Gold Circle Films      Kirk Jones     Comedy   \n",
              "2016-05-13     4.0  Blumhouse Productions     Greg McLean     Horror   \n",
              "2016-10-07     8.5              CBS Films      Steve Carr  Animation   \n",
              "2016-02-19    20.0       LD Entertainment  Kevin Reynolds     Action   \n",
              "2019-04-26   400.0         Marvel Studios   Anthony Russo     Action   \n",
              "\n",
              "                gross                                       name rating  \\\n",
              "released                                                                  \n",
              "2016-03-25  59.573085                 My Big Fat Greek Wedding 2  PG-13   \n",
              "2016-05-13  10.732841                               The Darkness  PG-13   \n",
              "2016-10-07  19.985196  Middle School: The Worst Years of My Life     PG   \n",
              "2016-02-19  36.874745                                      Risen  PG-13   \n",
              "2019-04-26   0.000000                          Avengers: Endgame  PG-13   \n",
              "\n",
              "            runtime  score               star   votes              writer  \\\n",
              "released                                                                    \n",
              "2016-03-25       94    6.0       Nia Vardalos   22142        Nia Vardalos   \n",
              "2016-05-13       92    4.4        Kevin Bacon    9450         Greg McLean   \n",
              "2016-10-07       92    6.1      Griffin Gluck    4556        Chris Bowman   \n",
              "2016-02-19      107    6.3     Joseph Fiennes   19084      Kevin Reynolds   \n",
              "2019-04-26      181    9.0  Robert Downey Jr.  272986  Christopher Markus   \n",
              "\n",
              "            year month  \n",
              "released                \n",
              "2016-03-25  2016   Mar  \n",
              "2016-05-13  2016   May  \n",
              "2016-10-07  2016   Oct  \n",
              "2016-02-19  2016   Feb  \n",
              "2019-04-26  2019   Apr  "
            ]
          },
          "metadata": {
            "tags": []
          },
          "execution_count": 38
        }
      ]
    },
    {
      "cell_type": "code",
      "metadata": {
        "id": "RahP-P0XJv4O",
        "colab_type": "code",
        "outputId": "88da0eaa-68f4-4fb7-f056-af997d282731",
        "colab": {
          "base_uri": "https://localhost:8080/",
          "height": 403
        }
      },
      "source": [
        "# drop unnecessary columns\n",
        "movies = movies.drop(['name', 'genre', 'rating', 'runtime', 'score', 'director'], axis=1)\n",
        "movies = pd.get_dummies(movies, columns=['month', 'company', 'star', 'writer'], drop_first=True)\n",
        "\n",
        "print(movies.shape)\n",
        "movies.tail()"
      ],
      "execution_count": 0,
      "outputs": [
        {
          "output_type": "stream",
          "text": [
            "(3189, 3415)\n"
          ],
          "name": "stdout"
        },
        {
          "output_type": "execute_result",
          "data": {
            "text/html": [
              "<div>\n",
              "<style scoped>\n",
              "    .dataframe tbody tr th:only-of-type {\n",
              "        vertical-align: middle;\n",
              "    }\n",
              "\n",
              "    .dataframe tbody tr th {\n",
              "        vertical-align: top;\n",
              "    }\n",
              "\n",
              "    .dataframe thead th {\n",
              "        text-align: right;\n",
              "    }\n",
              "</style>\n",
              "<table border=\"1\" class=\"dataframe\">\n",
              "  <thead>\n",
              "    <tr style=\"text-align: right;\">\n",
              "      <th></th>\n",
              "      <th>budget</th>\n",
              "      <th>gross</th>\n",
              "      <th>votes</th>\n",
              "      <th>year</th>\n",
              "      <th>month_Aug</th>\n",
              "      <th>month_Dec</th>\n",
              "      <th>month_Feb</th>\n",
              "      <th>month_Jan</th>\n",
              "      <th>month_Jul</th>\n",
              "      <th>month_Jun</th>\n",
              "      <th>...</th>\n",
              "      <th>writer_Yann Martel</th>\n",
              "      <th>writer_Zach Cregger</th>\n",
              "      <th>writer_Zach Helm</th>\n",
              "      <th>writer_Zack Snyder</th>\n",
              "      <th>writer_Zak Penn</th>\n",
              "      <th>writer_Zeke Richardson</th>\n",
              "      <th>writer_Ziggy Steinberg</th>\n",
              "      <th>writer_Zoe Kazan</th>\n",
              "      <th>writer_Àlex Pastor</th>\n",
              "      <th>writer_Émile Gaudreault</th>\n",
              "    </tr>\n",
              "    <tr>\n",
              "      <th>released</th>\n",
              "      <th></th>\n",
              "      <th></th>\n",
              "      <th></th>\n",
              "      <th></th>\n",
              "      <th></th>\n",
              "      <th></th>\n",
              "      <th></th>\n",
              "      <th></th>\n",
              "      <th></th>\n",
              "      <th></th>\n",
              "      <th></th>\n",
              "      <th></th>\n",
              "      <th></th>\n",
              "      <th></th>\n",
              "      <th></th>\n",
              "      <th></th>\n",
              "      <th></th>\n",
              "      <th></th>\n",
              "      <th></th>\n",
              "      <th></th>\n",
              "      <th></th>\n",
              "    </tr>\n",
              "  </thead>\n",
              "  <tbody>\n",
              "    <tr>\n",
              "      <th>2016-03-25</th>\n",
              "      <td>18.0</td>\n",
              "      <td>59.573085</td>\n",
              "      <td>22142</td>\n",
              "      <td>2016</td>\n",
              "      <td>0</td>\n",
              "      <td>0</td>\n",
              "      <td>0</td>\n",
              "      <td>0</td>\n",
              "      <td>0</td>\n",
              "      <td>0</td>\n",
              "      <td>...</td>\n",
              "      <td>0</td>\n",
              "      <td>0</td>\n",
              "      <td>0</td>\n",
              "      <td>0</td>\n",
              "      <td>0</td>\n",
              "      <td>0</td>\n",
              "      <td>0</td>\n",
              "      <td>0</td>\n",
              "      <td>0</td>\n",
              "      <td>0</td>\n",
              "    </tr>\n",
              "    <tr>\n",
              "      <th>2016-05-13</th>\n",
              "      <td>4.0</td>\n",
              "      <td>10.732841</td>\n",
              "      <td>9450</td>\n",
              "      <td>2016</td>\n",
              "      <td>0</td>\n",
              "      <td>0</td>\n",
              "      <td>0</td>\n",
              "      <td>0</td>\n",
              "      <td>0</td>\n",
              "      <td>0</td>\n",
              "      <td>...</td>\n",
              "      <td>0</td>\n",
              "      <td>0</td>\n",
              "      <td>0</td>\n",
              "      <td>0</td>\n",
              "      <td>0</td>\n",
              "      <td>0</td>\n",
              "      <td>0</td>\n",
              "      <td>0</td>\n",
              "      <td>0</td>\n",
              "      <td>0</td>\n",
              "    </tr>\n",
              "    <tr>\n",
              "      <th>2016-10-07</th>\n",
              "      <td>8.5</td>\n",
              "      <td>19.985196</td>\n",
              "      <td>4556</td>\n",
              "      <td>2016</td>\n",
              "      <td>0</td>\n",
              "      <td>0</td>\n",
              "      <td>0</td>\n",
              "      <td>0</td>\n",
              "      <td>0</td>\n",
              "      <td>0</td>\n",
              "      <td>...</td>\n",
              "      <td>0</td>\n",
              "      <td>0</td>\n",
              "      <td>0</td>\n",
              "      <td>0</td>\n",
              "      <td>0</td>\n",
              "      <td>0</td>\n",
              "      <td>0</td>\n",
              "      <td>0</td>\n",
              "      <td>0</td>\n",
              "      <td>0</td>\n",
              "    </tr>\n",
              "    <tr>\n",
              "      <th>2016-02-19</th>\n",
              "      <td>20.0</td>\n",
              "      <td>36.874745</td>\n",
              "      <td>19084</td>\n",
              "      <td>2016</td>\n",
              "      <td>0</td>\n",
              "      <td>0</td>\n",
              "      <td>1</td>\n",
              "      <td>0</td>\n",
              "      <td>0</td>\n",
              "      <td>0</td>\n",
              "      <td>...</td>\n",
              "      <td>0</td>\n",
              "      <td>0</td>\n",
              "      <td>0</td>\n",
              "      <td>0</td>\n",
              "      <td>0</td>\n",
              "      <td>0</td>\n",
              "      <td>0</td>\n",
              "      <td>0</td>\n",
              "      <td>0</td>\n",
              "      <td>0</td>\n",
              "    </tr>\n",
              "    <tr>\n",
              "      <th>2019-04-26</th>\n",
              "      <td>400.0</td>\n",
              "      <td>0.000000</td>\n",
              "      <td>272986</td>\n",
              "      <td>2019</td>\n",
              "      <td>0</td>\n",
              "      <td>0</td>\n",
              "      <td>0</td>\n",
              "      <td>0</td>\n",
              "      <td>0</td>\n",
              "      <td>0</td>\n",
              "      <td>...</td>\n",
              "      <td>0</td>\n",
              "      <td>0</td>\n",
              "      <td>0</td>\n",
              "      <td>0</td>\n",
              "      <td>0</td>\n",
              "      <td>0</td>\n",
              "      <td>0</td>\n",
              "      <td>0</td>\n",
              "      <td>0</td>\n",
              "      <td>0</td>\n",
              "    </tr>\n",
              "  </tbody>\n",
              "</table>\n",
              "<p>5 rows × 3415 columns</p>\n",
              "</div>"
            ],
            "text/plain": [
              "            budget      gross   votes  year  month_Aug  month_Dec  month_Feb  \\\n",
              "released                                                                       \n",
              "2016-03-25    18.0  59.573085   22142  2016          0          0          0   \n",
              "2016-05-13     4.0  10.732841    9450  2016          0          0          0   \n",
              "2016-10-07     8.5  19.985196    4556  2016          0          0          0   \n",
              "2016-02-19    20.0  36.874745   19084  2016          0          0          1   \n",
              "2019-04-26   400.0   0.000000  272986  2019          0          0          0   \n",
              "\n",
              "            month_Jan  month_Jul  month_Jun  ...  writer_Yann Martel  \\\n",
              "released                                     ...                       \n",
              "2016-03-25          0          0          0  ...                   0   \n",
              "2016-05-13          0          0          0  ...                   0   \n",
              "2016-10-07          0          0          0  ...                   0   \n",
              "2016-02-19          0          0          0  ...                   0   \n",
              "2019-04-26          0          0          0  ...                   0   \n",
              "\n",
              "            writer_Zach Cregger  writer_Zach Helm  writer_Zack Snyder  \\\n",
              "released                                                                \n",
              "2016-03-25                    0                 0                   0   \n",
              "2016-05-13                    0                 0                   0   \n",
              "2016-10-07                    0                 0                   0   \n",
              "2016-02-19                    0                 0                   0   \n",
              "2019-04-26                    0                 0                   0   \n",
              "\n",
              "            writer_Zak Penn  writer_Zeke Richardson  writer_Ziggy Steinberg  \\\n",
              "released                                                                      \n",
              "2016-03-25                0                       0                       0   \n",
              "2016-05-13                0                       0                       0   \n",
              "2016-10-07                0                       0                       0   \n",
              "2016-02-19                0                       0                       0   \n",
              "2019-04-26                0                       0                       0   \n",
              "\n",
              "            writer_Zoe Kazan  writer_Àlex Pastor  writer_Émile Gaudreault  \n",
              "released                                                                   \n",
              "2016-03-25                 0                   0                        0  \n",
              "2016-05-13                 0                   0                        0  \n",
              "2016-10-07                 0                   0                        0  \n",
              "2016-02-19                 0                   0                        0  \n",
              "2019-04-26                 0                   0                        0  \n",
              "\n",
              "[5 rows x 3415 columns]"
            ]
          },
          "metadata": {
            "tags": []
          },
          "execution_count": 39
        }
      ]
    },
    {
      "cell_type": "code",
      "metadata": {
        "id": "PRLwqCYCJwlK",
        "colab_type": "code",
        "outputId": "faa87f3e-ec2c-40a8-997a-0aec78892b3e",
        "colab": {
          "base_uri": "https://localhost:8080/",
          "height": 51
        }
      },
      "source": [
        "movies_avengers = movies['2019-04-26']\n",
        "print(movies_avengers.shape)\n",
        "\n",
        "movies = movies['1900':'2018']\n",
        "print(movies.shape)"
      ],
      "execution_count": 0,
      "outputs": [
        {
          "output_type": "stream",
          "text": [
            "(1, 3415)\n",
            "(3188, 3415)\n"
          ],
          "name": "stdout"
        }
      ]
    },
    {
      "cell_type": "code",
      "metadata": {
        "id": "jeEHOk7XJySQ",
        "colab_type": "code",
        "outputId": "c448c9be-f33d-48e7-c19b-6a8a6c735831",
        "colab": {
          "base_uri": "https://localhost:8080/",
          "height": 68
        }
      },
      "source": [
        "X = movies.drop('gross', axis=1)\n",
        "print(X.shape)\n",
        "\n",
        "X_avengers = movies_avengers.drop('gross', axis=1)\n",
        "print(X_avengers.shape)\n",
        "\n",
        "y = movies['gross']\n",
        "print(y.shape)"
      ],
      "execution_count": 0,
      "outputs": [
        {
          "output_type": "stream",
          "text": [
            "(3188, 3414)\n",
            "(1, 3414)\n",
            "(3188,)\n"
          ],
          "name": "stdout"
        }
      ]
    },
    {
      "cell_type": "code",
      "metadata": {
        "id": "8cZFDBei3hQ9",
        "colab_type": "code",
        "colab": {}
      },
      "source": [
        "from sklearn.model_selection import train_test_split\n",
        "\n",
        "X_train, X_test, y_train, y_test = train_test_split(X, y, test_size=0.3, random_state= 700)"
      ],
      "execution_count": 0,
      "outputs": []
    },
    {
      "cell_type": "markdown",
      "metadata": {
        "id": "DuZKRxuznqh6",
        "colab_type": "text"
      },
      "source": [
        "### Linear Regression"
      ]
    },
    {
      "cell_type": "code",
      "metadata": {
        "id": "-iBp382wJzjx",
        "colab_type": "code",
        "outputId": "5fd4d3cb-84b2-4458-ada0-f550f3a5c8cd",
        "colab": {
          "base_uri": "https://localhost:8080/",
          "height": 51
        }
      },
      "source": [
        "from sklearn.linear_model import LinearRegression\n",
        "\n",
        "from sklearn.metrics import accuracy_score, r2_score, mean_squared_error\n",
        "\n",
        "# Create a linear regression object: reg\n",
        "reg = LinearRegression()\n",
        "\n",
        "reg.fit(X_train, y_train)\n",
        "\n",
        "# Predict the labels of the test data: y_pred\n",
        "y_pred = reg.predict(X_test)\n",
        "\n",
        "print(r2_score(y_test, y_pred))\n",
        "print(mean_squared_error(y_test, y_pred))"
      ],
      "execution_count": 0,
      "outputs": [
        {
          "output_type": "stream",
          "text": [
            "-14545139611.46843\n",
            "62031198693730.414\n"
          ],
          "name": "stdout"
        }
      ]
    },
    {
      "cell_type": "code",
      "metadata": {
        "id": "ZIqK-7qRJ4vu",
        "colab_type": "code",
        "outputId": "b3d2262a-1125-465e-d97f-bfe24065ab23",
        "colab": {
          "base_uri": "https://localhost:8080/",
          "height": 34
        }
      },
      "source": [
        "# Predict for the avengers movie\n",
        "y_pred_avengers = reg.predict(X_avengers)\n",
        "print(y_pred_avengers)"
      ],
      "execution_count": 0,
      "outputs": [
        {
          "output_type": "stream",
          "text": [
            "[-1087255.58487057]\n"
          ],
          "name": "stdout"
        }
      ]
    },
    {
      "cell_type": "markdown",
      "metadata": {
        "id": "A7bnNgqZu2Nl",
        "colab_type": "text"
      },
      "source": [
        "### Elastic Net"
      ]
    },
    {
      "cell_type": "code",
      "metadata": {
        "id": "SuDSAYHFJ_AW",
        "colab_type": "code",
        "outputId": "6c3da6a1-075a-4905-c06b-ed546c78136a",
        "colab": {
          "base_uri": "https://localhost:8080/",
          "height": 68
        }
      },
      "source": [
        "# Import necessary modules\n",
        "from sklearn.linear_model import ElasticNet\n",
        "from sklearn.metrics import mean_squared_error\n",
        "from sklearn.model_selection import GridSearchCV\n",
        "\n",
        "# Create the hyperparameter grid\n",
        "l1_space = np.linspace(0, 1, 30)\n",
        "param_grid = {'l1_ratio': l1_space}\n",
        "\n",
        "# Instantiate the ElasticNet regressor: elastic_net\n",
        "elastic_net = ElasticNet()\n",
        "\n",
        "# Setup the GridSearchCV object: gm_cv\n",
        "gm_cv = GridSearchCV(elastic_net, param_grid, cv=10)\n",
        "\n",
        "# Fit it to the training data\n",
        "gm_cv.fit(X_train, y_train)\n",
        "\n",
        "# Predict on the test set and compute metrics\n",
        "y_pred = gm_cv.predict(X_test)\n",
        "r2 = gm_cv.score(X_test, y_test)\n",
        "mse = mean_squared_error(y_test, y_pred)\n",
        "\n",
        "print(\"Tuned ElasticNet l1 ratio: {}\".format(gm_cv.best_params_))\n",
        "print(\"Tuned ElasticNet R squared: {}\".format(r2))\n",
        "print(\"Tuned ElasticNet MSE: {}\".format(mse))\n"
      ],
      "execution_count": 0,
      "outputs": [
        {
          "output_type": "stream",
          "text": [
            "Tuned ElasticNet l1 ratio: {'l1_ratio': 0.0}\n",
            "Tuned ElasticNet R squared: 0.5470993773246344\n",
            "Tuned ElasticNet MSE: 1931.5021555109054\n"
          ],
          "name": "stdout"
        }
      ]
    },
    {
      "cell_type": "code",
      "metadata": {
        "id": "VCVEh7cqKDJq",
        "colab_type": "code",
        "outputId": "469602de-766c-4cac-b8e0-cec3cd93ecdd",
        "colab": {
          "base_uri": "https://localhost:8080/",
          "height": 34
        }
      },
      "source": [
        "# Predict for the avengers movie\n",
        "y_pred_avengers = gm_cv.predict(X_avengers)\n",
        "print(y_pred_avengers)"
      ],
      "execution_count": 0,
      "outputs": [
        {
          "output_type": "stream",
          "text": [
            "[388.26466302]\n"
          ],
          "name": "stdout"
        }
      ]
    },
    {
      "cell_type": "markdown",
      "metadata": {
        "id": "Rq1A3DOnuxY4",
        "colab_type": "text"
      },
      "source": [
        "### KNN Model"
      ]
    },
    {
      "cell_type": "code",
      "metadata": {
        "id": "M220w6MHu1GS",
        "colab_type": "code",
        "outputId": "38c6f29e-f220-4ba9-989a-b53b3b8fa914",
        "colab": {
          "base_uri": "https://localhost:8080/",
          "height": 51
        }
      },
      "source": [
        "from sklearn.neighbors import KNeighborsRegressor\n",
        "\n",
        "n_neighbors = 5\n",
        "\n",
        "knn = KNeighborsRegressor(n_neighbors, weights='uniform')\n",
        "\n",
        "knn.fit(X_train, y_train)\n",
        "\n",
        "knn_pred = knn.predict(X_test)\n",
        "\n",
        "print(knn.score(X_test, y_test))\n",
        "print(mean_squared_error(y_test, y_pred))"
      ],
      "execution_count": 0,
      "outputs": [
        {
          "output_type": "stream",
          "text": [
            "0.34448334395628777\n",
            "62031198693730.414\n"
          ],
          "name": "stdout"
        }
      ]
    },
    {
      "cell_type": "code",
      "metadata": {
        "id": "LwZLF2FIu8Wi",
        "colab_type": "code",
        "outputId": "e59434e1-ab65-4a8d-c35b-32e7fe5a2296",
        "colab": {
          "base_uri": "https://localhost:8080/",
          "height": 34
        }
      },
      "source": [
        "# Predict for the avengers movie\n",
        "y_pred_avengers = knn.predict(X_avengers)\n",
        "print(y_pred_avengers)"
      ],
      "execution_count": 0,
      "outputs": [
        {
          "output_type": "stream",
          "text": [
            "[136.6006592]\n"
          ],
          "name": "stdout"
        }
      ]
    },
    {
      "cell_type": "markdown",
      "metadata": {
        "id": "2ogr5RQhGuoc",
        "colab_type": "text"
      },
      "source": [
        "##Conclusion"
      ]
    },
    {
      "cell_type": "markdown",
      "metadata": {
        "id": "pUinMm-PQx1O",
        "colab_type": "text"
      },
      "source": [
        "According to the model, the estimated gross revenue will be 1.3 billion dollars. It is about the same amount as the actual opening box office sales. \n",
        "Other professional like business insider says it will be 3 billion. However, we can confidently say the Avengers are going to be very profitable!!"
      ]
    }
  ]
}