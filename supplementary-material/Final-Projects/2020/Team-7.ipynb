{
  "nbformat": 4,
  "nbformat_minor": 0,
  "metadata": {
    "kernelspec": {
      "display_name": "Python 3",
      "language": "python",
      "name": "python3"
    },
    "language_info": {
      "codemirror_mode": {
        "name": "ipython",
        "version": 3
      },
      "file_extension": ".py",
      "mimetype": "text/x-python",
      "name": "python",
      "nbconvert_exporter": "python",
      "pygments_lexer": "ipython3",
      "version": "3.7.1"
    },
    "colab": {
      "name": "Final Deliverable-Lauren's edits.ipynb",
      "provenance": [],
      "collapsed_sections": [],
      "toc_visible": true
    }
  },
  "cells": [
    {
      "cell_type": "markdown",
      "metadata": {
        "id": "b9mP2gvfgSJl",
        "colab_type": "text"
      },
      "source": [
        "# **Team 7 Assignment**"
      ]
    },
    {
      "cell_type": "markdown",
      "metadata": {
        "id": "G7zqWxBvkFdY",
        "colab_type": "text"
      },
      "source": [
        "## Introduction\n",
        "\n",
        "The following project and its contents have been created by Lauren Kohn, Charles Ni, Mingqian Xie, Tatiana Yate and Julia Zhou under the guidance and supervision of Mohammad Soltanieh-ha. Reproduction and/or distribution of contents in this project for financial gains or otherwise is strictly prohibited without the written permission of the team members or the instructor. Violators will be prosecuted with full extend of law along with any equitable monetary fines."
      ]
    },
    {
      "cell_type": "markdown",
      "metadata": {
        "id": "GviXUK9wq9XP",
        "colab_type": "text"
      },
      "source": [
        "## Goal of the Project"
      ]
    },
    {
      "cell_type": "markdown",
      "metadata": {
        "id": "WvnXUJBorBKb",
        "colab_type": "text"
      },
      "source": [
        "Between 2020 and 2024, the global beer market is expected to grow by nearly **$100 billion**. Rising disposable incomes and consumers' shift from traditional products to higher-quality, attractively branded beer has underpinned rising beer consumption and strong volume growth in emerging markets. \n",
        "\n",
        "We, as an international online retailer selling different types of beers, want to **understand our customers’ drinking preferences, and then make recommendations to them to boost sales**.\n",
        "\n",
        "We used the dataset of Beer_Reviews which contains around **1.5 Millions reviews** of beers from BeerAdvocates, one of the world's leading online review sites for beers. The reviews covered scores on **aroma, appearance, taste, palate and style**.\n",
        "\n",
        "We have chosen unsupervised machine learning methodology in our analysis and have presented all our findings and conclusions in this notebook. \n"
      ]
    },
    {
      "cell_type": "markdown",
      "metadata": {
        "id": "g5AcYbdaBuup",
        "colab_type": "text"
      },
      "source": [
        "##**Data Dictionary**\n",
        " \n",
        "The dataset we have chosen has a total of 1,586,614 beer reviews. This dataset of over 1.5 Millions reviews of beer comes from BeerAdvocates, an online, go-to resource for beers globally as of October, 2018. There are 66,055 unique beer ID's and 56,857 unique beer names. \n",
        "\n",
        "Each beer has the following listed attributes represented in the data's columns:\n",
        "\n",
        "**Brewery ID**: This is the identification code for the breweries identified in the data where beers are brewed.\n",
        "\n",
        "**Brewery Name**: This is the title of the breweries identified in the data where beers are brewed.\n",
        "\n",
        "**Review Time**: This is the time of the review in Unix time, which is a system for describing a point in time. It is the number of seconds that have elapsed since the Unix epoch, that is the time 00:00:00 UTC on 1 January 1970, minus leap seconds.\n",
        "\n",
        "**Review Overall**: This attribute is the average rating score from the aroma, appearance, palate, and taste of the beers. All ratings are 1-5, with 5 being the highest score.\n",
        "\n",
        "**Review Aroma**: This attribute is a rating for the specific scent and distinctive smell of the selected beer.\n",
        "\n",
        "**Review Appearance**: This attribute is a rating for the way a beer looks.\n",
        "\n",
        "**Review Profile Name**: This is the name selected by the beer reviewer for him/herself.\n",
        "\n",
        "**Beer Style**: This describes the type of beer and the category it goes under in beer categorization.\n",
        "\n",
        "**Review Palate**: This attribute rates the flavor of the beer, usually made in reference to a more sophisticated drink taste.\n",
        "\n",
        "**Review Taste**: This attribute rates the way the beer tastes.\n",
        "\n",
        "**Beer Name**: This is the title of the specific type of beer.\n",
        "\n",
        "**Beer ABV**: This is the measurement of alcohol in a beer, known as \"Alcohol by Volume\".\n",
        "\n",
        "**Beer ID**: This is the identification code for the beers in the dataset."
      ]
    },
    {
      "cell_type": "markdown",
      "metadata": {
        "id": "iymvlqkUqwtY",
        "colab_type": "text"
      },
      "source": [
        "## Import Packages"
      ]
    },
    {
      "cell_type": "markdown",
      "metadata": {
        "id": "QWLsEXtog2aq",
        "colab_type": "text"
      },
      "source": [
        "Initially, we must import our basic packages. "
      ]
    },
    {
      "cell_type": "code",
      "metadata": {
        "id": "k86CEdhTi_uq",
        "colab_type": "code",
        "colab": {}
      },
      "source": [
        "import pandas as pd\n",
        "import numpy as np\n",
        "\n",
        "from sklearn.preprocessing import scale\n",
        "from sklearn.cluster import KMeans\n",
        "\n",
        "import warnings\n",
        "warnings.filterwarnings('ignore')\n",
        "\n",
        "#Plotting style\n",
        "import matplotlib.pyplot as plt \n",
        "import seaborn as sns\n",
        "%matplotlib inline"
      ],
      "execution_count": 0,
      "outputs": []
    },
    {
      "cell_type": "markdown",
      "metadata": {
        "id": "-y6X7RNPq1jZ",
        "colab_type": "text"
      },
      "source": [
        "## Import data\n",
        "We then import the data set and get a general idea of what the data will look like."
      ]
    },
    {
      "cell_type": "code",
      "metadata": {
        "id": "w0sC5rgvhAB0",
        "colab_type": "code",
        "colab": {}
      },
      "source": [
        "# option1: upload files to colab from local file system\n",
        "from google.colab import files\n",
        "\n",
        "uploaded = files.upload()\n",
        "\n",
        "for fn in uploaded.keys():\n",
        "  print('User uploaded file \"{name}\" with length {length} bytes'.format(name=fn, length=len(uploaded[fn])))"
      ],
      "execution_count": 0,
      "outputs": []
    },
    {
      "cell_type": "code",
      "metadata": {
        "id": "juwXgj8LeYKV",
        "colab_type": "code",
        "outputId": "638d2a4b-2ea2-4660-a6b8-6f941daa5f67",
        "colab": {
          "base_uri": "https://localhost:8080/",
          "height": 139
        }
      },
      "source": [
        "#option2 step1: mounting Google Drive \n",
        "from google.colab import drive\n",
        "drive.mount('/gdrive')\n",
        "with open('/gdrive/My Drive/foo.txt', 'w') as f:\n",
        "  f.write('Hello Google Drive!')\n",
        "!cat '/gdrive/My Drive/foo.txt'"
      ],
      "execution_count": 0,
      "outputs": [
        {
          "output_type": "stream",
          "text": [
            "Go to this URL in a browser: https://accounts.google.com/o/oauth2/auth?client_id=947318989803-6bn6qk8qdgf4n4g3pfee6491hc0brc4i.apps.googleusercontent.com&redirect_uri=urn%3aietf%3awg%3aoauth%3a2.0%3aoob&response_type=code&scope=email%20https%3a%2f%2fwww.googleapis.com%2fauth%2fdocs.test%20https%3a%2f%2fwww.googleapis.com%2fauth%2fdrive%20https%3a%2f%2fwww.googleapis.com%2fauth%2fdrive.photos.readonly%20https%3a%2f%2fwww.googleapis.com%2fauth%2fpeopleapi.readonly\n",
            "\n",
            "Enter your authorization code:\n",
            "··········\n",
            "Mounted at /gdrive\n",
            "Hello Google Drive!"
          ],
          "name": "stdout"
        }
      ]
    },
    {
      "cell_type": "code",
      "metadata": {
        "id": "SQMNBDwJebzP",
        "colab_type": "code",
        "colab": {}
      },
      "source": [
        "#option2 step2: copy file to colab from google Shared drive of our team, saving upload time \n",
        "cp /gdrive/Shared\\ drives/IS833team7/beer_reviews.csv ."
      ],
      "execution_count": 0,
      "outputs": []
    },
    {
      "cell_type": "code",
      "metadata": {
        "id": "nCZKIZSui_u6",
        "colab_type": "code",
        "colab": {}
      },
      "source": [
        "beers = pd.read_csv(\"beer_reviews.csv\")"
      ],
      "execution_count": 0,
      "outputs": []
    },
    {
      "cell_type": "code",
      "metadata": {
        "id": "696G98eCgkwN",
        "colab_type": "code",
        "outputId": "130f273b-22ba-4908-cb36-d27d78ceecd7",
        "colab": {
          "base_uri": "https://localhost:8080/",
          "height": 357
        }
      },
      "source": [
        "# Get an basic idea of what the data looks like\n",
        "beers.info()"
      ],
      "execution_count": 0,
      "outputs": [
        {
          "output_type": "stream",
          "text": [
            "<class 'pandas.core.frame.DataFrame'>\n",
            "RangeIndex: 1586614 entries, 0 to 1586613\n",
            "Data columns (total 13 columns):\n",
            " #   Column              Non-Null Count    Dtype  \n",
            "---  ------              --------------    -----  \n",
            " 0   brewery_id          1586614 non-null  int64  \n",
            " 1   brewery_name        1586599 non-null  object \n",
            " 2   review_time         1586614 non-null  int64  \n",
            " 3   review_overall      1586614 non-null  float64\n",
            " 4   review_aroma        1586614 non-null  float64\n",
            " 5   review_appearance   1586614 non-null  float64\n",
            " 6   review_profilename  1586266 non-null  object \n",
            " 7   beer_style          1586614 non-null  object \n",
            " 8   review_palate       1586614 non-null  float64\n",
            " 9   review_taste        1586614 non-null  float64\n",
            " 10  beer_name           1586614 non-null  object \n",
            " 11  beer_abv            1518829 non-null  float64\n",
            " 12  beer_beerid         1586614 non-null  int64  \n",
            "dtypes: float64(6), int64(3), object(4)\n",
            "memory usage: 157.4+ MB\n"
          ],
          "name": "stdout"
        }
      ]
    },
    {
      "cell_type": "code",
      "metadata": {
        "id": "KxcFDYj6i_vC",
        "colab_type": "code",
        "outputId": "75297b0f-3b80-4482-f049-6fac084d350c",
        "colab": {
          "base_uri": "https://localhost:8080/",
          "height": 326
        }
      },
      "source": [
        "# Virtually view the data\n",
        "beers.head()"
      ],
      "execution_count": 0,
      "outputs": [
        {
          "output_type": "execute_result",
          "data": {
            "text/html": [
              "<div>\n",
              "<style scoped>\n",
              "    .dataframe tbody tr th:only-of-type {\n",
              "        vertical-align: middle;\n",
              "    }\n",
              "\n",
              "    .dataframe tbody tr th {\n",
              "        vertical-align: top;\n",
              "    }\n",
              "\n",
              "    .dataframe thead th {\n",
              "        text-align: right;\n",
              "    }\n",
              "</style>\n",
              "<table border=\"1\" class=\"dataframe\">\n",
              "  <thead>\n",
              "    <tr style=\"text-align: right;\">\n",
              "      <th></th>\n",
              "      <th>brewery_id</th>\n",
              "      <th>brewery_name</th>\n",
              "      <th>review_time</th>\n",
              "      <th>review_overall</th>\n",
              "      <th>review_aroma</th>\n",
              "      <th>review_appearance</th>\n",
              "      <th>review_profilename</th>\n",
              "      <th>beer_style</th>\n",
              "      <th>review_palate</th>\n",
              "      <th>review_taste</th>\n",
              "      <th>beer_name</th>\n",
              "      <th>beer_abv</th>\n",
              "      <th>beer_beerid</th>\n",
              "    </tr>\n",
              "  </thead>\n",
              "  <tbody>\n",
              "    <tr>\n",
              "      <th>0</th>\n",
              "      <td>10325</td>\n",
              "      <td>Vecchio Birraio</td>\n",
              "      <td>1234817823</td>\n",
              "      <td>1.5</td>\n",
              "      <td>2.0</td>\n",
              "      <td>2.5</td>\n",
              "      <td>stcules</td>\n",
              "      <td>Hefeweizen</td>\n",
              "      <td>1.5</td>\n",
              "      <td>1.5</td>\n",
              "      <td>Sausa Weizen</td>\n",
              "      <td>5.0</td>\n",
              "      <td>47986</td>\n",
              "    </tr>\n",
              "    <tr>\n",
              "      <th>1</th>\n",
              "      <td>10325</td>\n",
              "      <td>Vecchio Birraio</td>\n",
              "      <td>1235915097</td>\n",
              "      <td>3.0</td>\n",
              "      <td>2.5</td>\n",
              "      <td>3.0</td>\n",
              "      <td>stcules</td>\n",
              "      <td>English Strong Ale</td>\n",
              "      <td>3.0</td>\n",
              "      <td>3.0</td>\n",
              "      <td>Red Moon</td>\n",
              "      <td>6.2</td>\n",
              "      <td>48213</td>\n",
              "    </tr>\n",
              "    <tr>\n",
              "      <th>2</th>\n",
              "      <td>10325</td>\n",
              "      <td>Vecchio Birraio</td>\n",
              "      <td>1235916604</td>\n",
              "      <td>3.0</td>\n",
              "      <td>2.5</td>\n",
              "      <td>3.0</td>\n",
              "      <td>stcules</td>\n",
              "      <td>Foreign / Export Stout</td>\n",
              "      <td>3.0</td>\n",
              "      <td>3.0</td>\n",
              "      <td>Black Horse Black Beer</td>\n",
              "      <td>6.5</td>\n",
              "      <td>48215</td>\n",
              "    </tr>\n",
              "    <tr>\n",
              "      <th>3</th>\n",
              "      <td>10325</td>\n",
              "      <td>Vecchio Birraio</td>\n",
              "      <td>1234725145</td>\n",
              "      <td>3.0</td>\n",
              "      <td>3.0</td>\n",
              "      <td>3.5</td>\n",
              "      <td>stcules</td>\n",
              "      <td>German Pilsener</td>\n",
              "      <td>2.5</td>\n",
              "      <td>3.0</td>\n",
              "      <td>Sausa Pils</td>\n",
              "      <td>5.0</td>\n",
              "      <td>47969</td>\n",
              "    </tr>\n",
              "    <tr>\n",
              "      <th>4</th>\n",
              "      <td>1075</td>\n",
              "      <td>Caldera Brewing Company</td>\n",
              "      <td>1293735206</td>\n",
              "      <td>4.0</td>\n",
              "      <td>4.5</td>\n",
              "      <td>4.0</td>\n",
              "      <td>johnmichaelsen</td>\n",
              "      <td>American Double / Imperial IPA</td>\n",
              "      <td>4.0</td>\n",
              "      <td>4.5</td>\n",
              "      <td>Cauldron DIPA</td>\n",
              "      <td>7.7</td>\n",
              "      <td>64883</td>\n",
              "    </tr>\n",
              "  </tbody>\n",
              "</table>\n",
              "</div>"
            ],
            "text/plain": [
              "   brewery_id             brewery_name  ...  beer_abv  beer_beerid\n",
              "0       10325          Vecchio Birraio  ...       5.0        47986\n",
              "1       10325          Vecchio Birraio  ...       6.2        48213\n",
              "2       10325          Vecchio Birraio  ...       6.5        48215\n",
              "3       10325          Vecchio Birraio  ...       5.0        47969\n",
              "4        1075  Caldera Brewing Company  ...       7.7        64883\n",
              "\n",
              "[5 rows x 13 columns]"
            ]
          },
          "metadata": {
            "tags": []
          },
          "execution_count": 4
        }
      ]
    },
    {
      "cell_type": "markdown",
      "metadata": {
        "id": "GpGGL_E9sITl",
        "colab_type": "text"
      },
      "source": [
        "## Preliminary Data Analysis\n",
        "\n"
      ]
    },
    {
      "cell_type": "markdown",
      "metadata": {
        "id": "IlvunzYfiXUf",
        "colab_type": "text"
      },
      "source": [
        "### Data cleaning"
      ]
    },
    {
      "cell_type": "markdown",
      "metadata": {
        "id": "e01Bet0phSEZ",
        "colab_type": "text"
      },
      "source": [
        "We have initially identified that the format for \"review_time\" is not reader-friendly, so we changed this into a more reader-friendly format. "
      ]
    },
    {
      "cell_type": "code",
      "metadata": {
        "id": "2vZmEXuLBlHX",
        "colab_type": "code",
        "colab": {}
      },
      "source": [
        "# change the format of feature review_time\n",
        "beers['review_time']=pd.to_datetime(beers['review_time'],unit='s')"
      ],
      "execution_count": 0,
      "outputs": []
    },
    {
      "cell_type": "code",
      "metadata": {
        "id": "LMlx0Y0T9tB9",
        "colab_type": "code",
        "outputId": "f2d6ea07-c7fe-4166-8d73-efdfe7526405",
        "colab": {
          "base_uri": "https://localhost:8080/",
          "height": 278
        }
      },
      "source": [
        "beers.head(4)"
      ],
      "execution_count": 0,
      "outputs": [
        {
          "output_type": "execute_result",
          "data": {
            "text/html": [
              "<div>\n",
              "<style scoped>\n",
              "    .dataframe tbody tr th:only-of-type {\n",
              "        vertical-align: middle;\n",
              "    }\n",
              "\n",
              "    .dataframe tbody tr th {\n",
              "        vertical-align: top;\n",
              "    }\n",
              "\n",
              "    .dataframe thead th {\n",
              "        text-align: right;\n",
              "    }\n",
              "</style>\n",
              "<table border=\"1\" class=\"dataframe\">\n",
              "  <thead>\n",
              "    <tr style=\"text-align: right;\">\n",
              "      <th></th>\n",
              "      <th>brewery_id</th>\n",
              "      <th>brewery_name</th>\n",
              "      <th>review_time</th>\n",
              "      <th>review_overall</th>\n",
              "      <th>review_aroma</th>\n",
              "      <th>review_appearance</th>\n",
              "      <th>review_profilename</th>\n",
              "      <th>beer_style</th>\n",
              "      <th>review_palate</th>\n",
              "      <th>review_taste</th>\n",
              "      <th>beer_name</th>\n",
              "      <th>beer_abv</th>\n",
              "      <th>beer_beerid</th>\n",
              "    </tr>\n",
              "  </thead>\n",
              "  <tbody>\n",
              "    <tr>\n",
              "      <th>0</th>\n",
              "      <td>10325</td>\n",
              "      <td>Vecchio Birraio</td>\n",
              "      <td>2009-02-16 20:57:03</td>\n",
              "      <td>1.5</td>\n",
              "      <td>2.0</td>\n",
              "      <td>2.5</td>\n",
              "      <td>stcules</td>\n",
              "      <td>Hefeweizen</td>\n",
              "      <td>1.5</td>\n",
              "      <td>1.5</td>\n",
              "      <td>Sausa Weizen</td>\n",
              "      <td>5.0</td>\n",
              "      <td>47986</td>\n",
              "    </tr>\n",
              "    <tr>\n",
              "      <th>1</th>\n",
              "      <td>10325</td>\n",
              "      <td>Vecchio Birraio</td>\n",
              "      <td>2009-03-01 13:44:57</td>\n",
              "      <td>3.0</td>\n",
              "      <td>2.5</td>\n",
              "      <td>3.0</td>\n",
              "      <td>stcules</td>\n",
              "      <td>English Strong Ale</td>\n",
              "      <td>3.0</td>\n",
              "      <td>3.0</td>\n",
              "      <td>Red Moon</td>\n",
              "      <td>6.2</td>\n",
              "      <td>48213</td>\n",
              "    </tr>\n",
              "    <tr>\n",
              "      <th>2</th>\n",
              "      <td>10325</td>\n",
              "      <td>Vecchio Birraio</td>\n",
              "      <td>2009-03-01 14:10:04</td>\n",
              "      <td>3.0</td>\n",
              "      <td>2.5</td>\n",
              "      <td>3.0</td>\n",
              "      <td>stcules</td>\n",
              "      <td>Foreign / Export Stout</td>\n",
              "      <td>3.0</td>\n",
              "      <td>3.0</td>\n",
              "      <td>Black Horse Black Beer</td>\n",
              "      <td>6.5</td>\n",
              "      <td>48215</td>\n",
              "    </tr>\n",
              "    <tr>\n",
              "      <th>3</th>\n",
              "      <td>10325</td>\n",
              "      <td>Vecchio Birraio</td>\n",
              "      <td>2009-02-15 19:12:25</td>\n",
              "      <td>3.0</td>\n",
              "      <td>3.0</td>\n",
              "      <td>3.5</td>\n",
              "      <td>stcules</td>\n",
              "      <td>German Pilsener</td>\n",
              "      <td>2.5</td>\n",
              "      <td>3.0</td>\n",
              "      <td>Sausa Pils</td>\n",
              "      <td>5.0</td>\n",
              "      <td>47969</td>\n",
              "    </tr>\n",
              "  </tbody>\n",
              "</table>\n",
              "</div>"
            ],
            "text/plain": [
              "   brewery_id     brewery_name  ... beer_abv  beer_beerid\n",
              "0       10325  Vecchio Birraio  ...      5.0        47986\n",
              "1       10325  Vecchio Birraio  ...      6.2        48213\n",
              "2       10325  Vecchio Birraio  ...      6.5        48215\n",
              "3       10325  Vecchio Birraio  ...      5.0        47969\n",
              "\n",
              "[4 rows x 13 columns]"
            ]
          },
          "metadata": {
            "tags": []
          },
          "execution_count": 7
        }
      ]
    },
    {
      "cell_type": "markdown",
      "metadata": {
        "id": "9M15WyO7hknL",
        "colab_type": "text"
      },
      "source": [
        "We decided that 'NA' and duplicates should be dropped from the dataset.\n",
        "\n",
        "Given that the nature of this dataset isn't a time series and that the dataset is big enough, we have decided to delete redundant data and get rid of 'NA' and duplicates. "
      ]
    },
    {
      "cell_type": "code",
      "metadata": {
        "id": "Q76VTRQOh_Ir",
        "colab_type": "code",
        "colab": {}
      },
      "source": [
        "beers_clean =beers.dropna()\n",
        "\n",
        "# Sort by user overall rating first\n",
        "reviews = beers_clean.sort_values('review_overall',ascending=False)\n",
        "\n",
        "# keep the highest rating about the same beer from the same user and drop the rest\n",
        "reviews = reviews.drop_duplicates(subset = ['review_profilename','beer_name'],keep='first')\n",
        "\n",
        "# review information before year 2002 is rare and cannot represent the whole picture of beer indusry\n",
        "reviews = reviews.loc[reviews['review_time'].dt.year >= 2002]\n",
        "reviews_new = reviews.sort_values('review_overall',ascending=False)\n"
      ],
      "execution_count": 0,
      "outputs": []
    },
    {
      "cell_type": "code",
      "metadata": {
        "id": "iF6QYyrQJuYn",
        "colab_type": "code",
        "colab": {}
      },
      "source": [
        "# If the same beer name coming from the same brewery has different beer id's, we assume these reviews are mistakes.\n",
        "reviews1 = reviews_new[reviews_new.duplicated(['brewery_name','beer_name'],keep=False)]\n",
        "reviews1b = reviews_new.drop_duplicates(subset = ['brewery_name','beer_name'],keep=False)\n",
        "reviews1_mask = reviews1.duplicated(['beer_beerid'],keep=False)\n",
        "reviews1=reviews1[reviews1_mask]\n",
        "reviews_new = pd.merge(reviews1b,reviews1,how='outer')"
      ],
      "execution_count": 0,
      "outputs": []
    },
    {
      "cell_type": "code",
      "metadata": {
        "id": "CEvPQSuDdSco",
        "colab_type": "code",
        "outputId": "c1ec1a3b-cf6d-49f9-bbb2-4971a014eeb4",
        "colab": {
          "base_uri": "https://localhost:8080/",
          "height": 211
        }
      },
      "source": [
        "# plot the time trend of reviews\n",
        "def time_trend(df):\n",
        "  plt.figure(figsize=(25,4))\n",
        "  trend_by_date=df[['review_time']].groupby(df['review_time'].dt.date).agg(['count'])\n",
        "  plt.plot(trend_by_date)\n",
        "  plt.xlabel('Date')\n",
        "  plt.ylabel('Number of reviews')\n",
        "  plt.title('Number of Reviews per Day')\n",
        "  plt.show()\n",
        "time_trend(reviews_new)"
      ],
      "execution_count": 0,
      "outputs": [
        {
          "output_type": "display_data",
          "data": {
            "image/png": "[encoded data removed]",
            "text/plain": [
              "<Figure size 1800x288 with 1 Axes>"
            ]
          },
          "metadata": {
            "tags": [],
            "needs_background": "light"
          }
        }
      ]
    },
    {
      "cell_type": "markdown",
      "metadata": {
        "id": "Bx0bYlAGjE42",
        "colab_type": "text"
      },
      "source": [
        "We then decided to use data from 2002 onwards, as the data beforehand is less representative.  \n",
        "\n",
        "We also looked at what the relationship between 'review_overall' and other features. To do this we made 'review_avg' and 'review_diff'.\n",
        "\n",
        "Defintions of new variables:\n",
        "\n",
        "**'Review_avg'**: This is the mean value of 'review_aroma' , 'review_appearance' , 'review_palate' and 'review_taste'.\n",
        "\n",
        "\n",
        "**'Review_diff'**: This is the difference between 'review_overall' and 'review_avg'."
      ]
    },
    {
      "cell_type": "code",
      "metadata": {
        "id": "fxMFIgdui_js",
        "colab_type": "code",
        "colab": {}
      },
      "source": [
        "reviews_new['review_avg'] = reviews[['review_aroma','review_appearance','review_palate','review_taste']].mean(axis=1)\n",
        "reviews_new['review_diff'] = reviews_new['review_overall'] - reviews_new['review_avg']\n",
        "beers = reviews_new"
      ],
      "execution_count": 0,
      "outputs": []
    },
    {
      "cell_type": "markdown",
      "metadata": {
        "id": "g8hJQqOqiuh1",
        "colab_type": "text"
      },
      "source": [
        "### Exploratory Data Analysis"
      ]
    },
    {
      "cell_type": "markdown",
      "metadata": {
        "id": "o6DxMVj3j89E",
        "colab_type": "text"
      },
      "source": [
        "To begin, we pairplot all the review features and test them to see if there are any relationships among them. "
      ]
    },
    {
      "cell_type": "code",
      "metadata": {
        "id": "HRQMIe1si0td",
        "colab_type": "code",
        "outputId": "af50dd40-a85e-4834-fbe0-6668c7f929d3",
        "colab": {
          "base_uri": "https://localhost:8080/",
          "height": 1000
        }
      },
      "source": [
        "#pairplot to try to find patterns\n",
        "sns.pairplot(beers, vars = ['review_aroma','review_appearance','review_palate','review_taste', 'review_diff', 'review_avg'])"
      ],
      "execution_count": 0,
      "outputs": [
        {
          "output_type": "execute_result",
          "data": {
            "text/plain": [
              "<seaborn.axisgrid.PairGrid at 0x7f9e59290cf8>"
            ]
          },
          "metadata": {
            "tags": []
          },
          "execution_count": 10
        },
        {
          "output_type": "display_data",
          "data": {
            "image/png": "[encoded data removed]",
            "text/plain": [
              "<Figure size 1080x1080 with 42 Axes>"
            ]
          },
          "metadata": {
            "tags": [],
            "needs_background": "light"
          }
        }
      ]
    },
    {
      "cell_type": "markdown",
      "metadata": {
        "id": "s4lf6sQ-mhu3",
        "colab_type": "text"
      },
      "source": [
        "Although the above pairplot didn't find any patterns, it might just because the above dots are overlapping so patterns cannot be easily observed. \n",
        "\n",
        "\n",
        "To test this theory, we set 'jitter = True' to see whether there are any linear correlations between the above data. The idea behind 'jitter = True' is that it lets the data randomly move for a little bit ensure all data points are visible. "
      ]
    },
    {
      "cell_type": "code",
      "metadata": {
        "id": "CEmm-WZ9CnPQ",
        "colab_type": "code",
        "outputId": "0edbcb98-85ac-4215-92a2-420f07a00ddc",
        "colab": {
          "base_uri": "https://localhost:8080/",
          "height": 297
        }
      },
      "source": [
        "sns.stripplot(data = beers, jitter = True, x = 'review_taste', y = 'review_overall')"
      ],
      "execution_count": 0,
      "outputs": [
        {
          "output_type": "execute_result",
          "data": {
            "text/plain": [
              "<matplotlib.axes._subplots.AxesSubplot at 0x7f9e5639af60>"
            ]
          },
          "metadata": {
            "tags": []
          },
          "execution_count": 11
        },
        {
          "output_type": "display_data",
          "data": {
            "image/png": "[encoded data removed]",
            "text/plain": [
              "<Figure size 432x288 with 1 Axes>"
            ]
          },
          "metadata": {
            "tags": [],
            "needs_background": "light"
          }
        }
      ]
    },
    {
      "cell_type": "markdown",
      "metadata": {
        "id": "lvIHXAwrlWrY",
        "colab_type": "text"
      },
      "source": [
        "It is obvious that these features do not show any correlations. The reason this data lacks correlation is because this data is transactional rather than continuous data. \\\n",
        "\n",
        "Since the nature of the dataset is transactional, we need to see exactly how many beers and breweries are reviewed to have an understanding of what we are analyzing in our data set. "
      ]
    },
    {
      "cell_type": "code",
      "metadata": {
        "id": "wESVha57i0YM",
        "colab_type": "code",
        "outputId": "87baefa9-cf07-426c-f09e-f897ddf9ad86",
        "colab": {
          "base_uri": "https://localhost:8080/",
          "height": 136
        }
      },
      "source": [
        "# Understand how many unique breweries\n",
        "print( 'Unique breweries:' )\n",
        "print( 'By ID:', beers[ 'brewery_id' ].nunique() )\n",
        "print( 'By Name:', beers[ 'brewery_name' ].nunique())\n",
        "print()\n",
        " \n",
        "# Understand how many unique beers\n",
        "print( 'Unique beers:' )\n",
        "print( 'By ID:', beers[ 'beer_beerid' ].nunique() )\n",
        "print( 'By Name:', beers[ 'beer_name' ].nunique() )"
      ],
      "execution_count": 0,
      "outputs": [
        {
          "output_type": "stream",
          "text": [
            "Unique breweries:\n",
            "By ID: 5206\n",
            "By Name: 5138\n",
            "\n",
            "Unique beers:\n",
            "By ID: 48557\n",
            "By Name: 44054\n"
          ],
          "name": "stdout"
        }
      ]
    },
    {
      "cell_type": "markdown",
      "metadata": {
        "id": "hkDN0LYAmhN7",
        "colab_type": "text"
      },
      "source": [
        "As we can see, the numbers of unique names for both breweries and beers are smaller than their respective ID's, so we can conclude that there are different types of beers with the same name. This doesn't surprise us since this is a massive dataset."
      ]
    },
    {
      "cell_type": "markdown",
      "metadata": {
        "id": "K8WQTJmInJyu",
        "colab_type": "text"
      },
      "source": [
        "Additionally, we want to understand what factors are driving 'review_overall', so we put a heatmap to see whether there are any relationships."
      ]
    },
    {
      "cell_type": "code",
      "metadata": {
        "id": "1oVOR5EInI2S",
        "colab_type": "code",
        "outputId": "955b67cb-82a8-4699-cf0d-d69bdab48a2b",
        "colab": {
          "base_uri": "https://localhost:8080/",
          "height": 166
        }
      },
      "source": [
        "#Best beers overall- do they win because of taste, aroma, etc?\n",
        "\n",
        "# Factors in the data include: \n",
        "rating_factors = [\"review_appearance\",\"review_aroma\",\"review_palate\",\"review_taste\", \"beer_abv\",\"review_overall\"]\n",
        "\n",
        "# Create a correlation matrix \n",
        "corr_metrics = beers[rating_factors].corr()\n",
        "corr_metrics.style.background_gradient(cmap='Blues')"
      ],
      "execution_count": 0,
      "outputs": [
        {
          "output_type": "execute_result",
          "data": {
            "text/html": [
              "<style  type=\"text/css\" >\n",
              "    #T_edf79a46_89b9_11ea_9ca6_0242ac1c0002row0_col0 {\n",
              "            background-color:  #08306b;\n",
              "            color:  #f1f1f1;\n",
              "        }    #T_edf79a46_89b9_11ea_9ca6_0242ac1c0002row0_col1 {\n",
              "            background-color:  #aacfe5;\n",
              "            color:  #000000;\n",
              "        }    #T_edf79a46_89b9_11ea_9ca6_0242ac1c0002row0_col2 {\n",
              "            background-color:  #99c7e0;\n",
              "            color:  #000000;\n",
              "        }    #T_edf79a46_89b9_11ea_9ca6_0242ac1c0002row0_col3 {\n",
              "            background-color:  #a4cce3;\n",
              "            color:  #000000;\n",
              "        }    #T_edf79a46_89b9_11ea_9ca6_0242ac1c0002row0_col4 {\n",
              "            background-color:  #dae8f6;\n",
              "            color:  #000000;\n",
              "        }    #T_edf79a46_89b9_11ea_9ca6_0242ac1c0002row0_col5 {\n",
              "            background-color:  #8dc1dd;\n",
              "            color:  #000000;\n",
              "        }    #T_edf79a46_89b9_11ea_9ca6_0242ac1c0002row1_col0 {\n",
              "            background-color:  #94c4df;\n",
              "            color:  #000000;\n",
              "        }    #T_edf79a46_89b9_11ea_9ca6_0242ac1c0002row1_col1 {\n",
              "            background-color:  #08306b;\n",
              "            color:  #f1f1f1;\n",
              "        }    #T_edf79a46_89b9_11ea_9ca6_0242ac1c0002row1_col2 {\n",
              "            background-color:  #7cb7da;\n",
              "            color:  #000000;\n",
              "        }    #T_edf79a46_89b9_11ea_9ca6_0242ac1c0002row1_col3 {\n",
              "            background-color:  #4b98ca;\n",
              "            color:  #000000;\n",
              "        }    #T_edf79a46_89b9_11ea_9ca6_0242ac1c0002row1_col4 {\n",
              "            background-color:  #cbdef1;\n",
              "            color:  #000000;\n",
              "        }    #T_edf79a46_89b9_11ea_9ca6_0242ac1c0002row1_col5 {\n",
              "            background-color:  #5ba3d0;\n",
              "            color:  #000000;\n",
              "        }    #T_edf79a46_89b9_11ea_9ca6_0242ac1c0002row2_col0 {\n",
              "            background-color:  #91c3de;\n",
              "            color:  #000000;\n",
              "        }    #T_edf79a46_89b9_11ea_9ca6_0242ac1c0002row2_col1 {\n",
              "            background-color:  #8abfdd;\n",
              "            color:  #000000;\n",
              "        }    #T_edf79a46_89b9_11ea_9ca6_0242ac1c0002row2_col2 {\n",
              "            background-color:  #08306b;\n",
              "            color:  #f1f1f1;\n",
              "        }    #T_edf79a46_89b9_11ea_9ca6_0242ac1c0002row2_col3 {\n",
              "            background-color:  #4292c6;\n",
              "            color:  #000000;\n",
              "        }    #T_edf79a46_89b9_11ea_9ca6_0242ac1c0002row2_col4 {\n",
              "            background-color:  #d5e5f4;\n",
              "            color:  #000000;\n",
              "        }    #T_edf79a46_89b9_11ea_9ca6_0242ac1c0002row2_col5 {\n",
              "            background-color:  #3b8bc2;\n",
              "            color:  #000000;\n",
              "        }    #T_edf79a46_89b9_11ea_9ca6_0242ac1c0002row3_col0 {\n",
              "            background-color:  #9cc9e1;\n",
              "            color:  #000000;\n",
              "        }    #T_edf79a46_89b9_11ea_9ca6_0242ac1c0002row3_col1 {\n",
              "            background-color:  #539ecd;\n",
              "            color:  #000000;\n",
              "        }    #T_edf79a46_89b9_11ea_9ca6_0242ac1c0002row3_col2 {\n",
              "            background-color:  #4292c6;\n",
              "            color:  #000000;\n",
              "        }    #T_edf79a46_89b9_11ea_9ca6_0242ac1c0002row3_col3 {\n",
              "            background-color:  #08306b;\n",
              "            color:  #f1f1f1;\n",
              "        }    #T_edf79a46_89b9_11ea_9ca6_0242ac1c0002row3_col4 {\n",
              "            background-color:  #d4e4f4;\n",
              "            color:  #000000;\n",
              "        }    #T_edf79a46_89b9_11ea_9ca6_0242ac1c0002row3_col5 {\n",
              "            background-color:  #2070b4;\n",
              "            color:  #f1f1f1;\n",
              "        }    #T_edf79a46_89b9_11ea_9ca6_0242ac1c0002row4_col0 {\n",
              "            background-color:  #f7fbff;\n",
              "            color:  #000000;\n",
              "        }    #T_edf79a46_89b9_11ea_9ca6_0242ac1c0002row4_col1 {\n",
              "            background-color:  #f7fbff;\n",
              "            color:  #000000;\n",
              "        }    #T_edf79a46_89b9_11ea_9ca6_0242ac1c0002row4_col2 {\n",
              "            background-color:  #f7fbff;\n",
              "            color:  #000000;\n",
              "        }    #T_edf79a46_89b9_11ea_9ca6_0242ac1c0002row4_col3 {\n",
              "            background-color:  #f7fbff;\n",
              "            color:  #000000;\n",
              "        }    #T_edf79a46_89b9_11ea_9ca6_0242ac1c0002row4_col4 {\n",
              "            background-color:  #08306b;\n",
              "            color:  #f1f1f1;\n",
              "        }    #T_edf79a46_89b9_11ea_9ca6_0242ac1c0002row4_col5 {\n",
              "            background-color:  #f7fbff;\n",
              "            color:  #000000;\n",
              "        }    #T_edf79a46_89b9_11ea_9ca6_0242ac1c0002row5_col0 {\n",
              "            background-color:  #b0d2e7;\n",
              "            color:  #000000;\n",
              "        }    #T_edf79a46_89b9_11ea_9ca6_0242ac1c0002row5_col1 {\n",
              "            background-color:  #8cc0dd;\n",
              "            color:  #000000;\n",
              "        }    #T_edf79a46_89b9_11ea_9ca6_0242ac1c0002row5_col2 {\n",
              "            background-color:  #529dcc;\n",
              "            color:  #000000;\n",
              "        }    #T_edf79a46_89b9_11ea_9ca6_0242ac1c0002row5_col3 {\n",
              "            background-color:  #2e7ebc;\n",
              "            color:  #000000;\n",
              "        }    #T_edf79a46_89b9_11ea_9ca6_0242ac1c0002row5_col4 {\n",
              "            background-color:  #f7fbff;\n",
              "            color:  #000000;\n",
              "        }    #T_edf79a46_89b9_11ea_9ca6_0242ac1c0002row5_col5 {\n",
              "            background-color:  #08306b;\n",
              "            color:  #f1f1f1;\n",
              "        }</style><table id=\"T_edf79a46_89b9_11ea_9ca6_0242ac1c0002\" ><thead>    <tr>        <th class=\"blank level0\" ></th>        <th class=\"col_heading level0 col0\" >review_appearance</th>        <th class=\"col_heading level0 col1\" >review_aroma</th>        <th class=\"col_heading level0 col2\" >review_palate</th>        <th class=\"col_heading level0 col3\" >review_taste</th>        <th class=\"col_heading level0 col4\" >beer_abv</th>        <th class=\"col_heading level0 col5\" >review_overall</th>    </tr></thead><tbody>\n",
              "                <tr>\n",
              "                        <th id=\"T_edf79a46_89b9_11ea_9ca6_0242ac1c0002level0_row0\" class=\"row_heading level0 row0\" >review_appearance</th>\n",
              "                        <td id=\"T_edf79a46_89b9_11ea_9ca6_0242ac1c0002row0_col0\" class=\"data row0 col0\" >1.000000</td>\n",
              "                        <td id=\"T_edf79a46_89b9_11ea_9ca6_0242ac1c0002row0_col1\" class=\"data row0 col1\" >0.558523</td>\n",
              "                        <td id=\"T_edf79a46_89b9_11ea_9ca6_0242ac1c0002row0_col2\" class=\"data row0 col2\" >0.563995</td>\n",
              "                        <td id=\"T_edf79a46_89b9_11ea_9ca6_0242ac1c0002row0_col3\" class=\"data row0 col3\" >0.544096</td>\n",
              "                        <td id=\"T_edf79a46_89b9_11ea_9ca6_0242ac1c0002row0_col4\" class=\"data row0 col4\" >0.263506</td>\n",
              "                        <td id=\"T_edf79a46_89b9_11ea_9ca6_0242ac1c0002row0_col5\" class=\"data row0 col5\" >0.498015</td>\n",
              "            </tr>\n",
              "            <tr>\n",
              "                        <th id=\"T_edf79a46_89b9_11ea_9ca6_0242ac1c0002level0_row1\" class=\"row_heading level0 row1\" >review_aroma</th>\n",
              "                        <td id=\"T_edf79a46_89b9_11ea_9ca6_0242ac1c0002row1_col0\" class=\"data row1 col0\" >0.558523</td>\n",
              "                        <td id=\"T_edf79a46_89b9_11ea_9ca6_0242ac1c0002row1_col1\" class=\"data row1 col1\" >1.000000</td>\n",
              "                        <td id=\"T_edf79a46_89b9_11ea_9ca6_0242ac1c0002row1_col2\" class=\"data row1 col2\" >0.614189</td>\n",
              "                        <td id=\"T_edf79a46_89b9_11ea_9ca6_0242ac1c0002row1_col3\" class=\"data row1 col3\" >0.714166</td>\n",
              "                        <td id=\"T_edf79a46_89b9_11ea_9ca6_0242ac1c0002row1_col4\" class=\"data row1 col4\" >0.332199</td>\n",
              "                        <td id=\"T_edf79a46_89b9_11ea_9ca6_0242ac1c0002row1_col5\" class=\"data row1 col5\" >0.612110</td>\n",
              "            </tr>\n",
              "            <tr>\n",
              "                        <th id=\"T_edf79a46_89b9_11ea_9ca6_0242ac1c0002level0_row2\" class=\"row_heading level0 row2\" >review_palate</th>\n",
              "                        <td id=\"T_edf79a46_89b9_11ea_9ca6_0242ac1c0002row2_col0\" class=\"data row2 col0\" >0.563995</td>\n",
              "                        <td id=\"T_edf79a46_89b9_11ea_9ca6_0242ac1c0002row2_col1\" class=\"data row2 col1\" >0.614189</td>\n",
              "                        <td id=\"T_edf79a46_89b9_11ea_9ca6_0242ac1c0002row2_col2\" class=\"data row2 col2\" >1.000000</td>\n",
              "                        <td id=\"T_edf79a46_89b9_11ea_9ca6_0242ac1c0002row2_col3\" class=\"data row2 col3\" >0.731689</td>\n",
              "                        <td id=\"T_edf79a46_89b9_11ea_9ca6_0242ac1c0002row2_col4\" class=\"data row2 col4\" >0.286033</td>\n",
              "                        <td id=\"T_edf79a46_89b9_11ea_9ca6_0242ac1c0002row2_col5\" class=\"data row2 col5\" >0.698476</td>\n",
              "            </tr>\n",
              "            <tr>\n",
              "                        <th id=\"T_edf79a46_89b9_11ea_9ca6_0242ac1c0002level0_row3\" class=\"row_heading level0 row3\" >review_taste</th>\n",
              "                        <td id=\"T_edf79a46_89b9_11ea_9ca6_0242ac1c0002row3_col0\" class=\"data row3 col0\" >0.544096</td>\n",
              "                        <td id=\"T_edf79a46_89b9_11ea_9ca6_0242ac1c0002row3_col1\" class=\"data row3 col1\" >0.714166</td>\n",
              "                        <td id=\"T_edf79a46_89b9_11ea_9ca6_0242ac1c0002row3_col2\" class=\"data row3 col2\" >0.731689</td>\n",
              "                        <td id=\"T_edf79a46_89b9_11ea_9ca6_0242ac1c0002row3_col3\" class=\"data row3 col3\" >1.000000</td>\n",
              "                        <td id=\"T_edf79a46_89b9_11ea_9ca6_0242ac1c0002row3_col4\" class=\"data row3 col4\" >0.290408</td>\n",
              "                        <td id=\"T_edf79a46_89b9_11ea_9ca6_0242ac1c0002row3_col5\" class=\"data row3 col5\" >0.786861</td>\n",
              "            </tr>\n",
              "            <tr>\n",
              "                        <th id=\"T_edf79a46_89b9_11ea_9ca6_0242ac1c0002level0_row4\" class=\"row_heading level0 row4\" >beer_abv</th>\n",
              "                        <td id=\"T_edf79a46_89b9_11ea_9ca6_0242ac1c0002row4_col0\" class=\"data row4 col0\" >0.263506</td>\n",
              "                        <td id=\"T_edf79a46_89b9_11ea_9ca6_0242ac1c0002row4_col1\" class=\"data row4 col1\" >0.332199</td>\n",
              "                        <td id=\"T_edf79a46_89b9_11ea_9ca6_0242ac1c0002row4_col2\" class=\"data row4 col2\" >0.286033</td>\n",
              "                        <td id=\"T_edf79a46_89b9_11ea_9ca6_0242ac1c0002row4_col3\" class=\"data row4 col3\" >0.290408</td>\n",
              "                        <td id=\"T_edf79a46_89b9_11ea_9ca6_0242ac1c0002row4_col4\" class=\"data row4 col4\" >1.000000</td>\n",
              "                        <td id=\"T_edf79a46_89b9_11ea_9ca6_0242ac1c0002row4_col5\" class=\"data row4 col5\" >0.137761</td>\n",
              "            </tr>\n",
              "            <tr>\n",
              "                        <th id=\"T_edf79a46_89b9_11ea_9ca6_0242ac1c0002level0_row5\" class=\"row_heading level0 row5\" >review_overall</th>\n",
              "                        <td id=\"T_edf79a46_89b9_11ea_9ca6_0242ac1c0002row5_col0\" class=\"data row5 col0\" >0.498015</td>\n",
              "                        <td id=\"T_edf79a46_89b9_11ea_9ca6_0242ac1c0002row5_col1\" class=\"data row5 col1\" >0.612110</td>\n",
              "                        <td id=\"T_edf79a46_89b9_11ea_9ca6_0242ac1c0002row5_col2\" class=\"data row5 col2\" >0.698476</td>\n",
              "                        <td id=\"T_edf79a46_89b9_11ea_9ca6_0242ac1c0002row5_col3\" class=\"data row5 col3\" >0.786861</td>\n",
              "                        <td id=\"T_edf79a46_89b9_11ea_9ca6_0242ac1c0002row5_col4\" class=\"data row5 col4\" >0.137761</td>\n",
              "                        <td id=\"T_edf79a46_89b9_11ea_9ca6_0242ac1c0002row5_col5\" class=\"data row5 col5\" >1.000000</td>\n",
              "            </tr>\n",
              "    </tbody></table>"
            ],
            "text/plain": [
              "<pandas.io.formats.style.Styler at 0x7f9e5659ec50>"
            ]
          },
          "metadata": {
            "tags": []
          },
          "execution_count": 13
        }
      ]
    },
    {
      "cell_type": "markdown",
      "metadata": {
        "id": "kBKcT0VhrMP-",
        "colab_type": "text"
      },
      "source": [
        "Let's see how many beers are ranked as a '5' in 'review_overall'. 5 is the highest ranked overall score in our data set."
      ]
    },
    {
      "cell_type": "code",
      "metadata": {
        "id": "QWhbOBJqqO2n",
        "colab_type": "code",
        "outputId": "987da0cd-bcd5-408c-a6ac-324d552b7ed0",
        "colab": {
          "base_uri": "https://localhost:8080/",
          "height": 289
        }
      },
      "source": [
        "beers[beers['review_overall'] == 5].count()"
      ],
      "execution_count": 0,
      "outputs": [
        {
          "output_type": "execute_result",
          "data": {
            "text/plain": [
              "brewery_id            87863\n",
              "brewery_name          87863\n",
              "review_time           87863\n",
              "review_overall        87863\n",
              "review_aroma          87863\n",
              "review_appearance     87863\n",
              "review_profilename    87863\n",
              "beer_style            87863\n",
              "review_palate         87863\n",
              "review_taste          87863\n",
              "beer_name             87863\n",
              "beer_abv              87863\n",
              "beer_beerid           87863\n",
              "review_avg            84906\n",
              "review_diff           84906\n",
              "dtype: int64"
            ]
          },
          "metadata": {
            "tags": []
          },
          "execution_count": 14
        }
      ]
    },
    {
      "cell_type": "markdown",
      "metadata": {
        "id": "w-21t6IHlQIf",
        "colab_type": "text"
      },
      "source": [
        "Too many beers are ranked 5 overall, making this parameter on its own useless. "
      ]
    },
    {
      "cell_type": "markdown",
      "metadata": {
        "id": "HPkzesOKng1o",
        "colab_type": "text"
      },
      "source": [
        "### Conclusion from Preliminary Analysis"
      ]
    },
    {
      "cell_type": "markdown",
      "metadata": {
        "id": "9H74uNJFn1Va",
        "colab_type": "text"
      },
      "source": [
        "From our preliminary analysis we can determine that:\n",
        "1. There aren't clear relationships among the above features because they are transactional data.\n",
        "2. Aroma, palate and taste seem to be the major drivers for 'review_overall'.\n",
        "3. It is difficult to conclude what are the \"best\" beers since there are so many beers with the rating '5', which is the highest number rating. \\\n",
        "\n",
        "Therefore, we can conclude that:\n",
        "\n",
        "1. Linear regression cannot be used to solve our problem or reach our goal because no linear relationships were found.\n",
        "2. Other supervised learning tools are less likely to help us because we cannot know how to supervise these models.\n",
        "3. **Unsupervised learning** is our only choice to make predictions from this data set.\n",
        "\n",
        "\n",
        "Due to our conslusions, we will try to cluster both the beers and the consumers and see if we can pair up the results. "
      ]
    },
    {
      "cell_type": "markdown",
      "metadata": {
        "id": "XYqkCb7Bi_vO",
        "colab_type": "text"
      },
      "source": [
        "## Prepare the data for clustering"
      ]
    },
    {
      "cell_type": "markdown",
      "metadata": {
        "id": "_W1UvX6Gsl8S",
        "colab_type": "text"
      },
      "source": [
        "The data is **transactional** data collected from 'BeerAdvocates', meaning different beers can be reviewed by different people, and people can review multiple beers. Therefore, this data isn't on either beer level or consumer level. \n",
        "\n",
        "In other words, **each row does not represent information of each unique beer or each unique consumer** (review_profilename). \\\n",
        "\\\n",
        "Therefore, **data aggregation** is required to group data to individual beer/consumer level before clustering.\\\n",
        "\\\n",
        "This project considers only **review information** for attributes, since these review attributes are what defines the beers. This project **ignores the \"actual\" and non-subjective attributes of beers**, being information of breweries and ABV. "
      ]
    },
    {
      "cell_type": "markdown",
      "metadata": {
        "id": "acdN2XW0i_vQ",
        "colab_type": "text"
      },
      "source": [
        "### Aggregate on Beer Level"
      ]
    },
    {
      "cell_type": "code",
      "metadata": {
        "id": "vSczYyPFi_vV",
        "colab_type": "code",
        "outputId": "ab2edb40-f8e9-4387-9de7-65a145246ee0",
        "colab": {
          "base_uri": "https://localhost:8080/",
          "height": 204
        }
      },
      "source": [
        "# Consolidate data on beer level for clustering of beers\n",
        "d = {'review_aroma': 'mean', 'review_appearance': 'mean',\n",
        "     'review_palate': 'mean','review_taste': 'mean',\n",
        "    'review_overall':'mean','review_profilename':'nunique', 'beer_abv':'mean'}\n",
        "beer = beers.groupby('beer_beerid').agg(d).reset_index()\n",
        "beer.head()"
      ],
      "execution_count": 0,
      "outputs": [
        {
          "output_type": "execute_result",
          "data": {
            "text/html": [
              "<div>\n",
              "<style scoped>\n",
              "    .dataframe tbody tr th:only-of-type {\n",
              "        vertical-align: middle;\n",
              "    }\n",
              "\n",
              "    .dataframe tbody tr th {\n",
              "        vertical-align: top;\n",
              "    }\n",
              "\n",
              "    .dataframe thead th {\n",
              "        text-align: right;\n",
              "    }\n",
              "</style>\n",
              "<table border=\"1\" class=\"dataframe\">\n",
              "  <thead>\n",
              "    <tr style=\"text-align: right;\">\n",
              "      <th></th>\n",
              "      <th>beer_beerid</th>\n",
              "      <th>review_aroma</th>\n",
              "      <th>review_appearance</th>\n",
              "      <th>review_palate</th>\n",
              "      <th>review_taste</th>\n",
              "      <th>review_overall</th>\n",
              "      <th>review_profilename</th>\n",
              "      <th>beer_abv</th>\n",
              "    </tr>\n",
              "  </thead>\n",
              "  <tbody>\n",
              "    <tr>\n",
              "      <th>0</th>\n",
              "      <td>5</td>\n",
              "      <td>3.216216</td>\n",
              "      <td>3.486486</td>\n",
              "      <td>3.331695</td>\n",
              "      <td>3.355037</td>\n",
              "      <td>3.567568</td>\n",
              "      <td>407</td>\n",
              "      <td>4.5</td>\n",
              "    </tr>\n",
              "    <tr>\n",
              "      <th>1</th>\n",
              "      <td>6</td>\n",
              "      <td>3.516705</td>\n",
              "      <td>3.838134</td>\n",
              "      <td>3.514401</td>\n",
              "      <td>3.644009</td>\n",
              "      <td>3.709677</td>\n",
              "      <td>868</td>\n",
              "      <td>5.6</td>\n",
              "    </tr>\n",
              "    <tr>\n",
              "      <th>2</th>\n",
              "      <td>7</td>\n",
              "      <td>3.177370</td>\n",
              "      <td>3.251529</td>\n",
              "      <td>3.110856</td>\n",
              "      <td>3.102446</td>\n",
              "      <td>3.270642</td>\n",
              "      <td>654</td>\n",
              "      <td>4.2</td>\n",
              "    </tr>\n",
              "    <tr>\n",
              "      <th>3</th>\n",
              "      <td>8</td>\n",
              "      <td>3.074627</td>\n",
              "      <td>3.291045</td>\n",
              "      <td>3.298507</td>\n",
              "      <td>3.231343</td>\n",
              "      <td>3.641791</td>\n",
              "      <td>67</td>\n",
              "      <td>4.2</td>\n",
              "    </tr>\n",
              "    <tr>\n",
              "      <th>4</th>\n",
              "      <td>9</td>\n",
              "      <td>2.853448</td>\n",
              "      <td>3.051724</td>\n",
              "      <td>3.103448</td>\n",
              "      <td>3.043103</td>\n",
              "      <td>3.400862</td>\n",
              "      <td>116</td>\n",
              "      <td>4.2</td>\n",
              "    </tr>\n",
              "  </tbody>\n",
              "</table>\n",
              "</div>"
            ],
            "text/plain": [
              "   beer_beerid  review_aroma  ...  review_profilename  beer_abv\n",
              "0            5      3.216216  ...                 407       4.5\n",
              "1            6      3.516705  ...                 868       5.6\n",
              "2            7      3.177370  ...                 654       4.2\n",
              "3            8      3.074627  ...                  67       4.2\n",
              "4            9      2.853448  ...                 116       4.2\n",
              "\n",
              "[5 rows x 8 columns]"
            ]
          },
          "metadata": {
            "tags": []
          },
          "execution_count": 15
        }
      ]
    },
    {
      "cell_type": "markdown",
      "metadata": {
        "id": "nzw6jVzLlci-",
        "colab_type": "text"
      },
      "source": [
        "We use ['review_profilename':'nunique'] to count how many reviews are given for each beer. However, keeping the name 'review_profilename' can be misleading, so we are changing the column to name 'reviews'. "
      ]
    },
    {
      "cell_type": "code",
      "metadata": {
        "id": "i6cwoG46lwbt",
        "colab_type": "code",
        "colab": {}
      },
      "source": [
        "beer = beer.rename(columns={'review_profilename': 'reviews'})"
      ],
      "execution_count": 0,
      "outputs": []
    },
    {
      "cell_type": "markdown",
      "metadata": {
        "id": "kcxX3laCi_vZ",
        "colab_type": "text"
      },
      "source": [
        "## Clustering on beer"
      ]
    },
    {
      "cell_type": "markdown",
      "metadata": {
        "id": "WSdKAtRFt7vJ",
        "colab_type": "text"
      },
      "source": [
        "#### We have prepared functions to beging clustering our beer data below:"
      ]
    },
    {
      "cell_type": "code",
      "metadata": {
        "id": "k_oFrnmRi_va",
        "colab_type": "code",
        "colab": {}
      },
      "source": [
        "# Function to standardise the variables.\n",
        "def my_scaler(x):\n",
        "    \"\"\"standardize the predictors\"\"\"\n",
        "    new_x = pd.DataFrame(scale(x, axis=0, with_mean=True, with_std=True, copy=True))\n",
        "    new_x.columns = x.columns\n",
        "    return new_x"
      ],
      "execution_count": 0,
      "outputs": []
    },
    {
      "cell_type": "code",
      "metadata": {
        "id": "OMyOuCT0i_vd",
        "colab_type": "code",
        "colab": {}
      },
      "source": [
        "# An user-friendly version of Clustering function\n",
        "def fit_model(customer_feature_df, cluster_number, max_iter, random_state=None):\n",
        "    \"\"\"fit K-Means mixture model using the created features\"\"\"\n",
        "    temp_df = customer_feature_df.copy()\n",
        "    # Fit a KMeans model\n",
        "    clf = KMeans(n_clusters=cluster_number, max_iter=max_iter, random_state=random_state).fit(temp_df)\n",
        "    temp_df['cluster'] = clf.predict(temp_df)\n",
        "    return temp_df"
      ],
      "execution_count": 0,
      "outputs": []
    },
    {
      "cell_type": "code",
      "metadata": {
        "id": "qeNKZlXGi_vg",
        "colab_type": "code",
        "colab": {}
      },
      "source": [
        "# A tool to plot the result\n",
        "def plot_cluster_facet(df, cluster_colname, col_wrap=4):\n",
        "    \"\"\"plot guitar tab plot for a single cluster\"\"\"\n",
        "    sns.set(style=\"whitegrid\")\n",
        "    # \"Melt\" the dataset to \"long-form\" or \"tidy\" representation\n",
        "    melt_df = pd.melt(df, cluster_colname, var_name=\"measurement\")\n",
        "    # Show the conditional means\n",
        "    g = sns.factorplot(x=\"value\", y=\"measurement\",\n",
        "                       col=\"cluster\",  col_wrap=col_wrap, \n",
        "                       data=melt_df, kind=\"point\",\n",
        "                       dodge=False,\n",
        "                       size=4, aspect=.7);        \n"
      ],
      "execution_count": 0,
      "outputs": []
    },
    {
      "cell_type": "code",
      "metadata": {
        "id": "1yKi837ti_vi",
        "colab_type": "code",
        "colab": {}
      },
      "source": [
        "# A function to write back information to the original file\n",
        "def output_file_noscale(cluster_df_output, original_multi_df):\n",
        "    \"\"\"Get average ratings and review times for all clusters\"\"\"\n",
        "\n",
        "    cluster_df_output['beer_beerid'] = original_multi_df['beer_beerid']\n",
        "    df_result = pd.merge(original_multi_df, cluster_df_output[['beer_beerid', 'cluster']], on='beer_beerid',\n",
        "                                  how='inner')\n",
        "    df_result = df_result.groupby(['cluster']).mean()\n",
        "\n",
        "    return df_result"
      ],
      "execution_count": 0,
      "outputs": []
    },
    {
      "cell_type": "markdown",
      "metadata": {
        "id": "ChWmjI1rwiq7",
        "colab_type": "text"
      },
      "source": [
        "#### Preparations before clustering"
      ]
    },
    {
      "cell_type": "code",
      "metadata": {
        "id": "6yRJLiBsi_vo",
        "colab_type": "code",
        "colab": {}
      },
      "source": [
        "# Standardize the features\n",
        "feature_df = my_scaler(beer.loc[:, ~beer.columns.isin(['beer_beerid'])])"
      ],
      "execution_count": 0,
      "outputs": []
    },
    {
      "cell_type": "code",
      "metadata": {
        "id": "xGk2z4Asi_vq",
        "colab_type": "code",
        "outputId": "8991cce4-5fbc-4b97-90ad-6b1b83dc2dbb",
        "colab": {
          "base_uri": "https://localhost:8080/",
          "height": 204
        }
      },
      "source": [
        "feature_df.head()"
      ],
      "execution_count": 0,
      "outputs": [
        {
          "output_type": "execute_result",
          "data": {
            "text/html": [
              "<div>\n",
              "<style scoped>\n",
              "    .dataframe tbody tr th:only-of-type {\n",
              "        vertical-align: middle;\n",
              "    }\n",
              "\n",
              "    .dataframe tbody tr th {\n",
              "        vertical-align: top;\n",
              "    }\n",
              "\n",
              "    .dataframe thead th {\n",
              "        text-align: right;\n",
              "    }\n",
              "</style>\n",
              "<table border=\"1\" class=\"dataframe\">\n",
              "  <thead>\n",
              "    <tr style=\"text-align: right;\">\n",
              "      <th></th>\n",
              "      <th>review_aroma</th>\n",
              "      <th>review_appearance</th>\n",
              "      <th>review_palate</th>\n",
              "      <th>review_taste</th>\n",
              "      <th>review_overall</th>\n",
              "      <th>reviews</th>\n",
              "      <th>beer_abv</th>\n",
              "    </tr>\n",
              "  </thead>\n",
              "  <tbody>\n",
              "    <tr>\n",
              "      <th>0</th>\n",
              "      <td>-0.601685</td>\n",
              "      <td>-0.413791</td>\n",
              "      <td>-0.443818</td>\n",
              "      <td>-0.416485</td>\n",
              "      <td>-0.154783</td>\n",
              "      <td>2.982910</td>\n",
              "      <td>-0.864915</td>\n",
              "    </tr>\n",
              "    <tr>\n",
              "      <th>1</th>\n",
              "      <td>-0.088450</td>\n",
              "      <td>0.284524</td>\n",
              "      <td>-0.126248</td>\n",
              "      <td>0.047994</td>\n",
              "      <td>0.076686</td>\n",
              "      <td>6.637939</td>\n",
              "      <td>-0.329292</td>\n",
              "    </tr>\n",
              "    <tr>\n",
              "      <th>2</th>\n",
              "      <td>-0.668034</td>\n",
              "      <td>-0.880379</td>\n",
              "      <td>-0.827668</td>\n",
              "      <td>-0.822485</td>\n",
              "      <td>-0.638417</td>\n",
              "      <td>4.941244</td>\n",
              "      <td>-1.010994</td>\n",
              "    </tr>\n",
              "    <tr>\n",
              "      <th>3</th>\n",
              "      <td>-0.843519</td>\n",
              "      <td>-0.801907</td>\n",
              "      <td>-0.501503</td>\n",
              "      <td>-0.615303</td>\n",
              "      <td>-0.033888</td>\n",
              "      <td>0.287227</td>\n",
              "      <td>-1.010994</td>\n",
              "    </tr>\n",
              "    <tr>\n",
              "      <th>4</th>\n",
              "      <td>-1.221292</td>\n",
              "      <td>-1.277160</td>\n",
              "      <td>-0.840545</td>\n",
              "      <td>-0.917870</td>\n",
              "      <td>-0.426314</td>\n",
              "      <td>0.675723</td>\n",
              "      <td>-1.010994</td>\n",
              "    </tr>\n",
              "  </tbody>\n",
              "</table>\n",
              "</div>"
            ],
            "text/plain": [
              "   review_aroma  review_appearance  ...   reviews  beer_abv\n",
              "0     -0.601685          -0.413791  ...  2.982910 -0.864915\n",
              "1     -0.088450           0.284524  ...  6.637939 -0.329292\n",
              "2     -0.668034          -0.880379  ...  4.941244 -1.010994\n",
              "3     -0.843519          -0.801907  ...  0.287227 -1.010994\n",
              "4     -1.221292          -1.277160  ...  0.675723 -1.010994\n",
              "\n",
              "[5 rows x 7 columns]"
            ]
          },
          "metadata": {
            "tags": []
          },
          "execution_count": 27
        }
      ]
    },
    {
      "cell_type": "code",
      "metadata": {
        "id": "ovxHQksYi_vt",
        "colab_type": "code",
        "outputId": "a2da0610-44c8-4918-d994-b7dedae5c937",
        "colab": {
          "base_uri": "https://localhost:8080/",
          "height": 283
        }
      },
      "source": [
        "# Scree plot to determine how many clusters should be produced\n",
        "sse={}\n",
        "for k in range(2, 10):\n",
        "    kmeans = KMeans(n_clusters=k, max_iter=1000,random_state=833).fit(feature_df)\n",
        "    feature_df[\"clusters\"] = kmeans.labels_\n",
        "    sse[k] = kmeans.inertia_ \n",
        "plt.figure()\n",
        "plt.plot(list(sse.keys()), list(sse.values()))\n",
        "plt.xlabel(\"Number of cluster\")\n",
        "plt.show()"
      ],
      "execution_count": 0,
      "outputs": [
        {
          "output_type": "display_data",
          "data": {
            "image/png": "[encoded data removed]",
            "text/plain": [
              "<Figure size 432x288 with 1 Axes>"
            ]
          },
          "metadata": {
            "tags": [],
            "needs_background": "light"
          }
        }
      ]
    },
    {
      "cell_type": "markdown",
      "metadata": {
        "id": "DeksaDc5wzmm",
        "colab_type": "text"
      },
      "source": [
        "The rule of thumb for understanding a **Scree plot** is to see where the '**elbow**' is in the graph. In our case, the elbow is '4', meaning **the tool suggests we make 4 clusters**.\\\n",
        "\\\n",
        "In general, **the fewer the clusters, the more interpretable the clusters are** because the patterns and reasons behind the algorithm can better be explained. \\\n",
        "\\\n",
        "If there are too many clusters produced, then all significant meaning is lost. "
      ]
    },
    {
      "cell_type": "code",
      "metadata": {
        "id": "L6P484HQi_vv",
        "colab_type": "code",
        "colab": {}
      },
      "source": [
        "# Drop the clusters from previous test\n",
        "feature_df = feature_df.drop(\"clusters\",axis=1)"
      ],
      "execution_count": 0,
      "outputs": []
    },
    {
      "cell_type": "markdown",
      "metadata": {
        "id": "cZTN50tOycXd",
        "colab_type": "text"
      },
      "source": [
        "#### Fit Model - Build 4 clusters based on the scree plot\n",
        "\n",
        "\n"
      ]
    },
    {
      "cell_type": "code",
      "metadata": {
        "id": "9LDa1RpEi_v0",
        "colab_type": "code",
        "colab": {}
      },
      "source": [
        "# Use the tool previously designed for clustering\n",
        "beer_cluster = fit_model(feature_df, 4, 1000, 833)"
      ],
      "execution_count": 0,
      "outputs": []
    },
    {
      "cell_type": "code",
      "metadata": {
        "id": "MyCdGeAbi_v1",
        "colab_type": "code",
        "outputId": "2b077e2e-3f1d-499a-ac0d-632991436021",
        "colab": {
          "base_uri": "https://localhost:8080/",
          "height": 102
        }
      },
      "source": [
        "# See how many beers there are in each cluster\n",
        "beer_cluster.cluster.value_counts()"
      ],
      "execution_count": 0,
      "outputs": [
        {
          "output_type": "execute_result",
          "data": {
            "text/plain": [
              "2    21366\n",
              "0    20313\n",
              "1     6280\n",
              "3      598\n",
              "Name: cluster, dtype: int64"
            ]
          },
          "metadata": {
            "tags": []
          },
          "execution_count": 31
        }
      ]
    },
    {
      "cell_type": "markdown",
      "metadata": {
        "id": "wgCR-uMOzSgs",
        "colab_type": "text"
      },
      "source": [
        "#### Explain the model"
      ]
    },
    {
      "cell_type": "markdown",
      "metadata": {
        "id": "OtmAVMsX1ixB",
        "colab_type": "text"
      },
      "source": [
        "The below graph illustrates the uniqueness of each beer segment. The result shows how the aggregated attributes compare to the mean values of the dataset in each segment. We can see:\\\n",
        "\\\n",
        "**Cluster 0**: This cluster was reviewed significantly more than average by consumers, but yields very low attribute scores across all categories. Therefore, this cluster will be named '**Normal Beer**'.\n",
        "\\\n",
        "\\\n",
        "**Cluster 1**: This cluster was reviewed by a decent number of consumers but less than Cluster 0, but yields relatively poor result across all descriptive categories. Therefore, it will be named as ' **Bad Beer**'.\n",
        "\\\n",
        "\\\n",
        "**Cluster 2**: This cluster was reviewed by a small number of consumers, but yields great results across all descriptive categories. Therefore, it will be named '**Niche Beer**'.\n",
        "\\\n",
        "\\\n",
        "**Cluster 3**: In this cluster, all contributing attributes yield great results. Therefore, this cluster will be named, '**Popular Beer**'."
      ]
    },
    {
      "cell_type": "code",
      "metadata": {
        "id": "nvZm-Ir0i_v3",
        "colab_type": "code",
        "outputId": "9758140b-79c8-4de0-db7e-f85bc7260412",
        "colab": {
          "base_uri": "https://localhost:8080/",
          "height": 581
        }
      },
      "source": [
        "plot_cluster_facet(beer_cluster, 'cluster', col_wrap=3)"
      ],
      "execution_count": 0,
      "outputs": [
        {
          "output_type": "display_data",
          "data": {
            "image/png": "[encoded data removed]",
            "text/plain": [
              "<Figure size 604.8x576 with 4 Axes>"
            ]
          },
          "metadata": {
            "tags": []
          }
        }
      ]
    },
    {
      "cell_type": "code",
      "metadata": {
        "id": "nTv4NdBPi_v4",
        "colab_type": "code",
        "colab": {}
      },
      "source": [
        "beer_cluster_result =output_file_noscale(beer_cluster, beer)\n",
        "beer_cluster_result = beer_cluster_result.iloc[:,1:]"
      ],
      "execution_count": 0,
      "outputs": []
    },
    {
      "cell_type": "code",
      "metadata": {
        "id": "DFzdw5w2i_v6",
        "colab_type": "code",
        "outputId": "9bfeb1e2-9b6b-43e2-c870-93370639262d",
        "colab": {
          "base_uri": "https://localhost:8080/",
          "height": 204
        }
      },
      "source": [
        "# Display results in table, so we can see the aggregated differences of each segments. \n",
        "beer_cluster_result"
      ],
      "execution_count": 0,
      "outputs": [
        {
          "output_type": "execute_result",
          "data": {
            "text/html": [
              "<div>\n",
              "<style scoped>\n",
              "    .dataframe tbody tr th:only-of-type {\n",
              "        vertical-align: middle;\n",
              "    }\n",
              "\n",
              "    .dataframe tbody tr th {\n",
              "        vertical-align: top;\n",
              "    }\n",
              "\n",
              "    .dataframe thead th {\n",
              "        text-align: right;\n",
              "    }\n",
              "</style>\n",
              "<table border=\"1\" class=\"dataframe\">\n",
              "  <thead>\n",
              "    <tr style=\"text-align: right;\">\n",
              "      <th></th>\n",
              "      <th>review_aroma</th>\n",
              "      <th>review_appearance</th>\n",
              "      <th>review_palate</th>\n",
              "      <th>review_taste</th>\n",
              "      <th>review_overall</th>\n",
              "      <th>reviews</th>\n",
              "      <th>beer_abv</th>\n",
              "    </tr>\n",
              "    <tr>\n",
              "      <th>cluster</th>\n",
              "      <th></th>\n",
              "      <th></th>\n",
              "      <th></th>\n",
              "      <th></th>\n",
              "      <th></th>\n",
              "      <th></th>\n",
              "      <th></th>\n",
              "    </tr>\n",
              "  </thead>\n",
              "  <tbody>\n",
              "    <tr>\n",
              "      <th>0</th>\n",
              "      <td>3.435496</td>\n",
              "      <td>3.604806</td>\n",
              "      <td>3.458824</td>\n",
              "      <td>3.476502</td>\n",
              "      <td>3.553580</td>\n",
              "      <td>17.939398</td>\n",
              "      <td>5.563285</td>\n",
              "    </tr>\n",
              "    <tr>\n",
              "      <th>1</th>\n",
              "      <td>2.550362</td>\n",
              "      <td>2.902204</td>\n",
              "      <td>2.576318</td>\n",
              "      <td>2.468572</td>\n",
              "      <td>2.550549</td>\n",
              "      <td>11.273248</td>\n",
              "      <td>5.253916</td>\n",
              "    </tr>\n",
              "    <tr>\n",
              "      <th>2</th>\n",
              "      <td>3.986057</td>\n",
              "      <td>4.006232</td>\n",
              "      <td>3.998177</td>\n",
              "      <td>4.072780</td>\n",
              "      <td>4.085723</td>\n",
              "      <td>23.330057</td>\n",
              "      <td>7.223556</td>\n",
              "    </tr>\n",
              "    <tr>\n",
              "      <th>3</th>\n",
              "      <td>3.858877</td>\n",
              "      <td>3.952818</td>\n",
              "      <td>3.866609</td>\n",
              "      <td>3.933830</td>\n",
              "      <td>3.926119</td>\n",
              "      <td>937.392977</td>\n",
              "      <td>7.385100</td>\n",
              "    </tr>\n",
              "  </tbody>\n",
              "</table>\n",
              "</div>"
            ],
            "text/plain": [
              "         review_aroma  review_appearance  ...     reviews  beer_abv\n",
              "cluster                                   ...                      \n",
              "0            3.435496           3.604806  ...   17.939398  5.563285\n",
              "1            2.550362           2.902204  ...   11.273248  5.253916\n",
              "2            3.986057           4.006232  ...   23.330057  7.223556\n",
              "3            3.858877           3.952818  ...  937.392977  7.385100\n",
              "\n",
              "[4 rows x 7 columns]"
            ]
          },
          "metadata": {
            "tags": []
          },
          "execution_count": 34
        }
      ]
    },
    {
      "cell_type": "markdown",
      "metadata": {
        "id": "iT18tSDWi_v-",
        "colab_type": "text"
      },
      "source": [
        "#### Merge back to the aggregated data"
      ]
    },
    {
      "cell_type": "code",
      "metadata": {
        "id": "PIQK9tnm4LfK",
        "colab_type": "code",
        "outputId": "6dcd95ab-98a2-4824-8a95-5f8ecf7a413c",
        "colab": {
          "base_uri": "https://localhost:8080/",
          "height": 204
        }
      },
      "source": [
        "beer_cluster.head()"
      ],
      "execution_count": 0,
      "outputs": [
        {
          "output_type": "execute_result",
          "data": {
            "text/html": [
              "<div>\n",
              "<style scoped>\n",
              "    .dataframe tbody tr th:only-of-type {\n",
              "        vertical-align: middle;\n",
              "    }\n",
              "\n",
              "    .dataframe tbody tr th {\n",
              "        vertical-align: top;\n",
              "    }\n",
              "\n",
              "    .dataframe thead th {\n",
              "        text-align: right;\n",
              "    }\n",
              "</style>\n",
              "<table border=\"1\" class=\"dataframe\">\n",
              "  <thead>\n",
              "    <tr style=\"text-align: right;\">\n",
              "      <th></th>\n",
              "      <th>review_aroma</th>\n",
              "      <th>review_appearance</th>\n",
              "      <th>review_palate</th>\n",
              "      <th>review_taste</th>\n",
              "      <th>review_overall</th>\n",
              "      <th>reviews</th>\n",
              "      <th>beer_abv</th>\n",
              "      <th>cluster</th>\n",
              "      <th>beer_beerid</th>\n",
              "    </tr>\n",
              "  </thead>\n",
              "  <tbody>\n",
              "    <tr>\n",
              "      <th>0</th>\n",
              "      <td>-0.601685</td>\n",
              "      <td>-0.413791</td>\n",
              "      <td>-0.443818</td>\n",
              "      <td>-0.416485</td>\n",
              "      <td>-0.154783</td>\n",
              "      <td>2.982910</td>\n",
              "      <td>-0.864915</td>\n",
              "      <td>0</td>\n",
              "      <td>5</td>\n",
              "    </tr>\n",
              "    <tr>\n",
              "      <th>1</th>\n",
              "      <td>-0.088450</td>\n",
              "      <td>0.284524</td>\n",
              "      <td>-0.126248</td>\n",
              "      <td>0.047994</td>\n",
              "      <td>0.076686</td>\n",
              "      <td>6.637939</td>\n",
              "      <td>-0.329292</td>\n",
              "      <td>3</td>\n",
              "      <td>6</td>\n",
              "    </tr>\n",
              "    <tr>\n",
              "      <th>2</th>\n",
              "      <td>-0.668034</td>\n",
              "      <td>-0.880379</td>\n",
              "      <td>-0.827668</td>\n",
              "      <td>-0.822485</td>\n",
              "      <td>-0.638417</td>\n",
              "      <td>4.941244</td>\n",
              "      <td>-1.010994</td>\n",
              "      <td>3</td>\n",
              "      <td>7</td>\n",
              "    </tr>\n",
              "    <tr>\n",
              "      <th>3</th>\n",
              "      <td>-0.843519</td>\n",
              "      <td>-0.801907</td>\n",
              "      <td>-0.501503</td>\n",
              "      <td>-0.615303</td>\n",
              "      <td>-0.033888</td>\n",
              "      <td>0.287227</td>\n",
              "      <td>-1.010994</td>\n",
              "      <td>0</td>\n",
              "      <td>8</td>\n",
              "    </tr>\n",
              "    <tr>\n",
              "      <th>4</th>\n",
              "      <td>-1.221292</td>\n",
              "      <td>-1.277160</td>\n",
              "      <td>-0.840545</td>\n",
              "      <td>-0.917870</td>\n",
              "      <td>-0.426314</td>\n",
              "      <td>0.675723</td>\n",
              "      <td>-1.010994</td>\n",
              "      <td>0</td>\n",
              "      <td>9</td>\n",
              "    </tr>\n",
              "  </tbody>\n",
              "</table>\n",
              "</div>"
            ],
            "text/plain": [
              "   review_aroma  review_appearance  ...  cluster  beer_beerid\n",
              "0     -0.601685          -0.413791  ...        0            5\n",
              "1     -0.088450           0.284524  ...        3            6\n",
              "2     -0.668034          -0.880379  ...        3            7\n",
              "3     -0.843519          -0.801907  ...        0            8\n",
              "4     -1.221292          -1.277160  ...        0            9\n",
              "\n",
              "[5 rows x 9 columns]"
            ]
          },
          "metadata": {
            "tags": []
          },
          "execution_count": 35
        }
      ]
    },
    {
      "cell_type": "code",
      "metadata": {
        "id": "NM_iQX0A4zO_",
        "colab_type": "code",
        "colab": {}
      },
      "source": [
        "beer_cluster['beer_beerid'] = beer['beer_beerid']"
      ],
      "execution_count": 0,
      "outputs": []
    },
    {
      "cell_type": "code",
      "metadata": {
        "id": "5FBRGdR4i_v_",
        "colab_type": "code",
        "colab": {}
      },
      "source": [
        "original = pd.merge(beer, beer_cluster[['beer_beerid', 'cluster']], on='beer_beerid',how='inner')"
      ],
      "execution_count": 0,
      "outputs": []
    },
    {
      "cell_type": "code",
      "metadata": {
        "id": "dGupV2m0i_wA",
        "colab_type": "code",
        "outputId": "428a5cbf-429e-4070-8a86-21692f35db92",
        "colab": {
          "base_uri": "https://localhost:8080/",
          "height": 204
        }
      },
      "source": [
        "original.head()"
      ],
      "execution_count": 0,
      "outputs": [
        {
          "output_type": "execute_result",
          "data": {
            "text/html": [
              "<div>\n",
              "<style scoped>\n",
              "    .dataframe tbody tr th:only-of-type {\n",
              "        vertical-align: middle;\n",
              "    }\n",
              "\n",
              "    .dataframe tbody tr th {\n",
              "        vertical-align: top;\n",
              "    }\n",
              "\n",
              "    .dataframe thead th {\n",
              "        text-align: right;\n",
              "    }\n",
              "</style>\n",
              "<table border=\"1\" class=\"dataframe\">\n",
              "  <thead>\n",
              "    <tr style=\"text-align: right;\">\n",
              "      <th></th>\n",
              "      <th>beer_beerid</th>\n",
              "      <th>review_aroma</th>\n",
              "      <th>review_appearance</th>\n",
              "      <th>review_palate</th>\n",
              "      <th>review_taste</th>\n",
              "      <th>review_overall</th>\n",
              "      <th>reviews</th>\n",
              "      <th>beer_abv</th>\n",
              "      <th>cluster</th>\n",
              "    </tr>\n",
              "  </thead>\n",
              "  <tbody>\n",
              "    <tr>\n",
              "      <th>0</th>\n",
              "      <td>5</td>\n",
              "      <td>3.216216</td>\n",
              "      <td>3.486486</td>\n",
              "      <td>3.331695</td>\n",
              "      <td>3.355037</td>\n",
              "      <td>3.567568</td>\n",
              "      <td>407</td>\n",
              "      <td>4.5</td>\n",
              "      <td>0</td>\n",
              "    </tr>\n",
              "    <tr>\n",
              "      <th>1</th>\n",
              "      <td>6</td>\n",
              "      <td>3.516705</td>\n",
              "      <td>3.838134</td>\n",
              "      <td>3.514401</td>\n",
              "      <td>3.644009</td>\n",
              "      <td>3.709677</td>\n",
              "      <td>868</td>\n",
              "      <td>5.6</td>\n",
              "      <td>3</td>\n",
              "    </tr>\n",
              "    <tr>\n",
              "      <th>2</th>\n",
              "      <td>7</td>\n",
              "      <td>3.177370</td>\n",
              "      <td>3.251529</td>\n",
              "      <td>3.110856</td>\n",
              "      <td>3.102446</td>\n",
              "      <td>3.270642</td>\n",
              "      <td>654</td>\n",
              "      <td>4.2</td>\n",
              "      <td>3</td>\n",
              "    </tr>\n",
              "    <tr>\n",
              "      <th>3</th>\n",
              "      <td>8</td>\n",
              "      <td>3.074627</td>\n",
              "      <td>3.291045</td>\n",
              "      <td>3.298507</td>\n",
              "      <td>3.231343</td>\n",
              "      <td>3.641791</td>\n",
              "      <td>67</td>\n",
              "      <td>4.2</td>\n",
              "      <td>0</td>\n",
              "    </tr>\n",
              "    <tr>\n",
              "      <th>4</th>\n",
              "      <td>9</td>\n",
              "      <td>2.853448</td>\n",
              "      <td>3.051724</td>\n",
              "      <td>3.103448</td>\n",
              "      <td>3.043103</td>\n",
              "      <td>3.400862</td>\n",
              "      <td>116</td>\n",
              "      <td>4.2</td>\n",
              "      <td>0</td>\n",
              "    </tr>\n",
              "  </tbody>\n",
              "</table>\n",
              "</div>"
            ],
            "text/plain": [
              "   beer_beerid  review_aroma  review_appearance  ...  reviews  beer_abv  cluster\n",
              "0            5      3.216216           3.486486  ...      407       4.5        0\n",
              "1            6      3.516705           3.838134  ...      868       5.6        3\n",
              "2            7      3.177370           3.251529  ...      654       4.2        3\n",
              "3            8      3.074627           3.291045  ...       67       4.2        0\n",
              "4            9      2.853448           3.051724  ...      116       4.2        0\n",
              "\n",
              "[5 rows x 9 columns]"
            ]
          },
          "metadata": {
            "tags": []
          },
          "execution_count": 38
        }
      ]
    },
    {
      "cell_type": "markdown",
      "metadata": {
        "id": "_3EyZkWpptad",
        "colab_type": "text"
      },
      "source": [
        "Rename the clusters based on the conclusions of previous chapter."
      ]
    },
    {
      "cell_type": "code",
      "metadata": {
        "id": "iI009ryvi_wB",
        "colab_type": "code",
        "colab": {}
      },
      "source": [
        "di = {0:'Normal Beer', 1:'Bad Beer', 2:'Niche Beer', 3:'Popular Beer'}\n",
        "original = original.replace({\"cluster\": di})"
      ],
      "execution_count": 0,
      "outputs": []
    },
    {
      "cell_type": "code",
      "metadata": {
        "id": "n_ZJN0SSi_wE",
        "colab_type": "code",
        "outputId": "e00d9f3f-3a0b-4d90-d99a-c6a75b516464",
        "colab": {
          "base_uri": "https://localhost:8080/",
          "height": 176
        }
      },
      "source": [
        "original.head(3)"
      ],
      "execution_count": 0,
      "outputs": [
        {
          "output_type": "execute_result",
          "data": {
            "text/html": [
              "<div>\n",
              "<style scoped>\n",
              "    .dataframe tbody tr th:only-of-type {\n",
              "        vertical-align: middle;\n",
              "    }\n",
              "\n",
              "    .dataframe tbody tr th {\n",
              "        vertical-align: top;\n",
              "    }\n",
              "\n",
              "    .dataframe thead th {\n",
              "        text-align: right;\n",
              "    }\n",
              "</style>\n",
              "<table border=\"1\" class=\"dataframe\">\n",
              "  <thead>\n",
              "    <tr style=\"text-align: right;\">\n",
              "      <th></th>\n",
              "      <th>beer_beerid</th>\n",
              "      <th>review_aroma</th>\n",
              "      <th>review_appearance</th>\n",
              "      <th>review_palate</th>\n",
              "      <th>review_taste</th>\n",
              "      <th>review_overall</th>\n",
              "      <th>reviews</th>\n",
              "      <th>beer_abv</th>\n",
              "      <th>cluster</th>\n",
              "    </tr>\n",
              "  </thead>\n",
              "  <tbody>\n",
              "    <tr>\n",
              "      <th>0</th>\n",
              "      <td>5</td>\n",
              "      <td>3.216216</td>\n",
              "      <td>3.486486</td>\n",
              "      <td>3.331695</td>\n",
              "      <td>3.355037</td>\n",
              "      <td>3.567568</td>\n",
              "      <td>407</td>\n",
              "      <td>4.5</td>\n",
              "      <td>Normal Beer</td>\n",
              "    </tr>\n",
              "    <tr>\n",
              "      <th>1</th>\n",
              "      <td>6</td>\n",
              "      <td>3.516705</td>\n",
              "      <td>3.838134</td>\n",
              "      <td>3.514401</td>\n",
              "      <td>3.644009</td>\n",
              "      <td>3.709677</td>\n",
              "      <td>868</td>\n",
              "      <td>5.6</td>\n",
              "      <td>Popular Beer</td>\n",
              "    </tr>\n",
              "    <tr>\n",
              "      <th>2</th>\n",
              "      <td>7</td>\n",
              "      <td>3.177370</td>\n",
              "      <td>3.251529</td>\n",
              "      <td>3.110856</td>\n",
              "      <td>3.102446</td>\n",
              "      <td>3.270642</td>\n",
              "      <td>654</td>\n",
              "      <td>4.2</td>\n",
              "      <td>Popular Beer</td>\n",
              "    </tr>\n",
              "  </tbody>\n",
              "</table>\n",
              "</div>"
            ],
            "text/plain": [
              "   beer_beerid  review_aroma  ...  beer_abv       cluster\n",
              "0            5      3.216216  ...       4.5   Normal Beer\n",
              "1            6      3.516705  ...       5.6  Popular Beer\n",
              "2            7      3.177370  ...       4.2  Popular Beer\n",
              "\n",
              "[3 rows x 9 columns]"
            ]
          },
          "metadata": {
            "tags": []
          },
          "execution_count": 43
        }
      ]
    },
    {
      "cell_type": "code",
      "metadata": {
        "id": "xL3JV_yGi_wG",
        "colab_type": "code",
        "colab": {}
      },
      "source": [
        "# Save the result\n",
        "beer_result = original[['beer_beerid','cluster']]"
      ],
      "execution_count": 0,
      "outputs": []
    },
    {
      "cell_type": "markdown",
      "metadata": {
        "id": "fJB2ZCG-nCjs",
        "colab_type": "text"
      },
      "source": [
        "Now that we have clustered the beers, we wanted to get some examples of which beers names are in their respective segments."
      ]
    },
    {
      "cell_type": "code",
      "metadata": {
        "id": "KZMeqg2enLyq",
        "colab_type": "code",
        "outputId": "4ee94ac3-b631-4de2-9969-c2aca3797578",
        "colab": {
          "base_uri": "https://localhost:8080/",
          "height": 85
        }
      },
      "source": [
        "popular_beer = beers[beers['beer_beerid'] ==6]['beer_name'].unique()\n",
        "normal_beer = beers[beers['beer_beerid'] ==5]['beer_name'].unique()\n",
        "niche_beer = beers[beers['beer_beerid'] ==20]['beer_name'].unique()\n",
        "bad_beer = beers[beers['beer_beerid'] ==29]['beer_name'].unique()\n",
        "print('Popular Beer:'+ str(popular_beer), '\\nNormal Beer:'+ str(normal_beer), '\\nNiche Beer:'+ str(niche_beer), '\\nBad Beer:'+ str(bad_beer))"
      ],
      "execution_count": 0,
      "outputs": [
        {
          "output_type": "stream",
          "text": [
            "Popular Beer:['Turbodog'] \n",
            "Normal Beer:['Amber'] \n",
            "Niche Beer:['Old Izaak'] \n",
            "Bad Beer:[\"Peter's Brand Pilsner Beer\"]\n"
          ],
          "name": "stdout"
        }
      ]
    },
    {
      "cell_type": "markdown",
      "metadata": {
        "id": "dpCLyX0l56Du",
        "colab_type": "text"
      },
      "source": [
        "## Clustering Consumers"
      ]
    },
    {
      "cell_type": "markdown",
      "metadata": {
        "id": "IqbYe3D56AnX",
        "colab_type": "text"
      },
      "source": [
        "Since we  now understand the differences in beer segments, we now need to segment **consumers** based on their preferences in order to be able to make recommendations based on such segmentation. Again, we will use clustering for this task. "
      ]
    },
    {
      "cell_type": "markdown",
      "metadata": {
        "id": "ihb0bvnCi_wI",
        "colab_type": "text"
      },
      "source": [
        "#### Merge results back to raw data"
      ]
    },
    {
      "cell_type": "markdown",
      "metadata": {
        "id": "PMp2-_I36xA9",
        "colab_type": "text"
      },
      "source": [
        "Firstly, we need to merge the results from beer clustering back to the raw data to understand which newly created segment each individual beer belongs to.  "
      ]
    },
    {
      "cell_type": "code",
      "metadata": {
        "id": "J6bElGl2i_wI",
        "colab_type": "code",
        "colab": {}
      },
      "source": [
        "df = pd.merge(beer_result, beers, on='beer_beerid',how='inner')"
      ],
      "execution_count": 0,
      "outputs": []
    },
    {
      "cell_type": "code",
      "metadata": {
        "id": "dkF8NBtFi_wJ",
        "colab_type": "code",
        "outputId": "121c8abb-6d51-41cf-c047-04cee5602d08",
        "colab": {
          "base_uri": "https://localhost:8080/",
          "height": 309
        }
      },
      "source": [
        "df.head()"
      ],
      "execution_count": 0,
      "outputs": [
        {
          "output_type": "execute_result",
          "data": {
            "text/html": [
              "<div>\n",
              "<style scoped>\n",
              "    .dataframe tbody tr th:only-of-type {\n",
              "        vertical-align: middle;\n",
              "    }\n",
              "\n",
              "    .dataframe tbody tr th {\n",
              "        vertical-align: top;\n",
              "    }\n",
              "\n",
              "    .dataframe thead th {\n",
              "        text-align: right;\n",
              "    }\n",
              "</style>\n",
              "<table border=\"1\" class=\"dataframe\">\n",
              "  <thead>\n",
              "    <tr style=\"text-align: right;\">\n",
              "      <th></th>\n",
              "      <th>beer_beerid</th>\n",
              "      <th>cluster</th>\n",
              "      <th>brewery_id</th>\n",
              "      <th>brewery_name</th>\n",
              "      <th>review_time</th>\n",
              "      <th>review_overall</th>\n",
              "      <th>review_aroma</th>\n",
              "      <th>review_appearance</th>\n",
              "      <th>review_profilename</th>\n",
              "      <th>beer_style</th>\n",
              "      <th>review_palate</th>\n",
              "      <th>review_taste</th>\n",
              "      <th>beer_name</th>\n",
              "      <th>beer_abv</th>\n",
              "      <th>review_avg</th>\n",
              "      <th>review_diff</th>\n",
              "    </tr>\n",
              "  </thead>\n",
              "  <tbody>\n",
              "    <tr>\n",
              "      <th>0</th>\n",
              "      <td>5</td>\n",
              "      <td>Normal Beer</td>\n",
              "      <td>3</td>\n",
              "      <td>Abita Brewing Co.</td>\n",
              "      <td>2003-11-29 21:36:06</td>\n",
              "      <td>5.0</td>\n",
              "      <td>3.5</td>\n",
              "      <td>4.5</td>\n",
              "      <td>masterbruewer</td>\n",
              "      <td>Vienna Lager</td>\n",
              "      <td>3.0</td>\n",
              "      <td>4.0</td>\n",
              "      <td>Amber</td>\n",
              "      <td>4.5</td>\n",
              "      <td>3.125</td>\n",
              "      <td>1.875</td>\n",
              "    </tr>\n",
              "    <tr>\n",
              "      <th>1</th>\n",
              "      <td>5</td>\n",
              "      <td>Normal Beer</td>\n",
              "      <td>3</td>\n",
              "      <td>Abita Brewing Co.</td>\n",
              "      <td>2002-07-23 07:57:58</td>\n",
              "      <td>5.0</td>\n",
              "      <td>4.5</td>\n",
              "      <td>4.0</td>\n",
              "      <td>oberon</td>\n",
              "      <td>Vienna Lager</td>\n",
              "      <td>4.0</td>\n",
              "      <td>4.0</td>\n",
              "      <td>Amber</td>\n",
              "      <td>4.5</td>\n",
              "      <td>3.500</td>\n",
              "      <td>1.500</td>\n",
              "    </tr>\n",
              "    <tr>\n",
              "      <th>2</th>\n",
              "      <td>5</td>\n",
              "      <td>Normal Beer</td>\n",
              "      <td>3</td>\n",
              "      <td>Abita Brewing Co.</td>\n",
              "      <td>2010-04-20 14:57:07</td>\n",
              "      <td>5.0</td>\n",
              "      <td>3.0</td>\n",
              "      <td>3.5</td>\n",
              "      <td>junjun</td>\n",
              "      <td>Vienna Lager</td>\n",
              "      <td>4.0</td>\n",
              "      <td>3.5</td>\n",
              "      <td>Amber</td>\n",
              "      <td>4.5</td>\n",
              "      <td>3.250</td>\n",
              "      <td>1.750</td>\n",
              "    </tr>\n",
              "    <tr>\n",
              "      <th>3</th>\n",
              "      <td>5</td>\n",
              "      <td>Normal Beer</td>\n",
              "      <td>3</td>\n",
              "      <td>Abita Brewing Co.</td>\n",
              "      <td>2005-12-16 18:49:57</td>\n",
              "      <td>5.0</td>\n",
              "      <td>3.0</td>\n",
              "      <td>4.0</td>\n",
              "      <td>shbobdb</td>\n",
              "      <td>Vienna Lager</td>\n",
              "      <td>2.0</td>\n",
              "      <td>3.5</td>\n",
              "      <td>Amber</td>\n",
              "      <td>4.5</td>\n",
              "      <td>4.125</td>\n",
              "      <td>0.875</td>\n",
              "    </tr>\n",
              "    <tr>\n",
              "      <th>4</th>\n",
              "      <td>5</td>\n",
              "      <td>Normal Beer</td>\n",
              "      <td>3</td>\n",
              "      <td>Abita Brewing Co.</td>\n",
              "      <td>2006-02-25 18:27:37</td>\n",
              "      <td>5.0</td>\n",
              "      <td>3.0</td>\n",
              "      <td>2.5</td>\n",
              "      <td>scruffwhor</td>\n",
              "      <td>Vienna Lager</td>\n",
              "      <td>4.0</td>\n",
              "      <td>3.5</td>\n",
              "      <td>Amber</td>\n",
              "      <td>4.5</td>\n",
              "      <td>4.250</td>\n",
              "      <td>0.750</td>\n",
              "    </tr>\n",
              "  </tbody>\n",
              "</table>\n",
              "</div>"
            ],
            "text/plain": [
              "   beer_beerid      cluster  brewery_id  ... beer_abv review_avg  review_diff\n",
              "0            5  Normal Beer           3  ...      4.5      3.125        1.875\n",
              "1            5  Normal Beer           3  ...      4.5      3.500        1.500\n",
              "2            5  Normal Beer           3  ...      4.5      3.250        1.750\n",
              "3            5  Normal Beer           3  ...      4.5      4.125        0.875\n",
              "4            5  Normal Beer           3  ...      4.5      4.250        0.750\n",
              "\n",
              "[5 rows x 16 columns]"
            ]
          },
          "metadata": {
            "tags": []
          },
          "execution_count": 59
        }
      ]
    },
    {
      "cell_type": "markdown",
      "metadata": {
        "id": "yiIUhk-Z7AKA",
        "colab_type": "text"
      },
      "source": [
        "#### Preparation before clustering"
      ]
    },
    {
      "cell_type": "markdown",
      "metadata": {
        "id": "u9tjMR-07Wt5",
        "colab_type": "text"
      },
      "source": [
        "Again, we need to groupby the data to individual consumer's level, as previously explained. "
      ]
    },
    {
      "cell_type": "code",
      "metadata": {
        "id": "SjRzISnXi_wL",
        "colab_type": "code",
        "colab": {}
      },
      "source": [
        "users = df.groupby(['review_profilename','cluster'])['review_overall'].mean().reset_index()"
      ],
      "execution_count": 0,
      "outputs": []
    },
    {
      "cell_type": "code",
      "metadata": {
        "id": "TzdG36Qli_wM",
        "colab_type": "code",
        "outputId": "98440672-0222-4094-e938-469539770c7e",
        "colab": {
          "base_uri": "https://localhost:8080/",
          "height": 204
        }
      },
      "source": [
        "users.head()"
      ],
      "execution_count": 0,
      "outputs": [
        {
          "output_type": "execute_result",
          "data": {
            "text/html": [
              "<div>\n",
              "<style scoped>\n",
              "    .dataframe tbody tr th:only-of-type {\n",
              "        vertical-align: middle;\n",
              "    }\n",
              "\n",
              "    .dataframe tbody tr th {\n",
              "        vertical-align: top;\n",
              "    }\n",
              "\n",
              "    .dataframe thead th {\n",
              "        text-align: right;\n",
              "    }\n",
              "</style>\n",
              "<table border=\"1\" class=\"dataframe\">\n",
              "  <thead>\n",
              "    <tr style=\"text-align: right;\">\n",
              "      <th></th>\n",
              "      <th>review_profilename</th>\n",
              "      <th>cluster</th>\n",
              "      <th>review_overall</th>\n",
              "    </tr>\n",
              "  </thead>\n",
              "  <tbody>\n",
              "    <tr>\n",
              "      <th>0</th>\n",
              "      <td>0110x011</td>\n",
              "      <td>Niche Beer</td>\n",
              "      <td>4.091549</td>\n",
              "    </tr>\n",
              "    <tr>\n",
              "      <th>1</th>\n",
              "      <td>0110x011</td>\n",
              "      <td>Normal Beer</td>\n",
              "      <td>4.333333</td>\n",
              "    </tr>\n",
              "    <tr>\n",
              "      <th>2</th>\n",
              "      <td>0110x011</td>\n",
              "      <td>Popular Beer</td>\n",
              "      <td>4.403509</td>\n",
              "    </tr>\n",
              "    <tr>\n",
              "      <th>3</th>\n",
              "      <td>01Ryan10</td>\n",
              "      <td>Niche Beer</td>\n",
              "      <td>5.000000</td>\n",
              "    </tr>\n",
              "    <tr>\n",
              "      <th>4</th>\n",
              "      <td>02maxima</td>\n",
              "      <td>Bad Beer</td>\n",
              "      <td>3.000000</td>\n",
              "    </tr>\n",
              "  </tbody>\n",
              "</table>\n",
              "</div>"
            ],
            "text/plain": [
              "  review_profilename       cluster  review_overall\n",
              "0           0110x011    Niche Beer        4.091549\n",
              "1           0110x011   Normal Beer        4.333333\n",
              "2           0110x011  Popular Beer        4.403509\n",
              "3           01Ryan10    Niche Beer        5.000000\n",
              "4           02maxima      Bad Beer        3.000000"
            ]
          },
          "metadata": {
            "tags": []
          },
          "execution_count": 61
        }
      ]
    },
    {
      "cell_type": "markdown",
      "metadata": {
        "id": "xg8Yey_a7r1O",
        "colab_type": "text"
      },
      "source": [
        "Before clustering, we need to understand whether each consumer has reviewed multiple kinds of beers. If a consumer has not reviewed multiple beers, we have to figure out how to deal with this. By not reviewing this potential situation, we assume the consumer has never tried the beer and therefore has no say in the beer's review.\n",
        "\\\n",
        "\\\n",
        "Therefore, useful data to solve this problem is the consumers who have drank beers from all 4 previously distinguished segments of beers. These reviewers who have reviewed beer from each of the 4 clusters are most reliable and trustworthy for our future recommendations."
      ]
    },
    {
      "cell_type": "code",
      "metadata": {
        "id": "cE474jPci_wN",
        "colab_type": "code",
        "colab": {}
      },
      "source": [
        "userresult =users.set_index(['review_profilename','cluster'])['review_overall'].unstack(fill_value='NA').reset_index()"
      ],
      "execution_count": 0,
      "outputs": []
    },
    {
      "cell_type": "code",
      "metadata": {
        "id": "5GJoPf2Ni_wO",
        "colab_type": "code",
        "colab": {}
      },
      "source": [
        "userfull = userresult[ (userresult['Bad Beer'] != 'NA') &\n",
        "          (userresult['Niche Beer'] != 'NA') &\n",
        "          (userresult['Popular Beer'] != 'NA') &\n",
        "          (userresult['Normal Beer'] != 'NA') ]"
      ],
      "execution_count": 0,
      "outputs": []
    },
    {
      "cell_type": "code",
      "metadata": {
        "id": "33i7iM-Li_wQ",
        "colab_type": "code",
        "outputId": "aef55e56-491b-459b-e114-90203a7518e7",
        "colab": {
          "base_uri": "https://localhost:8080/",
          "height": 34
        }
      },
      "source": [
        "# How many useful data?\n",
        "len(userfull)"
      ],
      "execution_count": 0,
      "outputs": [
        {
          "output_type": "execute_result",
          "data": {
            "text/plain": [
              "6255"
            ]
          },
          "metadata": {
            "tags": []
          },
          "execution_count": 64
        }
      ]
    },
    {
      "cell_type": "markdown",
      "metadata": {
        "id": "xvbBIhd0i_wS",
        "colab_type": "text"
      },
      "source": [
        "### Cluster on users "
      ]
    },
    {
      "cell_type": "code",
      "metadata": {
        "id": "VnU-5N5oi_wS",
        "colab_type": "code",
        "outputId": "06db8975-3abc-47a3-c1aa-3a8346e50a84",
        "colab": {
          "base_uri": "https://localhost:8080/",
          "height": 204
        }
      },
      "source": [
        "userfull.head()"
      ],
      "execution_count": 0,
      "outputs": [
        {
          "output_type": "execute_result",
          "data": {
            "text/html": [
              "<div>\n",
              "<style scoped>\n",
              "    .dataframe tbody tr th:only-of-type {\n",
              "        vertical-align: middle;\n",
              "    }\n",
              "\n",
              "    .dataframe tbody tr th {\n",
              "        vertical-align: top;\n",
              "    }\n",
              "\n",
              "    .dataframe thead th {\n",
              "        text-align: right;\n",
              "    }\n",
              "</style>\n",
              "<table border=\"1\" class=\"dataframe\">\n",
              "  <thead>\n",
              "    <tr style=\"text-align: right;\">\n",
              "      <th>cluster</th>\n",
              "      <th>review_profilename</th>\n",
              "      <th>Bad Beer</th>\n",
              "      <th>Niche Beer</th>\n",
              "      <th>Normal Beer</th>\n",
              "      <th>Popular Beer</th>\n",
              "    </tr>\n",
              "  </thead>\n",
              "  <tbody>\n",
              "    <tr>\n",
              "      <th>5</th>\n",
              "      <td>05Harley</td>\n",
              "      <td>3</td>\n",
              "      <td>4.22388</td>\n",
              "      <td>4.5</td>\n",
              "      <td>4.20896</td>\n",
              "    </tr>\n",
              "    <tr>\n",
              "      <th>12</th>\n",
              "      <td>1000Bottles</td>\n",
              "      <td>2</td>\n",
              "      <td>4.25</td>\n",
              "      <td>3.7</td>\n",
              "      <td>3.875</td>\n",
              "    </tr>\n",
              "    <tr>\n",
              "      <th>14</th>\n",
              "      <td>100floods</td>\n",
              "      <td>3.5</td>\n",
              "      <td>4.03086</td>\n",
              "      <td>3.54</td>\n",
              "      <td>4.16667</td>\n",
              "    </tr>\n",
              "    <tr>\n",
              "      <th>25</th>\n",
              "      <td>1121987.0</td>\n",
              "      <td>4</td>\n",
              "      <td>4.6</td>\n",
              "      <td>4.26923</td>\n",
              "      <td>4.3125</td>\n",
              "    </tr>\n",
              "    <tr>\n",
              "      <th>29</th>\n",
              "      <td>11thFloorBrewing</td>\n",
              "      <td>2.75</td>\n",
              "      <td>4.5</td>\n",
              "      <td>4.33333</td>\n",
              "      <td>4.375</td>\n",
              "    </tr>\n",
              "  </tbody>\n",
              "</table>\n",
              "</div>"
            ],
            "text/plain": [
              "cluster review_profilename Bad Beer Niche Beer Normal Beer Popular Beer\n",
              "5                 05Harley        3    4.22388         4.5      4.20896\n",
              "12             1000Bottles        2       4.25         3.7        3.875\n",
              "14               100floods      3.5    4.03086        3.54      4.16667\n",
              "25               1121987.0        4        4.6     4.26923       4.3125\n",
              "29        11thFloorBrewing     2.75        4.5     4.33333        4.375"
            ]
          },
          "metadata": {
            "tags": []
          },
          "execution_count": 65
        }
      ]
    },
    {
      "cell_type": "code",
      "metadata": {
        "id": "Q4LQJ0LIi_wV",
        "colab_type": "code",
        "colab": {}
      },
      "source": [
        "#Prepare the dataframe\n",
        "feature_df = userfull.loc[:, ~userfull.columns.isin(['review_profilename'])]"
      ],
      "execution_count": 0,
      "outputs": []
    },
    {
      "cell_type": "code",
      "metadata": {
        "id": "QPh1H3nci_wW",
        "colab_type": "code",
        "outputId": "ccc718f0-9178-4815-c411-0589e2bb7125",
        "colab": {
          "base_uri": "https://localhost:8080/",
          "height": 204
        }
      },
      "source": [
        "feature_df.head()"
      ],
      "execution_count": 0,
      "outputs": [
        {
          "output_type": "execute_result",
          "data": {
            "text/html": [
              "<div>\n",
              "<style scoped>\n",
              "    .dataframe tbody tr th:only-of-type {\n",
              "        vertical-align: middle;\n",
              "    }\n",
              "\n",
              "    .dataframe tbody tr th {\n",
              "        vertical-align: top;\n",
              "    }\n",
              "\n",
              "    .dataframe thead th {\n",
              "        text-align: right;\n",
              "    }\n",
              "</style>\n",
              "<table border=\"1\" class=\"dataframe\">\n",
              "  <thead>\n",
              "    <tr style=\"text-align: right;\">\n",
              "      <th>cluster</th>\n",
              "      <th>Bad Beer</th>\n",
              "      <th>Niche Beer</th>\n",
              "      <th>Normal Beer</th>\n",
              "      <th>Popular Beer</th>\n",
              "    </tr>\n",
              "  </thead>\n",
              "  <tbody>\n",
              "    <tr>\n",
              "      <th>5</th>\n",
              "      <td>3</td>\n",
              "      <td>4.22388</td>\n",
              "      <td>4.5</td>\n",
              "      <td>4.20896</td>\n",
              "    </tr>\n",
              "    <tr>\n",
              "      <th>12</th>\n",
              "      <td>2</td>\n",
              "      <td>4.25</td>\n",
              "      <td>3.7</td>\n",
              "      <td>3.875</td>\n",
              "    </tr>\n",
              "    <tr>\n",
              "      <th>14</th>\n",
              "      <td>3.5</td>\n",
              "      <td>4.03086</td>\n",
              "      <td>3.54</td>\n",
              "      <td>4.16667</td>\n",
              "    </tr>\n",
              "    <tr>\n",
              "      <th>25</th>\n",
              "      <td>4</td>\n",
              "      <td>4.6</td>\n",
              "      <td>4.26923</td>\n",
              "      <td>4.3125</td>\n",
              "    </tr>\n",
              "    <tr>\n",
              "      <th>29</th>\n",
              "      <td>2.75</td>\n",
              "      <td>4.5</td>\n",
              "      <td>4.33333</td>\n",
              "      <td>4.375</td>\n",
              "    </tr>\n",
              "  </tbody>\n",
              "</table>\n",
              "</div>"
            ],
            "text/plain": [
              "cluster Bad Beer Niche Beer Normal Beer Popular Beer\n",
              "5              3    4.22388         4.5      4.20896\n",
              "12             2       4.25         3.7        3.875\n",
              "14           3.5    4.03086        3.54      4.16667\n",
              "25             4        4.6     4.26923       4.3125\n",
              "29          2.75        4.5     4.33333        4.375"
            ]
          },
          "metadata": {
            "tags": []
          },
          "execution_count": 67
        }
      ]
    },
    {
      "cell_type": "markdown",
      "metadata": {
        "id": "zvpmAD66-gyz",
        "colab_type": "text"
      },
      "source": [
        "As previously explained, this step determines how many clusters to produce based off the reviewers who have drank beer from all 4 clusters."
      ]
    },
    {
      "cell_type": "code",
      "metadata": {
        "id": "JhdDieoWi_wX",
        "colab_type": "code",
        "outputId": "343c059c-b5b8-44ca-c606-fcee9fdddd64",
        "colab": {
          "base_uri": "https://localhost:8080/",
          "height": 287
        }
      },
      "source": [
        "sse={}\n",
        "for k in range(2, 10):\n",
        "    kmeans = KMeans(n_clusters=k, max_iter=1000,random_state=833).fit(feature_df)\n",
        "    feature_df[\"clusters\"] = kmeans.labels_\n",
        "    sse[k] = kmeans.inertia_ \n",
        "plt.figure()\n",
        "plt.plot(list(sse.keys()), list(sse.values()))\n",
        "plt.xlabel(\"Number of cluster\")\n",
        "plt.show()"
      ],
      "execution_count": 0,
      "outputs": [
        {
          "output_type": "display_data",
          "data": {
            "image/png": "[encoded data removed]",
            "text/plain": [
              "<Figure size 432x288 with 1 Axes>"
            ]
          },
          "metadata": {
            "tags": []
          }
        }
      ]
    },
    {
      "cell_type": "code",
      "metadata": {
        "id": "Wr5bdm81i_wZ",
        "colab_type": "code",
        "colab": {}
      },
      "source": [
        "feature_df = feature_df.drop(\"clusters\",axis=1)"
      ],
      "execution_count": 0,
      "outputs": []
    },
    {
      "cell_type": "markdown",
      "metadata": {
        "id": "Dz_UejMXXjre",
        "colab_type": "text"
      },
      "source": [
        "#### Fit Model: Build 4 clusters based on the scree plot of reviewers.\n"
      ]
    },
    {
      "cell_type": "code",
      "metadata": {
        "id": "0LO1EyBGi_wb",
        "colab_type": "code",
        "colab": {}
      },
      "source": [
        "#Fit Model - Build 4 clusters based on the scree plot\n",
        "user_cluster = fit_model(feature_df, 4, 1000, 833)"
      ],
      "execution_count": 0,
      "outputs": []
    },
    {
      "cell_type": "code",
      "metadata": {
        "id": "c5qb6YfGi_wc",
        "colab_type": "code",
        "outputId": "ce67b96c-7367-41af-9cb2-236ab326473f",
        "colab": {
          "base_uri": "https://localhost:8080/",
          "height": 102
        }
      },
      "source": [
        "user_cluster.cluster.value_counts()"
      ],
      "execution_count": 0,
      "outputs": [
        {
          "output_type": "execute_result",
          "data": {
            "text/plain": [
              "1    2285\n",
              "3    1623\n",
              "2    1252\n",
              "0    1095\n",
              "Name: cluster, dtype: int64"
            ]
          },
          "metadata": {
            "tags": []
          },
          "execution_count": 71
        }
      ]
    },
    {
      "cell_type": "code",
      "metadata": {
        "id": "wEun7O5oi_wd",
        "colab_type": "code",
        "outputId": "a51df26e-db67-4c24-d043-1ec42d606233",
        "colab": {
          "base_uri": "https://localhost:8080/",
          "height": 581
        }
      },
      "source": [
        "plot_cluster_facet(user_cluster, 'cluster', col_wrap=3)"
      ],
      "execution_count": 0,
      "outputs": [
        {
          "output_type": "display_data",
          "data": {
            "image/png": "[encoded data removed]",
            "text/plain": [
              "<Figure size 604.8x576 with 4 Axes>"
            ]
          },
          "metadata": {
            "tags": []
          }
        }
      ]
    },
    {
      "cell_type": "markdown",
      "metadata": {
        "id": "ahhM6ouMXZi2",
        "colab_type": "text"
      },
      "source": [
        "We can see that cluster 0 and cluster 1 are very similar and become hard to differentiate, so we will produce three clusters instead by combining clusters 0 and 1."
      ]
    },
    {
      "cell_type": "markdown",
      "metadata": {
        "id": "8Rdsk0ieXvYE",
        "colab_type": "text"
      },
      "source": [
        "#### Fit Model - Build 3 clusters based on the scree plot\n",
        "\n",
        "\n"
      ]
    },
    {
      "cell_type": "code",
      "metadata": {
        "id": "RNkh1K2fX2Fq",
        "colab_type": "code",
        "colab": {}
      },
      "source": [
        "user_cluster = fit_model(feature_df, 3, 1000, 833)"
      ],
      "execution_count": 0,
      "outputs": []
    },
    {
      "cell_type": "code",
      "metadata": {
        "id": "skqA1VAtYGJS",
        "colab_type": "code",
        "outputId": "cadb68ea-028d-4840-8ac7-eac998d5ccb8",
        "colab": {
          "base_uri": "https://localhost:8080/",
          "height": 85
        }
      },
      "source": [
        "user_cluster.cluster.value_counts()"
      ],
      "execution_count": 0,
      "outputs": [
        {
          "output_type": "execute_result",
          "data": {
            "text/plain": [
              "0    3478\n",
              "2    1422\n",
              "1    1355\n",
              "Name: cluster, dtype: int64"
            ]
          },
          "metadata": {
            "tags": []
          },
          "execution_count": 74
        }
      ]
    },
    {
      "cell_type": "code",
      "metadata": {
        "id": "ElUZgti8YNac",
        "colab_type": "code",
        "outputId": "2ba59ca7-362f-42f4-c303-e3afa0c36a8a",
        "colab": {
          "base_uri": "https://localhost:8080/",
          "height": 293
        }
      },
      "source": [
        "plot_cluster_facet(user_cluster, 'cluster', col_wrap=3)"
      ],
      "execution_count": 0,
      "outputs": [
        {
          "output_type": "display_data",
          "data": {
            "image/png": "[encoded data removed]",
            "text/plain": [
              "<Figure size 604.8x288 with 3 Axes>"
            ]
          },
          "metadata": {
            "tags": []
          }
        }
      ]
    },
    {
      "cell_type": "markdown",
      "metadata": {
        "id": "okzUbKwgt62P",
        "colab_type": "text"
      },
      "source": [
        "Here, we can see the difference between drinker groups:\n",
        "\n",
        "Cluster 0. These are **normal drinkers** who can moderately identify good or bad beers, and they enjoy both niche and popular beers.\n",
        "\n",
        "Cluster 1. These are **expert drinkers** that can clearly identify what type of beer is good and which is bad.\n",
        "\n",
        "Cluster 2. These are **indifferent drinkers** because they don't seem to be able to tell what beer is good or which is bad. "
      ]
    },
    {
      "cell_type": "code",
      "metadata": {
        "id": "N1Il6sxei_we",
        "colab_type": "code",
        "colab": {}
      },
      "source": [
        "# Rename the clusters\n",
        "di = {0: \"Normal drinker\", 1: \"Expert drinker\",2:'Indifferent drinker'}\n",
        "user_cluster = user_cluster.replace({\"cluster\": di})"
      ],
      "execution_count": 0,
      "outputs": []
    },
    {
      "cell_type": "code",
      "metadata": {
        "id": "yzwko5BGi_wf",
        "colab_type": "code",
        "outputId": "669e450c-d905-4f50-ec7a-e5b3fe95f90b",
        "colab": {
          "base_uri": "https://localhost:8080/",
          "height": 204
        }
      },
      "source": [
        "user_cluster.head()"
      ],
      "execution_count": 0,
      "outputs": [
        {
          "output_type": "execute_result",
          "data": {
            "text/html": [
              "<div>\n",
              "<style scoped>\n",
              "    .dataframe tbody tr th:only-of-type {\n",
              "        vertical-align: middle;\n",
              "    }\n",
              "\n",
              "    .dataframe tbody tr th {\n",
              "        vertical-align: top;\n",
              "    }\n",
              "\n",
              "    .dataframe thead th {\n",
              "        text-align: right;\n",
              "    }\n",
              "</style>\n",
              "<table border=\"1\" class=\"dataframe\">\n",
              "  <thead>\n",
              "    <tr style=\"text-align: right;\">\n",
              "      <th>cluster</th>\n",
              "      <th>Bad Beer</th>\n",
              "      <th>Niche Beer</th>\n",
              "      <th>Normal Beer</th>\n",
              "      <th>Popular Beer</th>\n",
              "      <th>cluster</th>\n",
              "    </tr>\n",
              "  </thead>\n",
              "  <tbody>\n",
              "    <tr>\n",
              "      <th>5</th>\n",
              "      <td>3</td>\n",
              "      <td>4.22388</td>\n",
              "      <td>4.5</td>\n",
              "      <td>4.20896</td>\n",
              "      <td>Normal drinker</td>\n",
              "    </tr>\n",
              "    <tr>\n",
              "      <th>12</th>\n",
              "      <td>2</td>\n",
              "      <td>4.25</td>\n",
              "      <td>3.7</td>\n",
              "      <td>3.875</td>\n",
              "      <td>Expert drinker</td>\n",
              "    </tr>\n",
              "    <tr>\n",
              "      <th>14</th>\n",
              "      <td>3.5</td>\n",
              "      <td>4.03086</td>\n",
              "      <td>3.54</td>\n",
              "      <td>4.16667</td>\n",
              "      <td>Indifferent drinker</td>\n",
              "    </tr>\n",
              "    <tr>\n",
              "      <th>25</th>\n",
              "      <td>4</td>\n",
              "      <td>4.6</td>\n",
              "      <td>4.26923</td>\n",
              "      <td>4.3125</td>\n",
              "      <td>Indifferent drinker</td>\n",
              "    </tr>\n",
              "    <tr>\n",
              "      <th>29</th>\n",
              "      <td>2.75</td>\n",
              "      <td>4.5</td>\n",
              "      <td>4.33333</td>\n",
              "      <td>4.375</td>\n",
              "      <td>Normal drinker</td>\n",
              "    </tr>\n",
              "  </tbody>\n",
              "</table>\n",
              "</div>"
            ],
            "text/plain": [
              "cluster Bad Beer Niche Beer Normal Beer Popular Beer              cluster\n",
              "5              3    4.22388         4.5      4.20896       Normal drinker\n",
              "12             2       4.25         3.7        3.875       Expert drinker\n",
              "14           3.5    4.03086        3.54      4.16667  Indifferent drinker\n",
              "25             4        4.6     4.26923       4.3125  Indifferent drinker\n",
              "29          2.75        4.5     4.33333        4.375       Normal drinker"
            ]
          },
          "metadata": {
            "tags": []
          },
          "execution_count": 77
        }
      ]
    },
    {
      "cell_type": "markdown",
      "metadata": {
        "id": "R71L5EBWcXbX",
        "colab_type": "text"
      },
      "source": [
        "## Conclusion"
      ]
    },
    {
      "cell_type": "markdown",
      "metadata": {
        "id": "gAMDh-hyclx7",
        "colab_type": "text"
      },
      "source": [
        "We have successfully segmented the beers into 4 clusters, as well as documeted how customers react to these beers. We have successfully found the drinking patterns of these consumers, and we can use this result to advise beer retailers how to recommend beers to their respective consumers and their target clusters."
      ]
    }
  ]
}