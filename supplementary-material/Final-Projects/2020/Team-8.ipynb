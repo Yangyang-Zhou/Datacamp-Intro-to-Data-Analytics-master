{
  "nbformat": 4,
  "nbformat_minor": 0,
  "metadata": {
    "colab": {
      "name": "Final_Notebook_Team4.ipynb",
      "provenance": [],
      "collapsed_sections": []
    },
    "kernelspec": {
      "name": "python3",
      "display_name": "Python 3"
    }
  },
  "cells": [
    {
      "cell_type": "markdown",
      "metadata": {
        "id": "mFh1MT-8No1A",
        "colab_type": "text"
      },
      "source": [
        "# **Topic: Exploring The Link Between Public Education Funding and School District Performance in Massachusetts**\n",
        "\n",
        "Team: 8\n",
        "\n",
        "Members: Aamir Azam, Pranav Bahadur, Vinaykrishnan Menon, Wajdan Mahbub, Yu Tsen Chen\n"
      ]
    },
    {
      "cell_type": "markdown",
      "metadata": {
        "id": "uL7yQHfxPKPX",
        "colab_type": "text"
      },
      "source": [
        "**Project Scope**\n",
        "\n",
        "We are investigating the relationship between public school funding and school district performance in the state of Massachusetts. In this analysis, we evaluated the performance of 256 school districts within the state, using publicly available data from 2009 to 2018. We evaluated the performance of school districts based on three measures, which were graduation rate, dropout rate, and SAT scores. We further analyzed these three criterias by student ethnicity and school district ethnicity to see whether minority students were benefiting from state funding of school districts.  \n",
        "\n",
        "\n",
        "**Hypotheses**\n",
        "\n",
        "We hypothesize that MA's high school graduation rate has changed very little over the past ten years, whereas public education spending has increased substantially. Therefore, the money being spent on public education is not being effectively utilized. The ineffective expenditure of funds is preventing the state high school graduation rate from crossing above 95%. \n",
        "\n",
        "**Data Source, Cleaning and Transformation**\n",
        "\n",
        "Data for the 256 school districts was pulled from the Massachusetts Department of Education’s website. From the ‘School & District Profiles’ section of the website, we pulled district-level data on State Funding, 4-Year Graduation Rates, State Aid Per Pupil, SAT Performance, Class Size by Ethnicity, Class Size by Selected Populations, Teacher Salaries and Teacher Evaluation. \n",
        "\n",
        "Once the data was collected, we used Python and Colab to organize it into eight tables. Later, we cleaned and transformed the data before consolidating selected columns from each table into four master tables. \n",
        "\n",
        "Most of the data we collected was already cleaned and adequately formatted. However, some school districts had missing values in a few columns for a given year. To fix this problem, we used that school district’s average value to fill in the missing values. This approach prevented us from losing valuable data in other columns for the school district when we were consolidating data in Colab. \n",
        "\n",
        "An issue that we ran into was regarding SAT scores. Before 2015, the SAT consisted of three sections and was scored out of 2400. From 2015 onwards, the SAT was condensed into two sections and scored out of 1600. To account for the change in sections and scoring scale, we used a SAT score conversion table from College Board to convert scores before 2015 to the new scoring scale. This method allowed for an accurate comparison of scores for the ten years. School district data was narrowed down to exclude magnet schools as students are required to pass entrance exams, resulting in skewed data in terms of SAT scores, graduation, and dropout. \n",
        "\n",
        "Once the data inside all eight tables had been cleaned, we changed column names, added dummy variables to denote school ethnicity, and further consolidated the data into four master tables. The data in each master table only looked at public schools and charter schools inside Massachusetts.\n",
        "\n",
        "\n",
        "**Master Tables**\n",
        "\n",
        "The four master tables that were created are District Level Data, Graduation Rate by Ethnicity, Dropout Rate by Ethnicity and SAT Scores by Ethnicity:\n",
        "\n",
        "1) District Level Data consists of 30 columns and 2,536 rows. This table houses all the important characteristics of each school district.\n",
        "\n",
        "2) Graduation Rate by Ethnicity consists of 8 columns and 6,274 rows. This table houses the graduation rate for each school district by student ethnicity and school district ethnicity. \n",
        "\n",
        "3) Dropout Rate by Ethnicity consists of 8 columns and 8,997 rows. This table houses the dropout rate for each school district by student ethnicity and school district ethnicity. \n",
        "\n",
        "4) SAT Scores by Ethnicity consists of 7 columns and 5,129 rows. This table houses SAT scores for each school district by student ethnicity and school district ethnicity. \n",
        "\n",
        "You can download these tables using the code at the very bottom of this notebook.\n",
        "\n"
      ]
    },
    {
      "cell_type": "markdown",
      "metadata": {
        "id": "NcjJ3723mGAS",
        "colab_type": "text"
      },
      "source": [
        "**Data Consolidation & Exploration**"
      ]
    },
    {
      "cell_type": "code",
      "metadata": {
        "id": "wVhVyjJExUjA",
        "colab_type": "code",
        "outputId": "dc034057-6421-4883-be3e-21e050c16006",
        "colab": {
          "base_uri": "https://localhost:8080/",
          "height": 34
        }
      },
      "source": [
        "# Mounting Google Drive\n",
        "from google.colab import drive\n",
        "drive.mount('/content/drive')"
      ],
      "execution_count": 0,
      "outputs": [
        {
          "output_type": "stream",
          "text": [
            "Drive already mounted at /content/drive; to attempt to forcibly remount, call drive.mount(\"/content/drive\", force_remount=True).\n"
          ],
          "name": "stdout"
        }
      ]
    },
    {
      "cell_type": "code",
      "metadata": {
        "id": "vOuF6h2Y3PmJ",
        "colab_type": "code",
        "colab": {}
      },
      "source": [
        "# Libraries\n",
        "import pandas as pd\n",
        "import numpy as np\n",
        "import seaborn as sns\n",
        "import matplotlib.pyplot as plt\n",
        "\n",
        "#Date Source Upload\n",
        "df3= pd.read_excel('/content/drive/Shared drives/MOD 4 IS833 Team Folder/DOE MASS EDU Tables/Chapter 70 Foundation Budget and Net School Spending.xlsx')\n",
        "df4= pd.read_excel('/content/drive/Shared drives/MOD 4 IS833 Team Folder/DOE MASS EDU Tables/4 Year Graduation Rate.xlsx')\n",
        "df5= pd.read_excel('/content/drive/Shared drives/MOD 4 IS833 Team Folder/DOE MASS EDU Tables/Per Pupil Expenditure.xlsx')\n",
        "df6= pd.read_excel('/content/drive/Shared drives/MOD 4 IS833 Team Folder/DOE MASS EDU Tables/SAT Performance.xlsx')\n",
        "df7= pd.read_excel('/content/drive/Shared drives/MOD 4 IS833 Team Folder/DOE MASS EDU Tables/Class Size by Race Ethnicity Report.xlsx')\n",
        "\n",
        "df8= pd.read_excel('/content/drive/Shared drives/MOD 4 IS833 Team Folder/DOE MASS EDU Tables/Selected Populations Report.xlsx')\n",
        "df8= df8[ ['Year','District Name', 'District Code', 'Low Income #', 'Low Income %','Economically Disadvantaged #','Economically Disadvantaged %']]\n",
        "\n",
        "df8['Low Income %'] = df8['Low Income %'].apply(pd.to_numeric, downcast='float', errors='coerce')\n",
        "df8['Economically Disadvantaged %'] = df8['Economically Disadvantaged %'].apply(pd.to_numeric, downcast='float', errors='coerce')\n",
        "\n",
        "df8= df8.fillna(0)\n",
        "df8['Low_Income_%']= df8['Low Income %'] + df8['Economically Disadvantaged %']\n",
        "\n",
        "df9= pd.read_excel('/content/drive/Shared drives/MOD 4 IS833 Team Folder/DOE MASS EDU Tables/Teacher Salaries Report.xlsx')\n",
        "\n",
        "df9= df9.rename(columns={\"Salary Totals\": \"Teacher_Salary_Exp\", \"Average Salary\": \"Teacher_Avg_Salary\",'FTE Count': 'Total_Teachers'})\n",
        "\n",
        "df10= pd.read_excel('/content/drive/Shared drives/MOD 4 IS833 Team Folder/DOE MASS EDU Tables/Educator Evaluation Data.xlsx')\n",
        "df10['% Exemplary'] = df10['% Exemplary'].apply(pd.to_numeric, downcast='float', errors='coerce')\n",
        "df10['% Proficient'] = df10['% Proficient'].apply(pd.to_numeric, downcast='float', errors='coerce')\n",
        "df10['% Needs Improvement'] = df10['% Needs Improvement'].apply(pd.to_numeric, downcast='float', errors='coerce')\n",
        "df10['% Unsatisfactory'] = df10['% Unsatisfactory'].apply(pd.to_numeric, downcast='float', errors='coerce')\n",
        "\n",
        "df11=pd.read_excel('/content/drive/Shared drives/MOD 4 IS833 Team Folder/DOE MASS EDU Tables/Dropout by Ethnicity.xlsx')\n",
        "\n",
        "df12= pd.read_excel('/content/drive/Shared drives/MOD 4 IS833 Team Folder/DOE MASS EDU Tables/Graduate by Ethnicity.xlsx')\n",
        "\n",
        "df14= pd.read_excel('/content/drive/Shared drives/MOD 4 IS833 Team Folder/DOE MASS EDU Tables/SAT Scores by Ethnicity.xlsx')\n"
      ],
      "execution_count": 0,
      "outputs": []
    },
    {
      "cell_type": "code",
      "metadata": {
        "colab_type": "code",
        "id": "luyEBE5PxBJc",
        "outputId": "8857f9dc-c568-42b8-9678-1432c661b7d7",
        "colab": {
          "base_uri": "https://localhost:8080/",
          "height": 638
        }
      },
      "source": [
        "# Creating Main table to consolidate data\n",
        "\n",
        "main= pd.merge(left_on=['Year', 'District Code'], right_on=['Year', 'District Code'], how='inner',left=df3, right=df4 ).drop('District Name_y', axis=1).rename(columns={'District Name_x': 'District Name'})\n",
        "main= main[(main['District Name'] != 'State Totals')]\n",
        "main= pd.merge(left_on=['Year', 'District Code'], right_on=['Year', 'District Code'], how='inner',left=main, right=df5 ).drop('District Name_y', axis=1).rename(columns={'District Name_x': 'District Name'})\n",
        "main= pd.merge(left_on=['Year', 'District Code'], right_on=['Year', 'District Code'], how='inner',left=main, right=df6 ).drop('District Name_y', axis=1).rename(columns={'District Name_x': 'District Name'})\n",
        "\n",
        "main= main.drop(['Reading/Writing', 'Writing','Math','Reading/Writing Rounded', 'Math Rounded', 'Required NSS','Amount Over or Under Required', 'Actual NSS as % of Required',\\\n",
        "                 'Foundation Budget','Public Actual NSS as % of Foundation','Total Expenditures', 'Total Pupil FTEs','Total Expenditures per Pupil',\n",
        "                 '% Still in School', '% Non-Grad Completers','% H.S. Equiv.','% Permanently Excluded','Tests Taken'], axis=1)\n",
        "main= main.drop_duplicates().dropna()\n",
        "\n",
        "main= main.rename(columns={\"# in Cohort\": \"HS_Seniors\", \"In-District Expenditures per Pupil\": \"Total_Per_Pupil_Exp\",'Total In-district FTEs':'Total_Students',\n",
        "                           '% Graduated': 'Graduated_%', '% Dropped Out': 'Dropped_Out_%', 'Actual NSS': 'Total_State_Aid',\n",
        "                           'New Writing Score':'New_Writing_Score', 'New Math Score': 'New_Math_Score', 'In-District Expenditures':'Total_Exp',\n",
        "                           'District Name': 'District_Name', 'District Code': 'District_Code'} )\n",
        "\n",
        "main['State_Aid_Per_Pupil']= (main['Total_State_Aid']/main['Total_Students']).round(2)\n",
        "\n",
        "main= main[ ['Year', 'District_Name', 'District_Code', 'Total_State_Aid','State_Aid_Per_Pupil',\n",
        "       'HS_Seniors', 'Graduated_%', 'Dropped_Out_%','Total_Students', 'New_Writing_Score','New_Math_Score']]\n",
        "\n",
        "# Adding Extra Columns\n",
        "\n",
        "main= pd.merge(left_on=['Year', 'District_Code'], right_on=['Year', 'District Code'], how='left',left=main, right=df7 ).drop(['District Name', 'District Code', 'Total # of Classes', 'Number of Students','Native American %', 'Native Hawaiian, Pacific Islander %','Multi-Race, Non-Hispanic %'], axis=1) #.rename(columns={'District Name_x': 'District Name'})\n",
        "\n",
        "# Low Income Data\n",
        "main= pd.merge(left_on=['Year', 'District_Code'], right_on=['Year', 'District Code'], how='inner',left=main, right=df8 ).drop(['District Name', 'District Code',  'Economically Disadvantaged #','Economically Disadvantaged %' , 'Low Income #', 'Low Income %'], axis=1) #.rename(columns={'District Name_x': 'District Name'})\n",
        "main['White %'] = main['White %'].apply(pd.to_numeric, downcast='float', errors='coerce')\n",
        "\n",
        "#Teacher Salary Info.\n",
        "main= pd.merge(left_on=['Year', 'District_Code'], right_on=['Year', 'District Code'], how='inner',left=main, right=df9 ).drop(['District Name', 'District Code'] , axis=1) \n",
        "\n",
        "main['Average Class Size'].fillna((main['Average Class Size'].mean()), inplace=True)\n",
        "main['African American %'].fillna((main['African American %'].mean()), inplace=True)\n",
        "main['Asian %'].fillna((main['Asian %'].mean()), inplace=True)\n",
        "main['Hispanic %'].fillna((main['Hispanic %'].mean()), inplace=True)\n",
        "main['White %'].fillna((main['White %'].mean()), inplace=True)\n",
        "\n",
        "main= main.rename(columns={\"Average Class Size\": \"Average_Class_Size\", \"African American %\": \"African_American_%\",'Asian %': 'Asian_%', 'Hispanic %': 'Hispanic_%', 'White %': 'White_%'})\n",
        "\n",
        "student_body= main.groupby(['District_Name', 'District_Code']).aggregate({'African_American_%': 'mean', 'Asian_%': 'mean', 'Hispanic_%': 'mean', 'White_%': 'mean'})\n",
        "student_body['Max']= student_body.max(axis=1)\n",
        "student_body['Majority_Ethnicity']= np.nan\n",
        "\n",
        "student_body.loc[student_body['Max'] == student_body['White_%'], 'Majority_Ethnicity'] = 'White'\n",
        "student_body.loc[student_body['Max'] == student_body['Hispanic_%'], 'Majority_Ethnicity'] = 'Hispanic'\n",
        "student_body.loc[student_body['Max'] == student_body['Asian_%'], 'Majority_Ethnicity'] = 'Asian'\n",
        "student_body.loc[student_body['Max'] == student_body['African_American_%'], 'Majority_Ethnicity'] = 'African American'\n",
        "student_body= student_body.reset_index(drop=False)\n",
        "student_body= student_body[ ['District_Name', 'District_Code', 'Majority_Ethnicity'] ]\n",
        "\n",
        "main= pd.merge(left_on=['District_Name','District_Code'], right_on=['District_Name','District_Code'], how='inner',left=main, right= student_body )\n",
        "\n",
        "main= main[ ['Year', 'District_Name', 'District_Code', 'Total_State_Aid',\n",
        "       'State_Aid_Per_Pupil', 'HS_Seniors', 'Graduated_%', 'Dropped_Out_%',\n",
        "       'Total_Students', 'New_Writing_Score', 'New_Math_Score',\n",
        "       'Average_Class_Size', 'African_American_%', 'Asian_%', 'Hispanic_%',\n",
        "       'White_%', 'Majority_Ethnicity','Low_Income_%', 'Teacher_Salary_Exp', 'Teacher_Avg_Salary',\n",
        "       'Total_Teachers'] ]\n",
        "       \n",
        "teacher= df10.groupby(['District Name', 'District Code']).aggregate(Teacher_Exemplary_ = ('% Exemplary', 'mean'), Teacher_Proficient_= ('% Proficient', 'mean'), Teacher_Needs_Improvement_ = ('% Needs Improvement' , 'mean'),  Teacher_Unsatisfactory_ = ('% Unsatisfactory', 'mean')).reset_index() \n",
        "\n",
        "main= pd.merge(left_on=['District_Name','District_Code'], right_on=['District Name','District Code'], how='left',left=main, right=teacher).drop(['District Name', 'District Code'], axis=1)\n",
        "\n",
        "main= main.fillna(0)\n",
        "\n",
        "# Adding dummy variable to denote school district's ethnicity\n",
        "main= pd.get_dummies(data= main, columns= ['Majority_Ethnicity'])\n",
        "\n",
        "# Converting columns to $1000s\n",
        "main['State_Aid_Per_Pupil_(1000s)']= main['State_Aid_Per_Pupil']/1000\n",
        "main['Teacher_Avg_Salary_(1000s)']= main['Teacher_Avg_Salary']/1000\n",
        "\n",
        "# Adding back 'Majority Ethnicity' column\n",
        "student_body= main.groupby(['District_Name', 'District_Code']).aggregate({'African_American_%': 'mean', 'Asian_%': 'mean', 'Hispanic_%': 'mean', 'White_%': 'mean'})\n",
        "student_body['Max']= student_body.max(axis=1)\n",
        "student_body['Majority_Ethnicity']= np.nan\n",
        "\n",
        "student_body.loc[student_body['Max'] == student_body['White_%'], 'Majority_Ethnicity'] = 'White'\n",
        "student_body.loc[student_body['Max'] == student_body['Hispanic_%'], 'Majority_Ethnicity'] = 'Hispanic'\n",
        "student_body.loc[student_body['Max'] == student_body['Asian_%'], 'Majority_Ethnicity'] = 'Asian'\n",
        "student_body.loc[student_body['Max'] == student_body['African_American_%'], 'Majority_Ethnicity'] = 'African American'\n",
        "student_body= student_body.reset_index(drop=False)\n",
        "student_body= student_body[ ['District_Name', 'District_Code', 'Majority_Ethnicity'] ]\n",
        "\n",
        "main= pd.merge(left_on=['District_Name','District_Code'], right_on=['District_Name','District_Code'], how='inner',left=main, right= student_body )\n",
        "\n",
        "main= main.rename(columns={'Teacher_Exemplary_': 'Teacher_Exemplary_%','Teacher_Proficient_': 'Teacher_Proficient_%','Teacher_Needs_Improvement_':'Teacher_Needs_Improvement_%','Teacher_Unsatisfactory_': 'Teacher_Unsatisfactory_%'})\n",
        "\n",
        "main= main[main['Year']>=2009]\n",
        "\n",
        "# Other Tables\n",
        "\n",
        "graduate_ethnicity= df11\n",
        "dropout_ethnicity= df12\n",
        "sat_ethnicity= df14\n",
        "\n",
        "# District Level Data\n",
        "main.info()"
      ],
      "execution_count": 0,
      "outputs": [
        {
          "output_type": "stream",
          "text": [
            "<class 'pandas.core.frame.DataFrame'>\n",
            "Int64Index: 2535 entries, 0 to 2787\n",
            "Data columns (total 30 columns):\n",
            " #   Column                               Non-Null Count  Dtype  \n",
            "---  ------                               --------------  -----  \n",
            " 0   Year                                 2535 non-null   int64  \n",
            " 1   District_Name                        2535 non-null   object \n",
            " 2   District_Code                        2535 non-null   int64  \n",
            " 3   Total_State_Aid                      2535 non-null   float64\n",
            " 4   State_Aid_Per_Pupil                  2535 non-null   float64\n",
            " 5   HS_Seniors                           2535 non-null   int64  \n",
            " 6   Graduated_%                          2535 non-null   float64\n",
            " 7   Dropped_Out_%                        2535 non-null   float64\n",
            " 8   Total_Students                       2535 non-null   float64\n",
            " 9   New_Writing_Score                    2535 non-null   float64\n",
            " 10  New_Math_Score                       2535 non-null   float64\n",
            " 11  Average_Class_Size                   2535 non-null   float64\n",
            " 12  African_American_%                   2535 non-null   float64\n",
            " 13  Asian_%                              2535 non-null   float64\n",
            " 14  Hispanic_%                           2535 non-null   float64\n",
            " 15  White_%                              2535 non-null   float64\n",
            " 16  Low_Income_%                         2535 non-null   float64\n",
            " 17  Teacher_Salary_Exp                   2535 non-null   float64\n",
            " 18  Teacher_Avg_Salary                   2535 non-null   float64\n",
            " 19  Total_Teachers                       2535 non-null   float64\n",
            " 20  Teacher_Exemplary_%                  2535 non-null   float64\n",
            " 21  Teacher_Proficient_%                 2535 non-null   float64\n",
            " 22  Teacher_Needs_Improvement_%          2535 non-null   float64\n",
            " 23  Teacher_Unsatisfactory_%             2535 non-null   float64\n",
            " 24  Majority_Ethnicity_African American  2535 non-null   uint8  \n",
            " 25  Majority_Ethnicity_Hispanic          2535 non-null   uint8  \n",
            " 26  Majority_Ethnicity_White             2535 non-null   uint8  \n",
            " 27  State_Aid_Per_Pupil_(1000s)          2535 non-null   float64\n",
            " 28  Teacher_Avg_Salary_(1000s)           2535 non-null   float64\n",
            " 29  Majority_Ethnicity                   2535 non-null   object \n",
            "dtypes: float64(22), int64(3), object(2), uint8(3)\n",
            "memory usage: 562.0+ KB\n"
          ],
          "name": "stdout"
        }
      ]
    },
    {
      "cell_type": "code",
      "metadata": {
        "id": "D7L8azjtK3XZ",
        "colab_type": "code",
        "outputId": "c227772d-1020-4faf-f473-712da2e1221b",
        "colab": {
          "base_uri": "https://localhost:8080/",
          "height": 756
        }
      },
      "source": [
        "# Additional Tables\n",
        "\n",
        "# Graduation Rate by Ethnicityitional Tables\n",
        "graduate_ethnicity.info() \n",
        "\n",
        "# Dropout Rate by Ethnicity\n",
        "dropout_ethnicity.info() \n",
        "\n",
        "# SAT Scores by Ethnicity\n",
        "sat_ethnicity.info() \n"
      ],
      "execution_count": 0,
      "outputs": [
        {
          "output_type": "stream",
          "text": [
            "<class 'pandas.core.frame.DataFrame'>\n",
            "RangeIndex: 8996 entries, 0 to 8995\n",
            "Data columns (total 8 columns):\n",
            " #   Column                           Non-Null Count  Dtype  \n",
            "---  ------                           --------------  -----  \n",
            " 0   Year                             8996 non-null   int64  \n",
            " 1   Category                         8996 non-null   object \n",
            " 2   District Name                    8996 non-null   object \n",
            " 3   District Code                    8996 non-null   int64  \n",
            " 4   # Enrolled Grades 09 through 12  8996 non-null   int64  \n",
            " 5   # Dropout All Grades             8996 non-null   int64  \n",
            " 6   % Dropout All Grades             8996 non-null   float64\n",
            " 7   Majority Ethnicity               8996 non-null   object \n",
            "dtypes: float64(1), int64(4), object(3)\n",
            "memory usage: 562.4+ KB\n",
            "<class 'pandas.core.frame.DataFrame'>\n",
            "RangeIndex: 6273 entries, 0 to 6272\n",
            "Data columns (total 8 columns):\n",
            " #   Column              Non-Null Count  Dtype  \n",
            "---  ------              --------------  -----  \n",
            " 0   Year                6273 non-null   int64  \n",
            " 1   Category            6273 non-null   object \n",
            " 2   District Name       6273 non-null   object \n",
            " 3   District Code       6273 non-null   int64  \n",
            " 4   Grade 12 Students   6273 non-null   int64  \n",
            " 5   % Graduated         6273 non-null   float64\n",
            " 6   % Dropped Out       6273 non-null   float64\n",
            " 7   Majority Ethnicity  6273 non-null   object \n",
            "dtypes: float64(2), int64(3), object(3)\n",
            "memory usage: 392.2+ KB\n",
            "<class 'pandas.core.frame.DataFrame'>\n",
            "RangeIndex: 5128 entries, 0 to 5127\n",
            "Data columns (total 7 columns):\n",
            " #   Column              Non-Null Count  Dtype \n",
            "---  ------              --------------  ----- \n",
            " 0   Year                5128 non-null   int64 \n",
            " 1   Category            5128 non-null   object\n",
            " 2   District Name       5128 non-null   object\n",
            " 3   District Code       5128 non-null   int64 \n",
            " 4   New_Writing Score   5128 non-null   int64 \n",
            " 5   New_Math Score      5128 non-null   int64 \n",
            " 6   Majority Ethnicity  5128 non-null   object\n",
            "dtypes: int64(4), object(3)\n",
            "memory usage: 280.6+ KB\n"
          ],
          "name": "stdout"
        }
      ]
    },
    {
      "cell_type": "code",
      "metadata": {
        "id": "-IhYznvjMiCi",
        "colab_type": "code",
        "outputId": "19372d34-f704-4a7a-df89-a74143215c27",
        "colab": {
          "base_uri": "https://localhost:8080/",
          "height": 363
        }
      },
      "source": [
        "# Creating Summary table for showing annual trends\n",
        "\n",
        "summary= main.groupby('Year').aggregate( Total_Expenditure= ('Total_State_Aid', 'sum'), Mean_Expenditure= ('Total_State_Aid', 'mean'),\\\n",
        "                                          Grade_12= ('HS_Seniors','sum'), Graduated=('Graduated_%', 'mean'), Dropped_Out=('Dropped_Out_%', 'mean'),\\\n",
        "                                            Per_Pupil_Exp=('State_Aid_Per_Pupil', 'mean'),\\\n",
        "                                        Math_Score= ('New_Math_Score', 'mean'), Writing_Score= ('New_Writing_Score', 'mean')).reset_index()\n",
        "\n",
        "a= summary['Total_Expenditure'].pct_change()*100\n",
        "b= summary['Mean_Expenditure'].pct_change()*100\n",
        "c= summary['Grade_12'].pct_change()*100\n",
        "d= summary['Graduated'].pct_change()*100\n",
        "e= summary['Dropped_Out'].pct_change()*100\n",
        "f= summary['Per_Pupil_Exp'].pct_change()*100\n",
        "g= summary['Math_Score'].pct_change()*100\n",
        "h= summary['Writing_Score'].pct_change()*100\n",
        "\n",
        "summary['Change_Total_Exp']= a\n",
        "summary['Change_Mean_Exp']= b\n",
        "summary['Change_Grade_12']= c\n",
        "summary['Change_Graduated']= d\n",
        "summary['Change_Dropped_Out']= e\n",
        "summary['Change_Per_Pupil_Exp']= f\n",
        "summary['Change_Math_Score']= g\n",
        "summary['Change_Writing_Score']= h\n",
        "\n",
        "summary= summary.round({\"Year\":0, 'Total_Expenditure': 2, \"Change_Total_Exp\":2, \"Mean_Expenditure\":2, 'Change_Mean_Exp': 2, \"Change_Grade_12\": 2, 'Graduated': 2,\n",
        "                        'Change_Graduated': 2, 'Dropped_Out': 2, 'Change_Dropped_Out': 2, 'Per_Pupil_Exp': 2,'Change_Per_Pupil_Exp':2 ,\\\n",
        "                        'Math_Score': 0, 'Change_Math_Score': 2, 'Writing_Score':0, 'Change_Writing_Score':2}) \n",
        "\n",
        "summary= summary[['Year','Total_Expenditure','Change_Total_Exp','Mean_Expenditure', 'Change_Mean_Exp', 'Per_Pupil_Exp','Change_Per_Pupil_Exp','Grade_12',\n",
        "                  'Change_Grade_12', 'Graduated', 'Change_Graduated','Dropped_Out', 'Change_Dropped_Out', 'Math_Score', 'Change_Math_Score', 'Writing_Score','Change_Writing_Score']]\n",
        "\n",
        "#Final Summary Table\n",
        "summary"
      ],
      "execution_count": 0,
      "outputs": [
        {
          "output_type": "execute_result",
          "data": {
            "text/html": [
              "<div>\n",
              "<style scoped>\n",
              "    .dataframe tbody tr th:only-of-type {\n",
              "        vertical-align: middle;\n",
              "    }\n",
              "\n",
              "    .dataframe tbody tr th {\n",
              "        vertical-align: top;\n",
              "    }\n",
              "\n",
              "    .dataframe thead th {\n",
              "        text-align: right;\n",
              "    }\n",
              "</style>\n",
              "<table border=\"1\" class=\"dataframe\">\n",
              "  <thead>\n",
              "    <tr style=\"text-align: right;\">\n",
              "      <th></th>\n",
              "      <th>Year</th>\n",
              "      <th>Total_Expenditure</th>\n",
              "      <th>Change_Total_Exp</th>\n",
              "      <th>Mean_Expenditure</th>\n",
              "      <th>Change_Mean_Exp</th>\n",
              "      <th>Per_Pupil_Exp</th>\n",
              "      <th>Change_Per_Pupil_Exp</th>\n",
              "      <th>Grade_12</th>\n",
              "      <th>Change_Grade_12</th>\n",
              "      <th>Graduated</th>\n",
              "      <th>Change_Graduated</th>\n",
              "      <th>Dropped_Out</th>\n",
              "      <th>Change_Dropped_Out</th>\n",
              "      <th>Math_Score</th>\n",
              "      <th>Change_Math_Score</th>\n",
              "      <th>Writing_Score</th>\n",
              "      <th>Change_Writing_Score</th>\n",
              "    </tr>\n",
              "  </thead>\n",
              "  <tbody>\n",
              "    <tr>\n",
              "      <th>0</th>\n",
              "      <td>2009</td>\n",
              "      <td>9.586135e+09</td>\n",
              "      <td>NaN</td>\n",
              "      <td>37592686.40</td>\n",
              "      <td>NaN</td>\n",
              "      <td>10965.64</td>\n",
              "      <td>NaN</td>\n",
              "      <td>75863</td>\n",
              "      <td>NaN</td>\n",
              "      <td>85.84</td>\n",
              "      <td>NaN</td>\n",
              "      <td>7.00</td>\n",
              "      <td>NaN</td>\n",
              "      <td>550.0</td>\n",
              "      <td>NaN</td>\n",
              "      <td>561.0</td>\n",
              "      <td>NaN</td>\n",
              "    </tr>\n",
              "    <tr>\n",
              "      <th>1</th>\n",
              "      <td>2010</td>\n",
              "      <td>9.915306e+09</td>\n",
              "      <td>3.43</td>\n",
              "      <td>38731663.54</td>\n",
              "      <td>3.03</td>\n",
              "      <td>11353.67</td>\n",
              "      <td>3.54</td>\n",
              "      <td>75158</td>\n",
              "      <td>-0.93</td>\n",
              "      <td>86.45</td>\n",
              "      <td>0.71</td>\n",
              "      <td>6.22</td>\n",
              "      <td>-11.18</td>\n",
              "      <td>547.0</td>\n",
              "      <td>-0.48</td>\n",
              "      <td>558.0</td>\n",
              "      <td>-0.43</td>\n",
              "    </tr>\n",
              "    <tr>\n",
              "      <th>2</th>\n",
              "      <td>2011</td>\n",
              "      <td>1.008025e+10</td>\n",
              "      <td>1.66</td>\n",
              "      <td>39842870.15</td>\n",
              "      <td>2.87</td>\n",
              "      <td>11541.70</td>\n",
              "      <td>1.66</td>\n",
              "      <td>72638</td>\n",
              "      <td>-3.35</td>\n",
              "      <td>87.46</td>\n",
              "      <td>1.17</td>\n",
              "      <td>5.39</td>\n",
              "      <td>-13.33</td>\n",
              "      <td>550.0</td>\n",
              "      <td>0.50</td>\n",
              "      <td>559.0</td>\n",
              "      <td>0.07</td>\n",
              "    </tr>\n",
              "    <tr>\n",
              "      <th>3</th>\n",
              "      <td>2012</td>\n",
              "      <td>1.035620e+10</td>\n",
              "      <td>2.74</td>\n",
              "      <td>40772458.80</td>\n",
              "      <td>2.33</td>\n",
              "      <td>11848.81</td>\n",
              "      <td>2.66</td>\n",
              "      <td>71983</td>\n",
              "      <td>-0.90</td>\n",
              "      <td>88.33</td>\n",
              "      <td>0.99</td>\n",
              "      <td>4.99</td>\n",
              "      <td>-7.37</td>\n",
              "      <td>547.0</td>\n",
              "      <td>-0.55</td>\n",
              "      <td>558.0</td>\n",
              "      <td>-0.15</td>\n",
              "    </tr>\n",
              "    <tr>\n",
              "      <th>4</th>\n",
              "      <td>2013</td>\n",
              "      <td>1.074243e+10</td>\n",
              "      <td>3.73</td>\n",
              "      <td>42798540.35</td>\n",
              "      <td>4.97</td>\n",
              "      <td>12323.65</td>\n",
              "      <td>4.01</td>\n",
              "      <td>72414</td>\n",
              "      <td>0.60</td>\n",
              "      <td>88.85</td>\n",
              "      <td>0.58</td>\n",
              "      <td>4.72</td>\n",
              "      <td>-5.47</td>\n",
              "      <td>550.0</td>\n",
              "      <td>0.54</td>\n",
              "      <td>560.0</td>\n",
              "      <td>0.42</td>\n",
              "    </tr>\n",
              "    <tr>\n",
              "      <th>5</th>\n",
              "      <td>2014</td>\n",
              "      <td>1.116484e+10</td>\n",
              "      <td>3.93</td>\n",
              "      <td>44129820.17</td>\n",
              "      <td>3.11</td>\n",
              "      <td>12781.76</td>\n",
              "      <td>3.72</td>\n",
              "      <td>71126</td>\n",
              "      <td>-1.78</td>\n",
              "      <td>89.67</td>\n",
              "      <td>0.93</td>\n",
              "      <td>4.04</td>\n",
              "      <td>-14.32</td>\n",
              "      <td>549.0</td>\n",
              "      <td>-0.20</td>\n",
              "      <td>561.0</td>\n",
              "      <td>0.03</td>\n",
              "    </tr>\n",
              "    <tr>\n",
              "      <th>6</th>\n",
              "      <td>2015</td>\n",
              "      <td>1.164295e+10</td>\n",
              "      <td>4.28</td>\n",
              "      <td>46202185.38</td>\n",
              "      <td>4.70</td>\n",
              "      <td>13310.08</td>\n",
              "      <td>4.13</td>\n",
              "      <td>70060</td>\n",
              "      <td>-1.50</td>\n",
              "      <td>90.12</td>\n",
              "      <td>0.51</td>\n",
              "      <td>3.94</td>\n",
              "      <td>-2.62</td>\n",
              "      <td>550.0</td>\n",
              "      <td>0.24</td>\n",
              "      <td>562.0</td>\n",
              "      <td>0.24</td>\n",
              "    </tr>\n",
              "    <tr>\n",
              "      <th>7</th>\n",
              "      <td>2016</td>\n",
              "      <td>1.208610e+10</td>\n",
              "      <td>3.81</td>\n",
              "      <td>47583077.41</td>\n",
              "      <td>2.99</td>\n",
              "      <td>13780.59</td>\n",
              "      <td>3.54</td>\n",
              "      <td>71591</td>\n",
              "      <td>2.19</td>\n",
              "      <td>90.41</td>\n",
              "      <td>0.32</td>\n",
              "      <td>3.82</td>\n",
              "      <td>-3.03</td>\n",
              "      <td>552.0</td>\n",
              "      <td>0.35</td>\n",
              "      <td>556.0</td>\n",
              "      <td>-1.00</td>\n",
              "    </tr>\n",
              "    <tr>\n",
              "      <th>8</th>\n",
              "      <td>2017</td>\n",
              "      <td>1.249054e+10</td>\n",
              "      <td>3.35</td>\n",
              "      <td>49175369.81</td>\n",
              "      <td>3.35</td>\n",
              "      <td>14276.87</td>\n",
              "      <td>3.60</td>\n",
              "      <td>70246</td>\n",
              "      <td>-1.88</td>\n",
              "      <td>91.15</td>\n",
              "      <td>0.82</td>\n",
              "      <td>3.70</td>\n",
              "      <td>-3.15</td>\n",
              "      <td>555.0</td>\n",
              "      <td>0.50</td>\n",
              "      <td>557.0</td>\n",
              "      <td>0.14</td>\n",
              "    </tr>\n",
              "    <tr>\n",
              "      <th>9</th>\n",
              "      <td>2018</td>\n",
              "      <td>1.300157e+10</td>\n",
              "      <td>4.09</td>\n",
              "      <td>51389592.90</td>\n",
              "      <td>4.50</td>\n",
              "      <td>14869.97</td>\n",
              "      <td>4.15</td>\n",
              "      <td>71557</td>\n",
              "      <td>1.87</td>\n",
              "      <td>90.62</td>\n",
              "      <td>-0.58</td>\n",
              "      <td>3.65</td>\n",
              "      <td>-1.17</td>\n",
              "      <td>550.0</td>\n",
              "      <td>-0.85</td>\n",
              "      <td>553.0</td>\n",
              "      <td>-0.67</td>\n",
              "    </tr>\n",
              "  </tbody>\n",
              "</table>\n",
              "</div>"
            ],
            "text/plain": [
              "   Year  Total_Expenditure  ...  Writing_Score  Change_Writing_Score\n",
              "0  2009       9.586135e+09  ...          561.0                   NaN\n",
              "1  2010       9.915306e+09  ...          558.0                 -0.43\n",
              "2  2011       1.008025e+10  ...          559.0                  0.07\n",
              "3  2012       1.035620e+10  ...          558.0                 -0.15\n",
              "4  2013       1.074243e+10  ...          560.0                  0.42\n",
              "5  2014       1.116484e+10  ...          561.0                  0.03\n",
              "6  2015       1.164295e+10  ...          562.0                  0.24\n",
              "7  2016       1.208610e+10  ...          556.0                 -1.00\n",
              "8  2017       1.249054e+10  ...          557.0                  0.14\n",
              "9  2018       1.300157e+10  ...          553.0                 -0.67\n",
              "\n",
              "[10 rows x 17 columns]"
            ]
          },
          "metadata": {
            "tags": []
          },
          "execution_count": 42
        }
      ]
    },
    {
      "cell_type": "code",
      "metadata": {
        "id": "H1hZh6mu4kLm",
        "colab_type": "code",
        "outputId": "99193858-c36f-492e-e024-254b30c66622",
        "colab": {
          "base_uri": "https://localhost:8080/",
          "height": 314
        }
      },
      "source": [
        "# Correlation matrix of Summary table\n",
        "\n",
        "summary2= summary[['Year','Total_Expenditure','Mean_Expenditure', 'Per_Pupil_Exp','Grade_12',\n",
        "                  'Graduated','Dropped_Out', 'Math_Score', 'Writing_Score']]\n",
        "summary2.corr()"
      ],
      "execution_count": 0,
      "outputs": [
        {
          "output_type": "execute_result",
          "data": {
            "text/html": [
              "<div>\n",
              "<style scoped>\n",
              "    .dataframe tbody tr th:only-of-type {\n",
              "        vertical-align: middle;\n",
              "    }\n",
              "\n",
              "    .dataframe tbody tr th {\n",
              "        vertical-align: top;\n",
              "    }\n",
              "\n",
              "    .dataframe thead th {\n",
              "        text-align: right;\n",
              "    }\n",
              "</style>\n",
              "<table border=\"1\" class=\"dataframe\">\n",
              "  <thead>\n",
              "    <tr style=\"text-align: right;\">\n",
              "      <th></th>\n",
              "      <th>Year</th>\n",
              "      <th>Total_Expenditure</th>\n",
              "      <th>Mean_Expenditure</th>\n",
              "      <th>Per_Pupil_Exp</th>\n",
              "      <th>Grade_12</th>\n",
              "      <th>Graduated</th>\n",
              "      <th>Dropped_Out</th>\n",
              "      <th>Math_Score</th>\n",
              "      <th>Writing_Score</th>\n",
              "    </tr>\n",
              "  </thead>\n",
              "  <tbody>\n",
              "    <tr>\n",
              "      <th>Year</th>\n",
              "      <td>1.000000</td>\n",
              "      <td>0.992621</td>\n",
              "      <td>0.995307</td>\n",
              "      <td>0.993045</td>\n",
              "      <td>-0.821801</td>\n",
              "      <td>0.971081</td>\n",
              "      <td>-0.943900</td>\n",
              "      <td>0.587969</td>\n",
              "      <td>-0.546786</td>\n",
              "    </tr>\n",
              "    <tr>\n",
              "      <th>Total_Expenditure</th>\n",
              "      <td>0.992621</td>\n",
              "      <td>1.000000</td>\n",
              "      <td>0.998851</td>\n",
              "      <td>0.999909</td>\n",
              "      <td>-0.758694</td>\n",
              "      <td>0.939573</td>\n",
              "      <td>-0.900281</td>\n",
              "      <td>0.604298</td>\n",
              "      <td>-0.589418</td>\n",
              "    </tr>\n",
              "    <tr>\n",
              "      <th>Mean_Expenditure</th>\n",
              "      <td>0.995307</td>\n",
              "      <td>0.998851</td>\n",
              "      <td>1.000000</td>\n",
              "      <td>0.999142</td>\n",
              "      <td>-0.775146</td>\n",
              "      <td>0.947026</td>\n",
              "      <td>-0.911402</td>\n",
              "      <td>0.600985</td>\n",
              "      <td>-0.568134</td>\n",
              "    </tr>\n",
              "    <tr>\n",
              "      <th>Per_Pupil_Exp</th>\n",
              "      <td>0.993045</td>\n",
              "      <td>0.999909</td>\n",
              "      <td>0.999142</td>\n",
              "      <td>1.000000</td>\n",
              "      <td>-0.759953</td>\n",
              "      <td>0.940049</td>\n",
              "      <td>-0.901426</td>\n",
              "      <td>0.601766</td>\n",
              "      <td>-0.588035</td>\n",
              "    </tr>\n",
              "    <tr>\n",
              "      <th>Grade_12</th>\n",
              "      <td>-0.821801</td>\n",
              "      <td>-0.758694</td>\n",
              "      <td>-0.775146</td>\n",
              "      <td>-0.759953</td>\n",
              "      <td>1.000000</td>\n",
              "      <td>-0.917449</td>\n",
              "      <td>0.938921</td>\n",
              "      <td>-0.457465</td>\n",
              "      <td>0.131617</td>\n",
              "    </tr>\n",
              "    <tr>\n",
              "      <th>Graduated</th>\n",
              "      <td>0.971081</td>\n",
              "      <td>0.939573</td>\n",
              "      <td>0.947026</td>\n",
              "      <td>0.940049</td>\n",
              "      <td>-0.917449</td>\n",
              "      <td>1.000000</td>\n",
              "      <td>-0.983926</td>\n",
              "      <td>0.593043</td>\n",
              "      <td>-0.387486</td>\n",
              "    </tr>\n",
              "    <tr>\n",
              "      <th>Dropped_Out</th>\n",
              "      <td>-0.943900</td>\n",
              "      <td>-0.900281</td>\n",
              "      <td>-0.911402</td>\n",
              "      <td>-0.901426</td>\n",
              "      <td>0.938921</td>\n",
              "      <td>-0.983926</td>\n",
              "      <td>1.000000</td>\n",
              "      <td>-0.479837</td>\n",
              "      <td>0.367181</td>\n",
              "    </tr>\n",
              "    <tr>\n",
              "      <th>Math_Score</th>\n",
              "      <td>0.587969</td>\n",
              "      <td>0.604298</td>\n",
              "      <td>0.600985</td>\n",
              "      <td>0.601766</td>\n",
              "      <td>-0.457465</td>\n",
              "      <td>0.593043</td>\n",
              "      <td>-0.479837</td>\n",
              "      <td>1.000000</td>\n",
              "      <td>-0.212398</td>\n",
              "    </tr>\n",
              "    <tr>\n",
              "      <th>Writing_Score</th>\n",
              "      <td>-0.546786</td>\n",
              "      <td>-0.589418</td>\n",
              "      <td>-0.568134</td>\n",
              "      <td>-0.588035</td>\n",
              "      <td>0.131617</td>\n",
              "      <td>-0.387486</td>\n",
              "      <td>0.367181</td>\n",
              "      <td>-0.212398</td>\n",
              "      <td>1.000000</td>\n",
              "    </tr>\n",
              "  </tbody>\n",
              "</table>\n",
              "</div>"
            ],
            "text/plain": [
              "                       Year  Total_Expenditure  ...  Math_Score  Writing_Score\n",
              "Year               1.000000           0.992621  ...    0.587969      -0.546786\n",
              "Total_Expenditure  0.992621           1.000000  ...    0.604298      -0.589418\n",
              "Mean_Expenditure   0.995307           0.998851  ...    0.600985      -0.568134\n",
              "Per_Pupil_Exp      0.993045           0.999909  ...    0.601766      -0.588035\n",
              "Grade_12          -0.821801          -0.758694  ...   -0.457465       0.131617\n",
              "Graduated          0.971081           0.939573  ...    0.593043      -0.387486\n",
              "Dropped_Out       -0.943900          -0.900281  ...   -0.479837       0.367181\n",
              "Math_Score         0.587969           0.604298  ...    1.000000      -0.212398\n",
              "Writing_Score     -0.546786          -0.589418  ...   -0.212398       1.000000\n",
              "\n",
              "[9 rows x 9 columns]"
            ]
          },
          "metadata": {
            "tags": []
          },
          "execution_count": 43
        }
      ]
    },
    {
      "cell_type": "code",
      "metadata": {
        "id": "j1QpmUOFDZmf",
        "colab_type": "code",
        "outputId": "45d9aee8-2d1d-492e-fa2f-4a385be4ece7",
        "colab": {
          "base_uri": "https://localhost:8080/",
          "height": 106
        }
      },
      "source": [
        "# 10 year change\n",
        "\n",
        "x= summary.loc[summary['Year']==2009]\n",
        "y= summary.loc[summary['Year']==2018]\n",
        "\n",
        "ten_year= pd.concat([x,y])\n",
        "\n",
        "ten_year= ten_year.pct_change()*100\n",
        "ten_year=ten_year[['Year','Total_Expenditure', 'Mean_Expenditure', 'Grade_12','Per_Pupil_Exp', 'Graduated', 'Dropped_Out', 'Math_Score', 'Writing_Score']].reset_index(drop=True)\n",
        "ten_year.loc[0,'Year']=2009\n",
        "ten_year.loc[1,'Year']=2018\n",
        "ten_year= ten_year.round({\"Year\":0, 'Total_Expenditure': 2, \"Mean_Expenditure\":2, \"Grade_12\":2, 'Graduated': 2, \"Dropped_Out\": 2, 'Per_Pupil_Exp': 2,'Math_Score':2,'Writing_Score':2}) \n",
        "\n",
        "# Final table\n",
        "ten_year"
      ],
      "execution_count": 0,
      "outputs": [
        {
          "output_type": "execute_result",
          "data": {
            "text/html": [
              "<div>\n",
              "<style scoped>\n",
              "    .dataframe tbody tr th:only-of-type {\n",
              "        vertical-align: middle;\n",
              "    }\n",
              "\n",
              "    .dataframe tbody tr th {\n",
              "        vertical-align: top;\n",
              "    }\n",
              "\n",
              "    .dataframe thead th {\n",
              "        text-align: right;\n",
              "    }\n",
              "</style>\n",
              "<table border=\"1\" class=\"dataframe\">\n",
              "  <thead>\n",
              "    <tr style=\"text-align: right;\">\n",
              "      <th></th>\n",
              "      <th>Year</th>\n",
              "      <th>Total_Expenditure</th>\n",
              "      <th>Mean_Expenditure</th>\n",
              "      <th>Grade_12</th>\n",
              "      <th>Per_Pupil_Exp</th>\n",
              "      <th>Graduated</th>\n",
              "      <th>Dropped_Out</th>\n",
              "      <th>Math_Score</th>\n",
              "      <th>Writing_Score</th>\n",
              "    </tr>\n",
              "  </thead>\n",
              "  <tbody>\n",
              "    <tr>\n",
              "      <th>0</th>\n",
              "      <td>2009.0</td>\n",
              "      <td>NaN</td>\n",
              "      <td>NaN</td>\n",
              "      <td>NaN</td>\n",
              "      <td>NaN</td>\n",
              "      <td>NaN</td>\n",
              "      <td>NaN</td>\n",
              "      <td>NaN</td>\n",
              "      <td>NaN</td>\n",
              "    </tr>\n",
              "    <tr>\n",
              "      <th>1</th>\n",
              "      <td>2018.0</td>\n",
              "      <td>35.63</td>\n",
              "      <td>36.7</td>\n",
              "      <td>-5.68</td>\n",
              "      <td>35.61</td>\n",
              "      <td>5.57</td>\n",
              "      <td>-47.86</td>\n",
              "      <td>0.0</td>\n",
              "      <td>-1.43</td>\n",
              "    </tr>\n",
              "  </tbody>\n",
              "</table>\n",
              "</div>"
            ],
            "text/plain": [
              "     Year  Total_Expenditure  ...  Math_Score  Writing_Score\n",
              "0  2009.0                NaN  ...         NaN            NaN\n",
              "1  2018.0              35.63  ...         0.0          -1.43\n",
              "\n",
              "[2 rows x 9 columns]"
            ]
          },
          "metadata": {
            "tags": []
          },
          "execution_count": 44
        }
      ]
    },
    {
      "cell_type": "markdown",
      "metadata": {
        "id": "Se5IBIFANvqQ",
        "colab_type": "text"
      },
      "source": [
        "**Data Visualization & Exploration**"
      ]
    },
    {
      "cell_type": "code",
      "metadata": {
        "colab_type": "code",
        "id": "ujX3ynwe-KFX",
        "outputId": "24d7cdbb-ba81-4a5c-d0cc-dacf0799dac2",
        "colab": {
          "base_uri": "https://localhost:8080/",
          "height": 295
        }
      },
      "source": [
        "# Line Graph of SAT scores\n",
        "# SAT scores prior to 2016 have been converted to reflect the new method for scoring\n",
        "\n",
        "sns.lineplot(x='Year', y='New_Math_Score', data= main, err_style= None, color='blue')\n",
        "sns.lineplot(x='Year', y='New_Writing_Score', data= main, err_style= None, color= 'orange')\n",
        "plt.ylabel('SAT Score')\n",
        "plt.title('SAT Scores')\n",
        "plt.legend(labels=['Math', 'Writing'], loc='lower right');"
      ],
      "execution_count": 0,
      "outputs": [
        {
          "output_type": "display_data",
          "data": {
            "image/png": "[encoded data removed]",
            "text/plain": [
              "<Figure size 432x288 with 1 Axes>"
            ]
          },
          "metadata": {
            "tags": [],
            "needs_background": "light"
          }
        }
      ]
    },
    {
      "cell_type": "code",
      "metadata": {
        "id": "VCb2xaRBUSlL",
        "colab_type": "code",
        "outputId": "9d2c68f2-4dbe-41ce-b846-d8d3e8e9ec40",
        "colab": {
          "base_uri": "https://localhost:8080/",
          "height": 295
        }
      },
      "source": [
        "# Line graph of YoY change\n",
        "\n",
        "sns.lineplot(x='Year', y='Change_Graduated', data= summary, err_style= None, color='blue')\n",
        "sns.lineplot(x='Year', y='Change_Total_Exp', data= summary, err_style= None, color='orange')\n",
        "sns.lineplot(x='Year', y='Change_Dropped_Out', data= summary, err_style= None, color='red')\n",
        "plt.ylabel('% Change')\n",
        "plt.title('YoY Change')\n",
        "plt.legend(labels=['Change_Graduated', 'Change_Total_Exp', 'Change_Dropped_Out'], loc='lower right');"
      ],
      "execution_count": 0,
      "outputs": [
        {
          "output_type": "display_data",
          "data": {
            "image/png": "[encoded data removed]",
            "text/plain": [
              "<Figure size 432x288 with 1 Axes>"
            ]
          },
          "metadata": {
            "tags": [],
            "needs_background": "light"
          }
        }
      ]
    },
    {
      "cell_type": "code",
      "metadata": {
        "id": "E1GlU2ABLgKq",
        "colab_type": "code",
        "outputId": "082390de-00ce-4b8a-8c4d-756078525887",
        "colab": {
          "base_uri": "https://localhost:8080/",
          "height": 295
        }
      },
      "source": [
        "# Boxplot of high school graduation rates\n",
        "\n",
        "sns.boxplot(x='Year', y= 'Graduated_%', data=main)\n",
        "plt.title('Boxplot of High School Graduation Rates');"
      ],
      "execution_count": 0,
      "outputs": [
        {
          "output_type": "display_data",
          "data": {
            "image/png": "[encoded data removed]",
            "text/plain": [
              "<Figure size 432x288 with 1 Axes>"
            ]
          },
          "metadata": {
            "tags": [],
            "needs_background": "light"
          }
        }
      ]
    },
    {
      "cell_type": "code",
      "metadata": {
        "id": "8kJrANjxO1j3",
        "colab_type": "code",
        "outputId": "0b2462d2-1670-49af-e405-45520f9284b6",
        "colab": {
          "base_uri": "https://localhost:8080/",
          "height": 295
        }
      },
      "source": [
        "# Boxplot of state aid per-pupil expenditure\n",
        "\n",
        "sns.boxplot(x='Year', y= 'State_Aid_Per_Pupil', data=main)\n",
        "plt.title('Boxplot of State Aid per Pupil');"
      ],
      "execution_count": 0,
      "outputs": [
        {
          "output_type": "display_data",
          "data": {
            "image/png": "[encoded data removed]",
            "text/plain": [
              "<Figure size 432x288 with 1 Axes>"
            ]
          },
          "metadata": {
            "tags": [],
            "needs_background": "light"
          }
        }
      ]
    },
    {
      "cell_type": "code",
      "metadata": {
        "id": "mbhf8sNIn9Rj",
        "colab_type": "code",
        "outputId": "921c5079-316d-47a2-bb34-cc896233a5ea",
        "colab": {
          "base_uri": "https://localhost:8080/",
          "height": 296
        }
      },
      "source": [
        "a= main[(main['Year']==2009)]\n",
        "b= main[(main['Year']==2018)]\n",
        "sns.scatterplot(x=\"Graduated_%\", y=\"State_Aid_Per_Pupil\", data=a, color= 'red')\n",
        "sns.scatterplot(x=\"Graduated_%\", y=\"State_Aid_Per_Pupil\", data=b, color= 'blue')\n",
        "plt.legend(labels=['2009', '2018'], loc='upper left');\n",
        "plt.title('Per Pupil Expenditure vs High School Graduation Rate');"
      ],
      "execution_count": 0,
      "outputs": [
        {
          "output_type": "display_data",
          "data": {
            "image/png": "[encoded data removed]",
            "text/plain": [
              "<Figure size 432x288 with 1 Axes>"
            ]
          },
          "metadata": {
            "tags": [],
            "needs_background": "light"
          }
        }
      ]
    },
    {
      "cell_type": "code",
      "metadata": {
        "id": "LMJ67GksEdqM",
        "colab_type": "code",
        "outputId": "4361ca25-b858-4c8b-edfa-376f5975de86",
        "colab": {
          "base_uri": "https://localhost:8080/",
          "height": 296
        }
      },
      "source": [
        "# Scatterplot of per pupil expenditure vs. high school graduaiton rate\n",
        "\n",
        "sns.scatterplot(x=\"Dropped_Out_%\", y=\"State_Aid_Per_Pupil\", data=main, color= 'red', hue= 'Majority_Ethnicity')\n",
        "plt.title('State Aid Per Pupil vs. Dropout Rate');"
      ],
      "execution_count": 0,
      "outputs": [
        {
          "output_type": "display_data",
          "data": {
            "image/png": "[encoded data removed]",
            "text/plain": [
              "<Figure size 432x288 with 1 Axes>"
            ]
          },
          "metadata": {
            "tags": [],
            "needs_background": "light"
          }
        }
      ]
    },
    {
      "cell_type": "code",
      "metadata": {
        "id": "by0NEaQ0EjpE",
        "colab_type": "code",
        "outputId": "d2fbe848-e21e-4615-e9c0-c1120bf32147",
        "colab": {
          "base_uri": "https://localhost:8080/",
          "height": 296
        }
      },
      "source": [
        "# Scatterplot of per pupil expenditure vs. high school graduaiton rate\n",
        "sns.scatterplot(x=\"Low_Income_%\", y=\"State_Aid_Per_Pupil\", data=main, color= 'red', hue= 'Majority_Ethnicity')\n",
        "plt.title('State Aid Per Pupil vs Low Income Students');"
      ],
      "execution_count": 0,
      "outputs": [
        {
          "output_type": "display_data",
          "data": {
            "image/png": "[encoded data removed]",
            "text/plain": [
              "<Figure size 432x288 with 1 Axes>"
            ]
          },
          "metadata": {
            "tags": [],
            "needs_background": "light"
          }
        }
      ]
    },
    {
      "cell_type": "markdown",
      "metadata": {
        "id": "EoYRqwumBmjD",
        "colab_type": "text"
      },
      "source": [
        "**Multivariate Regression Construction**"
      ]
    },
    {
      "cell_type": "code",
      "metadata": {
        "id": "0nYDV21u4Tsb",
        "colab_type": "code",
        "colab": {}
      },
      "source": [
        "# Libraries\n",
        "from sklearn.linear_model import LinearRegression\n",
        "from sklearn.metrics import mean_squared_error\n",
        "from sklearn.metrics import mean_absolute_error\n",
        "from sklearn.model_selection import train_test_split\n",
        "\n",
        "# Dependent Variables (Vectors)\n",
        "y1 = main['Graduated_%'].values\n",
        "y2 = main['Dropped_Out_%'].values\n",
        "y3 = main['New_Math_Score'].values\n",
        "y4 = main['New_Writing_Score'].values\n",
        "\n",
        "# Independent Variables (Arrays)\n",
        "X1 = main[ ['Average_Class_Size', 'Low_Income_%', 'State_Aid_Per_Pupil_(1000s)', 'Teacher_Avg_Salary_(1000s)','Total_Teachers', 'Teacher_Proficient_%', 'Teacher_Needs_Improvement_%'] ]\n",
        "X2 = main[ ['Average_Class_Size', 'Low_Income_%', 'State_Aid_Per_Pupil_(1000s)', 'Teacher_Avg_Salary_(1000s)','Total_Teachers', 'Teacher_Proficient_%', 'Teacher_Needs_Improvement_%', 'Majority_Ethnicity_African American', 'Majority_Ethnicity_Hispanic'] ]\n",
        "\n",
        "# X1 does not include school district ethnicity\n",
        "# X2 includes school district ethnicity\n",
        "\n",
        "# Training Model\n",
        "X1_train, X1_test, y1_train, y1_test = train_test_split(X1, y1, test_size = 0.3, random_state=40)\n",
        "X1_train, X1_test, y2_train, y2_test = train_test_split(X1, y2, test_size = 0.3, random_state=40)\n",
        "X1_train, X1_test, y3_train, y3_test = train_test_split(X1, y3, test_size = 0.3, random_state=40)\n",
        "X1_train, X1_test, y4_train, y4_test = train_test_split(X1, y4, test_size = 0.3, random_state=40)\n",
        "\n",
        "X2_train, X2_test, y1_train, y1_test = train_test_split(X2, y1, test_size = 0.3, random_state=40)\n",
        "X2_train, X2_test, y2_train, y2_test = train_test_split(X2, y2, test_size = 0.3, random_state=40)\n",
        "X2_train, X2_test, y3_train, y3_test = train_test_split(X2, y3, test_size = 0.3, random_state=40)\n",
        "X2_train, X2_test, y4_train, y4_test = train_test_split(X2, y4, test_size = 0.3, random_state=40)\n",
        "\n",
        "# Instantiate Model\n",
        "linreg1= LinearRegression()\n",
        "linreg2= LinearRegression()\n",
        "linreg3= LinearRegression()\n",
        "linreg4= LinearRegression()\n",
        "\n",
        "# Linear Regressions 1-4 do not include school district ethnicity\n",
        "\n",
        "linreg5= LinearRegression()\n",
        "linreg6= LinearRegression()\n",
        "linreg7= LinearRegression()\n",
        "linreg8= LinearRegression()\n",
        "\n",
        "# Linear Regressions 5-8 includes school district ethnicity\n",
        "\n",
        "# Fit Model to trainning data\n",
        "linreg1.fit(X1_train,y1_train)\n",
        "linreg2.fit(X1_train,y2_train)\n",
        "linreg3.fit(X1_train,y3_train)\n",
        "linreg4.fit(X1_train,y4_train)\n",
        "\n",
        "linreg5.fit(X2_train,y1_train)\n",
        "linreg6.fit(X2_train,y2_train)\n",
        "linreg7.fit(X2_train,y3_train)\n",
        "linreg8.fit(X2_train,y4_train)\n",
        "\n",
        "# Predictions\n",
        "y1_pred = linreg1.predict(X1_test)\n",
        "y2_pred = linreg2.predict(X1_test)\n",
        "y3_pred = linreg3.predict(X1_test)\n",
        "y4_pred = linreg4.predict(X1_test)\n",
        "\n",
        "y5_pred = linreg5.predict(X2_test)\n",
        "y6_pred = linreg6.predict(X2_test)\n",
        "y7_pred = linreg7.predict(X2_test)\n",
        "y8_pred = linreg8.predict(X2_test)\n"
      ],
      "execution_count": 0,
      "outputs": []
    },
    {
      "cell_type": "markdown",
      "metadata": {
        "id": "po7G_mSgDBuv",
        "colab_type": "text"
      },
      "source": [
        "**Constructing Model's Coefficient & Intercept Tables**"
      ]
    },
    {
      "cell_type": "code",
      "metadata": {
        "id": "bborFcxsKPs3",
        "colab_type": "code",
        "colab": {}
      },
      "source": [
        "coefficient1 = pd.DataFrame(linreg1.coef_, X1.columns, columns=['Coefficient_1'])  \n",
        "coefficient2 = pd.DataFrame(linreg2.coef_, X1.columns, columns=['Coefficient_2'])  \n",
        "coefficient3 = pd.DataFrame(linreg3.coef_, X1.columns, columns=['Coefficient_3'])  \n",
        "coefficient4 = pd.DataFrame(linreg4.coef_, X1.columns, columns=['Coefficient_4'])  \n",
        "\n",
        "coefficient5 = pd.DataFrame(linreg5.coef_, X2.columns, columns=['Coefficient_5'])  \n",
        "coefficient6 = pd.DataFrame(linreg6.coef_, X2.columns, columns=['Coefficient_6'])  \n",
        "coefficient7 = pd.DataFrame(linreg7.coef_, X2.columns, columns=['Coefficient_7'])  \n",
        "coefficient8 = pd.DataFrame(linreg8.coef_, X2.columns, columns=['Coefficient_8'])  \n",
        "\n",
        "a= coefficient1.join(coefficient2, how='outer').join(coefficient3, how='outer').join(coefficient4, how='outer')\n",
        "a= a.rename(columns={'Coefficient_1':'Graduate_%', 'Coefficient_2': 'Dropped_Out_%', 'Coefficient_3':'SAT_Math_Score', 'Coefficient_4':'SAT_Writing_Score'})\n",
        "\n",
        "b= coefficient5.join(coefficient6, how='outer').join(coefficient7, how='outer').join(coefficient8, how='outer')\n",
        "b= b.rename(columns={'Coefficient_5':'Graduate_%', 'Coefficient_6': 'Dropped_Out_%', 'Coefficient_7':'SAT_Math_Score', 'Coefficient_8':'SAT_Writing_Score'})\n",
        "\n",
        "intercept1= [linreg1.intercept_, linreg2.intercept_, linreg3.intercept_,linreg4.intercept_]\n",
        "intercept2= [linreg5.intercept_, linreg6.intercept_, linreg7.intercept_,linreg8.intercept_]\n",
        "\n",
        "interceptdf1= pd.DataFrame([intercept1], columns=['Graduate_%', 'Dropped_Out_%','SAT_Math_Score', 'SAT_Writing_Score'], index=['Intercept'])\n",
        "interceptdf2= pd.DataFrame([intercept2], columns=['Graduate_%', 'Dropped_Out_%','SAT_Math_Score', 'SAT_Writing_Score'], index=['Intercept'])\n",
        "\n",
        "# Coefficient & Intercept Table for regressions 1-4 (does not include school ethnicity)\n",
        "tabel1= a.append(interceptdf1)\n",
        "\n",
        "# Coefficient & Intercept Table for regressions 5-8 (includes school ethnicity)\n",
        "tabel2= b.append(interceptdf2)"
      ],
      "execution_count": 0,
      "outputs": []
    },
    {
      "cell_type": "markdown",
      "metadata": {
        "id": "_0jdbKrXUgE9",
        "colab_type": "text"
      },
      "source": [
        "**Coefficient & Intercept Tables**"
      ]
    },
    {
      "cell_type": "code",
      "metadata": {
        "id": "vL_3NPhgOFV1",
        "colab_type": "code",
        "outputId": "b64f7210-8208-4861-8260-a61953571ffc",
        "colab": {
          "base_uri": "https://localhost:8080/",
          "height": 284
        }
      },
      "source": [
        "tabel1 "
      ],
      "execution_count": 0,
      "outputs": [
        {
          "output_type": "execute_result",
          "data": {
            "text/html": [
              "<div>\n",
              "<style scoped>\n",
              "    .dataframe tbody tr th:only-of-type {\n",
              "        vertical-align: middle;\n",
              "    }\n",
              "\n",
              "    .dataframe tbody tr th {\n",
              "        vertical-align: top;\n",
              "    }\n",
              "\n",
              "    .dataframe thead th {\n",
              "        text-align: right;\n",
              "    }\n",
              "</style>\n",
              "<table border=\"1\" class=\"dataframe\">\n",
              "  <thead>\n",
              "    <tr style=\"text-align: right;\">\n",
              "      <th></th>\n",
              "      <th>Graduate_%</th>\n",
              "      <th>Dropped_Out_%</th>\n",
              "      <th>SAT_Math_Score</th>\n",
              "      <th>SAT_Writing_Score</th>\n",
              "    </tr>\n",
              "  </thead>\n",
              "  <tbody>\n",
              "    <tr>\n",
              "      <th>Average_Class_Size</th>\n",
              "      <td>-0.289117</td>\n",
              "      <td>0.113964</td>\n",
              "      <td>0.943834</td>\n",
              "      <td>0.488178</td>\n",
              "    </tr>\n",
              "    <tr>\n",
              "      <th>Low_Income_%</th>\n",
              "      <td>-0.335576</td>\n",
              "      <td>0.175307</td>\n",
              "      <td>-1.618056</td>\n",
              "      <td>-1.909336</td>\n",
              "    </tr>\n",
              "    <tr>\n",
              "      <th>State_Aid_Per_Pupil_(1000s)</th>\n",
              "      <td>0.225996</td>\n",
              "      <td>-0.168144</td>\n",
              "      <td>0.187253</td>\n",
              "      <td>0.184853</td>\n",
              "    </tr>\n",
              "    <tr>\n",
              "      <th>Teacher_Avg_Salary_(1000s)</th>\n",
              "      <td>0.126846</td>\n",
              "      <td>-0.074248</td>\n",
              "      <td>0.420952</td>\n",
              "      <td>-0.066734</td>\n",
              "    </tr>\n",
              "    <tr>\n",
              "      <th>Total_Teachers</th>\n",
              "      <td>-0.003205</td>\n",
              "      <td>0.001224</td>\n",
              "      <td>0.011936</td>\n",
              "      <td>0.009302</td>\n",
              "    </tr>\n",
              "    <tr>\n",
              "      <th>Teacher_Proficient_%</th>\n",
              "      <td>0.038399</td>\n",
              "      <td>-0.020922</td>\n",
              "      <td>-0.090020</td>\n",
              "      <td>-0.249393</td>\n",
              "    </tr>\n",
              "    <tr>\n",
              "      <th>Teacher_Needs_Improvement_%</th>\n",
              "      <td>-0.228399</td>\n",
              "      <td>0.127939</td>\n",
              "      <td>-0.962108</td>\n",
              "      <td>-1.122001</td>\n",
              "    </tr>\n",
              "    <tr>\n",
              "      <th>Intercept</th>\n",
              "      <td>88.489065</td>\n",
              "      <td>6.984384</td>\n",
              "      <td>547.757474</td>\n",
              "      <td>622.102030</td>\n",
              "    </tr>\n",
              "  </tbody>\n",
              "</table>\n",
              "</div>"
            ],
            "text/plain": [
              "                             Graduate_%  ...  SAT_Writing_Score\n",
              "Average_Class_Size            -0.289117  ...           0.488178\n",
              "Low_Income_%                  -0.335576  ...          -1.909336\n",
              "State_Aid_Per_Pupil_(1000s)    0.225996  ...           0.184853\n",
              "Teacher_Avg_Salary_(1000s)     0.126846  ...          -0.066734\n",
              "Total_Teachers                -0.003205  ...           0.009302\n",
              "Teacher_Proficient_%           0.038399  ...          -0.249393\n",
              "Teacher_Needs_Improvement_%   -0.228399  ...          -1.122001\n",
              "Intercept                     88.489065  ...         622.102030\n",
              "\n",
              "[8 rows x 4 columns]"
            ]
          },
          "metadata": {
            "tags": []
          },
          "execution_count": 58
        }
      ]
    },
    {
      "cell_type": "code",
      "metadata": {
        "id": "l54BO4UDeQCY",
        "colab_type": "code",
        "outputId": "55057631-1585-476b-b0b3-630b4a5d0f72",
        "colab": {
          "base_uri": "https://localhost:8080/",
          "height": 343
        }
      },
      "source": [
        "tabel2"
      ],
      "execution_count": 0,
      "outputs": [
        {
          "output_type": "execute_result",
          "data": {
            "text/html": [
              "<div>\n",
              "<style scoped>\n",
              "    .dataframe tbody tr th:only-of-type {\n",
              "        vertical-align: middle;\n",
              "    }\n",
              "\n",
              "    .dataframe tbody tr th {\n",
              "        vertical-align: top;\n",
              "    }\n",
              "\n",
              "    .dataframe thead th {\n",
              "        text-align: right;\n",
              "    }\n",
              "</style>\n",
              "<table border=\"1\" class=\"dataframe\">\n",
              "  <thead>\n",
              "    <tr style=\"text-align: right;\">\n",
              "      <th></th>\n",
              "      <th>Graduate_%</th>\n",
              "      <th>Dropped_Out_%</th>\n",
              "      <th>SAT_Math_Score</th>\n",
              "      <th>SAT_Writing_Score</th>\n",
              "    </tr>\n",
              "  </thead>\n",
              "  <tbody>\n",
              "    <tr>\n",
              "      <th>Average_Class_Size</th>\n",
              "      <td>-0.271918</td>\n",
              "      <td>0.114015</td>\n",
              "      <td>1.040733</td>\n",
              "      <td>0.631812</td>\n",
              "    </tr>\n",
              "    <tr>\n",
              "      <th>Low_Income_%</th>\n",
              "      <td>-0.329311</td>\n",
              "      <td>0.172588</td>\n",
              "      <td>-1.585692</td>\n",
              "      <td>-1.863407</td>\n",
              "    </tr>\n",
              "    <tr>\n",
              "      <th>State_Aid_Per_Pupil_(1000s)</th>\n",
              "      <td>0.237496</td>\n",
              "      <td>-0.173164</td>\n",
              "      <td>0.246633</td>\n",
              "      <td>0.269098</td>\n",
              "    </tr>\n",
              "    <tr>\n",
              "      <th>Teacher_Avg_Salary_(1000s)</th>\n",
              "      <td>0.125048</td>\n",
              "      <td>-0.071372</td>\n",
              "      <td>0.413903</td>\n",
              "      <td>-0.075030</td>\n",
              "    </tr>\n",
              "    <tr>\n",
              "      <th>Total_Teachers</th>\n",
              "      <td>-0.002600</td>\n",
              "      <td>0.000816</td>\n",
              "      <td>0.014901</td>\n",
              "      <td>0.013390</td>\n",
              "    </tr>\n",
              "    <tr>\n",
              "      <th>Teacher_Proficient_%</th>\n",
              "      <td>0.036726</td>\n",
              "      <td>-0.020031</td>\n",
              "      <td>-0.098489</td>\n",
              "      <td>-0.261277</td>\n",
              "    </tr>\n",
              "    <tr>\n",
              "      <th>Teacher_Needs_Improvement_%</th>\n",
              "      <td>-0.192291</td>\n",
              "      <td>0.109571</td>\n",
              "      <td>-0.778454</td>\n",
              "      <td>-0.863567</td>\n",
              "    </tr>\n",
              "    <tr>\n",
              "      <th>Majority_Ethnicity_African American</th>\n",
              "      <td>-2.236936</td>\n",
              "      <td>-1.128118</td>\n",
              "      <td>-13.803404</td>\n",
              "      <td>-21.298346</td>\n",
              "    </tr>\n",
              "    <tr>\n",
              "      <th>Majority_Ethnicity_Hispanic</th>\n",
              "      <td>-2.857705</td>\n",
              "      <td>1.968043</td>\n",
              "      <td>-13.984715</td>\n",
              "      <td>-19.253587</td>\n",
              "    </tr>\n",
              "    <tr>\n",
              "      <th>Intercept</th>\n",
              "      <td>87.966229</td>\n",
              "      <td>6.954385</td>\n",
              "      <td>544.781349</td>\n",
              "      <td>617.669262</td>\n",
              "    </tr>\n",
              "  </tbody>\n",
              "</table>\n",
              "</div>"
            ],
            "text/plain": [
              "                                     Graduate_%  ...  SAT_Writing_Score\n",
              "Average_Class_Size                    -0.271918  ...           0.631812\n",
              "Low_Income_%                          -0.329311  ...          -1.863407\n",
              "State_Aid_Per_Pupil_(1000s)            0.237496  ...           0.269098\n",
              "Teacher_Avg_Salary_(1000s)             0.125048  ...          -0.075030\n",
              "Total_Teachers                        -0.002600  ...           0.013390\n",
              "Teacher_Proficient_%                   0.036726  ...          -0.261277\n",
              "Teacher_Needs_Improvement_%           -0.192291  ...          -0.863567\n",
              "Majority_Ethnicity_African American   -2.236936  ...         -21.298346\n",
              "Majority_Ethnicity_Hispanic           -2.857705  ...         -19.253587\n",
              "Intercept                             87.966229  ...         617.669262\n",
              "\n",
              "[10 rows x 4 columns]"
            ]
          },
          "metadata": {
            "tags": []
          },
          "execution_count": 59
        }
      ]
    },
    {
      "cell_type": "markdown",
      "metadata": {
        "id": "FhayzLIJDatZ",
        "colab_type": "text"
      },
      "source": [
        "**Evaluating Multivariate Regressions**"
      ]
    },
    {
      "cell_type": "code",
      "metadata": {
        "id": "j0iWC4PBOxvf",
        "colab_type": "code",
        "colab": {}
      },
      "source": [
        "eval1 = {'Value':[linreg1.score(X1_test, y1_test).round(4), np.sqrt(mean_squared_error(y1_test,y1_pred)).round(2), mean_absolute_error(y1_test, y1_pred).round(2)] } \n",
        "eval2 = {'Value':[linreg2.score(X1_test, y2_test).round(4), np.sqrt(mean_squared_error(y2_test,y2_pred)).round(2), mean_absolute_error(y2_test, y2_pred).round(2)] } \n",
        "eval3 = {'Value':[linreg3.score(X1_test, y3_test).round(4), np.sqrt(mean_squared_error(y3_test,y3_pred)).round(2), mean_absolute_error(y3_test, y3_pred).round(2)] } \n",
        "eval4 = {'Value':[linreg4.score(X1_test, y4_test).round(4), np.sqrt(mean_squared_error(y4_test,y4_pred)).round(2), mean_absolute_error(y4_test, y4_pred).round(2)] } \n",
        "\n",
        "evaldf1= pd.DataFrame(eval1, index= ['R-Squared', 'Root Mean Squared Error', 'Mean Absolute Error'] )\n",
        "evaldf2= pd.DataFrame(eval2, index= ['R-Squared', 'Root Mean Squared Error', 'Mean Absolute Error'] )\n",
        "evaldf3= pd.DataFrame(eval3, index= ['R-Squared', 'Root Mean Squared Error', 'Mean Absolute Error'] )\n",
        "evaldf4= pd.DataFrame(eval4, index= ['R-Squared', 'Root Mean Squared Error', 'Mean Absolute Error'] )\n",
        "\n",
        "result1= pd.concat([evaldf1, evaldf2, evaldf3, evaldf4],axis=1, ignore_index=True)\n",
        "result1= result1.rename(columns={0:'Graduate_%', 1: 'Dropped_Out_%', 2:'SAT_Math_Score', 3:'SAT_Writing_Score'})\n",
        "\n",
        "eval5 = {'Value':[linreg5.score(X2_test, y1_test).round(4), np.sqrt(mean_squared_error(y1_test,y5_pred)).round(2), mean_absolute_error(y1_test, y5_pred).round(2)] } \n",
        "eval6 = {'Value':[linreg6.score(X2_test, y2_test).round(4), np.sqrt(mean_squared_error(y2_test,y6_pred)).round(2), mean_absolute_error(y2_test, y6_pred).round(2)] } \n",
        "eval7 = {'Value':[linreg7.score(X2_test, y3_test).round(4), np.sqrt(mean_squared_error(y3_test,y7_pred)).round(2), mean_absolute_error(y3_test, y7_pred).round(2)] } \n",
        "eval8 = {'Value':[linreg8.score(X2_test, y4_test).round(4), np.sqrt(mean_squared_error(y4_test,y8_pred)).round(2), mean_absolute_error(y4_test, y8_pred).round(2)] } \n",
        "\n",
        "evaldf5= pd.DataFrame(eval5, index= ['R-Squared', 'Root Mean Squared Error', 'Mean Absolute Error'] )\n",
        "evaldf6= pd.DataFrame(eval6, index= ['R-Squared', 'Root Mean Squared Error', 'Mean Absolute Error'] )\n",
        "evaldf7= pd.DataFrame(eval7, index= ['R-Squared', 'Root Mean Squared Error', 'Mean Absolute Error'] )\n",
        "evaldf8= pd.DataFrame(eval8, index= ['R-Squared', 'Root Mean Squared Error', 'Mean Absolute Error'] )\n",
        "\n",
        "result2= pd.concat([evaldf5, evaldf6, evaldf7, evaldf8],axis=1, ignore_index=True)\n",
        "result2= result2.rename(columns={0:'Graduate_%', 1: 'Dropped_Out_%', 2:'SAT_Math_Score', 3:'SAT_Writing_Score'})\n"
      ],
      "execution_count": 0,
      "outputs": []
    },
    {
      "cell_type": "markdown",
      "metadata": {
        "id": "tps4XbMgUm06",
        "colab_type": "text"
      },
      "source": [
        "**Evaluation Tables**"
      ]
    },
    {
      "cell_type": "code",
      "metadata": {
        "id": "zmKoS80FUGeq",
        "colab_type": "code",
        "outputId": "03483694-9ddb-49df-a97c-c0b0c6fb1bdf",
        "colab": {
          "base_uri": "https://localhost:8080/",
          "height": 136
        }
      },
      "source": [
        "# Evaluation Table for regression 1-4\n",
        "result1 "
      ],
      "execution_count": 0,
      "outputs": [
        {
          "output_type": "execute_result",
          "data": {
            "text/html": [
              "<div>\n",
              "<style scoped>\n",
              "    .dataframe tbody tr th:only-of-type {\n",
              "        vertical-align: middle;\n",
              "    }\n",
              "\n",
              "    .dataframe tbody tr th {\n",
              "        vertical-align: top;\n",
              "    }\n",
              "\n",
              "    .dataframe thead th {\n",
              "        text-align: right;\n",
              "    }\n",
              "</style>\n",
              "<table border=\"1\" class=\"dataframe\">\n",
              "  <thead>\n",
              "    <tr style=\"text-align: right;\">\n",
              "      <th></th>\n",
              "      <th>Graduate_%</th>\n",
              "      <th>Dropped_Out_%</th>\n",
              "      <th>SAT_Math_Score</th>\n",
              "      <th>SAT_Writing_Score</th>\n",
              "    </tr>\n",
              "  </thead>\n",
              "  <tbody>\n",
              "    <tr>\n",
              "      <th>R-Squared</th>\n",
              "      <td>0.6711</td>\n",
              "      <td>0.6345</td>\n",
              "      <td>0.5855</td>\n",
              "      <td>0.6049</td>\n",
              "    </tr>\n",
              "    <tr>\n",
              "      <th>Root Mean Squared Error</th>\n",
              "      <td>5.0300</td>\n",
              "      <td>2.8200</td>\n",
              "      <td>26.3300</td>\n",
              "      <td>28.4200</td>\n",
              "    </tr>\n",
              "    <tr>\n",
              "      <th>Mean Absolute Error</th>\n",
              "      <td>3.6800</td>\n",
              "      <td>2.0400</td>\n",
              "      <td>20.4900</td>\n",
              "      <td>21.9300</td>\n",
              "    </tr>\n",
              "  </tbody>\n",
              "</table>\n",
              "</div>"
            ],
            "text/plain": [
              "                         Graduate_%  ...  SAT_Writing_Score\n",
              "R-Squared                    0.6711  ...             0.6049\n",
              "Root Mean Squared Error      5.0300  ...            28.4200\n",
              "Mean Absolute Error          3.6800  ...            21.9300\n",
              "\n",
              "[3 rows x 4 columns]"
            ]
          },
          "metadata": {
            "tags": []
          },
          "execution_count": 61
        }
      ]
    },
    {
      "cell_type": "code",
      "metadata": {
        "id": "5V2namgBDrwn",
        "colab_type": "code",
        "outputId": "f1284a8c-99e7-4970-9cd9-d2beac12efae",
        "colab": {
          "base_uri": "https://localhost:8080/",
          "height": 136
        }
      },
      "source": [
        "# Evaluation Table for regression 5-8\n",
        "result2"
      ],
      "execution_count": 0,
      "outputs": [
        {
          "output_type": "execute_result",
          "data": {
            "text/html": [
              "<div>\n",
              "<style scoped>\n",
              "    .dataframe tbody tr th:only-of-type {\n",
              "        vertical-align: middle;\n",
              "    }\n",
              "\n",
              "    .dataframe tbody tr th {\n",
              "        vertical-align: top;\n",
              "    }\n",
              "\n",
              "    .dataframe thead th {\n",
              "        text-align: right;\n",
              "    }\n",
              "</style>\n",
              "<table border=\"1\" class=\"dataframe\">\n",
              "  <thead>\n",
              "    <tr style=\"text-align: right;\">\n",
              "      <th></th>\n",
              "      <th>Graduate_%</th>\n",
              "      <th>Dropped_Out_%</th>\n",
              "      <th>SAT_Math_Score</th>\n",
              "      <th>SAT_Writing_Score</th>\n",
              "    </tr>\n",
              "  </thead>\n",
              "  <tbody>\n",
              "    <tr>\n",
              "      <th>R-Squared</th>\n",
              "      <td>0.67</td>\n",
              "      <td>0.6336</td>\n",
              "      <td>0.5873</td>\n",
              "      <td>0.6055</td>\n",
              "    </tr>\n",
              "    <tr>\n",
              "      <th>Root Mean Squared Error</th>\n",
              "      <td>5.04</td>\n",
              "      <td>2.8200</td>\n",
              "      <td>26.2800</td>\n",
              "      <td>28.4000</td>\n",
              "    </tr>\n",
              "    <tr>\n",
              "      <th>Mean Absolute Error</th>\n",
              "      <td>3.68</td>\n",
              "      <td>2.0400</td>\n",
              "      <td>20.4300</td>\n",
              "      <td>21.8800</td>\n",
              "    </tr>\n",
              "  </tbody>\n",
              "</table>\n",
              "</div>"
            ],
            "text/plain": [
              "                         Graduate_%  ...  SAT_Writing_Score\n",
              "R-Squared                      0.67  ...             0.6055\n",
              "Root Mean Squared Error        5.04  ...            28.4000\n",
              "Mean Absolute Error            3.68  ...            21.8800\n",
              "\n",
              "[3 rows x 4 columns]"
            ]
          },
          "metadata": {
            "tags": []
          },
          "execution_count": 62
        }
      ]
    },
    {
      "cell_type": "markdown",
      "metadata": {
        "id": "ijbqBJN9N4aO",
        "colab_type": "text"
      },
      "source": [
        "**Findings**\n",
        "\n",
        "As expected, both tables show that State Aid Per Pupil and Low Income % have a significant effect on the Graduation and Dropout Rates. Unexpectedly, bad teachers (Teacher_Needs_Improvement_%) had a significant effect on both Graduation and Dropout Rates, with the effect being greater than the effect of good teachers (Teacher_Proficient_%). From these exhibits, we can see that underperforming school districts require more state funding not just to help students who come from economically disadvantaged backgrounds, but also to recruit better teachers. \n",
        "\n",
        "The ethnicity of a school district plays a significant role in determining SAT Scores. School districts that are predominantly African American or Hispanic have lower SAT Math and Writing scores compared to a predominantly White school district, assuming all other variables are held constant. State Aid Per Pupil and Teacher Performance harm scores, regardless of a school district’s ethnicity. Similar to Graduation and Dropout Rates, the percent of low-income students within a school district harms SAT scores. \n",
        "\n",
        "\n",
        "The analysis that we have conducted on school districts shows that State Aid Per Pupil, percentage of students from economically disadvantaged backgrounds, bad teachers, and the ethnicity of a school district play a significant role in determining a district's Graduation and Dropout Rates. These factors, in turn, negatively affect Massachusetts' average Graduation and Dropout Rates, which explains why it has been lagging. Although the state has steadily increased school funding over the ten years, it is evident from the graphs that this funding has not improved the performance of school districts that are predominantly African American or Hispanic. Furthermore, as public school district aid is not progressive, school districts that are Hispanic or African American, and home to many economically disadvantaged students, are being adversely affected. Graduation Rates drop 2.2% and 2.9% in African American and Hispanic school districts, and Dropout Rates increase 1.1 and 2% in those same districts, all else being equal. \n",
        "\n",
        "When we analyzed SAT scores for public school districts and factored in ethnicity, we see the same trends. Although Asian and White students have higher scores than African American and Hispanic students, students from all four ethnicities suffer in performance if they are based out of a school district that is predominantly either African American or Hispanic. The effect of a school's ethnic makeup has the most significant effect in our multivariate analysis. SAT Math scores drop by 14 points in African American and Hispanic school districts and SAT Writing scores drop by 21 and 19 points in those same districts, all else being equal. \n"
      ]
    },
    {
      "cell_type": "markdown",
      "metadata": {
        "id": "46lVa4xDUttD",
        "colab_type": "text"
      },
      "source": [
        "**Export Master Tables**"
      ]
    },
    {
      "cell_type": "code",
      "metadata": {
        "id": "FVh3cbNsX8mh",
        "colab_type": "code",
        "colab": {}
      },
      "source": [
        "# Export Table\n",
        "\n",
        "# 10 Year Summary Table\n",
        "summary.to_excel('summary_table.xlsx')\n",
        "\n",
        "# District Level Data\n",
        "district_level_data= main[main['Year']>=2009]\n",
        "district_level_data.to_excel(\"Main_Table.xlsx\", sheet_name='Sheet1')\n",
        "\n",
        "# Graduate by Ethnicity\n",
        "graduate_by_ethnicity= df11[df11['Year']>=2009]\n",
        "graduate_by_ethnicity.to_excel(\"Graduate_By_Ethnicity.xlsx\", sheet_name='Graduate_Ethnicity')\n",
        "\n",
        "# Dropout by Ethnicity\n",
        "dropout_by_ethnicity= df12[df12['Year']>=2009]\n",
        "dropout_by_ethnicity.to_excel(\"Dropout_By_Ethnicity.xlsx\", sheet_name='Dropout_Ethnicity')\n",
        "\n",
        "# SAT Scores by Ethnicity\n",
        "sat_by_ethnicity= df14[df14['Year']>=2009]\n",
        "sat_by_ethnicity.to_excel(\"SAT_By_Ethnicity.xlsx\", sheet_name='SAT_Ethnicity')\n",
        "\n",
        "\n"
      ],
      "execution_count": 0,
      "outputs": []
    }
  ]
}