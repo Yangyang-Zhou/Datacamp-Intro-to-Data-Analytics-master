{
 "cells": [
  {
   "cell_type": "markdown",
   "metadata": {
    "colab_type": "text",
    "id": "5RsqFq6e7mtG"
   },
   "source": [
    "# ML for Finance in Python"
   ]
  },
  {
   "cell_type": "markdown",
   "metadata": {
    "colab_type": "text",
    "id": "J28vjFuwyEMq"
   },
   "source": [
    "Explore the data with some EDA.\n",
    "\n",
    "First, let's explore the data. Any time we begin a machine learning (ML) project, we need to first do some exploratory data analysis (EDA) to familiarize ourselves with the data. This includes things like:\n",
    "\n",
    "\n",
    "*   raw data plots\n",
    "*   histograms\n",
    "*   and more...\n",
    "\n",
    "\n",
    "I typically begin with raw data plots and histograms. This allows us to understand our data's distributions. If it's a normal distribution, we can use things like parametric statistics.\n",
    "\n",
    "There are two stocks loaded into pandas DataFrames: lng_df and spy_df (LNG and SPY). Take a look at them with .head(). We'll use the closing prices and eventually volume as inputs to ML algorithms.\n",
    "\n",
    "Note: We'll call plt.clf() each time we want to make a new plot, or f = plt.figure()."
   ]
  },
  {
   "cell_type": "markdown",
   "metadata": {
    "colab_type": "text",
    "id": "XI8xJ0cBdUd9"
   },
   "source": [
    "**Preparation: install yahoo stock api (Learn from Google)**"
   ]
  },
  {
   "cell_type": "code",
   "execution_count": 1,
   "metadata": {
    "colab": {
     "base_uri": "https://localhost:8080/",
     "height": 360
    },
    "colab_type": "code",
    "id": "xJzPXlfm5kWV",
    "outputId": "8767b15f-1fb5-42fc-d35f-6264146ddedf"
   },
   "outputs": [
    {
     "name": "stdout",
     "output_type": "stream",
     "text": [
      "Collecting fix_yahoo_finance\n",
      "  Downloading https://files.pythonhosted.org/packages/57/4d/c5b42adf80021f3f7e98d7f0cb925603e1817ac1d789f9d4803ba5bf6ace/fix-yahoo-finance-0.1.30.tar.gz\n",
      "Requirement already satisfied, skipping upgrade: pandas in /usr/local/lib/python2.7/dist-packages (from fix_yahoo_finance) (0.24.2)\n",
      "Requirement already satisfied, skipping upgrade: numpy in /usr/local/lib/python2.7/dist-packages (from fix_yahoo_finance) (1.16.3)\n",
      "Requirement already satisfied, skipping upgrade: requests in /usr/local/lib/python2.7/dist-packages (from fix_yahoo_finance) (2.21.0)\n",
      "Requirement already satisfied, skipping upgrade: multitasking in /usr/local/lib/python2.7/dist-packages (from fix_yahoo_finance) (0.0.7)\n",
      "Requirement already satisfied, skipping upgrade: pytz>=2011k in /usr/local/lib/python2.7/dist-packages (from pandas->fix_yahoo_finance) (2018.9)\n",
      "Requirement already satisfied, skipping upgrade: python-dateutil>=2.5.0 in /usr/local/lib/python2.7/dist-packages (from pandas->fix_yahoo_finance) (2.5.3)\n",
      "Requirement already satisfied, skipping upgrade: urllib3<1.25,>=1.21.1 in /usr/local/lib/python2.7/dist-packages (from requests->fix_yahoo_finance) (1.24.2)\n",
      "Requirement already satisfied, skipping upgrade: certifi>=2017.4.17 in /usr/local/lib/python2.7/dist-packages (from requests->fix_yahoo_finance) (2019.3.9)\n",
      "Requirement already satisfied, skipping upgrade: chardet<3.1.0,>=3.0.2 in /usr/local/lib/python2.7/dist-packages (from requests->fix_yahoo_finance) (3.0.4)\n",
      "Requirement already satisfied, skipping upgrade: idna<2.9,>=2.5 in /usr/local/lib/python2.7/dist-packages (from requests->fix_yahoo_finance) (2.8)\n",
      "Requirement already satisfied, skipping upgrade: six>=1.5 in /usr/local/lib/python2.7/dist-packages (from python-dateutil>=2.5.0->pandas->fix_yahoo_finance) (1.12.0)\n",
      "Installing collected packages: fix-yahoo-finance\n",
      "  Found existing installation: fix-yahoo-finance 0.0.22\n",
      "    Uninstalling fix-yahoo-finance-0.0.22:\n",
      "      Successfully uninstalled fix-yahoo-finance-0.0.22\n",
      "  Running setup.py install for fix-yahoo-finance ... \u001b[?25ldone\n",
      "\u001b[?25hSuccessfully installed fix-yahoo-finance-0.1.30\n"
     ]
    }
   ],
   "source": [
    "!pip install fix_yahoo_finance --upgrade --no-cache-dir"
   ]
  },
  {
   "cell_type": "markdown",
   "metadata": {
    "colab_type": "text",
    "id": "SJTYBim-mIbi"
   },
   "source": [
    "Upgrade Seaborn"
   ]
  },
  {
   "cell_type": "code",
   "execution_count": 2,
   "metadata": {
    "colab": {
     "base_uri": "https://localhost:8080/",
     "height": 275
    },
    "colab_type": "code",
    "id": "nLj-XHgrl80i",
    "outputId": "1a5fd3f7-23e3-4e9b-8e40-e175d0068344"
   },
   "outputs": [
    {
     "name": "stdout",
     "output_type": "stream",
     "text": [
      "Requirement already up-to-date: seaborn in /usr/local/lib/python2.7/dist-packages (0.9.0)\n",
      "Requirement already satisfied, skipping upgrade: numpy>=1.9.3 in /usr/local/lib/python2.7/dist-packages (from seaborn) (1.16.3)\n",
      "Requirement already satisfied, skipping upgrade: scipy>=0.14.0 in /usr/local/lib/python2.7/dist-packages (from seaborn) (1.2.1)\n",
      "Requirement already satisfied, skipping upgrade: pandas>=0.15.2 in /usr/local/lib/python2.7/dist-packages (from seaborn) (0.24.2)\n",
      "Requirement already satisfied, skipping upgrade: matplotlib>=1.4.3 in /usr/local/lib/python2.7/dist-packages (from seaborn) (2.2.4)\n",
      "Requirement already satisfied, skipping upgrade: pytz>=2011k in /usr/local/lib/python2.7/dist-packages (from pandas>=0.15.2->seaborn) (2018.9)\n",
      "Requirement already satisfied, skipping upgrade: python-dateutil>=2.5.0 in /usr/local/lib/python2.7/dist-packages (from pandas>=0.15.2->seaborn) (2.5.3)\n",
      "Requirement already satisfied, skipping upgrade: cycler>=0.10 in /usr/local/lib/python2.7/dist-packages (from matplotlib>=1.4.3->seaborn) (0.10.0)\n",
      "Requirement already satisfied, skipping upgrade: backports.functools-lru-cache in /usr/local/lib/python2.7/dist-packages (from matplotlib>=1.4.3->seaborn) (1.5)\n",
      "Requirement already satisfied, skipping upgrade: subprocess32 in /usr/local/lib/python2.7/dist-packages (from matplotlib>=1.4.3->seaborn) (3.5.3)\n",
      "Requirement already satisfied, skipping upgrade: kiwisolver>=1.0.1 in /usr/local/lib/python2.7/dist-packages (from matplotlib>=1.4.3->seaborn) (1.0.1)\n",
      "Requirement already satisfied, skipping upgrade: six>=1.10 in /usr/local/lib/python2.7/dist-packages (from matplotlib>=1.4.3->seaborn) (1.12.0)\n",
      "Requirement already satisfied, skipping upgrade: pyparsing!=2.0.4,!=2.1.2,!=2.1.6,>=2.0.1 in /usr/local/lib/python2.7/dist-packages (from matplotlib>=1.4.3->seaborn) (2.4.0)\n",
      "Requirement already satisfied, skipping upgrade: setuptools in /usr/local/lib/python2.7/dist-packages (from kiwisolver>=1.0.1->matplotlib>=1.4.3->seaborn) (40.9.0)\n"
     ]
    }
   ],
   "source": [
    "!pip install seaborn --upgrade"
   ]
  },
  {
   "cell_type": "markdown",
   "metadata": {
    "colab_type": "text",
    "id": "uswxbOSTmMYK"
   },
   "source": [
    "Import packages"
   ]
  },
  {
   "cell_type": "code",
   "execution_count": null,
   "metadata": {
    "colab": {},
    "colab_type": "code",
    "id": "eGxLw7j6cQLl"
   },
   "outputs": [],
   "source": [
    "import pandas as pd\n",
    "import numpy as np\n",
    "import matplotlib as mpl\n",
    "import matplotlib.pyplot as plt\n",
    "import seaborn as sns\n",
    "\n",
    "\n",
    "pd.core.common.is_list_like = pd.api.types.is_list_like\n",
    "from pandas_datareader import data as pdr\n",
    "import fix_yahoo_finance as yf\n",
    "yf.pdr_override()"
   ]
  },
  {
   "cell_type": "markdown",
   "metadata": {
    "colab_type": "text",
    "id": "bv7GNvxsmPUG"
   },
   "source": [
    "From Yahoo get Apple Stock Data"
   ]
  },
  {
   "cell_type": "code",
   "execution_count": 4,
   "metadata": {
    "colab": {
     "base_uri": "https://localhost:8080/",
     "height": 34
    },
    "colab_type": "code",
    "id": "hzGLL4tqchTy",
    "outputId": "7fba5665-9443-4d5a-967a-e4338d7fd5ac"
   },
   "outputs": [
    {
     "name": "stdout",
     "output_type": "stream",
     "text": [
      "[*********************100%***********************]  1 of 1 downloaded\n"
     ]
    }
   ],
   "source": [
    "AAPL  = pdr.get_data_yahoo(tickers =[\"AAPL\"],\n",
    "    start = \"2017-04-01\",\n",
    "    end=\"2019-03-31\",\n",
    "    as_panel = False,\n",
    "    )[['Adj Close','Volume']]"
   ]
  },
  {
   "cell_type": "code",
   "execution_count": 5,
   "metadata": {
    "colab": {
     "base_uri": "https://localhost:8080/",
     "height": 235
    },
    "colab_type": "code",
    "id": "-7LS35pKcxqc",
    "outputId": "25892ce5-1918-46ce-d113-524c2a284f2a"
   },
   "outputs": [
    {
     "data": {
      "text/html": [
       "<div>\n",
       "<style scoped>\n",
       "    .dataframe tbody tr th:only-of-type {\n",
       "        vertical-align: middle;\n",
       "    }\n",
       "\n",
       "    .dataframe tbody tr th {\n",
       "        vertical-align: top;\n",
       "    }\n",
       "\n",
       "    .dataframe thead th {\n",
       "        text-align: right;\n",
       "    }\n",
       "</style>\n",
       "<table border=\"1\" class=\"dataframe\">\n",
       "  <thead>\n",
       "    <tr style=\"text-align: right;\">\n",
       "      <th></th>\n",
       "      <th>Adj Close</th>\n",
       "      <th>Volume</th>\n",
       "    </tr>\n",
       "    <tr>\n",
       "      <th>Date</th>\n",
       "      <th></th>\n",
       "      <th></th>\n",
       "    </tr>\n",
       "  </thead>\n",
       "  <tbody>\n",
       "    <tr>\n",
       "      <th>2017-04-03</th>\n",
       "      <td>139.34</td>\n",
       "      <td>19985700</td>\n",
       "    </tr>\n",
       "    <tr>\n",
       "      <th>2017-04-04</th>\n",
       "      <td>140.38</td>\n",
       "      <td>19891400</td>\n",
       "    </tr>\n",
       "    <tr>\n",
       "      <th>2017-04-05</th>\n",
       "      <td>139.65</td>\n",
       "      <td>27717900</td>\n",
       "    </tr>\n",
       "    <tr>\n",
       "      <th>2017-04-06</th>\n",
       "      <td>139.30</td>\n",
       "      <td>21149000</td>\n",
       "    </tr>\n",
       "    <tr>\n",
       "      <th>2017-04-07</th>\n",
       "      <td>138.99</td>\n",
       "      <td>16672200</td>\n",
       "    </tr>\n",
       "  </tbody>\n",
       "</table>\n",
       "</div>"
      ],
      "text/plain": [
       "            Adj Close    Volume\n",
       "Date                           \n",
       "2017-04-03     139.34  19985700\n",
       "2017-04-04     140.38  19891400\n",
       "2017-04-05     139.65  27717900\n",
       "2017-04-06     139.30  21149000\n",
       "2017-04-07     138.99  16672200"
      ]
     },
     "execution_count": 5,
     "metadata": {
      "tags": []
     },
     "output_type": "execute_result"
    }
   ],
   "source": [
    "AAPL.head()"
   ]
  },
  {
   "cell_type": "markdown",
   "metadata": {
    "colab_type": "text",
    "id": "tOMvV5E1mpbO"
   },
   "source": [
    "**Step 1 : EDA**"
   ]
  },
  {
   "cell_type": "code",
   "execution_count": 6,
   "metadata": {
    "colab": {
     "base_uri": "https://localhost:8080/",
     "height": 298
    },
    "colab_type": "code",
    "id": "jJUIgoq6c6bU",
    "outputId": "e0f06448-1726-43d3-9209-2008abf7eab4"
   },
   "outputs": [
    {
     "data": {
      "text/plain": [
       "<matplotlib.axes._subplots.AxesSubplot at 0x7ffa6a8f8d90>"
      ]
     },
     "execution_count": 6,
     "metadata": {
      "tags": []
     },
     "output_type": "execute_result"
    },
    {
     "data": {
      "image/png": "[encoded data removed]",
      "text/plain": [
       "<Figure size 432x288 with 1 Axes>"
      ]
     },
     "metadata": {
      "tags": []
     },
     "output_type": "display_data"
    }
   ],
   "source": [
    "AAPL['Adj Close'].plot(label='AAPL', legend=True)\n"
   ]
  },
  {
   "cell_type": "code",
   "execution_count": 7,
   "metadata": {
    "colab": {
     "base_uri": "https://localhost:8080/",
     "height": 283
    },
    "colab_type": "code",
    "id": "fLc2dPBedKHF",
    "outputId": "7573ce4c-3e79-45e3-856c-213386ab2313"
   },
   "outputs": [
    {
     "data": {
      "image/png": "[encoded data removed]",
      "text/plain": [
       "<Figure size 432x288 with 1 Axes>"
      ]
     },
     "metadata": {
      "tags": []
     },
     "output_type": "display_data"
    }
   ],
   "source": [
    "AAPL['Adj Close'].pct_change().plot.hist(bins=50)\n",
    "plt.xlabel('adjusted close 1-day percent change')\n",
    "plt.show()"
   ]
  },
  {
   "cell_type": "markdown",
   "metadata": {
    "colab_type": "text",
    "id": "vXr8eiIYmwuE"
   },
   "source": [
    "**Step 2: Correlation**"
   ]
  },
  {
   "cell_type": "markdown",
   "metadata": {
    "colab_type": "text",
    "id": "A0XK1S68m0uc"
   },
   "source": [
    "Correlations are nice to check out before building machine learning models, because we can see which features correlate to the target most strongly. Pearson's correlation coefficient is often used, which only detects linear relationships. It's commonly assumed our data is normally distributed, which we can \"eyeball\" from histograms. Highly correlated variables have a Pearson correlation coefficient near 1 (positively correlated) or -1 (negatively correlated). A value near 0 means the two variables are not linearly correlated.\n",
    "\n",
    "If we use the same time periods for previous price changes and future price changes, we can see if the stock price is mean-reverting (bounces around) or trend-following (goes up if it has been going up recently)."
   ]
  },
  {
   "cell_type": "code",
   "execution_count": 8,
   "metadata": {
    "colab": {
     "base_uri": "https://localhost:8080/",
     "height": 343
    },
    "colab_type": "code",
    "id": "nhOHoj3pntv0",
    "outputId": "2acab16a-8161-44ad-8faa-f1e4c71b8d0c"
   },
   "outputs": [
    {
     "name": "stderr",
     "output_type": "stream",
     "text": [
      "/usr/local/lib/python2.7/dist-packages/ipykernel_launcher.py:1: SettingWithCopyWarning: \n",
      "A value is trying to be set on a copy of a slice from a DataFrame.\n",
      "Try using .loc[row_indexer,col_indexer] = value instead\n",
      "\n",
      "See the caveats in the documentation: http://pandas.pydata.org/pandas-docs/stable/indexing.html#indexing-view-versus-copy\n",
      "  \"\"\"Entry point for launching an IPython kernel.\n",
      "/usr/local/lib/python2.7/dist-packages/ipykernel_launcher.py:2: SettingWithCopyWarning: \n",
      "A value is trying to be set on a copy of a slice from a DataFrame.\n",
      "Try using .loc[row_indexer,col_indexer] = value instead\n",
      "\n",
      "See the caveats in the documentation: http://pandas.pydata.org/pandas-docs/stable/indexing.html#indexing-view-versus-copy\n",
      "  \n",
      "/usr/local/lib/python2.7/dist-packages/ipykernel_launcher.py:3: SettingWithCopyWarning: \n",
      "A value is trying to be set on a copy of a slice from a DataFrame.\n",
      "Try using .loc[row_indexer,col_indexer] = value instead\n",
      "\n",
      "See the caveats in the documentation: http://pandas.pydata.org/pandas-docs/stable/indexing.html#indexing-view-versus-copy\n",
      "  This is separate from the ipykernel package so we can avoid doing imports until\n"
     ]
    }
   ],
   "source": [
    "# Create 5-day % changes of Adj Close for the current day, and 5 days in the future\n",
    "AAPL['5d_future_close'] = AAPL['Adj Close'].shift(-5)\n",
    "AAPL['5d_close_future_pct'] = AAPL['5d_future_close'].pct_change(5)\n",
    "AAPL['5d_close_pct'] = AAPL['Adj Close'].pct_change(5)"
   ]
  },
  {
   "cell_type": "code",
   "execution_count": 9,
   "metadata": {
    "colab": {
     "base_uri": "https://localhost:8080/",
     "height": 68
    },
    "colab_type": "code",
    "id": "VJiXOXnkoJ03",
    "outputId": "f80891bc-d181-4891-9f02-0f24de946da8"
   },
   "outputs": [
    {
     "name": "stdout",
     "output_type": "stream",
     "text": [
      "                     5d_close_pct  5d_close_future_pct\n",
      "5d_close_pct             1.000000             0.044246\n",
      "5d_close_future_pct      0.044246             1.000000\n"
     ]
    }
   ],
   "source": [
    "# Calculate the correlation matrix between the 5d close pecentage changes (current and future)\n",
    "corr = AAPL[['5d_close_pct', '5d_close_future_pct']].corr()\n",
    "print(corr)"
   ]
  },
  {
   "cell_type": "code",
   "execution_count": 10,
   "metadata": {
    "colab": {
     "base_uri": "https://localhost:8080/",
     "height": 269
    },
    "colab_type": "code",
    "id": "NsJ78D-XoSXF",
    "outputId": "62234c1b-4f92-4cf4-f3f8-dad5c2b9c79b"
   },
   "outputs": [
    {
     "data": {
      "image/png": "[encoded data removed]",
      "text/plain": [
       "<Figure size 432x288 with 1 Axes>"
      ]
     },
     "metadata": {
      "tags": []
     },
     "output_type": "display_data"
    }
   ],
   "source": [
    "# Scatter the current 5-day percent change vs the future 5-day percent change\n",
    "plt.scatter(AAPL['5d_close_pct'], AAPL['5d_close_future_pct'])\n",
    "plt.show()"
   ]
  },
  {
   "cell_type": "markdown",
   "metadata": {
    "colab_type": "text",
    "id": "9uQ9bNfaohOO"
   },
   "source": [
    "**Step 3: Create moving average and RSI features**"
   ]
  },
  {
   "cell_type": "markdown",
   "metadata": {
    "colab_type": "text",
    "id": "xm8Dwz6SopRo"
   },
   "source": [
    "We want to add historical data to our machine learning models to make better predictions, but adding lots of historical time steps is tricky. Instead, we can condense information from previous points into a single timestep with indicators.\n",
    "\n",
    "A moving average is one of the simplest indicators - it's the average of previous data points. This is the function **talib.SMA()** from the TAlib library.\n",
    "\n",
    "Another common technical indicator is the relative strength index (RSI). This is defined by:\n",
    "\n",
    "RSI=100−100/(1+RS)\n",
    "\n",
    "RS=average gain over n periodsaverage loss over n periods.\n",
    "\n",
    "The n periods is set in talib.RSI() as the timeperiod argument.\n",
    "\n",
    "\n",
    "A common period for RSI is 14, so we'll use that as one setting in our calculations."
   ]
  },
  {
   "cell_type": "markdown",
   "metadata": {
    "colab_type": "text",
    "id": "9PECmRZ8pNoN"
   },
   "source": [
    "Import talib (Search from google ,can't just use** \"import talib\"** to install), the result is too long ( Q)"
   ]
  },
  {
   "cell_type": "code",
   "execution_count": 1,
   "metadata": {
    "colab": {
     "base_uri": "https://localhost:8080/",
     "height": 28172
    },
    "colab_type": "code",
    "id": "FDVFLKYypj3z",
    "outputId": "dde67b1f-e3c6-47ac-fee6-fc76fe2607fa"
   },
   "outputs": [],
   "source": [
    "!wget http://prdownloads.sourceforge.net/ta-lib/ta-lib-0.4.0-src.tar.gz\n",
    "!tar -xzvf ta-lib-0.4.0-src.tar.gz\n",
    "%cd ta-lib\n",
    "!./configure --prefix=/usr\n",
    "!make\n",
    "!make install\n",
    "!pip install Ta-Lib\n",
    "import talib"
   ]
  },
  {
   "cell_type": "markdown",
   "metadata": {
    "colab_type": "text",
    "id": "nNOZ7LLwroRC"
   },
   "source": [
    "The result of import talib is too long, So I delete the output"
   ]
  },
  {
   "cell_type": "markdown",
   "metadata": {
    "colab_type": "text",
    "id": "peo6b_uIryGc"
   },
   "source": [
    "**Create moving average and RSI features use talib**"
   ]
  },
  {
   "cell_type": "code",
   "execution_count": 12,
   "metadata": {
    "colab": {
     "base_uri": "https://localhost:8080/",
     "height": 34
    },
    "colab_type": "code",
    "id": "f49T1uBZo7i4",
    "outputId": "c3ad5d8f-4be1-4958-c714-a5fc4fe9c228"
   },
   "outputs": [
    {
     "name": "stdout",
     "output_type": "stream",
     "text": [
      "['5d_close_pct', 'ma14', 'rsi14', 'ma30', 'rsi30', 'ma50', 'rsi50', 'ma200', 'rsi200']\n"
     ]
    }
   ],
   "source": [
    "feature_names = ['5d_close_pct']  # a list of the feature names for later\n",
    "\n",
    "# Create moving averages and rsi for timeperiods of 14, 30, 50, and 200\n",
    "for n in [14,30,50,200]:\n",
    "\n",
    "    # Create the moving average indicator and divide by Adj_Close\n",
    "    AAPL['ma' + str(n)] = talib.SMA(AAPL['Adj Close'].values,\n",
    "                              timeperiod=n) / AAPL['Adj Close']\n",
    "    # Create the RSI indicator\n",
    "    AAPL['rsi' + str(n)] = talib.RSI(AAPL['Adj Close'].values, timeperiod=n)\n",
    "    \n",
    "    # Add rsi and moving average to the feature name list\n",
    "    feature_names = feature_names + ['ma' + str(n), 'rsi' + str(n)]\n",
    "\n",
    "print(feature_names)"
   ]
  },
  {
   "cell_type": "markdown",
   "metadata": {
    "colab_type": "text",
    "id": "Zip5qLWto23J"
   },
   "source": [
    "**Step 4: Create features and targets**\n"
   ]
  },
  {
   "cell_type": "markdown",
   "metadata": {
    "colab_type": "text",
    "id": "InI1uDSQsCkq"
   },
   "source": [
    "We almost have features and targets that are machine-learning ready -- we have features from current price changes (5d_close_pct) and indicators (moving averages and RSI), and we created targets of future price changes (5d_close_future_pct). Now we need to break these up into separate numpy arrays so we can feed them into machine learning algorithms.\n",
    "."
   ]
  },
  {
   "cell_type": "code",
   "execution_count": 13,
   "metadata": {
    "colab": {
     "base_uri": "https://localhost:8080/",
     "height": 323
    },
    "colab_type": "code",
    "id": "8iVAa6rhv_kJ",
    "outputId": "c9028928-8346-41a8-9c5a-fe1a23f30907"
   },
   "outputs": [
    {
     "name": "stdout",
     "output_type": "stream",
     "text": [
      "<class 'pandas.core.frame.DataFrame'>\n",
      "DatetimeIndex: 501 entries, 2017-04-03 to 2019-03-29\n",
      "Data columns (total 13 columns):\n",
      "Adj Close              501 non-null float64\n",
      "Volume                 501 non-null int64\n",
      "5d_future_close        496 non-null float64\n",
      "5d_close_future_pct    496 non-null float64\n",
      "5d_close_pct           496 non-null float64\n",
      "ma14                   488 non-null float64\n",
      "rsi14                  487 non-null float64\n",
      "ma30                   472 non-null float64\n",
      "rsi30                  471 non-null float64\n",
      "ma50                   452 non-null float64\n",
      "rsi50                  451 non-null float64\n",
      "ma200                  302 non-null float64\n",
      "rsi200                 301 non-null float64\n",
      "dtypes: float64(12), int64(1)\n",
      "memory usage: 54.8 KB\n"
     ]
    }
   ],
   "source": [
    "AAPL.info()\n",
    "# Drop all na values\n",
    "AAPL = AAPL.dropna()"
   ]
  },
  {
   "cell_type": "code",
   "execution_count": 14,
   "metadata": {
    "colab": {
     "base_uri": "https://localhost:8080/",
     "height": 612
    },
    "colab_type": "code",
    "id": "EhdKzjXisHPk",
    "outputId": "83366f6f-c146-4d34-c2f8-b114c4254b2e"
   },
   "outputs": [
    {
     "name": "stdout",
     "output_type": "stream",
     "text": [
      "                     5d_close_future_pct  5d_close_pct      ma14     rsi14  \\\n",
      "5d_close_future_pct             1.000000      0.061184 -0.058513  0.076412   \n",
      "5d_close_pct                    0.061184      1.000000 -0.860257  0.680071   \n",
      "ma14                           -0.058513     -0.860257  1.000000 -0.856625   \n",
      "rsi14                           0.076412      0.680071 -0.856625  1.000000   \n",
      "ma30                           -0.120765     -0.677691  0.884796 -0.927052   \n",
      "rsi30                           0.030112      0.522398 -0.706086  0.920185   \n",
      "ma50                           -0.108988     -0.548118  0.749356 -0.881476   \n",
      "rsi50                          -0.016072      0.411473 -0.579820  0.802826   \n",
      "ma200                           0.114385     -0.216708  0.331897 -0.523175   \n",
      "rsi200                         -0.092683      0.223514 -0.347018  0.546043   \n",
      "\n",
      "                         ma30     rsi30      ma50     rsi50     ma200  \\\n",
      "5d_close_future_pct -0.120765  0.030112 -0.108988 -0.016072  0.114385   \n",
      "5d_close_pct        -0.677691  0.522398 -0.548118  0.411473 -0.216708   \n",
      "ma14                 0.884796 -0.706086  0.749356 -0.579820  0.331897   \n",
      "rsi14               -0.927052  0.920185 -0.881476  0.802826 -0.523175   \n",
      "ma30                 1.000000 -0.856465  0.942161 -0.750486  0.512361   \n",
      "rsi30               -0.856465  1.000000 -0.908025  0.969720 -0.783695   \n",
      "ma50                 0.942161 -0.908025  1.000000 -0.848209  0.688528   \n",
      "rsi50               -0.750486  0.969720 -0.848209  1.000000 -0.897643   \n",
      "ma200                0.512361 -0.783695  0.688528 -0.897643  1.000000   \n",
      "rsi200              -0.520066  0.812550 -0.671109  0.928106 -0.980410   \n",
      "\n",
      "                       rsi200  \n",
      "5d_close_future_pct -0.092683  \n",
      "5d_close_pct         0.223514  \n",
      "ma14                -0.347018  \n",
      "rsi14                0.546043  \n",
      "ma30                -0.520066  \n",
      "rsi30                0.812550  \n",
      "ma50                -0.671109  \n",
      "rsi50                0.928106  \n",
      "ma200               -0.980410  \n",
      "rsi200               1.000000  \n"
     ]
    }
   ],
   "source": [
    "# Create features and targets\n",
    "# use feature_names for features; '5d_close_future_pct' for targets\n",
    "features = AAPL[feature_names]\n",
    "targets = AAPL['5d_close_future_pct']\n",
    "\n",
    "# Create DataFrame from target column and feature columns\n",
    "feature_and_target_cols = ['5d_close_future_pct'] + feature_names\n",
    "feat_targ_df = AAPL[feature_and_target_cols]\n",
    "\n",
    "# Calculate correlation matrix\n",
    "corr = feat_targ_df.corr()\n",
    "print(corr)"
   ]
  },
  {
   "cell_type": "markdown",
   "metadata": {
    "colab_type": "text",
    "id": "1cu4vg3fsWdS"
   },
   "source": [
    "**Step 5: Check the correlations**"
   ]
  },
  {
   "cell_type": "markdown",
   "metadata": {
    "colab_type": "text",
    "id": "GqwcUIVCsZNP"
   },
   "source": [
    "Before we fit our first machine learning model, let's look at the correlations between features and targets. Ideally we want large (near 1 or -1) correlations between features and targets. Examining correlations can help us tweak features to maximize correlation (for example, altering the timeperiod argument in the talib functions). It can also help us remove features that aren't correlated to the target.\n",
    "\n",
    "To easily plot a correlation matrix, we can use seaborn's heatmap() function. This takes a correlation matrix as the first argument, and has many other options. Check out the annot option -- this will help us turn on annotations."
   ]
  },
  {
   "cell_type": "code",
   "execution_count": 15,
   "metadata": {
    "colab": {
     "base_uri": "https://localhost:8080/",
     "height": 602
    },
    "colab_type": "code",
    "id": "1qs-_gIasdD-",
    "outputId": "2b052ea6-5d82-4905-b236-0a4435301921"
   },
   "outputs": [
    {
     "data": {
      "image/png": "[encoded data removed]",
      "text/plain": [
       "<Figure size 576x576 with 2 Axes>"
      ]
     },
     "metadata": {
      "tags": []
     },
     "output_type": "display_data"
    },
    {
     "data": {
      "text/plain": [
       "<Figure size 432x288 with 0 Axes>"
      ]
     },
     "metadata": {
      "tags": []
     },
     "output_type": "display_data"
    }
   ],
   "source": [
    "# Plot heatmap of correlation matrix\n",
    "# annot shows the number is the square\n",
    "plt.figure(figsize = (8,8))\n",
    "sns.heatmap(corr, annot=True)\n",
    "\n",
    "# if put plt.figure(figsize = [15,15]) after the heatmap, it doesn't work!\n",
    "\n",
    "plt.yticks(rotation=0); plt.xticks(rotation=90)  # fix ticklabel directions\n",
    "plt.tight_layout()  # fits plot area to the plot, \"tightly\"\n",
    "plt.show()  # show the plot\n",
    "plt.clf()  # clear the plot area"
   ]
  },
  {
   "cell_type": "code",
   "execution_count": 16,
   "metadata": {
    "colab": {
     "base_uri": "https://localhost:8080/",
     "height": 269
    },
    "colab_type": "code",
    "id": "tsOcUEQxshTF",
    "outputId": "e660a5ad-bb56-4814-f056-6be91d309235"
   },
   "outputs": [
    {
     "data": {
      "image/png": "[encoded data removed]",
      "text/plain": [
       "<Figure size 432x288 with 1 Axes>"
      ]
     },
     "metadata": {
      "tags": []
     },
     "output_type": "display_data"
    }
   ],
   "source": [
    "\n",
    "# Create a scatter plot of the most highly correlated variable with the target\n",
    "plt.scatter(AAPL['ma200'],AAPL['5d_close_future_pct'])\n",
    "plt.show()"
   ]
  },
  {
   "cell_type": "markdown",
   "metadata": {
    "colab_type": "text",
    "id": "POIb4SG3uOrn"
   },
   "source": [
    "\n",
    "# **Linear Modeling with financial Data**"
   ]
  },
  {
   "cell_type": "markdown",
   "metadata": {
    "colab_type": "text",
    "id": "HJQ6P39uuZnm"
   },
   "source": [
    "**Step 6： Create train and test features**"
   ]
  },
  {
   "cell_type": "markdown",
   "metadata": {
    "colab_type": "text",
    "id": "OVfYSu3sulEl"
   },
   "source": [
    "Before we fit our linear model, we want to add a constant to our features, so we have an intercept for our linear model.\n",
    "\n",
    "We also want to create train and test features. This is so we can fit our model to the train dataset, and evaluate performance on the test dataset. We always want to check performance on data the model has not seen to make sure we're not overfitting, which is memorizing patterns in the training data too exactly.\n",
    "\n",
    "**With a time series like this, we typically want to use the oldest data as our training set, and the newest data as our test set.** \n",
    "\n",
    "This is so we can evaluate the performance of the model on the most recent data, which will more realistically simulate predictions on data we haven't seen yet."
   ]
  },
  {
   "cell_type": "markdown",
   "metadata": {
    "colab_type": "text",
    "id": "n2dAQNuTuwpf"
   },
   "source": [
    "Import the statsmodels.api library"
   ]
  },
  {
   "cell_type": "code",
   "execution_count": null,
   "metadata": {
    "colab": {},
    "colab_type": "code",
    "id": "T1rL14Imus6C"
   },
   "outputs": [],
   "source": [
    "# Import the statsmodels.api library with the alias sm\n",
    "import statsmodels.api as sm"
   ]
  },
  {
   "cell_type": "code",
   "execution_count": 18,
   "metadata": {
    "colab": {
     "base_uri": "https://localhost:8080/",
     "height": 88
    },
    "colab_type": "code",
    "id": "y4PmIJbnu2lS",
    "outputId": "5abe754f-22b6-44fb-daa3-52572982c992"
   },
   "outputs": [
    {
     "name": "stdout",
     "output_type": "stream",
     "text": [
      "((296, 10), (251, 10), (45, 10))\n"
     ]
    },
    {
     "name": "stderr",
     "output_type": "stream",
     "text": [
      "/usr/local/lib/python2.7/dist-packages/numpy/core/fromnumeric.py:2389: FutureWarning: Method .ptp is deprecated and will be removed in a future version. Use numpy.ptp instead.\n",
      "  return ptp(axis=axis, out=out, **kwargs)\n"
     ]
    }
   ],
   "source": [
    "# Add a constant to the features\n",
    "linear_features = sm.add_constant(features)\n",
    "\n",
    "# Create a size for the training set that is 85% of the total number of samples\n",
    "train_size = int(0.85 * targets.shape[0])\n",
    "train_features = linear_features[:train_size]\n",
    "train_targets = targets[:train_size]\n",
    "test_features = linear_features[train_size:]\n",
    "test_targets = targets[train_size:]\n",
    "print(linear_features.shape, train_features.shape, test_features.shape)"
   ]
  },
  {
   "cell_type": "markdown",
   "metadata": {
    "colab_type": "text",
    "id": "LOhKp44Yu5-w"
   },
   "source": [
    "**Step 7: Fit a linear model**"
   ]
  },
  {
   "cell_type": "markdown",
   "metadata": {
    "colab_type": "text",
    "id": "8sDP5tkru-h2"
   },
   "source": [
    "We'll now fit a linear model, because they are simple and easy to understand. Once we've fit our model, we can see which predictor variables appear to be meaningfully linearly correlated with the target, as well as their magnitude of effect on the target. Our judgment of whether or not predictors are significant is based on the p-values of coefficients. This is using a t-test to statistically test if the coefficient significantly differs from 0. The p-value is the percent chance that the coefficient for a feature does not differ from zero. Typically, we take a p-value of less than 0.05 to mean the coefficient is significantly different from 0."
   ]
  },
  {
   "cell_type": "code",
   "execution_count": 19,
   "metadata": {
    "colab": {
     "base_uri": "https://localhost:8080/",
     "height": 54
    },
    "colab_type": "code",
    "id": "TbJcI22ovBin",
    "outputId": "b2160ce0-951f-485c-d83b-d6cb55880316"
   },
   "outputs": [
    {
     "name": "stdout",
     "output_type": "stream",
     "text": [
      "<bound method OLSResults.summary of <statsmodels.regression.linear_model.OLSResults object at 0x7ffa5c050410>>\n"
     ]
    }
   ],
   "source": [
    "# Create the linear model and complete the least squares fit\n",
    "model = sm.OLS(train_targets, train_features)\n",
    "results = model.fit()  # fit the model\n",
    "print(results.summary)"
   ]
  },
  {
   "cell_type": "code",
   "execution_count": 20,
   "metadata": {
    "colab": {
     "base_uri": "https://localhost:8080/",
     "height": 204
    },
    "colab_type": "code",
    "id": "X0URYf5VwO77",
    "outputId": "18ce1f0a-ca4e-4e86-8dd8-bc7de6f8be69"
   },
   "outputs": [
    {
     "name": "stdout",
     "output_type": "stream",
     "text": [
      "const           0.566530\n",
      "5d_close_pct    0.119402\n",
      "ma14            0.009094\n",
      "rsi14           0.274764\n",
      "ma30            0.221717\n",
      "rsi30           0.393358\n",
      "ma50            0.000346\n",
      "rsi50           0.498691\n",
      "ma200           0.011946\n",
      "rsi200          0.817437\n",
      "dtype: float64\n"
     ]
    }
   ],
   "source": [
    "# examine pvalues\n",
    "# Features with p <= 0.05 are typically considered significantly different from 0\n",
    "print(results.pvalues)\n",
    "\n",
    "# Make predictions from our model for train and test sets\n",
    "train_predictions = results.predict(train_features)\n",
    "test_predictions = results.predict(test_features)"
   ]
  },
  {
   "cell_type": "markdown",
   "metadata": {
    "colab_type": "text",
    "id": "daNLeru7wUDN"
   },
   "source": [
    " *Q: first time here, I din't drop NA, so it can't show the result*"
   ]
  },
  {
   "cell_type": "markdown",
   "metadata": {
    "colab_type": "text",
    "id": "aQE89hJewkNJ"
   },
   "source": [
    "**Step 8: Evaluate our results**"
   ]
  },
  {
   "cell_type": "markdown",
   "metadata": {
    "colab_type": "text",
    "id": "6p2h1mx6woO3"
   },
   "source": [
    "Once we have our linear fit and predictions, we want to see how good the predictions are so we can decide if our model is any good or not. Ideally, we want to back-test any type of trading strategy. However, this is a complex and typically time-consuming experience.\n",
    "\n",
    "A quicker way to understand the performance of our model is looking at regression evaluation metrics like R2, and plotting the predictions versus the actual values of the targets. Perfect predictions would form a straight, diagonal line in such a plot, making it easy for us to eyeball how our predictions are doing in different regions of price changes. We can use matplotlib's .scatter() function to create scatter plots of the predictions and actual values.\n"
   ]
  },
  {
   "cell_type": "code",
   "execution_count": 21,
   "metadata": {
    "colab": {
     "base_uri": "https://localhost:8080/",
     "height": 337
    },
    "colab_type": "code",
    "id": "bqv7Lsuswek2",
    "outputId": "14753835-fdb8-4b57-9a6c-e462079641d5"
   },
   "outputs": [
    {
     "data": {
      "image/png": "[encoded data removed]",
      "text/plain": [
       "<Figure size 576x360 with 1 Axes>"
      ]
     },
     "metadata": {
      "tags": []
     },
     "output_type": "display_data"
    }
   ],
   "source": [
    "# Scatter the predictions vs the targets with 80% transparency\n",
    "plt.figure(figsize = (8,5))\n",
    "plt.scatter(train_predictions, train_targets, alpha=0.4, color='b', label='train')\n",
    "plt.scatter(test_predictions, test_targets, alpha = 0.4, color='r', label='test')\n",
    "\n",
    "# Plot the perfect prediction line\n",
    "xmin, xmax = plt.xlim()\n",
    "plt.plot(np.arange(xmin, xmax, 0.01), np.arange(xmin, xmax, 0.01), c='k')\n",
    "\n",
    "# Set the axis labels and show the plot\n",
    "plt.xlabel('predictions')\n",
    "plt.ylabel('actual')\n",
    "plt.legend()  # show the legend\n",
    "plt.show()"
   ]
  },
  {
   "cell_type": "markdown",
   "metadata": {
    "colab_type": "text",
    "id": "6x2XYwKlL0Nj"
   },
   "source": [
    "# Machine learning tree methods"
   ]
  },
  {
   "cell_type": "markdown",
   "metadata": {
    "colab_type": "text",
    "id": "oQSvwxDUL43l"
   },
   "source": [
    "**Feature engineering from volume**"
   ]
  },
  {
   "cell_type": "markdown",
   "metadata": {
    "colab_type": "text",
    "id": "nWTnmDRoL7S6"
   },
   "source": [
    "We're going to use non-linear models to make more accurate predictions. With linear models, features must be linearly correlated to the target. Other machine learning models can combine features in non-linear ways. For example, what if the price goes up when the moving average of price is going up, and the moving average of volume is going down? The only way to capture those interactions is to either multiply the features, or to use a machine learning algorithm that can handle non-linearity (e.g. random forests)."
   ]
  },
  {
   "cell_type": "code",
   "execution_count": 22,
   "metadata": {
    "colab": {
     "base_uri": "https://localhost:8080/",
     "height": 269
    },
    "colab_type": "code",
    "id": "0Vnq7BY1Lzdo",
    "outputId": "09629c78-aa3e-434f-e57a-884196d24ec1"
   },
   "outputs": [
    {
     "data": {
      "image/png": "[encoded data removed]",
      "text/plain": [
       "<Figure size 432x288 with 1 Axes>"
      ]
     },
     "metadata": {
      "tags": []
     },
     "output_type": "display_data"
    }
   ],
   "source": [
    "# Create 2 new volume features, 1-day % change and 5-day SMA of the % change\n",
    "new_features = ['Adj_Volume_1d_change', 'Adj_Volume_1d_change_SMA']\n",
    "feature_names.extend(new_features)\n",
    "AAPL['Adj_Volume_1d_change'] = AAPL['Volume'].pct_change()\n",
    "AAPL['Adj_Volume_1d_change_SMA'] = talib.SMA(AAPL['Adj_Volume_1d_change'].values,timeperiod=5)\n",
    "\n",
    "# Plot histogram of volume % change data\n",
    "AAPL[new_features].plot(kind='hist', sharex=False, bins=50)\n",
    "plt.show()"
   ]
  },
  {
   "cell_type": "markdown",
   "metadata": {
    "colab_type": "text",
    "id": "Wm_dpfQwMbJG"
   },
   "source": [
    "**Create day-of-week features**"
   ]
  },
  {
   "cell_type": "markdown",
   "metadata": {
    "colab_type": "text",
    "id": "6HDXa9zLMenF"
   },
   "source": [
    "We can engineer datetime features to add even more information for our non-linear models. Most financial data has datetimes, which have lots of information in them -- year, month, day, and sometimes hour, minute, and second. But we can also get the day of the week, and things like the quarter of the year, or the elapsed time since some event (e.g. earnings reports).\n",
    "\n",
    "We are only going to get the day of the week here, since our dataset doesn't go back very far in time. The dayofweek property from the pandas datetime index will help us get the day of the week. Then we will dummy dayofweek with pandas' get_dummies(). This creates columns for each day of the week with binary values (0 or 1). We drop the first column because it can be inferred from the others."
   ]
  },
  {
   "cell_type": "code",
   "execution_count": 23,
   "metadata": {
    "colab": {
     "base_uri": "https://localhost:8080/",
     "height": 680
    },
    "colab_type": "code",
    "id": "wEl69nIPMiay",
    "outputId": "980da0ae-adc0-4050-ed2a-a3a2df07c240"
   },
   "outputs": [
    {
     "name": "stdout",
     "output_type": "stream",
     "text": [
      "            Adj Close    Volume  5d_future_close  5d_close_future_pct  \\\n",
      "Date                                                                    \n",
      "2018-01-25     167.86  41529000           164.59            -0.019481   \n",
      "2018-01-26     168.25  39143000           157.45            -0.064190   \n",
      "2018-01-29     164.77  50640400           153.52            -0.068277   \n",
      "2018-01-30     163.80  46048200           159.93            -0.023626   \n",
      "2018-01-31     164.25  32478900           156.51            -0.047123   \n",
      "\n",
      "            5d_close_pct      ma14      rsi14      ma30      rsi30      ma50  \\\n",
      "Date                                                                           \n",
      "2018-01-25     -0.045436  1.028046  40.643541  1.018295  49.660714  1.011657   \n",
      "2018-01-26     -0.038956  1.024207  41.959045  1.015897  50.176284  1.009026   \n",
      "2018-01-29     -0.051083  1.043121  34.591919  1.036497  45.842320  1.029935   \n",
      "2018-01-30     -0.056886  1.046149  32.860039  1.041587  44.728320  1.035781   \n",
      "2018-01-31     -0.038968  1.040357  34.498440  1.037433  45.365482  1.032505   \n",
      "\n",
      "                rsi50     ma200     rsi200  Adj_Volume_1d_change  \\\n",
      "Date                                                               \n",
      "2018-01-25  52.829152  0.923274  55.375063             -0.187381   \n",
      "2018-01-26  53.115255  0.922053  55.442924             -0.057454   \n",
      "2018-01-29  50.335475  0.942354  54.697002              0.293728   \n",
      "2018-01-30  49.597206  0.948760  54.491627             -0.090683   \n",
      "2018-01-31  49.944746  0.946974  54.571158             -0.294676   \n",
      "\n",
      "            Adj_Volume_1d_change_SMA  weekday_1  weekday_2  weekday_3  \\\n",
      "Date                                                                    \n",
      "2018-01-25                  0.091474          0          0          1   \n",
      "2018-01-26                  0.072086          0          0          0   \n",
      "2018-01-29                  0.163624          0          0          0   \n",
      "2018-01-30                  0.104316          1          0          0   \n",
      "2018-01-31                 -0.067293          0          1          0   \n",
      "\n",
      "            weekday_4  \n",
      "Date                   \n",
      "2018-01-25          0  \n",
      "2018-01-26          1  \n",
      "2018-01-29          0  \n",
      "2018-01-30          0  \n",
      "2018-01-31          0  \n"
     ]
    }
   ],
   "source": [
    "# Use pandas' get_dummies function to get dummies for day of the week\n",
    "days_of_week = pd.get_dummies(AAPL.index.dayofweek,\n",
    "                              prefix='weekday',\n",
    "                              drop_first=True)\n",
    "\n",
    "# Set the index as the original dataframe index for merging\n",
    "days_of_week.index = AAPL.index\n",
    "\n",
    "# Join the dataframe with the days of week dataframe\n",
    "AAPL = pd.concat([AAPL, days_of_week], axis=1)\n",
    "\n",
    "# Add days of week to feature names\n",
    "feature_names.extend(['weekday_' + str(i) for i in range(1, 5)])\n",
    "AAPL.dropna(inplace=True)  # drop missing values in-place\n",
    "print(AAPL.head())"
   ]
  },
  {
   "cell_type": "markdown",
   "metadata": {
    "colab_type": "text",
    "id": "i0o0sF64Mv-m"
   },
   "source": [
    "**Examine correlations of the new features**"
   ]
  },
  {
   "cell_type": "markdown",
   "metadata": {
    "colab_type": "text",
    "id": "ccRTjse8MzZ3"
   },
   "source": [
    "Now that we have our volume and datetime features, we want to check the correlations between our new features (stored in the new_features list) and the target (5d_close_future_pct) to see how strongly they are related. Recall pandas has the built-in .corr() method for DataFrames, and seaborn has a nice heatmap() function to show the correlation"
   ]
  },
  {
   "cell_type": "code",
   "execution_count": null,
   "metadata": {
    "colab": {},
    "colab_type": "code",
    "id": "J5VDzE9zPToI"
   },
   "outputs": [],
   "source": [
    "# Add the weekday labels to the new_features list\n",
    "new_features.extend(['weekday_'+ str(i) for i in range(1, 5)])"
   ]
  },
  {
   "cell_type": "markdown",
   "metadata": {
    "colab_type": "text",
    "id": "qcr7fn0dP68M"
   },
   "source": [
    ".extend: This can only run once**, or else it literate times by times"
   ]
  },
  {
   "cell_type": "code",
   "execution_count": 25,
   "metadata": {
    "colab": {
     "base_uri": "https://localhost:8080/",
     "height": 119
    },
    "colab_type": "code",
    "id": "9mvA01bnPVI6",
    "outputId": "291152bb-8763-44d4-b199-4d41253753c1"
   },
   "outputs": [
    {
     "data": {
      "text/plain": [
       "['Adj_Volume_1d_change',\n",
       " 'Adj_Volume_1d_change_SMA',\n",
       " 'weekday_1',\n",
       " 'weekday_2',\n",
       " 'weekday_3',\n",
       " 'weekday_4']"
      ]
     },
     "execution_count": 25,
     "metadata": {
      "tags": []
     },
     "output_type": "execute_result"
    }
   ],
   "source": [
    "new_features"
   ]
  },
  {
   "cell_type": "code",
   "execution_count": 26,
   "metadata": {
    "colab": {
     "base_uri": "https://localhost:8080/",
     "height": 441
    },
    "colab_type": "code",
    "id": "2kVSdCwmM6P1",
    "outputId": "c9832c97-07c5-48d4-d3d4-49c49d44f90d"
   },
   "outputs": [
    {
     "data": {
      "image/png": "[encoded data removed]",
      "text/plain": [
       "<Figure size 720x432 with 2 Axes>"
      ]
     },
     "metadata": {
      "tags": []
     },
     "output_type": "display_data"
    }
   ],
   "source": [
    "\n",
    "# Plot the correlations between the new features and the targets\n",
    "plt.figure(figsize = (10,6))\n",
    "\n",
    "sns.heatmap(AAPL[new_features + ['5d_close_future_pct']].corr(), annot=True)\n",
    "plt.yticks(rotation=0)  # ensure y-axis ticklabels are horizontal\n",
    "plt.xticks(rotation=90)  # ensure x-axis ticklabels are vertical\n",
    "plt.tight_layout()\n",
    "plt.show()"
   ]
  },
  {
   "cell_type": "markdown",
   "metadata": {
    "colab_type": "text",
    "id": "zLRzF_IbPhiS"
   },
   "source": [
    "# Machine Learning: Decision tree"
   ]
  },
  {
   "cell_type": "markdown",
   "metadata": {
    "colab_type": "text",
    "id": "56oOJQDZhyCU"
   },
   "source": [
    "**Fit a decision tree**"
   ]
  },
  {
   "cell_type": "markdown",
   "metadata": {
    "colab_type": "text",
    "id": "FqYu75o1h1FG"
   },
   "source": [
    "Random forests are a go-to model for predictions; they work well out of the box. But we'll first learn the building block of random forests -- decision trees.\n",
    "\n",
    "Decision trees split the data into groups based on the features. Decision trees start with a root node, and split the data down until we reach leaf nodes.\n",
    "\n",
    "\n",
    "\n",
    "We can use sklearn to fit a decision tree with DecisionTreeRegressor and .fit(features, targets).\n",
    "\n",
    "Without limiting the tree's depth (or height), it will keep splitting the data until each leaf has 1 sample in it, which is the epitome of overfitting. We'll learn more about overfitting in the coming chapters."
   ]
  },
  {
   "cell_type": "code",
   "execution_count": 27,
   "metadata": {
    "colab": {
     "base_uri": "https://localhost:8080/",
     "height": 51
    },
    "colab_type": "code",
    "id": "nPWV8CkviAld",
    "outputId": "94f2c756-e8e4-45d6-a582-5a2f1629a6ed"
   },
   "outputs": [
    {
     "name": "stdout",
     "output_type": "stream",
     "text": [
      "0.9999975743770261\n",
      "-8.895143403052085\n"
     ]
    }
   ],
   "source": [
    "from sklearn.tree import DecisionTreeRegressor\n",
    "\n",
    "# Create a decision tree regression model with default arguments\n",
    "decision_tree = DecisionTreeRegressor()\n",
    "\n",
    "# Fit the model to the training features and targets\n",
    "decision_tree.fit(train_features, train_targets)\n",
    "\n",
    "# Check the score on train and test\n",
    "print(decision_tree.score(train_features, train_targets))\n",
    "print(decision_tree.score(test_features, test_targets))"
   ]
  },
  {
   "cell_type": "markdown",
   "metadata": {
    "colab_type": "text",
    "id": "ioSTtjDAiPyA"
   },
   "source": [
    "**Try different max depths **"
   ]
  },
  {
   "cell_type": "markdown",
   "metadata": {
    "colab_type": "text",
    "id": "5sJwIMrCiWOP"
   },
   "source": [
    "We always want to optimize our machine learning models to make the best predictions possible. We can do this by tuning hyperparameters, which are settings for our models. We will see in more detail how these are useful in future chapters, but for now think of them as knobs we can turn to tune our predictions to be as good as possible.\n",
    "\n",
    "For regular decision trees, probably the most important hyperparameter is ***max_depth***. This limits the number of splits in a decision tree. Let's find the best value of max_depth based on the ***R2*** score of our model on the test set, which we can obtain using the **score()** method of our decision tree models. "
   ]
  },
  {
   "cell_type": "code",
   "execution_count": 28,
   "metadata": {
    "colab": {
     "base_uri": "https://localhost:8080/",
     "height": 170
    },
    "colab_type": "code",
    "id": "wZpc9-e6ic-T",
    "outputId": "68178b34-6d36-42bb-d44f-b411db0b6634"
   },
   "outputs": [
    {
     "name": "stdout",
     "output_type": "stream",
     "text": [
      "('max_depth=', '3')\n",
      "0.42492112856449854\n",
      "(-8.029561548246129, '\\n')\n",
      "('max_depth=', '5')\n",
      "0.5655335041124006\n",
      "(-8.617301826617856, '\\n')\n",
      "('max_depth=', '10')\n",
      "0.9181103129768328\n",
      "(-10.775671445031593, '\\n')\n"
     ]
    }
   ],
   "source": [
    "# Loop through a few different max depths and check the performance\n",
    "for d in [3,5,10]:\n",
    "    # Create the tree and fit it\n",
    "    decision_tree = DecisionTreeRegressor(max_depth= d)\n",
    "    decision_tree.fit(train_features, train_targets)\n",
    "\n",
    "    # Print out the scores on train and test\n",
    "    print('max_depth=', str(d))\n",
    "    print(decision_tree.score(train_features, train_targets))\n",
    "    print(decision_tree.score(test_features, test_targets), '\\n')"
   ]
  },
  {
   "cell_type": "markdown",
   "metadata": {
    "colab_type": "text",
    "id": "_BsMy0NXi1U6"
   },
   "source": [
    "**Check our results**"
   ]
  },
  {
   "cell_type": "markdown",
   "metadata": {
    "colab_type": "text",
    "id": "Jko-pO_8i3dd"
   },
   "source": [
    "Once we have an optimized model, we want to check how it is performing in more detail. We already saw the R2 score, but it can be helpful to see the predictions plotted vs actual values. We can use the .predict() method of our decision tree model to get predictions on the train and test sets.\n",
    "\n",
    "Ideally, we want to see diagonal lines from the lower left to the upper right. However, due to the simplicity of decisions trees, our model is not going to do well on the test set. But it will do well on the train set."
   ]
  },
  {
   "cell_type": "code",
   "execution_count": 29,
   "metadata": {
    "colab": {
     "base_uri": "https://localhost:8080/",
     "height": 269
    },
    "colab_type": "code",
    "id": "cqcjx0enjAKm",
    "outputId": "b9177570-d636-4be1-a607-0cf921ab0ac3"
   },
   "outputs": [
    {
     "data": {
      "image/png": "[encoded data removed]",
      "text/plain": [
       "<Figure size 432x288 with 1 Axes>"
      ]
     },
     "metadata": {
      "tags": []
     },
     "output_type": "display_data"
    }
   ],
   "source": [
    " # Use the best max_depth of 3 from last exercise to fit a decision tree\n",
    "decision_tree = DecisionTreeRegressor(max_depth= 3)\n",
    "decision_tree.fit(train_features, train_targets)\n",
    "\n",
    "# Predict values for train and test\n",
    "train_predictions = decision_tree.predict(train_features)\n",
    "test_predictions = decision_tree.predict(test_features)\n",
    "\n",
    "# Scatter the predictions vs actual values\n",
    "plt.scatter(train_predictions, train_targets, label='train')\n",
    "plt.scatter(test_predictions, test_targets, label= 'test')\n",
    "plt.show()"
   ]
  },
  {
   "cell_type": "markdown",
   "metadata": {
    "colab_type": "text",
    "id": "t8vdMXhljGf2"
   },
   "source": [
    "**Random forests**"
   ]
  },
  {
   "cell_type": "markdown",
   "metadata": {
    "colab_type": "text",
    "id": "WFHMQ3LUjJat"
   },
   "source": [
    "**Fit a random forest**\n",
    "Data scientists often use random forest models. They perform well out of the box, and have lots of settings to optimize performance. Random forests can be used for classification or regression; we'll use it for regression to predict the future price change of LNG.\n",
    "\n",
    "We'll create and fit the random forest model similarly to the decision trees using the .fit(features, targets) method. With sklearn's ***RandomForestRegressor***, there's a built-in ***.score() *method we can use to evaluate performance. This takes arguments (features, targets), and returns the R2 score (the coefficient of determination). "
   ]
  },
  {
   "cell_type": "code",
   "execution_count": 30,
   "metadata": {
    "colab": {
     "base_uri": "https://localhost:8080/",
     "height": 51
    },
    "colab_type": "code",
    "id": "FttpDuBBjGQ5",
    "outputId": "287fc668-538b-4e97-c28d-9b6f5357b6df"
   },
   "outputs": [
    {
     "name": "stdout",
     "output_type": "stream",
     "text": [
      "0.9190352644092232\n",
      "-1.1500646805454644\n"
     ]
    }
   ],
   "source": [
    "from sklearn.ensemble import RandomForestRegressor\n",
    "\n",
    "# Create the random forest model and fit to the training data\n",
    "rfr = RandomForestRegressor(n_estimators=200)\n",
    "rfr.fit(train_features, train_targets)\n",
    "\n",
    "# Look at the R^2 scores on train and test\n",
    "print(rfr.score(train_features, train_targets))\n",
    "print(rfr.score(test_features, test_targets))"
   ]
  },
  {
   "cell_type": "markdown",
   "metadata": {
    "colab_type": "text",
    "id": "OfAT2N2CjZQd"
   },
   "source": [
    "**Tune random forest hyperparameters**\n",
    "\n",
    "As with all models, we want to optimize performance by tuning hyperparameters. We have many hyperparameters for random forests, but the most important is often the number of features we sample at each split, or max_features in RandomForestRegressor from the sklearn library. For models like random forests that have randomness built-in, we also want to set the random_state. This is set for our results to be reproducible.\n",
    "\n",
    "Usually, we can use sklearn's ***GridSearchCV() ***method to search hyperparameters, but with a financial time series, we don't want to do cross-validation due to data mixing. We want to fit our models on the oldest data and evaluate on the newest data. So we'll use sklearn's ***ParameterGrid*** to create combinations of hyperparameters to search."
   ]
  },
  {
   "cell_type": "code",
   "execution_count": 31,
   "metadata": {
    "colab": {
     "base_uri": "https://localhost:8080/",
     "height": 54
    },
    "colab_type": "code",
    "id": "khjSemaCjiT_",
    "outputId": "8e8e2490-d0fe-4a77-fad7-1e22a378f76d"
   },
   "outputs": [
    {
     "name": "stdout",
     "output_type": "stream",
     "text": [
      "(-0.02447183671021058, {'n_estimators': 200, 'max_features': 4, 'random_state': 42, 'max_depth': 3})\n"
     ]
    }
   ],
   "source": [
    "from sklearn.model_selection import ParameterGrid\n",
    "\n",
    "# Create a dictionary of hyperparameters to search\n",
    "grid = {'n_estimators': [200], 'max_depth': [3], 'max_features': [4,8], 'random_state': [42]}\n",
    "test_scores = []\n",
    "\n",
    "# Loop through the parameter grid, set the hyperparameters, and save the scores\n",
    "for g in ParameterGrid(grid):\n",
    "    rfr.set_params(**g)  # ** is \"unpacking\" the dictionary\n",
    "    rfr.fit(train_features, train_targets)\n",
    "    test_scores.append(rfr.score(test_features, test_targets))\n",
    "\n",
    "# Find best hyperparameters from the test score and print\n",
    "best_idx = np.argmax(test_scores)\n",
    "print(test_scores[best_idx], ParameterGrid(grid)[best_idx])"
   ]
  },
  {
   "cell_type": "markdown",
   "metadata": {
    "colab_type": "text",
    "id": "yo333E-VkHcO"
   },
   "source": [
    "**Evaluate performance**\n",
    "\n",
    "Lastly, and as always, we want to evaluate performance of our best model to check how well or poorly we are doing. Ideally it's best to do back-testing, but that's an involved process we don't have room to cover in this course.\n",
    "\n",
    "We've already seen the ***R2 ***scores, but let's take a look at the scatter plot of predictions vs actual results using ***matplotlib***. Perfect predictions would be a diagonal line from the lower left to the upper right."
   ]
  },
  {
   "cell_type": "code",
   "execution_count": 32,
   "metadata": {
    "colab": {
     "base_uri": "https://localhost:8080/",
     "height": 269
    },
    "colab_type": "code",
    "id": "Ixa3gD6JkMW0",
    "outputId": "4c29cc42-bdbb-44d2-85f3-8db10b1dfbf3"
   },
   "outputs": [
    {
     "data": {
      "image/png": "[encoded data removed]",
      "text/plain": [
       "<Figure size 432x288 with 1 Axes>"
      ]
     },
     "metadata": {
      "tags": []
     },
     "output_type": "display_data"
    }
   ],
   "source": [
    "# Use the best hyperparameters from before to fit a random forest model\n",
    "rfr = RandomForestRegressor(n_estimators=200, max_depth=3, max_features=4, random_state=42)\n",
    "rfr.fit(train_features, train_targets)\n",
    "\n",
    "# Make predictions with our model\n",
    "train_predictions = rfr.predict(train_features)\n",
    "test_predictions = rfr.predict(test_features)\n",
    "\n",
    "# Create a scatter plot with train and test actual vs predictions\n",
    "plt.scatter(train_targets, train_predictions, label='train')\n",
    "plt.scatter(test_targets, test_predictions, label='test')\n",
    "plt.legend()\n",
    "plt.show()"
   ]
  },
  {
   "cell_type": "markdown",
   "metadata": {
    "colab_type": "text",
    "id": "OCp4_Pb7kUm3"
   },
   "source": [
    "**Feature importances and gradient boosting**"
   ]
  },
  {
   "cell_type": "markdown",
   "metadata": {
    "colab_type": "text",
    "id": "J69n7ItdkV75"
   },
   "source": [
    "R**andom forest feature importances**\n",
    "\n",
    "One useful aspect of tree-based methods is the ability to extract feature importances. This is a quantitative way to measure how much each feature contributes to our predictions. It can help us focus on our best features, possibly enhancing or tuning them, and can also help us get rid of useless features that may be cluttering up our model.\n",
    "\n",
    "Tree models in sklearn have a*** .feature_importances_*** property that's accessible after fitting the model. This stores the feature importance scores. We need to get the indices of the sorted feature importances using ***np.argsort() ***in order to make a nice-looking bar plot of feature importances (sorted from greatest to least importance)."
   ]
  },
  {
   "cell_type": "code",
   "execution_count": 33,
   "metadata": {
    "colab": {
     "base_uri": "https://localhost:8080/",
     "height": 377
    },
    "colab_type": "code",
    "id": "C792dDDukc7G",
    "outputId": "13eae5ad-6ec8-4ace-fb5b-f9626449bdb7"
   },
   "outputs": [
    {
     "data": {
      "image/png": "[encoded data removed]",
      "text/plain": [
       "<Figure size 432x288 with 1 Axes>"
      ]
     },
     "metadata": {
      "tags": []
     },
     "output_type": "display_data"
    }
   ],
   "source": [
    "# Get feature importances from our random forest model\n",
    "importances = rfr.feature_importances_\n",
    "\n",
    "# Get the index of importances from greatest importance to least\n",
    "sorted_index = np.argsort(importances)[::-1]\n",
    "x = range(len(importances))\n",
    "\n",
    "# Create tick labels \n",
    "labels = np.array(feature_names)[sorted_index]\n",
    "plt.bar(x, importances[sorted_index], tick_label=labels)\n",
    "\n",
    "# Rotate tick labels to vertical\n",
    "plt.xticks(rotation=90)\n",
    "plt.show()"
   ]
  },
  {
   "cell_type": "markdown",
   "metadata": {
    "colab_type": "text",
    "id": "QATSZWL3ko5_"
   },
   "source": [
    "**A gradient boosting model**\n",
    "\n",
    "Now we'll fit a gradient boosting (GB) model. It's been said a linear model is like a Toyota Camry, and GB is like a Black Hawk helicopter. GB has potential to outperform random forests, but doesn't always do so. This is called the no free lunch theorem, meaning we should always try lots of different models for each problem.\n",
    "\n",
    "GB is similar to random forest models, but the difference is that trees are built successively. With each iteration, the next tree fits the residual errors from the previous tree in order to improve the fit.\n",
    "\n",
    "For now we won't search our hyperparameters -- they've been searched for you."
   ]
  },
  {
   "cell_type": "code",
   "execution_count": 34,
   "metadata": {
    "colab": {
     "base_uri": "https://localhost:8080/",
     "height": 51
    },
    "colab_type": "code",
    "id": "IaVlAh-5kvOS",
    "outputId": "5a8100f0-33ea-4698-e08c-d41738b7cda4"
   },
   "outputs": [
    {
     "name": "stdout",
     "output_type": "stream",
     "text": [
      "0.4982341377762708\n",
      "0.03194774398155009\n"
     ]
    }
   ],
   "source": [
    "from sklearn.ensemble import GradientBoostingRegressor\n",
    "\n",
    "# Create GB model -- hyperparameters have already been searched for you\n",
    "gbr = GradientBoostingRegressor(max_features=4,\n",
    "                                learning_rate=0.01,\n",
    "                                n_estimators=200,\n",
    "                                subsample=0.6,\n",
    "                                random_state=42)\n",
    "gbr.fit(train_features, train_targets)\n",
    "\n",
    "print(gbr.score(train_features, train_targets))\n",
    "print(gbr.score(test_features, test_targets))"
   ]
  },
  {
   "cell_type": "markdown",
   "metadata": {
    "colab_type": "text",
    "id": "2Jg2tddUk09q"
   },
   "source": [
    "**Gradient boosting feature importances**\n",
    "\n",
    "As with random forests, we can extract feature importances from gradient boosting models to understand which features are the best predictors. Sometimes it's nice to try different tree-based models and look at the feature importances from all of them. This can help average out any peculiarities that may arise from one particular model.\n",
    "\n",
    "The feature importances are stored as a ***numpy ***array in the ***.feature_importances_ ***property of the gradient boosting model. We'll need to get the sorted indices of the feature importances, using np.argsort(), in order to make a nice plot. We want the features from largest to smallest, so we will use Python's indexing to reverse the sorted importances like ***feat_importances[::-1].***"
   ]
  },
  {
   "cell_type": "code",
   "execution_count": null,
   "metadata": {
    "colab": {},
    "colab_type": "code",
    "id": "DEqTC5sWk8dA"
   },
   "outputs": [],
   "source": [
    "# Extract feature importances from the fitted gradient boosting model\n",
    "feature_importances = gbr.feature_importances_\n",
    "\n",
    "# Get the indices of the largest to smallest feature importances\n",
    "sorted_index = np.argsort(feature_importances)[::-1]\n",
    "x = range(features.shape[1])\n",
    "\n"
   ]
  },
  {
   "cell_type": "markdown",
   "metadata": {
    "colab_type": "text",
    "id": "-fp_pLaWmZTC"
   },
   "source": [
    "# Machine Learning: Scaling data and KNN Regression\n"
   ]
  },
  {
   "cell_type": "markdown",
   "metadata": {
    "colab_type": "text",
    "id": "GRIJ8C_3mdaM"
   },
   "source": [
    "**Standardizing data**\n",
    "\n",
    "Some models, like K-nearest neighbors (KNN) & neural networks, work better with scaled data -- so we'll standardize our data.\n",
    "\n",
    "We'll also remove unimportant variables (day of week), according to feature importances, by indexing the features DataFrames with ***.iloc[].*** KNN uses distances to find similar points for predictions, so big features outweigh small ones. Scaling data fixes that.\n",
    "\n",
    "***sklearn's scale() ***will standardize data, which sets the mean to 0 and standard deviation to 1. Ideally we'd want to use ***StandardScaler*** with ***fit_transform() ***on the training data, and fit() on the test data, but we are limited to 15 lines of code here.\n",
    "\n",
    "Once we've scaled the data, we'll check that it worked by plotting histograms of the data."
   ]
  },
  {
   "cell_type": "code",
   "execution_count": 44,
   "metadata": {
    "colab": {
     "base_uri": "https://localhost:8080/",
     "height": 269
    },
    "colab_type": "code",
    "id": "NtvMA7f-mqJ3",
    "outputId": "0ccc5981-eb0a-41bb-a33c-ace4f02add3c"
   },
   "outputs": [
    {
     "data": {
      "image/png": "[encoded data removed]",
      "text/plain": [
       "<Figure size 432x288 with 2 Axes>"
      ]
     },
     "metadata": {
      "tags": []
     },
     "output_type": "display_data"
    }
   ],
   "source": [
    "from sklearn.preprocessing import scale\n",
    "\n",
    "# Remove unimportant features (weekdays)\n",
    "train_features = train_features.iloc[:, :-4]\n",
    "test_features = test_features.iloc[:, :-4]\n",
    "\n",
    "# Standardize the train and test features\n",
    "scaled_train_features = scale(train_features)\n",
    "scaled_test_features = scale(test_features)\n",
    "\n",
    "# Plot histograms of the 14-day SMA RSI before and after scaling\n",
    "f, ax = plt.subplots(nrows=2, ncols=1)\n",
    "train_features.iloc[:, 2].hist(ax=ax[0])\n",
    "ax[1].hist(scaled_train_features[:, 2])\n",
    "plt.show()"
   ]
  },
  {
   "cell_type": "markdown",
   "metadata": {
    "colab_type": "text",
    "id": "JMcahsT3mtIA"
   },
   "source": [
    "**Optimize n_neighbors**\n",
    "\n",
    "Now that we have scaled data, we can try using a KNN model. To maximize performance, we should tune our model's hyperparameters. For the k-nearest neighbors algorithm, we only have one hyperparameter: **n**, the number of neighbors. We set this hyperparameter when we create the model with KNeighborsRegressor. The argument for the number of neighbors is n_neighbors.\n",
    "\n",
    "We want to try a range of values that passes through the setting with the best performance. Usually we will start with 2 neighbors, and increase until our scoring metric starts to decrease. We'll use the R2 value from the ***.score()*** method on the test set (***scaled_test_features and test_targets***) to optimize n here. We'll use the test set scores to determine the best n."
   ]
  },
  {
   "cell_type": "code",
   "execution_count": 45,
   "metadata": {
    "colab": {
     "base_uri": "https://localhost:8080/",
     "height": 952
    },
    "colab_type": "code",
    "id": "ZmvAbRRLm2EM",
    "outputId": "ee252e5d-d8f5-4052-c1fc-17cb03ef5b8a"
   },
   "outputs": [
    {
     "name": "stdout",
     "output_type": "stream",
     "text": [
      "('n_neighbors =', 2)\n",
      "train, test scores\n",
      "0.6562458230909551\n",
      "-2.8430866322856945\n",
      "()\n",
      "('n_neighbors =', 3)\n",
      "train, test scores\n",
      "0.5411552925249177\n",
      "-2.613591416708169\n",
      "()\n",
      "('n_neighbors =', 4)\n",
      "train, test scores\n",
      "0.4712476099298199\n",
      "-2.1781777704828045\n",
      "()\n",
      "('n_neighbors =', 5)\n",
      "train, test scores\n",
      "0.4033242541011819\n",
      "-2.004365211040514\n",
      "()\n",
      "('n_neighbors =', 6)\n",
      "train, test scores\n",
      "0.3403095448506611\n",
      "-1.8265744193761786\n",
      "()\n",
      "('n_neighbors =', 7)\n",
      "train, test scores\n",
      "0.3240303412095106\n",
      "-1.7974979828994684\n",
      "()\n",
      "('n_neighbors =', 8)\n",
      "train, test scores\n",
      "0.2771069214358133\n",
      "-1.759064449056348\n",
      "()\n",
      "('n_neighbors =', 9)\n",
      "train, test scores\n",
      "0.23110792151015758\n",
      "-1.7268712636926478\n",
      "()\n",
      "('n_neighbors =', 10)\n",
      "train, test scores\n",
      "0.213916765254472\n",
      "-1.5179988882303292\n",
      "()\n",
      "('n_neighbors =', 11)\n",
      "train, test scores\n",
      "0.19310270383686423\n",
      "-1.5146664987980976\n",
      "()\n",
      "('n_neighbors =', 12)\n",
      "train, test scores\n",
      "0.17890886943365625\n",
      "-1.5165857752269796\n",
      "()\n"
     ]
    }
   ],
   "source": [
    "from sklearn.neighbors import KNeighborsRegressor\n",
    "\n",
    "for n in range(2,13):\n",
    "    # Create and fit the KNN model\n",
    "    knn = KNeighborsRegressor(n_neighbors= n)\n",
    "    \n",
    "    # Fit the model to the training data\n",
    "    knn.fit(scaled_train_features, train_targets)\n",
    "    \n",
    "    # Print number of neighbors and the score to find the best value of n\n",
    "    print(\"n_neighbors =\", n)\n",
    "    print('train, test scores')\n",
    "    print(knn.score(scaled_train_features, train_targets))\n",
    "    print(knn.score(scaled_test_features, test_targets))\n",
    "    print()  # prints a blank line"
   ]
  },
  {
   "cell_type": "markdown",
   "metadata": {
    "colab_type": "text",
    "id": "am_s-9Y1m44j"
   },
   "source": [
    "**Evaluate KNN performance**\n",
    "\n",
    "We just saw a few things with our KNN scores. For one, the training scores started high and decreased with increasing n, which is typical. The test set performance reached a peak at 5 though, and we will use that as our setting in the final KNN model.\n",
    "\n",
    "As we have done a few times now, we will check our performance visually. This helps us see how well the model is predicting on different regions of actual values. We will get predictions from our knn model using the .predict() method on our scaled features. Then we'll use matplotlib's plt.scatter() to create a scatter plot of actual versus predicted values."
   ]
  },
  {
   "cell_type": "code",
   "execution_count": 46,
   "metadata": {
    "colab": {
     "base_uri": "https://localhost:8080/",
     "height": 269
    },
    "colab_type": "code",
    "id": "nVnCdp7em9-T",
    "outputId": "ad795a00-502a-4081-c90e-696118b87140"
   },
   "outputs": [
    {
     "data": {
      "image/png": "[encoded data removed]",
      "text/plain": [
       "<Figure size 432x288 with 1 Axes>"
      ]
     },
     "metadata": {
      "tags": []
     },
     "output_type": "display_data"
    }
   ],
   "source": [
    "# Create the model with the best-performing n_neighbors of 5\n",
    "knn = KNeighborsRegressor(n_neighbors= 5)\n",
    "\n",
    "# Fit the model\n",
    "knn.fit(scaled_train_features, train_targets)\n",
    "\n",
    "# Get predictions for train and test sets\n",
    "train_predictions = knn.predict(scaled_train_features)\n",
    "test_predictions = knn.predict(scaled_test_features)\n",
    "\n",
    "# Plot the actual vs predicted values\n",
    "plt.scatter(train_predictions, train_targets, label='train')\n",
    "plt.scatter(test_predictions, test_targets, label= 'test')\n",
    "plt.legend()\n",
    "plt.show()"
   ]
  },
  {
   "cell_type": "markdown",
   "metadata": {
    "colab_type": "text",
    "id": "JLkXhAsknAR0"
   },
   "source": [
    "# Machine Learning: Neural Networks\n"
   ]
  },
  {
   "cell_type": "markdown",
   "metadata": {
    "colab_type": "text",
    "id": "ksS7HnQEnHSd"
   },
   "source": [
    "**Build and fit a simple neural net**\n",
    "\n",
    "\n",
    "The next model we will learn how to use is a neural network. Neural nets can capture complex interactions between variables, but are difficult to set up and understand. Recently, they have been beating human experts in many fields, including image recognition and gaming (check out AlphaGo) -- so they have great potential to perform well.\n",
    "\n",
    "To build our nets we'll use the ***keras library.*** This is a high-level API that allows us to quickly make neural nets, yet still exercise a lot of control over the design. The first thing we'll do is create almost the simplest net possible -- a 3-layer net that takes our inputs and predicts a single value. Much like the sklearn models, keras models have a .fit() method that takes arguments of (features, targets)."
   ]
  },
  {
   "cell_type": "code",
   "execution_count": 47,
   "metadata": {
    "colab": {
     "base_uri": "https://localhost:8080/",
     "height": 1006
    },
    "colab_type": "code",
    "id": "IqCRp4PFnFNt",
    "outputId": "69741378-ec63-4fd4-9fb7-68a996141e80"
   },
   "outputs": [
    {
     "name": "stderr",
     "output_type": "stream",
     "text": [
      "Using TensorFlow backend.\n"
     ]
    },
    {
     "name": "stdout",
     "output_type": "stream",
     "text": [
      "WARNING:tensorflow:From /usr/local/lib/python2.7/dist-packages/tensorflow/python/framework/op_def_library.py:263: colocate_with (from tensorflow.python.framework.ops) is deprecated and will be removed in a future version.\n",
      "Instructions for updating:\n",
      "Colocations handled automatically by placer.\n",
      "WARNING:tensorflow:From /usr/local/lib/python2.7/dist-packages/tensorflow/python/ops/math_ops.py:3066: to_int32 (from tensorflow.python.ops.math_ops) is deprecated and will be removed in a future version.\n",
      "Instructions for updating:\n",
      "Use tf.cast instead.\n",
      "Epoch 1/25\n",
      "251/251 [==============================] - 1s 2ms/step - loss: 0.0038\n",
      "Epoch 2/25\n",
      "251/251 [==============================] - 0s 52us/step - loss: 0.0023\n",
      "Epoch 3/25\n",
      "251/251 [==============================] - 0s 60us/step - loss: 0.0019\n",
      "Epoch 4/25\n",
      "251/251 [==============================] - 0s 56us/step - loss: 0.0018\n",
      "Epoch 5/25\n",
      "251/251 [==============================] - 0s 50us/step - loss: 0.0015\n",
      "Epoch 6/25\n",
      "251/251 [==============================] - 0s 56us/step - loss: 0.0016\n",
      "Epoch 7/25\n",
      "251/251 [==============================] - 0s 60us/step - loss: 0.0015\n",
      "Epoch 8/25\n",
      "251/251 [==============================] - 0s 57us/step - loss: 0.0014\n",
      "Epoch 9/25\n",
      "251/251 [==============================] - 0s 55us/step - loss: 0.0014\n",
      "Epoch 10/25\n",
      "251/251 [==============================] - 0s 56us/step - loss: 0.0014\n",
      "Epoch 11/25\n",
      "251/251 [==============================] - 0s 58us/step - loss: 0.0013\n",
      "Epoch 12/25\n",
      "251/251 [==============================] - 0s 57us/step - loss: 0.0013\n",
      "Epoch 13/25\n",
      "251/251 [==============================] - 0s 53us/step - loss: 0.0013\n",
      "Epoch 14/25\n",
      "251/251 [==============================] - 0s 68us/step - loss: 0.0013\n",
      "Epoch 15/25\n",
      "251/251 [==============================] - 0s 69us/step - loss: 0.0013\n",
      "Epoch 16/25\n",
      "251/251 [==============================] - 0s 70us/step - loss: 0.0015\n",
      "Epoch 17/25\n",
      "251/251 [==============================] - 0s 72us/step - loss: 0.0015\n",
      "Epoch 18/25\n",
      "251/251 [==============================] - 0s 57us/step - loss: 0.0012\n",
      "Epoch 19/25\n",
      "251/251 [==============================] - 0s 58us/step - loss: 0.0012\n",
      "Epoch 20/25\n",
      "251/251 [==============================] - 0s 58us/step - loss: 0.0012\n",
      "Epoch 21/25\n",
      "251/251 [==============================] - 0s 62us/step - loss: 0.0012\n",
      "Epoch 22/25\n",
      "251/251 [==============================] - 0s 54us/step - loss: 0.0011\n",
      "Epoch 23/25\n",
      "251/251 [==============================] - 0s 53us/step - loss: 0.0012\n",
      "Epoch 24/25\n",
      "251/251 [==============================] - 0s 56us/step - loss: 0.0012\n",
      "Epoch 25/25\n",
      "251/251 [==============================] - 0s 59us/step - loss: 0.0011\n"
     ]
    }
   ],
   "source": [
    "from keras.models import Sequential\n",
    "from keras.layers import Dense\n",
    "\n",
    "# Create the model\n",
    "model_1 = Sequential()\n",
    "model_1.add(Dense(100, input_dim=scaled_train_features.shape[1], activation='relu'))\n",
    "model_1.add(Dense(20, activation='relu'))\n",
    "model_1.add(Dense(1, activation='linear'))\n",
    "\n",
    "# Fit the model\n",
    "model_1.compile(optimizer='adam', loss='mse')\n",
    "history = model_1.fit(scaled_train_features, train_targets, epochs=25)"
   ]
  },
  {
   "cell_type": "markdown",
   "metadata": {
    "colab_type": "text",
    "id": "KA4eyVq_nRB6"
   },
   "source": [
    "**Plot losses**\n",
    "\n",
    "Once we've fit a model, we usually check the training loss curve to make sure it's flattened out. The history returned from model.fit() is a dictionary that has an entry, 'loss', which is the training loss. We want to ensure this has more or less flattened out at the end of our training."
   ]
  },
  {
   "cell_type": "code",
   "execution_count": 48,
   "metadata": {
    "colab": {
     "base_uri": "https://localhost:8080/",
     "height": 281
    },
    "colab_type": "code",
    "id": "dOPv3H-pnUgN",
    "outputId": "3d75bcf2-f84d-4224-d2ba-20ba0c860f86"
   },
   "outputs": [
    {
     "data": {
      "image/png": "[encoded data removed]",
      "text/plain": [
       "<Figure size 432x288 with 1 Axes>"
      ]
     },
     "metadata": {
      "tags": []
     },
     "output_type": "display_data"
    }
   ],
   "source": [
    "# Plot the losses from the fit\n",
    "plt.plot(history.history['loss'])\n",
    "\n",
    "# Use the last loss as the title\n",
    "plt.title('loss:' + str(round(history.history['loss'][-1], 6)))\n",
    "plt.show()"
   ]
  },
  {
   "cell_type": "markdown",
   "metadata": {
    "colab_type": "text",
    "id": "42LUIoRMnZxi"
   },
   "source": [
    "**Measure performance**\n",
    "\n",
    "Now that we've fit our neural net, let's check performance to see how well our model is predicting new values. There's not a built-in .score() method like with sklearn models, so we'll use the r2_score() function from sklearn.metrics. This calculates the R2 score given arguments (y_true, y_predicted). We'll also plot our predictions versus actual values again. This will yield some interesting results soon (once we implement our own custom loss function)."
   ]
  },
  {
   "cell_type": "code",
   "execution_count": 49,
   "metadata": {
    "colab": {
     "base_uri": "https://localhost:8080/",
     "height": 303
    },
    "colab_type": "code",
    "id": "LFjoyj5SncwZ",
    "outputId": "920a2f7b-d561-4400-dde5-a97cf07957c1"
   },
   "outputs": [
    {
     "name": "stdout",
     "output_type": "stream",
     "text": [
      "0.37889331813718685\n",
      "-2.252699740363762\n"
     ]
    },
    {
     "data": {
      "image/png": "[encoded data removed]",
      "text/plain": [
       "<Figure size 432x288 with 1 Axes>"
      ]
     },
     "metadata": {
      "tags": []
     },
     "output_type": "display_data"
    }
   ],
   "source": [
    "from sklearn.metrics import r2_score\n",
    "\n",
    "# Calculate R^2 score\n",
    "train_preds = model_1.predict(scaled_train_features)\n",
    "test_preds = model_1.predict(scaled_test_features)\n",
    "print(r2_score(train_targets, train_preds))\n",
    "print(r2_score(test_targets, test_preds))\n",
    "\n",
    "# Plot predictions vs actual\n",
    "plt.scatter(train_preds, train_targets, label='train')\n",
    "plt.scatter(test_preds, test_targets, label= 'test')\n",
    "plt.legend()\n",
    "plt.show()"
   ]
  },
  {
   "cell_type": "markdown",
   "metadata": {
    "colab_type": "text",
    "id": "gM7qrQWqnhQ_"
   },
   "source": [
    "**Custom loss functions**"
   ]
  },
  {
   "cell_type": "markdown",
   "metadata": {
    "colab_type": "text",
    "id": "w0hGH8dRnkQr"
   },
   "source": [
    "\n",
    "Up to now, we've used the mean squared error as a loss function. This works fine, but with stock price prediction it can be useful to implement a custom loss function. A custom loss function can help improve our model's performance in specific ways we choose. For example, we're going to create a custom loss function with a large penalty for predicting price movements in the wrong direction. This will help our net learn to at least predict price movements in the correct direction.\n",
    "\n",
    "To do this, we need to write a function that takes arguments of (y_true, y_predicted). We'll also use functionality from the backend keras (using tensorflow) to find cases where the true value and prediction don't match signs, then penalize those cases."
   ]
  },
  {
   "cell_type": "code",
   "execution_count": 50,
   "metadata": {
    "colab": {
     "base_uri": "https://localhost:8080/",
     "height": 34
    },
    "colab_type": "code",
    "id": "A31u-2j4noGY",
    "outputId": "19acc3a9-d710-4ab1-bc82-405ca480200b"
   },
   "outputs": [
    {
     "name": "stdout",
     "output_type": "stream",
     "text": [
      "<function sign_penalty at 0x7ffa433d9500>\n"
     ]
    }
   ],
   "source": [
    "import keras.losses\n",
    "import tensorflow as tf\n",
    "\n",
    "# Create loss function\n",
    "def sign_penalty(y_true, y_pred):\n",
    "    penalty = 100.\n",
    "    loss = tf.where(tf.less(y_true * y_pred, 0), \\\n",
    "                     penalty * tf.square(y_true - y_pred), \\\n",
    "                     tf.square(y_true - y_pred))\n",
    "\n",
    "    return tf.reduce_mean(loss, axis=-1)\n",
    "\n",
    "keras.losses.sign_penalty = sign_penalty  # enable use of loss with keras\n",
    "print(keras.losses.sign_penalty)"
   ]
  },
  {
   "cell_type": "markdown",
   "metadata": {
    "colab_type": "text",
    "id": "CyjE31lnnsP1"
   },
   "source": [
    "**Fit neural net with custom loss function**\n",
    "\n",
    "Now we'll use the custom loss function we just created. This will enable us to alter the model's behavior in useful ways particular to our problem -- it's going to try to force the model to learn how to at least predict price movement direction correctly. All we need to do now is set the ***loss*** argument in our*** .compile() ***function to our function name, ***sign_penalty***. We'll examine the training loss again to make sure it's flattened out."
   ]
  },
  {
   "cell_type": "code",
   "execution_count": 51,
   "metadata": {
    "colab": {
     "base_uri": "https://localhost:8080/",
     "height": 1131
    },
    "colab_type": "code",
    "id": "0dQxsHYRn2re",
    "outputId": "0a74b26b-d75a-4064-cba5-86dd460bdf20"
   },
   "outputs": [
    {
     "name": "stdout",
     "output_type": "stream",
     "text": [
      "Epoch 1/25\n",
      "251/251 [==============================] - 0s 886us/step - loss: 0.6966\n",
      "Epoch 2/25\n",
      "251/251 [==============================] - 0s 50us/step - loss: 0.3947\n",
      "Epoch 3/25\n",
      "251/251 [==============================] - 0s 50us/step - loss: 0.3083\n",
      "Epoch 4/25\n",
      "251/251 [==============================] - 0s 50us/step - loss: 0.2114\n",
      "Epoch 5/25\n",
      "251/251 [==============================] - 0s 58us/step - loss: 0.1528\n",
      "Epoch 6/25\n",
      "251/251 [==============================] - 0s 55us/step - loss: 0.1150\n",
      "Epoch 7/25\n",
      "251/251 [==============================] - 0s 60us/step - loss: 0.0842\n",
      "Epoch 8/25\n",
      "251/251 [==============================] - 0s 69us/step - loss: 0.0732\n",
      "Epoch 9/25\n",
      "251/251 [==============================] - 0s 66us/step - loss: 0.0735\n",
      "Epoch 10/25\n",
      "251/251 [==============================] - 0s 55us/step - loss: 0.0671\n",
      "Epoch 11/25\n",
      "251/251 [==============================] - 0s 59us/step - loss: 0.0525\n",
      "Epoch 12/25\n",
      "251/251 [==============================] - 0s 70us/step - loss: 0.0748\n",
      "Epoch 13/25\n",
      "251/251 [==============================] - 0s 65us/step - loss: 0.0481\n",
      "Epoch 14/25\n",
      "251/251 [==============================] - 0s 58us/step - loss: 0.0430\n",
      "Epoch 15/25\n",
      "251/251 [==============================] - 0s 54us/step - loss: 0.0390\n",
      "Epoch 16/25\n",
      "251/251 [==============================] - 0s 60us/step - loss: 0.0396\n",
      "Epoch 17/25\n",
      "251/251 [==============================] - 0s 60us/step - loss: 0.0404\n",
      "Epoch 18/25\n",
      "251/251 [==============================] - 0s 53us/step - loss: 0.0382\n",
      "Epoch 19/25\n",
      "251/251 [==============================] - 0s 59us/step - loss: 0.0485\n",
      "Epoch 20/25\n",
      "251/251 [==============================] - 0s 53us/step - loss: 0.0447\n",
      "Epoch 21/25\n",
      "251/251 [==============================] - 0s 56us/step - loss: 0.0304\n",
      "Epoch 22/25\n",
      "251/251 [==============================] - 0s 64us/step - loss: 0.0269\n",
      "Epoch 23/25\n",
      "251/251 [==============================] - 0s 60us/step - loss: 0.0311\n",
      "Epoch 24/25\n",
      "251/251 [==============================] - 0s 57us/step - loss: 0.0700\n",
      "Epoch 25/25\n",
      "251/251 [==============================] - 0s 58us/step - loss: 0.0932\n"
     ]
    },
    {
     "data": {
      "image/png": "[encoded data removed]",
      "text/plain": [
       "<Figure size 432x288 with 1 Axes>"
      ]
     },
     "metadata": {
      "tags": []
     },
     "output_type": "display_data"
    }
   ],
   "source": [
    "# Create the model\n",
    "model_2 = Sequential()\n",
    "model_2.add(Dense(100, input_dim= scaled_train_features.shape[1], activation='relu'))\n",
    "model_2.add(Dense(20, activation='relu'))\n",
    "model_2.add(Dense(1, activation='linear'))\n",
    "\n",
    "# Fit the model with our custom 'sign_penalty' loss function\n",
    "model_2.compile(optimizer='adam', loss=sign_penalty)\n",
    "history = model_2.fit(scaled_train_features, train_targets, epochs=25)\n",
    "plt.plot(history.history['loss'])\n",
    "plt.title('loss:' + str(round(history.history['loss'][-1], 6)))\n",
    "plt.show()"
   ]
  },
  {
   "cell_type": "markdown",
   "metadata": {
    "colab_type": "text",
    "id": "gtEpwOAMn7Ds"
   },
   "source": [
    "**Visualize the results**\n",
    "\n",
    "We've fit our model with the custom loss function, and it's time to see how it is performing. We'll check the R2 values again with sklearn's r2_score() function, and we'll create a scatter plot of predictions versus actual values with plt.scatter(). This will yield some interesting results!"
   ]
  },
  {
   "cell_type": "code",
   "execution_count": 52,
   "metadata": {
    "colab": {
     "base_uri": "https://localhost:8080/",
     "height": 303
    },
    "colab_type": "code",
    "id": "xGm4xmYfn-rU",
    "outputId": "fadfd2cb-988e-45e8-94ed-2101f17bf724"
   },
   "outputs": [
    {
     "name": "stdout",
     "output_type": "stream",
     "text": [
      "0.15821913625450035\n",
      "-7.269011731115864\n"
     ]
    },
    {
     "data": {
      "image/png": "[encoded data removed]",
      "text/plain": [
       "<Figure size 432x288 with 1 Axes>"
      ]
     },
     "metadata": {
      "tags": []
     },
     "output_type": "display_data"
    }
   ],
   "source": [
    "# Evaluate R^2 scores\n",
    "train_preds = model_2.predict(scaled_train_features)\n",
    "test_preds = model_2.predict(scaled_test_features)\n",
    "print(r2_score(train_targets, train_preds))\n",
    "print(r2_score(test_targets, test_preds))\n",
    "\n",
    "# Scatter the predictions vs actual -- this one is interesting!\n",
    "plt.scatter(train_preds, train_targets, label='train')\n",
    "plt.scatter(test_preds, test_targets, label='test')  # plot test set\n",
    "plt.legend(); plt.show()"
   ]
  },
  {
   "cell_type": "markdown",
   "metadata": {
    "colab_type": "text",
    "id": "H3GPi2-foEao"
   },
   "source": [
    "# Overfitting and ensembling"
   ]
  },
  {
   "cell_type": "markdown",
   "metadata": {
    "colab_type": "text",
    "id": "T0Zjbt1XoGBh"
   },
   "source": [
    "**Combatting overfitting with dropout**\n",
    "\n",
    "A common problem with neural networks is they tend to overfit to training data. What this means is the scoring metric, like R2 or accuracy, is high for the training set, but low for testing and validation sets, and the model is fitting to noise in the training data.\n",
    "\n",
    "We can work towards preventing overfitting by using dropout. This randomly drops some neurons during the training phase, which helps prevent the net from fitting noise in the training data. ***keras*** has a ***Dropout l***ayer that we can use to accomplish this. We need to set the dropout rate, or fraction of connections dropped during training time. This is set as a decimal between 0 and 1 in the ***Dropout()*** layer.\n",
    "\n",
    "We're going to go back to the mean squared error loss function for this model."
   ]
  },
  {
   "cell_type": "code",
   "execution_count": 54,
   "metadata": {
    "colab": {
     "base_uri": "https://localhost:8080/",
     "height": 1131
    },
    "colab_type": "code",
    "id": "c9IL6BcEoROE",
    "outputId": "ed7ecfd1-a184-47d8-8134-ce36b0228ab4"
   },
   "outputs": [
    {
     "name": "stdout",
     "output_type": "stream",
     "text": [
      "Epoch 1/25\n",
      "251/251 [==============================] - 0s 1ms/step - loss: 0.0535\n",
      "Epoch 2/25\n",
      "251/251 [==============================] - 0s 64us/step - loss: 0.0291\n",
      "Epoch 3/25\n",
      "251/251 [==============================] - 0s 55us/step - loss: 0.0122\n",
      "Epoch 4/25\n",
      "251/251 [==============================] - 0s 59us/step - loss: 0.0076\n",
      "Epoch 5/25\n",
      "251/251 [==============================] - 0s 57us/step - loss: 0.0093\n",
      "Epoch 6/25\n",
      "251/251 [==============================] - 0s 58us/step - loss: 0.0061\n",
      "Epoch 7/25\n",
      "251/251 [==============================] - 0s 56us/step - loss: 0.0052\n",
      "Epoch 8/25\n",
      "251/251 [==============================] - 0s 57us/step - loss: 0.0052\n",
      "Epoch 9/25\n",
      "251/251 [==============================] - 0s 58us/step - loss: 0.0040\n",
      "Epoch 10/25\n",
      "251/251 [==============================] - 0s 58us/step - loss: 0.0049\n",
      "Epoch 11/25\n",
      "251/251 [==============================] - 0s 57us/step - loss: 0.0064\n",
      "Epoch 12/25\n",
      "251/251 [==============================] - 0s 60us/step - loss: 0.0047\n",
      "Epoch 13/25\n",
      "251/251 [==============================] - 0s 71us/step - loss: 0.0035\n",
      "Epoch 14/25\n",
      "251/251 [==============================] - 0s 74us/step - loss: 0.0042\n",
      "Epoch 15/25\n",
      "251/251 [==============================] - 0s 61us/step - loss: 0.0038\n",
      "Epoch 16/25\n",
      "251/251 [==============================] - 0s 58us/step - loss: 0.0041\n",
      "Epoch 17/25\n",
      "251/251 [==============================] - 0s 61us/step - loss: 0.0037\n",
      "Epoch 18/25\n",
      "251/251 [==============================] - 0s 59us/step - loss: 0.0036\n",
      "Epoch 19/25\n",
      "251/251 [==============================] - 0s 60us/step - loss: 0.0030\n",
      "Epoch 20/25\n",
      "251/251 [==============================] - 0s 55us/step - loss: 0.0025\n",
      "Epoch 21/25\n",
      "251/251 [==============================] - 0s 57us/step - loss: 0.0030\n",
      "Epoch 22/25\n",
      "251/251 [==============================] - 0s 60us/step - loss: 0.0029\n",
      "Epoch 23/25\n",
      "251/251 [==============================] - 0s 65us/step - loss: 0.0032\n",
      "Epoch 24/25\n",
      "251/251 [==============================] - 0s 65us/step - loss: 0.0032\n",
      "Epoch 25/25\n",
      "251/251 [==============================] - 0s 61us/step - loss: 0.0025\n"
     ]
    },
    {
     "data": {
      "image/png": "[encoded data removed]",
      "text/plain": [
       "<Figure size 432x288 with 1 Axes>"
      ]
     },
     "metadata": {
      "tags": []
     },
     "output_type": "display_data"
    }
   ],
   "source": [
    "from keras.layers import Dropout\n",
    "\n",
    "# Create model with dropout\n",
    "model_3 = Sequential()\n",
    "model_3.add(Dense(100, input_dim=scaled_train_features.shape[1], activation='relu'))\n",
    "model_3.add(Dropout(0.2))\n",
    "model_3.add(Dense(20, activation='relu'))\n",
    "model_3.add(Dense(1, activation='linear'))\n",
    "\n",
    "# Fit model with mean squared error loss function\n",
    "model_3.compile(optimizer='adam', loss='mse')\n",
    "history = model_3.fit(scaled_train_features, train_targets, epochs=25)\n",
    "plt.plot(history.history['loss'])\n",
    "plt.title('loss:' + str(round(history.history['loss'][-1], 6)))\n",
    "plt.show();"
   ]
  },
  {
   "cell_type": "markdown",
   "metadata": {
    "colab_type": "text",
    "id": "Dg8pHryZoZym"
   },
   "source": [
    "**Ensembling models**\n",
    "\n",
    "One approach to improve predictions from machine learning models is ensembling. A basic approach is to average the predictions from multiple models. A more complex approach is to feed predictions of models into another model, which makes final predictions. Both approaches usually improve our overall performance (as long as our individual models are good). If you remember, random forests are also using ensembling of many decision trees.\n",
    "\n",
    "To ensemble our neural net predictions, we'll make predictions with the 3 models we just created -- the basic model, the model with the custom loss function, and the model with dropout. Then we'll combine the predictions with*** numpy's .hstack()*** function, and average them across rows with np.mean(predictions, axis=1)"
   ]
  },
  {
   "cell_type": "code",
   "execution_count": 55,
   "metadata": {
    "colab": {
     "base_uri": "https://localhost:8080/",
     "height": 34
    },
    "colab_type": "code",
    "id": "Mw0yk6QIoefG",
    "outputId": "f670c3cb-9117-473e-82fa-3e69e97e9f87"
   },
   "outputs": [
    {
     "name": "stdout",
     "output_type": "stream",
     "text": [
      "[-0.01392377 -0.01265657 -0.0092204  -0.00511049 -0.01214387]\n"
     ]
    }
   ],
   "source": [
    "# Make predictions from the 3 neural net models\n",
    "train_pred1 = model_1.predict(scaled_train_features)\n",
    "test_pred1 = model_1.predict(scaled_test_features)\n",
    "\n",
    "train_pred2 = model_2.predict(scaled_train_features)\n",
    "test_pred2 = model_2.predict(scaled_test_features)\n",
    "\n",
    "train_pred3 = model_3.predict(scaled_train_features)\n",
    "test_pred3 = model_3.predict(scaled_test_features)\n",
    "\n",
    "# Horizontally stack predictions and take the average across rows\n",
    "train_preds = np.mean(np.hstack((train_pred1, train_pred2, train_pred3)), axis=1)\n",
    "test_preds = np.mean(np.hstack((test_pred1, test_pred2, test_pred3)), axis=1)\n",
    "print(test_preds[-5:])"
   ]
  },
  {
   "cell_type": "markdown",
   "metadata": {
    "colab_type": "text",
    "id": "m0O6OHlRoi5K"
   },
   "source": [
    "**See how the ensemble performed**\n",
    "\n",
    "Let's check performance of our ensembled model to see how it's doing. We should see roughly an average of the R2 scores, as well as a scatter plot that is a mix of our previous models' predictions. The bow-tie shape from the custom loss function model should still be a bit visible, but the edges near x=0 should be softer."
   ]
  },
  {
   "cell_type": "code",
   "execution_count": 56,
   "metadata": {
    "colab": {
     "base_uri": "https://localhost:8080/",
     "height": 303
    },
    "colab_type": "code",
    "id": "GfRI0DTCoklq",
    "outputId": "cc7614b5-8932-43d4-b79f-49cb9b92b2ab"
   },
   "outputs": [
    {
     "name": "stdout",
     "output_type": "stream",
     "text": [
      "0.2882962418691972\n",
      "-2.9534071305187957\n"
     ]
    },
    {
     "data": {
      "image/png": "[encoded data removed]",
      "text/plain": [
       "<Figure size 432x288 with 1 Axes>"
      ]
     },
     "metadata": {
      "tags": []
     },
     "output_type": "display_data"
    }
   ],
   "source": [
    "from sklearn.metrics import r2_score\n",
    "\n",
    "# Evaluate the R^2 scores\n",
    "print(r2_score(train_targets, train_preds))\n",
    "print(r2_score(test_targets, test_preds))\n",
    "\n",
    "# Scatter the predictions vs actual -- this one is interesting!\n",
    "plt.scatter(train_preds, train_targets, label='train')\n",
    "plt.scatter(test_preds, test_targets, label='test')\n",
    "plt.legend(); plt.show()"
   ]
  },
  {
   "cell_type": "markdown",
   "metadata": {
    "colab_type": "text",
    "id": "-uSBU1SavaUe"
   },
   "source": [
    "# Modern portfolio theory (MPT); efficient frontiers"
   ]
  },
  {
   "cell_type": "markdown",
   "metadata": {
    "colab_type": "text",
    "id": "3dwS-S-ivcLj"
   },
   "source": [
    "**Step1: Join stock DataFrames and calculate returns**"
   ]
  },
  {
   "cell_type": "markdown",
   "metadata": {
    "colab_type": "text",
    "id": "nEU-SypGvgM1"
   },
   "source": [
    "Our first step towards calculating modern portfolio theory (MPT) portfolios is to get daily and monthly returns. \n",
    "\n",
    "Eventually we're going to get the best portfolios of each month based on the Sharpe ratio. The easiest way to do this is to put all our stock prices into one DataFrame, then to resample them to the daily and monthly time frames. We need daily price changes to calculate volatility, which we will use as our measure of risk."
   ]
  },
  {
   "cell_type": "code",
   "execution_count": 84,
   "metadata": {
    "colab": {
     "base_uri": "https://localhost:8080/",
     "height": 34
    },
    "colab_type": "code",
    "id": "Xp-NSe-vwrAz",
    "outputId": "2fc0a5ea-24d9-4d71-e095-2befd8d9e35d"
   },
   "outputs": [
    {
     "name": "stdout",
     "output_type": "stream",
     "text": [
      "[*********************100%***********************]  1 of 1 downloaded\n"
     ]
    }
   ],
   "source": [
    "FB  = pdr.get_data_yahoo(tickers =[\"FB\"],\n",
    "    start = \"2015-04-01\",\n",
    "    end=\"2019-03-31\",\n",
    "    as_panel = False,\n",
    "    )[['Adj Close']]\n",
    "FB.columns = ['FB']"
   ]
  },
  {
   "cell_type": "code",
   "execution_count": 85,
   "metadata": {
    "colab": {
     "base_uri": "https://localhost:8080/",
     "height": 34
    },
    "colab_type": "code",
    "id": "waTS9mdbvuhS",
    "outputId": "2a5b1ec4-91ba-4cc2-c4cd-7b44a9e7fb9f"
   },
   "outputs": [
    {
     "name": "stdout",
     "output_type": "stream",
     "text": [
      "[*********************100%***********************]  1 of 1 downloaded\n"
     ]
    }
   ],
   "source": [
    "BABA  = pdr.get_data_yahoo(tickers =[\"BABA\"],\n",
    "    start = \"2015-04-01\",\n",
    "    end=\"2019-03-31\",\n",
    "    as_panel = False,\n",
    "    )[['Adj Close']]\n",
    "BABA.columns = ['BABA']"
   ]
  },
  {
   "cell_type": "code",
   "execution_count": 86,
   "metadata": {
    "colab": {
     "base_uri": "https://localhost:8080/",
     "height": 34
    },
    "colab_type": "code",
    "id": "1ieZRMpxwUWs",
    "outputId": "709a8ac2-fbd4-4dd5-e859-816e140a5bc2"
   },
   "outputs": [
    {
     "name": "stdout",
     "output_type": "stream",
     "text": [
      "[*********************100%***********************]  1 of 1 downloaded\n"
     ]
    }
   ],
   "source": [
    "AMZN  = pdr.get_data_yahoo(tickers =[\"AMZN\"],\n",
    "    start = \"2015-04-01\",\n",
    "    end=\"2019-03-31\",\n",
    "    as_panel = False,\n",
    "    )[['Adj Close']]\n",
    "AMZN.columns = ['AMZN']"
   ]
  },
  {
   "cell_type": "code",
   "execution_count": 87,
   "metadata": {
    "colab": {
     "base_uri": "https://localhost:8080/",
     "height": 255
    },
    "colab_type": "code",
    "id": "Asq2SDf0vrBS",
    "outputId": "c3bf43f1-e97c-41c0-9719-fd7f1edb8627"
   },
   "outputs": [
    {
     "name": "stdout",
     "output_type": "stream",
     "text": [
      "                  FB      AMZN      BABA\n",
      "Date                                    \n",
      "2015-04-01       NaN       NaN       NaN\n",
      "2015-04-02 -0.001347  0.005375 -0.000971\n",
      "2015-04-06  0.010790  0.012868 -0.005591\n",
      "2015-04-07 -0.001456 -0.006975  0.004767\n",
      "2015-04-08 -0.000486  0.018135  0.038681\n",
      "                  FB      AMZN      BABA\n",
      "Date                                    \n",
      "2018-11-01 -0.065809 -0.169046 -0.066358\n",
      "2018-12-03 -0.070247  0.064142  0.082579\n",
      "2019-01-01 -0.038344 -0.131593 -0.165140\n",
      "2019-02-01  0.221330  0.056590  0.228749\n",
      "2019-03-01 -0.020699  0.027979  0.094719\n"
     ]
    }
   ],
   "source": [
    "# Join 3 stock dataframes together\n",
    "full_df = pd.concat([FB, AMZN, BABA], axis=1).dropna()\n",
    "\n",
    "# Resample the full dataframe to monthly timeframe\n",
    "monthly_df = full_df.resample('BMS').first()\n",
    "\n",
    "# Calculate daily returns of stocks\n",
    "returns_daily = full_df.pct_change()\n",
    "\n",
    "# Calculate monthly returns of the stocks\n",
    "returns_monthly = monthly_df.pct_change().dropna()\n",
    "\n",
    "print(returns_daily.head())\n",
    "print(returns_monthly.tail())"
   ]
  },
  {
   "cell_type": "markdown",
   "metadata": {
    "colab_type": "text",
    "id": "ZZLnvpNEyVSt"
   },
   "source": [
    "**Step2: Calculate covariances for volatility**"
   ]
  },
  {
   "cell_type": "markdown",
   "metadata": {
    "colab_type": "text",
    "id": "lhKlIM3dyZ7f"
   },
   "source": [
    "In MPT, we quantify risk via volatility. The math for calculating portfolio volatility is complex, and it requires daily returns covariances. \n",
    "\n",
    "We'll now **loop through each month **in the ***returns_monthly ***DataFrame, and calculate the covariance of the daily returns.\n",
    "\n",
    "With pandas datetime indices, we can access the month and year with **df.index.month** and **df.index.year**. \n",
    "\n",
    "We'll use this to ***create a mask for returns_daily ***that gives us the **daily returns** for the current month and year in the loop. We then use the mask to subset the DataFrame like this: ***df[mask]. ***This gets entries in the ***returns_daily*** DataFrame which are in the current month and year in each cycle of the loop. Finally, we'll use **pandas' .cov() **method to get the **covariance** of daily returns."
   ]
  },
  {
   "cell_type": "code",
   "execution_count": 88,
   "metadata": {
    "colab": {
     "base_uri": "https://localhost:8080/",
     "height": 85
    },
    "colab_type": "code",
    "id": "MvbFztu9y6O3",
    "outputId": "8e26fef1-ad21-4eae-a800-8b67cede7ae7"
   },
   "outputs": [
    {
     "name": "stdout",
     "output_type": "stream",
     "text": [
      "            FB      AMZN      BABA\n",
      "FB    0.000270  0.000077  0.000090\n",
      "AMZN  0.000077  0.000225  0.000179\n",
      "BABA  0.000090  0.000179  0.000244\n"
     ]
    }
   ],
   "source": [
    "# Daily covariance of stocks (for each monthly period)\n",
    "covariances = {}\n",
    "rtd_idx = returns_daily.index\n",
    "for i in returns_monthly.index:\n",
    "    # Mask daily returns for each month and year, and calculate covariance\n",
    "    mask = (rtd_idx.month == i.month) & (rtd_idx.year == i.year)\n",
    "    \n",
    "    # Use the mask to get daily returns for the current month and year of monthy returns index\n",
    "    covariances[i] = returns_daily[mask].cov()\n",
    "\n",
    "print(covariances[i])"
   ]
  },
  {
   "cell_type": "markdown",
   "metadata": {
    "colab_type": "text",
    "id": "Qk3w0cHmzMKK"
   },
   "source": [
    "**Step3: Calculate portfolios**"
   ]
  },
  {
   "cell_type": "markdown",
   "metadata": {
    "colab_type": "text",
    "id": "xFjC4xjlzPDo"
   },
   "source": [
    "We'll now generate portfolios to find **each month's best one. **numpy's ***random.random() ***generates random numbers from a uniform distribution, then we normalize them so they sum to 1 using the ***/= operator.*** We use these **weights** to calculate returns and volatility. **Returns are sums of weights times individual returns**. Volatility is more complex, and involves the covariances of the different stocks.\n",
    "\n",
    "Finally we'll store the values in dictionaries for later use, with months' dates as keys.\n",
    "\n",
    "In this case, **we will only generate 10 portfolios for each date so the code will run faster**, but in a real-world use-case you'd want to use more like 1000 to 5000 randomly-generated portfolios for a few stocks."
   ]
  },
  {
   "cell_type": "code",
   "execution_count": 89,
   "metadata": {
    "colab": {
     "base_uri": "https://localhost:8080/",
     "height": 34
    },
    "colab_type": "code",
    "id": "mBPLGab2yUy4",
    "outputId": "817edb25-97e5-436e-80c6-f3ebf2fb3b89"
   },
   "outputs": [
    {
     "name": "stdout",
     "output_type": "stream",
     "text": [
      "[0.0611801  0.40778414 0.53103576]\n"
     ]
    }
   ],
   "source": [
    "portfolio_returns, portfolio_volatility, portfolio_weights = {}, {}, {}\n",
    "\n",
    "# Get portfolio performances at each month\n",
    "for date in sorted(covariances.keys()):\n",
    "    cov = covariances[date]\n",
    "    for portfolio in range(10):\n",
    "        weights = np.random.random(3)\n",
    "        weights /= np.sum(weights) # /= divides weights by their sum to normalize\n",
    "        returns = np.dot(weights, returns_monthly.loc[date])\n",
    "        volatility = np.sqrt(np.dot(weights.T, np.dot(cov, weights)))\n",
    "        portfolio_returns.setdefault(date, []).append(returns)\n",
    "        portfolio_volatility.setdefault(date, []).append(volatility)\n",
    "        portfolio_weights.setdefault(date, []).append(weights)\n",
    "        \n",
    "print(portfolio_weights[date][0])"
   ]
  },
  {
   "cell_type": "markdown",
   "metadata": {
    "colab_type": "text",
    "id": "A6wyTln_zmdH"
   },
   "source": [
    "**Step 4: Plot efficient frontier**\n"
   ]
  },
  {
   "cell_type": "markdown",
   "metadata": {
    "colab_type": "text",
    "id": "5El8vrCAzqhY"
   },
   "source": [
    "We can finally plot the results of our MPT portfolios, which shows the \"efficient frontier\". This is a plot of the volatility vs the returns. This can help us visualize our risk-return possibilities for portfolios. The upper left boundary of the points is the best we can do (highest return for a given risk), and that is the efficient frontier.\n",
    "\n",
    "To create this plot, we will use the latest date in our covariances dictionary which we created a few exercises ago. This has dates as keys, so we'll get the sorted keys using sorted() and .keys(), then get the last entry with Python indexing ([-1]). Lastly we'll use matplotlib to scatter variance vs returns and see the efficient frontier for the latest date in the data."
   ]
  },
  {
   "cell_type": "code",
   "execution_count": 90,
   "metadata": {
    "colab": {
     "base_uri": "https://localhost:8080/",
     "height": 283
    },
    "colab_type": "code",
    "id": "T2Q5UKdYzsi6",
    "outputId": "1cb03de2-78fa-413c-efe3-362770485b3f"
   },
   "outputs": [
    {
     "data": {
      "image/png": "[encoded data removed]",
      "text/plain": [
       "<Figure size 432x288 with 1 Axes>"
      ]
     },
     "metadata": {
      "tags": []
     },
     "output_type": "display_data"
    }
   ],
   "source": [
    "# Get latest date of available data\n",
    "date = sorted(covariances.keys())[-1]  \n",
    "\n",
    "# Plot efficient frontier\n",
    "# warning: this can take at least 10s for the plot to execute...\n",
    "plt.scatter(x=portfolio_volatility[date], y=portfolio_returns[date],  alpha=0.9)\n",
    "plt.xlabel('Volatility')\n",
    "plt.ylabel('Returns')\n",
    "plt.show()"
   ]
  }
 ],
 "metadata": {
  "colab": {
   "collapsed_sections": [],
   "name": "ML for Finance in Python - Xiaoyang Yu/ Ditstat",
   "provenance": [],
   "version": "0.3.2"
  },
  "kernelspec": {
   "display_name": "Python 3",
   "language": "python",
   "name": "python3"
  },
  "language_info": {
   "codemirror_mode": {
    "name": "ipython",
    "version": 3
   },
   "file_extension": ".py",
   "mimetype": "text/x-python",
   "name": "python",
   "nbconvert_exporter": "python",
   "pygments_lexer": "ipython3",
   "version": "3.7.2"
  }
 },
 "nbformat": 4,
 "nbformat_minor": 2
}
