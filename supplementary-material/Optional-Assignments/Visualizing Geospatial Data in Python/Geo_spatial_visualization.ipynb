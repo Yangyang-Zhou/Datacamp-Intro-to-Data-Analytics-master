{
 "cells": [
  {
   "cell_type": "code",
   "execution_count": null,
   "metadata": {
    "colab": {},
    "colab_type": "code",
    "id": "hj3xQibD7z7g"
   },
   "outputs": [],
   "source": []
  },
  {
   "cell_type": "markdown",
   "metadata": {
    "colab_type": "text",
    "id": "jA_tUvGgXUtT"
   },
   "source": [
    "# Geo-Spatial Visualization\n",
    "\n",
    "---\n",
    "\n",
    "**Jiedong Wang, Kento Minagawa  -  IS833 Optional Assignment**\n",
    "\n",
    "With geopandas, we can visualize geographical data such as \n",
    "\n",
    "1. How to plot geospatial points as scatterplots\n",
    "2. How to plot geometries using geopandas\n",
    "3. How to construct a GeoDataFrame from a DataFrame\n",
    "4. How to spatially join datasets\n",
    "5. How to add a street map to your plots\n",
    "6. When and how to create a choropleth\n",
    "\n",
    "We can put lateral and horizontal data points and combine with various geographical maps. Also we can create choropleth with color depending on the data volume of certain areas like we do with Tableau. \n",
    "\n",
    "First we demonstrate how to combine geometrical scatterplot of chicken distribution in Nashville and conbine with the US map using our new tool, geopandas. \n",
    "\n",
    "Then, we show few examples of geo-plotting with geojson input including Nashville School Districts and Neighborhood.\n"
   ]
  },
  {
   "cell_type": "markdown",
   "metadata": {
    "colab_type": "text",
    "id": "SNvP_ac_zPAZ"
   },
   "source": [
    "## Prerequisite: Install tools\n",
    "\n",
    "To install some tools, we have to put ''!pip install --upgrade' before the tool name.\n",
    "For basic tools like numpy, we do not need but for some advanced tools, it is required. "
   ]
  },
  {
   "cell_type": "code",
   "execution_count": 44,
   "metadata": {
    "colab": {
     "base_uri": "https://localhost:8080/",
     "height": 1329
    },
    "colab_type": "code",
    "id": "kMaDsDOaKRWb",
    "outputId": "b88fc46a-dfe4-403c-a00f-b5423a969289"
   },
   "outputs": [
    {
     "name": "stdout",
     "output_type": "stream",
     "text": [
      "Requirement already up-to-date: geopandas in /usr/local/lib/python3.6/dist-packages (0.5.0)\n",
      "Requirement already satisfied, skipping upgrade: fiona in /usr/local/lib/python3.6/dist-packages (from geopandas) (1.8.6)\n",
      "Requirement already satisfied, skipping upgrade: shapely in /usr/local/lib/python3.6/dist-packages (from geopandas) (1.6.4.post2)\n",
      "Requirement already satisfied, skipping upgrade: pandas in /usr/local/lib/python3.6/dist-packages (from geopandas) (0.24.2)\n",
      "Requirement already satisfied, skipping upgrade: pyproj in /usr/local/lib/python3.6/dist-packages (from geopandas) (2.1.3)\n",
      "Requirement already satisfied, skipping upgrade: click-plugins>=1.0 in /usr/local/lib/python3.6/dist-packages (from fiona->geopandas) (1.1.1)\n",
      "Requirement already satisfied, skipping upgrade: attrs>=17 in /usr/local/lib/python3.6/dist-packages (from fiona->geopandas) (19.1.0)\n",
      "Requirement already satisfied, skipping upgrade: munch in /usr/local/lib/python3.6/dist-packages (from fiona->geopandas) (2.3.2)\n",
      "Requirement already satisfied, skipping upgrade: six>=1.7 in /usr/local/lib/python3.6/dist-packages (from fiona->geopandas) (1.12.0)\n",
      "Requirement already satisfied, skipping upgrade: click<8,>=4.0 in /usr/local/lib/python3.6/dist-packages (from fiona->geopandas) (7.0)\n",
      "Requirement already satisfied, skipping upgrade: cligj>=0.5 in /usr/local/lib/python3.6/dist-packages (from fiona->geopandas) (0.5.0)\n",
      "Requirement already satisfied, skipping upgrade: python-dateutil>=2.5.0 in /usr/local/lib/python3.6/dist-packages (from pandas->geopandas) (2.5.3)\n",
      "Requirement already satisfied, skipping upgrade: pytz>=2011k in /usr/local/lib/python3.6/dist-packages (from pandas->geopandas) (2018.9)\n",
      "Requirement already satisfied, skipping upgrade: numpy>=1.12.0 in /usr/local/lib/python3.6/dist-packages (from pandas->geopandas) (1.16.3)\n",
      "Requirement already up-to-date: OpticalRS in /usr/local/lib/python3.6/dist-packages (1.0.4)\n",
      "Requirement already satisfied, skipping upgrade: pandas in /usr/local/lib/python3.6/dist-packages (from OpticalRS) (0.24.2)\n",
      "Requirement already satisfied, skipping upgrade: scikit-learn in /usr/local/lib/python3.6/dist-packages (from OpticalRS) (0.20.3)\n",
      "Requirement already satisfied, skipping upgrade: rasterstats==0.5 in /usr/local/lib/python3.6/dist-packages (from OpticalRS) (0.5)\n",
      "Requirement already satisfied, skipping upgrade: scipy in /usr/local/lib/python3.6/dist-packages (from OpticalRS) (1.2.1)\n",
      "Requirement already satisfied, skipping upgrade: numpy in /usr/local/lib/python3.6/dist-packages (from OpticalRS) (1.16.3)\n",
      "Requirement already satisfied, skipping upgrade: scikit-image in /usr/local/lib/python3.6/dist-packages (from OpticalRS) (0.14.2)\n",
      "Requirement already satisfied, skipping upgrade: GDAL in /usr/lib/python3/dist-packages (from OpticalRS) (2.2.2)\n",
      "Requirement already satisfied, skipping upgrade: statsmodels in /usr/local/lib/python3.6/dist-packages (from OpticalRS) (0.9.0)\n",
      "Requirement already satisfied, skipping upgrade: matplotlib in /usr/local/lib/python3.6/dist-packages (from OpticalRS) (3.0.3)\n",
      "Requirement already satisfied, skipping upgrade: geopandas in /usr/local/lib/python3.6/dist-packages (from OpticalRS) (0.5.0)\n",
      "Requirement already satisfied, skipping upgrade: python-dateutil>=2.5.0 in /usr/local/lib/python3.6/dist-packages (from pandas->OpticalRS) (2.5.3)\n",
      "Requirement already satisfied, skipping upgrade: pytz>=2011k in /usr/local/lib/python3.6/dist-packages (from pandas->OpticalRS) (2018.9)\n",
      "Requirement already satisfied, skipping upgrade: docopt in /usr/local/lib/python3.6/dist-packages (from rasterstats==0.5->OpticalRS) (0.6.2)\n",
      "Requirement already satisfied, skipping upgrade: shapely in /usr/local/lib/python3.6/dist-packages (from rasterstats==0.5->OpticalRS) (1.6.4.post2)\n",
      "Requirement already satisfied, skipping upgrade: dask[array]>=1.0.0 in /usr/local/lib/python3.6/dist-packages (from scikit-image->OpticalRS) (1.1.5)\n",
      "Requirement already satisfied, skipping upgrade: pillow>=4.3.0 in /usr/local/lib/python3.6/dist-packages (from scikit-image->OpticalRS) (4.3.0)\n",
      "Requirement already satisfied, skipping upgrade: PyWavelets>=0.4.0 in /usr/local/lib/python3.6/dist-packages (from scikit-image->OpticalRS) (1.0.3)\n",
      "Requirement already satisfied, skipping upgrade: networkx>=1.8 in /usr/local/lib/python3.6/dist-packages (from scikit-image->OpticalRS) (2.3)\n",
      "Requirement already satisfied, skipping upgrade: six>=1.10.0 in /usr/local/lib/python3.6/dist-packages (from scikit-image->OpticalRS) (1.12.0)\n",
      "Requirement already satisfied, skipping upgrade: cloudpickle>=0.2.1 in /usr/local/lib/python3.6/dist-packages (from scikit-image->OpticalRS) (0.4.0)\n",
      "Requirement already satisfied, skipping upgrade: patsy in /usr/local/lib/python3.6/dist-packages (from statsmodels->OpticalRS) (0.5.1)\n",
      "Requirement already satisfied, skipping upgrade: cycler>=0.10 in /usr/local/lib/python3.6/dist-packages (from matplotlib->OpticalRS) (0.10.0)\n",
      "Requirement already satisfied, skipping upgrade: pyparsing!=2.0.4,!=2.1.2,!=2.1.6,>=2.0.1 in /usr/local/lib/python3.6/dist-packages (from matplotlib->OpticalRS) (2.4.0)\n",
      "Requirement already satisfied, skipping upgrade: kiwisolver>=1.0.1 in /usr/local/lib/python3.6/dist-packages (from matplotlib->OpticalRS) (1.0.1)\n",
      "Requirement already satisfied, skipping upgrade: fiona in /usr/local/lib/python3.6/dist-packages (from geopandas->OpticalRS) (1.8.6)\n",
      "Requirement already satisfied, skipping upgrade: pyproj in /usr/local/lib/python3.6/dist-packages (from geopandas->OpticalRS) (2.1.3)\n",
      "Requirement already satisfied, skipping upgrade: toolz>=0.7.3; extra == \"array\" in /usr/local/lib/python3.6/dist-packages (from dask[array]>=1.0.0->scikit-image->OpticalRS) (0.9.0)\n",
      "Requirement already satisfied, skipping upgrade: olefile in /usr/local/lib/python3.6/dist-packages (from pillow>=4.3.0->scikit-image->OpticalRS) (0.46)\n",
      "Requirement already satisfied, skipping upgrade: decorator>=4.3.0 in /usr/local/lib/python3.6/dist-packages (from networkx>=1.8->scikit-image->OpticalRS) (4.4.0)\n",
      "Requirement already satisfied, skipping upgrade: setuptools in /usr/local/lib/python3.6/dist-packages (from kiwisolver>=1.0.1->matplotlib->OpticalRS) (40.9.0)\n",
      "Requirement already satisfied, skipping upgrade: click-plugins>=1.0 in /usr/local/lib/python3.6/dist-packages (from fiona->geopandas->OpticalRS) (1.1.1)\n",
      "Requirement already satisfied, skipping upgrade: click<8,>=4.0 in /usr/local/lib/python3.6/dist-packages (from fiona->geopandas->OpticalRS) (7.0)\n",
      "Requirement already satisfied, skipping upgrade: munch in /usr/local/lib/python3.6/dist-packages (from fiona->geopandas->OpticalRS) (2.3.2)\n",
      "Requirement already satisfied, skipping upgrade: cligj>=0.5 in /usr/local/lib/python3.6/dist-packages (from fiona->geopandas->OpticalRS) (0.5.0)\n",
      "Requirement already satisfied, skipping upgrade: attrs>=17 in /usr/local/lib/python3.6/dist-packages (from fiona->geopandas->OpticalRS) (19.1.0)\n",
      "Requirement already up-to-date: shapely in /usr/local/lib/python3.6/dist-packages (1.6.4.post2)\n",
      "Requirement already up-to-date: pyshp in /usr/local/lib/python3.6/dist-packages (2.1.0)\n",
      "Requirement already up-to-date: plotly in /usr/local/lib/python3.6/dist-packages (3.8.1)\n",
      "Requirement already satisfied, skipping upgrade: requests in /usr/local/lib/python3.6/dist-packages (from plotly) (2.21.0)\n",
      "Requirement already satisfied, skipping upgrade: retrying>=1.3.3 in /usr/local/lib/python3.6/dist-packages (from plotly) (1.3.3)\n",
      "Requirement already satisfied, skipping upgrade: nbformat>=4.2 in /usr/local/lib/python3.6/dist-packages (from plotly) (4.4.0)\n",
      "Requirement already satisfied, skipping upgrade: pytz in /usr/local/lib/python3.6/dist-packages (from plotly) (2018.9)\n",
      "Requirement already satisfied, skipping upgrade: six in /usr/local/lib/python3.6/dist-packages (from plotly) (1.12.0)\n",
      "Requirement already satisfied, skipping upgrade: decorator>=4.0.6 in /usr/local/lib/python3.6/dist-packages (from plotly) (4.4.0)\n",
      "Requirement already satisfied, skipping upgrade: urllib3<1.25,>=1.21.1 in /usr/local/lib/python3.6/dist-packages (from requests->plotly) (1.24.2)\n",
      "Requirement already satisfied, skipping upgrade: certifi>=2017.4.17 in /usr/local/lib/python3.6/dist-packages (from requests->plotly) (2019.3.9)\n",
      "Requirement already satisfied, skipping upgrade: idna<2.9,>=2.5 in /usr/local/lib/python3.6/dist-packages (from requests->plotly) (2.8)\n",
      "Requirement already satisfied, skipping upgrade: chardet<3.1.0,>=3.0.2 in /usr/local/lib/python3.6/dist-packages (from requests->plotly) (3.0.4)\n",
      "Requirement already satisfied, skipping upgrade: jupyter-core in /usr/local/lib/python3.6/dist-packages (from nbformat>=4.2->plotly) (4.4.0)\n",
      "Requirement already satisfied, skipping upgrade: jsonschema!=2.5.0,>=2.4 in /usr/local/lib/python3.6/dist-packages (from nbformat>=4.2->plotly) (2.6.0)\n",
      "Requirement already satisfied, skipping upgrade: ipython-genutils in /usr/local/lib/python3.6/dist-packages (from nbformat>=4.2->plotly) (0.2.0)\n",
      "Requirement already satisfied, skipping upgrade: traitlets>=4.1 in /usr/local/lib/python3.6/dist-packages (from nbformat>=4.2->plotly) (4.3.2)\n",
      "Requirement already up-to-date: descartes in /usr/local/lib/python3.6/dist-packages (1.1.0)\n",
      "Requirement already satisfied, skipping upgrade: matplotlib in /usr/local/lib/python3.6/dist-packages (from descartes) (3.0.3)\n",
      "Requirement already satisfied, skipping upgrade: python-dateutil>=2.1 in /usr/local/lib/python3.6/dist-packages (from matplotlib->descartes) (2.5.3)\n",
      "Requirement already satisfied, skipping upgrade: cycler>=0.10 in /usr/local/lib/python3.6/dist-packages (from matplotlib->descartes) (0.10.0)\n",
      "Requirement already satisfied, skipping upgrade: pyparsing!=2.0.4,!=2.1.2,!=2.1.6,>=2.0.1 in /usr/local/lib/python3.6/dist-packages (from matplotlib->descartes) (2.4.0)\n",
      "Requirement already satisfied, skipping upgrade: kiwisolver>=1.0.1 in /usr/local/lib/python3.6/dist-packages (from matplotlib->descartes) (1.0.1)\n",
      "Requirement already satisfied, skipping upgrade: numpy>=1.10.0 in /usr/local/lib/python3.6/dist-packages (from matplotlib->descartes) (1.16.3)\n",
      "Requirement already satisfied, skipping upgrade: six>=1.5 in /usr/local/lib/python3.6/dist-packages (from python-dateutil>=2.1->matplotlib->descartes) (1.12.0)\n",
      "Requirement already satisfied, skipping upgrade: setuptools in /usr/local/lib/python3.6/dist-packages (from kiwisolver>=1.0.1->matplotlib->descartes) (40.9.0)\n"
     ]
    }
   ],
   "source": [
    "!pip install --upgrade geopandas\n",
    "!pip install --upgrade OpticalRS\n",
    "!pip install --upgrade shapely\n",
    "!pip install --upgrade pyshp\n",
    "!pip install --upgrade plotly\n",
    "!pip install --upgrade descartes"
   ]
  },
  {
   "cell_type": "code",
   "execution_count": null,
   "metadata": {
    "colab": {},
    "colab_type": "code",
    "id": "OX3m0-OIC-zR"
   },
   "outputs": [],
   "source": [
    "import matplotlib.pyplot as plt\n",
    "import geopandas as gpd\n",
    "import pandas as pd\n",
    "import numpy as np\n",
    "import matplotlib\n",
    "from shapely.geometry import Point\n",
    "from shapely.geometry import LineString\n",
    "from descartes import PolygonPatch\n",
    "import plotly\n",
    "import plotly.figure_factory as ff"
   ]
  },
  {
   "cell_type": "code",
   "execution_count": 46,
   "metadata": {
    "colab": {
     "base_uri": "https://localhost:8080/",
     "height": 54
    },
    "colab_type": "code",
    "id": "YAWsWJ1UFbPG",
    "outputId": "7fbd3c12-b425-4abb-f90a-c0e9e67c0fa8"
   },
   "outputs": [
    {
     "name": "stdout",
     "output_type": "stream",
     "text": [
      "Drive already mounted at /content/gdrive; to attempt to forcibly remount, call drive.mount(\"/content/gdrive\", force_remount=True).\n"
     ]
    }
   ],
   "source": [
    "from google.colab import drive\n",
    "drive.mount('/content/gdrive')"
   ]
  },
  {
   "cell_type": "code",
   "execution_count": 47,
   "metadata": {
    "colab": {
     "base_uri": "https://localhost:8080/",
     "height": 51
    },
    "colab_type": "code",
    "id": "NuCTlIJfFb7O",
    "outputId": "fb57ac29-7b66-492d-db73-d13996edd658"
   },
   "outputs": [
    {
     "name": "stdout",
     "output_type": "stream",
     "text": [
      "[Errno 2] No such file or directory: 'gdrive/My Drive/IS833BA'\n",
      "/content/gdrive/My Drive/IS833BA\n"
     ]
    }
   ],
   "source": [
    "cd gdrive/My\\ Drive/IS833BA"
   ]
  },
  {
   "cell_type": "markdown",
   "metadata": {
    "colab_type": "text",
    "id": "kSHToElhzD84"
   },
   "source": [
    "\n",
    "\n",
    "\n",
    "## Nashville Chickens Example\n",
    "\n",
    "First we show the head of the data set to see what the it looks like. Then we extract longitude and latitude of the chicken distribution to create a scatterplot. \n",
    "Then imput the geographical data into a map with color gradation. We coudn't find a nice North Carolina map so the map shows other states."
   ]
  },
  {
   "cell_type": "code",
   "execution_count": 48,
   "metadata": {
    "colab": {
     "base_uri": "https://localhost:8080/",
     "height": 343
    },
    "colab_type": "code",
    "id": "doM4xBSiFbuA",
    "outputId": "11c49314-74d4-42e5-9a0d-1ba6086f325e"
   },
   "outputs": [
    {
     "data": {
      "text/html": [
       "<div>\n",
       "<style scoped>\n",
       "    .dataframe tbody tr th:only-of-type {\n",
       "        vertical-align: middle;\n",
       "    }\n",
       "\n",
       "    .dataframe tbody tr th {\n",
       "        vertical-align: top;\n",
       "    }\n",
       "\n",
       "    .dataframe thead th {\n",
       "        text-align: right;\n",
       "    }\n",
       "</style>\n",
       "<table border=\"1\" class=\"dataframe\">\n",
       "  <thead>\n",
       "    <tr style=\"text-align: right;\">\n",
       "      <th></th>\n",
       "      <th>Permit #</th>\n",
       "      <th>City</th>\n",
       "      <th>State</th>\n",
       "      <th>ZIP</th>\n",
       "      <th>District</th>\n",
       "      <th>Date issued</th>\n",
       "      <th>Mapped Location</th>\n",
       "      <th>Zip</th>\n",
       "      <th>lng</th>\n",
       "      <th>lat</th>\n",
       "      <th>School Board Districts</th>\n",
       "      <th>S Neighborhoods</th>\n",
       "      <th>Police Precincts</th>\n",
       "      <th>Counties</th>\n",
       "      <th>Council Districts</th>\n",
       "      <th>Zip Codes</th>\n",
       "    </tr>\n",
       "  </thead>\n",
       "  <tbody>\n",
       "    <tr>\n",
       "      <th>0</th>\n",
       "      <td>288</td>\n",
       "      <td>Nashville</td>\n",
       "      <td>TN</td>\n",
       "      <td>37211</td>\n",
       "      <td>30.0</td>\n",
       "      <td>11/26/2014</td>\n",
       "      <td>Nashville, TN</td>\n",
       "      <td>37211</td>\n",
       "      <td>36.069132</td>\n",
       "      <td>-86.724578</td>\n",
       "      <td>3.0</td>\n",
       "      <td>NaN</td>\n",
       "      <td>5.0</td>\n",
       "      <td>2,005</td>\n",
       "      <td>25.0</td>\n",
       "      <td>15,803</td>\n",
       "    </tr>\n",
       "    <tr>\n",
       "      <th>1</th>\n",
       "      <td>435</td>\n",
       "      <td>Nashville</td>\n",
       "      <td>TN</td>\n",
       "      <td>37211</td>\n",
       "      <td>19.0</td>\n",
       "      <td>5/18/2015</td>\n",
       "      <td>Nashville, TN</td>\n",
       "      <td>37211</td>\n",
       "      <td>36.069132</td>\n",
       "      <td>-86.724578</td>\n",
       "      <td>3.0</td>\n",
       "      <td>NaN</td>\n",
       "      <td>5.0</td>\n",
       "      <td>2,005</td>\n",
       "      <td>25.0</td>\n",
       "      <td>15,803</td>\n",
       "    </tr>\n",
       "    <tr>\n",
       "      <th>2</th>\n",
       "      <td>270</td>\n",
       "      <td>Nashville</td>\n",
       "      <td>TN</td>\n",
       "      <td>37216</td>\n",
       "      <td>7.0</td>\n",
       "      <td>11/20/2014</td>\n",
       "      <td>Nashville, TN</td>\n",
       "      <td>37216</td>\n",
       "      <td>36.216134</td>\n",
       "      <td>-86.726204</td>\n",
       "      <td>2.0</td>\n",
       "      <td>82.0</td>\n",
       "      <td>2.0</td>\n",
       "      <td>2,005</td>\n",
       "      <td>8.0</td>\n",
       "      <td>16,164</td>\n",
       "    </tr>\n",
       "    <tr>\n",
       "      <th>3</th>\n",
       "      <td>249</td>\n",
       "      <td>Nashville</td>\n",
       "      <td>TN</td>\n",
       "      <td>37216</td>\n",
       "      <td>25.0</td>\n",
       "      <td>12/29/2014</td>\n",
       "      <td>Nashville, TN</td>\n",
       "      <td>37216</td>\n",
       "      <td>36.216134</td>\n",
       "      <td>-86.726204</td>\n",
       "      <td>2.0</td>\n",
       "      <td>82.0</td>\n",
       "      <td>2.0</td>\n",
       "      <td>2,005</td>\n",
       "      <td>8.0</td>\n",
       "      <td>16,164</td>\n",
       "    </tr>\n",
       "    <tr>\n",
       "      <th>4</th>\n",
       "      <td>200</td>\n",
       "      <td>Nashville</td>\n",
       "      <td>TN</td>\n",
       "      <td>37221</td>\n",
       "      <td>22.0</td>\n",
       "      <td>12/10/2014</td>\n",
       "      <td>Nashville, TN</td>\n",
       "      <td>37221</td>\n",
       "      <td>36.064367</td>\n",
       "      <td>-86.960290</td>\n",
       "      <td>5.0</td>\n",
       "      <td>84.0</td>\n",
       "      <td>8.0</td>\n",
       "      <td>2,005</td>\n",
       "      <td>35.0</td>\n",
       "      <td>16,173</td>\n",
       "    </tr>\n",
       "  </tbody>\n",
       "</table>\n",
       "</div>"
      ],
      "text/plain": [
       "  Permit #       City State    ZIP  District Date issued Mapped Location  \\\n",
       "0      288  Nashville    TN  37211      30.0  11/26/2014   Nashville, TN   \n",
       "1      435  Nashville    TN  37211      19.0   5/18/2015   Nashville, TN   \n",
       "2      270  Nashville    TN  37216       7.0  11/20/2014   Nashville, TN   \n",
       "3      249  Nashville    TN  37216      25.0  12/29/2014   Nashville, TN   \n",
       "4      200  Nashville    TN  37221      22.0  12/10/2014   Nashville, TN   \n",
       "\n",
       "     Zip        lng        lat  School Board Districts  S Neighborhoods  \\\n",
       "0  37211  36.069132 -86.724578                     3.0              NaN   \n",
       "1  37211  36.069132 -86.724578                     3.0              NaN   \n",
       "2  37216  36.216134 -86.726204                     2.0             82.0   \n",
       "3  37216  36.216134 -86.726204                     2.0             82.0   \n",
       "4  37221  36.064367 -86.960290                     5.0             84.0   \n",
       "\n",
       "   Police Precincts Counties  Council Districts Zip Codes  \n",
       "0               5.0    2,005               25.0    15,803  \n",
       "1               5.0    2,005               25.0    15,803  \n",
       "2               2.0    2,005                8.0    16,164  \n",
       "3               2.0    2,005                8.0    16,164  \n",
       "4               8.0    2,005               35.0    16,173  "
      ]
     },
     "execution_count": 48,
     "metadata": {
      "tags": []
     },
     "output_type": "execute_result"
    }
   ],
   "source": [
    "chickens = pd.read_csv('Nash_Chicken.csv')\n",
    "chickens.head()"
   ]
  },
  {
   "cell_type": "code",
   "execution_count": 49,
   "metadata": {
    "colab": {
     "base_uri": "https://localhost:8080/",
     "height": 269
    },
    "colab_type": "code",
    "id": "2olSdkAzi2tX",
    "outputId": "1942683d-1d89-4463-a1a5-2d9d8dcbfe4b"
   },
   "outputs": [
    {
     "data": {
      "image/png": "[encoded data removed]",
      "text/plain": [
       "<Figure size 432x288 with 1 Axes>"
      ]
     },
     "metadata": {
      "tags": []
     },
     "output_type": "display_data"
    }
   ],
   "source": [
    "plt.scatter(x=chickens.lng, y=chickens.lat)\n",
    "plt.show()"
   ]
  },
  {
   "cell_type": "code",
   "execution_count": 50,
   "metadata": {
    "colab": {
     "base_uri": "https://localhost:8080/",
     "height": 204
    },
    "colab_type": "code",
    "id": "VaraSw4vrlih",
    "outputId": "7b6f51c4-aa15-4e16-b748-502fd276ae31"
   },
   "outputs": [
    {
     "data": {
      "text/html": [
       "<div>\n",
       "<style scoped>\n",
       "    .dataframe tbody tr th:only-of-type {\n",
       "        vertical-align: middle;\n",
       "    }\n",
       "\n",
       "    .dataframe tbody tr th {\n",
       "        vertical-align: top;\n",
       "    }\n",
       "\n",
       "    .dataframe thead th {\n",
       "        text-align: right;\n",
       "    }\n",
       "</style>\n",
       "<table border=\"1\" class=\"dataframe\">\n",
       "  <thead>\n",
       "    <tr style=\"text-align: right;\">\n",
       "      <th></th>\n",
       "      <th>lng</th>\n",
       "      <th>lat</th>\n",
       "    </tr>\n",
       "  </thead>\n",
       "  <tbody>\n",
       "    <tr>\n",
       "      <th>0</th>\n",
       "      <td>36.069132</td>\n",
       "      <td>-86.724578</td>\n",
       "    </tr>\n",
       "    <tr>\n",
       "      <th>1</th>\n",
       "      <td>36.069132</td>\n",
       "      <td>-86.724578</td>\n",
       "    </tr>\n",
       "    <tr>\n",
       "      <th>2</th>\n",
       "      <td>36.216134</td>\n",
       "      <td>-86.726204</td>\n",
       "    </tr>\n",
       "    <tr>\n",
       "      <th>3</th>\n",
       "      <td>36.216134</td>\n",
       "      <td>-86.726204</td>\n",
       "    </tr>\n",
       "    <tr>\n",
       "      <th>4</th>\n",
       "      <td>36.064367</td>\n",
       "      <td>-86.960290</td>\n",
       "    </tr>\n",
       "  </tbody>\n",
       "</table>\n",
       "</div>"
      ],
      "text/plain": [
       "         lng        lat\n",
       "0  36.069132 -86.724578\n",
       "1  36.069132 -86.724578\n",
       "2  36.216134 -86.726204\n",
       "3  36.216134 -86.726204\n",
       "4  36.064367 -86.960290"
      ]
     },
     "execution_count": 50,
     "metadata": {
      "tags": []
     },
     "output_type": "execute_result"
    }
   ],
   "source": [
    "df = chickens[['lng','lat']]\n",
    "df.head()"
   ]
  },
  {
   "cell_type": "code",
   "execution_count": null,
   "metadata": {
    "colab": {},
    "colab_type": "code",
    "id": "MTLXrMfai2Xi"
   },
   "outputs": [],
   "source": [
    "plotly.tools.set_credentials_file(username='MaxGhenis', \n",
    "                                  api_key='j7VpzKhdtUiEoY8nkMWB')"
   ]
  },
  {
   "cell_type": "code",
   "execution_count": null,
   "metadata": {
    "colab": {},
    "colab_type": "code",
    "id": "qxbbBz3rwQRh"
   },
   "outputs": [],
   "source": [
    "fips = chickens.Zip\n",
    "values = range(len(df))"
   ]
  },
  {
   "cell_type": "code",
   "execution_count": 53,
   "metadata": {
    "colab": {
     "base_uri": "https://localhost:8080/",
     "height": 780
    },
    "colab_type": "code",
    "id": "3bDF6h12v-3e",
    "outputId": "bbf7e1c6-bdc3-42e5-f724-bac62aca64d8"
   },
   "outputs": [
    {
     "name": "stderr",
     "output_type": "stream",
     "text": [
      "/usr/local/lib/python3.6/dist-packages/pandas/core/frame.py:6692: FutureWarning:\n",
      "\n",
      "Sorting because non-concatenation axis is not aligned. A future version\n",
      "of pandas will change to not sort by default.\n",
      "\n",
      "To accept the future behavior, pass 'sort=False'.\n",
      "\n",
      "To retain the current behavior and silence the warning, pass 'sort=True'.\n",
      "\n",
      "\n",
      "/usr/local/lib/python3.6/dist-packages/plotly/figure_factory/_county_choropleth.py:772: UserWarning:\n",
      "\n",
      "Unrecognized FIPS Values\n",
      "\n",
      "Whoops! It looks like you are trying to pass at least one FIPS value that is not in our shapefile of FIPS and data for the counties. Your choropleth will still show up but these counties cannot be shown.\n",
      "Unrecognized FIPS are: [37211, 37211, 37216, 37216, 37221, 37205, 37205, 37205, 37206, 37206, 37217, 37076, 37205, 37215, 37206, 37216, 37209, 37212, 37205, 37207, 37205, 37211, 37217, 37217, 37138, 37209, 37216, 37220, 37206, 37204, 37206, 37215, 37215, 37215, 37218, 37211, 37216, 37205, 37211, 37209, 37215, 37208, 37212, 37211, 37209, 37138, 37206, 37209, 37214, 37076, 37211, 37215, 37217, 37211, 37218, 37221, 37220, 37220, 37211, 37216, 37138, 37204, 37206, 37209, 37203, 37203, 37205, 37204, 37220, 37214, 37211, 37204, 37214, 37214, 37208, 37209, 37206, 37205, 37216, 37205, 37211, 37207, 37207, 37211, 37206, 37214, 37221, 37212, 37214, 37212, 37211, 37205, 37209, 37205, 37204, 37208, 37216, 37216, 37205, 37214, 37211, 37212, 37211, 37207, 37216, 37211, 37205, 37204, 37205, 37212, 37208, 37216, 37215, 37205, 37216, 37221, 37216, 37211, 37205, 37207, 37215, 37206, 37218, 37204, 37211, 37207, 37206, 37211, 37214, 37212, 37221, 37221, 37221, 37216, 37211, 37215, 37212, 37220, 37206, 37212, 37204, 37205, 37212, 37211, 37076, 37212, 37206, 37221, 37215, 37216, 37206, 37211, 37211, 37206, 37206, 37215, 37212, 37205, 37216, 37216, 37215, 37216, 37206, 37204, 37205, 37214, 37216, 37206, 37216, 37215, 37204, 37216, 37206, 37216, 37212, 37215, 37207, 37138, 37205, 37212, 37206, 37206, 37216, 37016, 37216, 37216, 37221, 37216, 37211, 37209, 37210, 37211, 37203, 37116, 37217, 37209, 37216, 37211, 37210, 37138, 37211, 37211, 37214, 37207, 37214, 37215, 37205, 37211, 37205, 37204, 37206, 37217, 37205, 37206, 37215, 37214, 37138, 37212, 37215, 37206, 37214, 37076, 37212, 37214, 37211, 37215, 37209, 37209, 37072, 37205, 37215, 37210, 37211, 37216, 37076, 37215, 37211, 37206, 37208, 37212, 37080, 37205, 37206, 37211, 37214, 37205, 37218, 37215, 37217, 37214, 37211, 37205, 37218, 37207, 37207, 37205, 37212, 37215, 37204, 37205, 37221, 37216, 37205, 37209, 37205, 37208, 37211, 37205, 37215, 37214, 37207, 37214, 37205, 37214, 37209, 37211, 37206, 37206, 37206, 37209, 37072, 37216, 37221, 37204, 37207, 37216]\n",
      "\n"
     ]
    },
    {
     "data": {
      "text/html": [
       "<iframe id=\"igraph\" scrolling=\"no\" style=\"border:none;\" seamless=\"seamless\" src=\"https://plot.ly/~MaxGhenis/40.embed\" height=\"450px\" width=\"900px\"></iframe>"
      ],
      "text/plain": [
       "<chart_studio.tools.PlotlyDisplay object>"
      ]
     },
     "execution_count": 53,
     "metadata": {
      "tags": []
     },
     "output_type": "execute_result"
    }
   ],
   "source": [
    "fig = ff.create_choropleth(fips=fips, values=values)\n",
    "plotly.plotly.iplot(fig, filename='choropleth of some cali counties - full usa data')"
   ]
  },
  {
   "cell_type": "markdown",
   "metadata": {
    "colab_type": "text",
    "id": "xzMZMbxh4iFL"
   },
   "source": [
    "## School District Example\n",
    "\n",
    "First we show the head of the data set to see what the it looks like. Then we perform different types of geo-visualization."
   ]
  },
  {
   "cell_type": "code",
   "execution_count": 54,
   "metadata": {
    "colab": {
     "base_uri": "https://localhost:8080/",
     "height": 394
    },
    "colab_type": "code",
    "id": "gYAW4WIC50g1",
    "outputId": "d7768e50-3008-437f-c331-0bdb026b0f2e"
   },
   "outputs": [
    {
     "data": {
      "text/html": [
       "<div>\n",
       "<style scoped>\n",
       "    .dataframe tbody tr th:only-of-type {\n",
       "        vertical-align: middle;\n",
       "    }\n",
       "\n",
       "    .dataframe tbody tr th {\n",
       "        vertical-align: top;\n",
       "    }\n",
       "\n",
       "    .dataframe thead th {\n",
       "        text-align: right;\n",
       "    }\n",
       "</style>\n",
       "<table border=\"1\" class=\"dataframe\">\n",
       "  <thead>\n",
       "    <tr style=\"text-align: right;\">\n",
       "      <th></th>\n",
       "      <th>first_name</th>\n",
       "      <th>city</th>\n",
       "      <th>zip</th>\n",
       "      <th>email</th>\n",
       "      <th>state</th>\n",
       "      <th>last_name</th>\n",
       "      <th>address</th>\n",
       "      <th>position</th>\n",
       "      <th>term_expir</th>\n",
       "      <th>district</th>\n",
       "      <th>phone</th>\n",
       "      <th>geometry</th>\n",
       "    </tr>\n",
       "  </thead>\n",
       "  <tbody>\n",
       "    <tr>\n",
       "      <th>0</th>\n",
       "      <td>Dr. Sharon</td>\n",
       "      <td>Nashville</td>\n",
       "      <td>37218</td>\n",
       "      <td>gentryfordistrict1@comcast.net</td>\n",
       "      <td>TN</td>\n",
       "      <td>Gentry</td>\n",
       "      <td>6108 Beals Lane</td>\n",
       "      <td>Member</td>\n",
       "      <td>2016</td>\n",
       "      <td>1</td>\n",
       "      <td>615-268-5269</td>\n",
       "      <td>(POLYGON ((-86.77136400034288 36.3835669997190...</td>\n",
       "    </tr>\n",
       "    <tr>\n",
       "      <th>1</th>\n",
       "      <td>Jill</td>\n",
       "      <td>Madison</td>\n",
       "      <td>37115</td>\n",
       "      <td>jill.speering@mnps.org</td>\n",
       "      <td>TN</td>\n",
       "      <td>Speering</td>\n",
       "      <td>1033 Falls Avenue</td>\n",
       "      <td>Vice-Chair</td>\n",
       "      <td>2016</td>\n",
       "      <td>3</td>\n",
       "      <td>615-562-5234</td>\n",
       "      <td>(POLYGON ((-86.75364713283636 36.4042760799855...</td>\n",
       "    </tr>\n",
       "    <tr>\n",
       "      <th>2</th>\n",
       "      <td>Dr. Jo Ann</td>\n",
       "      <td>Nashville</td>\n",
       "      <td>37220</td>\n",
       "      <td>joann.brannon@mnps.org</td>\n",
       "      <td>TN</td>\n",
       "      <td>Brannon</td>\n",
       "      <td>5444 San Marcos Drive</td>\n",
       "      <td>Member</td>\n",
       "      <td>2018</td>\n",
       "      <td>2</td>\n",
       "      <td>615-833-5976</td>\n",
       "      <td>(POLYGON ((-86.76696199971282 36.0833250002130...</td>\n",
       "    </tr>\n",
       "    <tr>\n",
       "      <th>3</th>\n",
       "      <td>Anna</td>\n",
       "      <td>Hermitage</td>\n",
       "      <td>37076</td>\n",
       "      <td>anna.shepherd@mnps.org</td>\n",
       "      <td>TN</td>\n",
       "      <td>Shepherd</td>\n",
       "      <td>4545 Raccoon Trail</td>\n",
       "      <td>Chair</td>\n",
       "      <td>2018</td>\n",
       "      <td>4</td>\n",
       "      <td>615-210-3768</td>\n",
       "      <td>(POLYGON ((-86.5809831462547 36.20934685360503...</td>\n",
       "    </tr>\n",
       "    <tr>\n",
       "      <th>4</th>\n",
       "      <td>Amy</td>\n",
       "      <td>Nashville</td>\n",
       "      <td>37221</td>\n",
       "      <td>amy.frogge@mnps.org</td>\n",
       "      <td>TN</td>\n",
       "      <td>Frogge</td>\n",
       "      <td>7237 Riverfront Drive</td>\n",
       "      <td>Member</td>\n",
       "      <td>2016</td>\n",
       "      <td>9</td>\n",
       "      <td>615-521-5650</td>\n",
       "      <td>(POLYGON ((-86.97287099971373 36.2082789997189...</td>\n",
       "    </tr>\n",
       "  </tbody>\n",
       "</table>\n",
       "</div>"
      ],
      "text/plain": [
       "   first_name       city    zip                           email state  \\\n",
       "0  Dr. Sharon  Nashville  37218  gentryfordistrict1@comcast.net    TN   \n",
       "1        Jill    Madison  37115          jill.speering@mnps.org    TN   \n",
       "2  Dr. Jo Ann  Nashville  37220          joann.brannon@mnps.org    TN   \n",
       "3        Anna  Hermitage  37076          anna.shepherd@mnps.org    TN   \n",
       "4         Amy  Nashville  37221             amy.frogge@mnps.org    TN   \n",
       "\n",
       "  last_name                address    position term_expir district  \\\n",
       "0    Gentry        6108 Beals Lane      Member       2016        1   \n",
       "1  Speering      1033 Falls Avenue  Vice-Chair       2016        3   \n",
       "2   Brannon  5444 San Marcos Drive      Member       2018        2   \n",
       "3  Shepherd     4545 Raccoon Trail       Chair       2018        4   \n",
       "4    Frogge  7237 Riverfront Drive      Member       2016        9   \n",
       "\n",
       "          phone                                           geometry  \n",
       "0  615-268-5269  (POLYGON ((-86.77136400034288 36.3835669997190...  \n",
       "1  615-562-5234  (POLYGON ((-86.75364713283636 36.4042760799855...  \n",
       "2  615-833-5976  (POLYGON ((-86.76696199971282 36.0833250002130...  \n",
       "3  615-210-3768  (POLYGON ((-86.5809831462547 36.20934685360503...  \n",
       "4  615-521-5650  (POLYGON ((-86.97287099971373 36.2082789997189...  "
      ]
     },
     "execution_count": 54,
     "metadata": {
      "tags": []
     },
     "output_type": "execute_result"
    }
   ],
   "source": [
    "# Importing the data by reading a geojson file\n",
    "school_districts = gpd.read_file('school_districts.geojson')\n",
    "school_districts.head()"
   ]
  },
  {
   "cell_type": "code",
   "execution_count": 55,
   "metadata": {
    "colab": {
     "base_uri": "https://localhost:8080/",
     "height": 357
    },
    "colab_type": "code",
    "id": "GcGVL4d-6iUu",
    "outputId": "a0ed29ea-1fed-4368-c0c1-875edc345b5d"
   },
   "outputs": [
    {
     "name": "stdout",
     "output_type": "stream",
     "text": [
      "   first_name       city    zip                           email state  \\\n",
      "0  Dr. Sharon  Nashville  37218  gentryfordistrict1@comcast.net    TN   \n",
      "1        Jill    Madison  37115          jill.speering@mnps.org    TN   \n",
      "2  Dr. Jo Ann  Nashville  37220          joann.brannon@mnps.org    TN   \n",
      "3        Anna  Hermitage  37076          anna.shepherd@mnps.org    TN   \n",
      "4         Amy  Nashville  37221             amy.frogge@mnps.org    TN   \n",
      "\n",
      "  last_name                address    position term_expir district  \\\n",
      "0    Gentry        6108 Beals Lane      Member       2016        1   \n",
      "1  Speering      1033 Falls Avenue  Vice-Chair       2016        3   \n",
      "2   Brannon  5444 San Marcos Drive      Member       2018        2   \n",
      "3  Shepherd     4545 Raccoon Trail       Chair       2018        4   \n",
      "4    Frogge  7237 Riverfront Drive      Member       2016        9   \n",
      "\n",
      "          phone                                           geometry  \n",
      "0  615-268-5269  (POLYGON ((-86.77136400034288 36.3835669997190...  \n",
      "1  615-562-5234  (POLYGON ((-86.75364713283636 36.4042760799855...  \n",
      "2  615-833-5976  (POLYGON ((-86.76696199971282 36.0833250002130...  \n",
      "3  615-210-3768  (POLYGON ((-86.5809831462547 36.20934685360503...  \n",
      "4  615-521-5650  (POLYGON ((-86.97287099971373 36.2082789997189...  \n"
     ]
    }
   ],
   "source": [
    "# Print the first few rows of school districts\n",
    "print(school_districts.head())"
   ]
  },
  {
   "cell_type": "code",
   "execution_count": 56,
   "metadata": {
    "colab": {
     "base_uri": "https://localhost:8080/",
     "height": 295
    },
    "colab_type": "code",
    "id": "HPq8_1YK4hXs",
    "outputId": "6aab2bcc-7916-4172-82c3-630a998dc4b9"
   },
   "outputs": [
    {
     "data": {
      "image/png": "[encoded data removed]",
      "text/plain": [
       "<Figure size 432x288 with 1 Axes>"
      ]
     },
     "metadata": {
      "tags": []
     },
     "output_type": "display_data"
    }
   ],
   "source": [
    "# Set legend style\n",
    "lgnd_kwds = {'title': 'School Districts',\n",
    "               'loc': 'upper left', 'bbox_to_anchor': (1, 1.03), 'ncol': 1}\n",
    "\n",
    "# Plot the school districts using the tab20 colormap (qualitative)\n",
    "school_districts.plot(column = 'district', cmap = 'tab20', legend = True, legend_kwds  = lgnd_kwds)\n",
    "plt.xlabel('Latitude')\n",
    "plt.ylabel('Longitude')\n",
    "plt.title('Nashville School Districts')\n",
    "plt.show();"
   ]
  },
  {
   "cell_type": "code",
   "execution_count": 57,
   "metadata": {
    "colab": {
     "base_uri": "https://localhost:8080/",
     "height": 295
    },
    "colab_type": "code",
    "id": "p3IuVpYf4oTB",
    "outputId": "df9fbc57-085b-4165-b024-e6b9fe37092c"
   },
   "outputs": [
    {
     "data": {
      "image/png": "[encoded data removed]",
      "text/plain": [
       "<Figure size 432x288 with 1 Axes>"
      ]
     },
     "metadata": {
      "tags": []
     },
     "output_type": "display_data"
    }
   ],
   "source": [
    "# Set legend style\n",
    "lgnd_kwds = {'title': 'School Districts',\n",
    "               'loc': 'upper left', 'bbox_to_anchor': (1, 1.03), 'ncol': 1}\n",
    "\n",
    "# Plot the school districts using the summer colormap (sequential)\n",
    "school_districts.plot(column = 'district', cmap = 'summer', legend = True, legend_kwds = lgnd_kwds)\n",
    "plt.xlabel('Latitude')\n",
    "plt.ylabel('Longitude')\n",
    "plt.title('Nashville School Districts')\n",
    "plt.show();"
   ]
  },
  {
   "cell_type": "code",
   "execution_count": 58,
   "metadata": {
    "colab": {
     "base_uri": "https://localhost:8080/",
     "height": 295
    },
    "colab_type": "code",
    "id": "D1TMx7bV4qHr",
    "outputId": "bcec0bcd-04ff-48d9-a78b-1f3ae7098767"
   },
   "outputs": [
    {
     "data": {
      "image/png": "[encoded data removed]",
      "text/plain": [
       "<Figure size 432x288 with 1 Axes>"
      ]
     },
     "metadata": {
      "tags": []
     },
     "output_type": "display_data"
    }
   ],
   "source": [
    "# Set legend style\n",
    "lgnd_kwds = {'title': 'School Districts',\n",
    "               'loc': 'upper left', 'bbox_to_anchor': (1, 1.03), 'ncol': 1}\n",
    "\n",
    "# Plot the school districts using Set3 colormap without the column argument\n",
    "school_districts.plot(cmap = 'Set3', legend = True, legend_kwds = lgnd_kwds)\n",
    "plt.xlabel('Latitude')\n",
    "plt.ylabel('Longitude')\n",
    "plt.title('Nashville School Districts')\n",
    "plt.show();"
   ]
  },
  {
   "cell_type": "markdown",
   "metadata": {
    "colab_type": "text",
    "id": "Th2ASmrA6IED"
   },
   "source": [
    "## Neighborhood Example\n",
    "\n",
    "First we show the head of the data set to see what the it looks like. Then we perform geo-visualization."
   ]
  },
  {
   "cell_type": "code",
   "execution_count": 59,
   "metadata": {
    "colab": {
     "base_uri": "https://localhost:8080/",
     "height": 204
    },
    "colab_type": "code",
    "id": "sMC9aRyz4r2_",
    "outputId": "3801b311-2393-4a85-dc23-dbc373575391"
   },
   "outputs": [
    {
     "data": {
      "text/html": [
       "<div>\n",
       "<style scoped>\n",
       "    .dataframe tbody tr th:only-of-type {\n",
       "        vertical-align: middle;\n",
       "    }\n",
       "\n",
       "    .dataframe tbody tr th {\n",
       "        vertical-align: top;\n",
       "    }\n",
       "\n",
       "    .dataframe thead th {\n",
       "        text-align: right;\n",
       "    }\n",
       "</style>\n",
       "<table border=\"1\" class=\"dataframe\">\n",
       "  <thead>\n",
       "    <tr style=\"text-align: right;\">\n",
       "      <th></th>\n",
       "      <th>name</th>\n",
       "      <th>geometry</th>\n",
       "    </tr>\n",
       "  </thead>\n",
       "  <tbody>\n",
       "    <tr>\n",
       "      <th>0</th>\n",
       "      <td>Historic Buena Vista</td>\n",
       "      <td>(POLYGON ((-86.79511056795417 36.1757596496334...</td>\n",
       "    </tr>\n",
       "    <tr>\n",
       "      <th>1</th>\n",
       "      <td>Charlotte Park</td>\n",
       "      <td>(POLYGON ((-86.87459668651866 36.1575770268129...</td>\n",
       "    </tr>\n",
       "    <tr>\n",
       "      <th>2</th>\n",
       "      <td>Hillwood</td>\n",
       "      <td>(POLYGON ((-86.87613708067906 36.1355409894979...</td>\n",
       "    </tr>\n",
       "    <tr>\n",
       "      <th>3</th>\n",
       "      <td>West Meade</td>\n",
       "      <td>(POLYGON ((-86.9038380396094 36.1255414807897,...</td>\n",
       "    </tr>\n",
       "    <tr>\n",
       "      <th>4</th>\n",
       "      <td>White Bridge</td>\n",
       "      <td>(POLYGON ((-86.86321427797685 36.1288622289404...</td>\n",
       "    </tr>\n",
       "  </tbody>\n",
       "</table>\n",
       "</div>"
      ],
      "text/plain": [
       "                   name                                           geometry\n",
       "0  Historic Buena Vista  (POLYGON ((-86.79511056795417 36.1757596496334...\n",
       "1        Charlotte Park  (POLYGON ((-86.87459668651866 36.1575770268129...\n",
       "2              Hillwood  (POLYGON ((-86.87613708067906 36.1355409894979...\n",
       "3            West Meade  (POLYGON ((-86.9038380396094 36.1255414807897,...\n",
       "4          White Bridge  (POLYGON ((-86.86321427797685 36.1288622289404..."
      ]
     },
     "execution_count": 59,
     "metadata": {
      "tags": []
     },
     "output_type": "execute_result"
    }
   ],
   "source": [
    "# Read in the neighborhoods geojson file\n",
    "neighborhoods = gpd.read_file('neighborhoods.geojson')\n",
    "neighborhoods.head()"
   ]
  },
  {
   "cell_type": "code",
   "execution_count": 60,
   "metadata": {
    "colab": {
     "base_uri": "https://localhost:8080/",
     "height": 119
    },
    "colab_type": "code",
    "id": "mycixwNI4ufh",
    "outputId": "258eecbe-200e-4951-af62-ce9140186e2a"
   },
   "outputs": [
    {
     "name": "stdout",
     "output_type": "stream",
     "text": [
      "                   name                                           geometry\n",
      "0  Historic Buena Vista  (POLYGON ((-86.79511056795417 36.1757596496334...\n",
      "1        Charlotte Park  (POLYGON ((-86.87459668651866 36.1575770268129...\n",
      "2              Hillwood  (POLYGON ((-86.87613708067906 36.1355409894979...\n",
      "3            West Meade  (POLYGON ((-86.9038380396094 36.1255414807897,...\n",
      "4          White Bridge  (POLYGON ((-86.86321427797685 36.1288622289404...\n"
     ]
    }
   ],
   "source": [
    "# Print the first few rows of neighborhoods\n",
    "print(neighborhoods.head())"
   ]
  },
  {
   "cell_type": "code",
   "execution_count": 61,
   "metadata": {
    "colab": {
     "base_uri": "https://localhost:8080/",
     "height": 269
    },
    "colab_type": "code",
    "id": "HQ30VTqN4vwQ",
    "outputId": "2a272636-1166-4773-9a6c-68ac0be444fd"
   },
   "outputs": [
    {
     "data": {
      "image/png": "[encoded data removed]",
      "text/plain": [
       "<Figure size 432x288 with 1 Axes>"
      ]
     },
     "metadata": {
      "tags": []
     },
     "output_type": "display_data"
    }
   ],
   "source": [
    "# Plot the neighborhoods, color according to name and use the Dark2 colormap\n",
    "neighborhoods.plot(column = 'name', cmap = 'Dark2')\n",
    "# Show the plot.\n",
    "plt.show()"
   ]
  },
  {
   "cell_type": "code",
   "execution_count": 62,
   "metadata": {
    "colab": {
     "base_uri": "https://localhost:8080/",
     "height": 170
    },
    "colab_type": "code",
    "id": "_FgI9PHe4zU5",
    "outputId": "f9be1627-e65b-4ed5-887f-40b2b5e58a8c"
   },
   "outputs": [
    {
     "name": "stdout",
     "output_type": "stream",
     "text": [
      "   first_name       city    zip                           email state  \\\n",
      "0  Dr. Sharon  Nashville  37218  gentryfordistrict1@comcast.net    TN   \n",
      "\n",
      "  last_name          address position term_expir district         phone  \\\n",
      "0    Gentry  6108 Beals Lane   Member       2016        1  615-268-5269   \n",
      "\n",
      "                                            geometry  \n",
      "0  (POLYGON ((-86.77136400034288 36.3835669997190...  \n",
      "{'init': 'epsg:4326'}\n"
     ]
    }
   ],
   "source": [
    "# Print the first row of school districts GeoDataFrame and the crs\n",
    "print(school_districts.head(1))\n",
    "print(school_districts.crs)"
   ]
  },
  {
   "cell_type": "code",
   "execution_count": null,
   "metadata": {
    "colab": {},
    "colab_type": "code",
    "id": "SvHayoG740_F"
   },
   "outputs": [],
   "source": [
    "# Convert the crs to epsg:3857\n",
    "school_districts.geometry = school_districts.geometry.to_crs(epsg = 3857)"
   ]
  },
  {
   "cell_type": "code",
   "execution_count": 64,
   "metadata": {
    "colab": {
     "base_uri": "https://localhost:8080/",
     "height": 170
    },
    "colab_type": "code",
    "id": "cghmMcJZ42UJ",
    "outputId": "e7ae49df-c8f8-4d86-e39a-4f0a3bbdf15e"
   },
   "outputs": [
    {
     "name": "stdout",
     "output_type": "stream",
     "text": [
      "   first_name       city    zip                           email state  \\\n",
      "0  Dr. Sharon  Nashville  37218  gentryfordistrict1@comcast.net    TN   \n",
      "\n",
      "  last_name          address position term_expir district         phone  \\\n",
      "0    Gentry  6108 Beals Lane   Member       2016        1  615-268-5269   \n",
      "\n",
      "                                            geometry  \n",
      "0  (POLYGON ((-9659344.055955959 4353528.76657080...  \n",
      "{'init': 'epsg:3857', 'no_defs': True}\n"
     ]
    }
   ],
   "source": [
    "# Print the first row of school districts GeoDataFrame and the crs again\n",
    "print(school_districts.head(1))\n",
    "print(school_districts.crs)"
   ]
  }
 ],
 "metadata": {
  "colab": {
   "collapsed_sections": [],
   "name": "Geo-spatial visualization.ipynb",
   "provenance": [],
   "version": "0.3.2"
  },
  "kernelspec": {
   "display_name": "Python 3",
   "language": "python",
   "name": "python3"
  },
  "language_info": {
   "codemirror_mode": {
    "name": "ipython",
    "version": 3
   },
   "file_extension": ".py",
   "mimetype": "text/x-python",
   "name": "python",
   "nbconvert_exporter": "python",
   "pygments_lexer": "ipython3",
   "version": "3.7.2"
  }
 },
 "nbformat": 4,
 "nbformat_minor": 2
}
