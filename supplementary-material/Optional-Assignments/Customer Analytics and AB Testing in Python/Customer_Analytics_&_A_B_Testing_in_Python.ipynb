{
 "cells": [
  {
   "cell_type": "markdown",
   "metadata": {
    "colab_type": "text",
    "id": "qVB-OVs1w7Tq"
   },
   "source": [
    "# Customer Analytics & A/B Testing in Python\n",
    "\n",
    "**Team:** Saurav and Swapnil"
   ]
  },
  {
   "cell_type": "markdown",
   "metadata": {
    "colab_type": "text",
    "id": "si6KSj-EyKGV"
   },
   "source": [
    "## Chapter 1: Key Performance Indicators: Measuring Business Success"
   ]
  },
  {
   "cell_type": "markdown",
   "metadata": {
    "colab_type": "text",
    "id": "yHgjR8xH7Ds4"
   },
   "source": [
    "### What is A/B testing?\n",
    "\n",
    "A/B testing is a randomized experiement with two variants, A and B.\n",
    "\n",
    "A/B is a tool which allowes to\n",
    "\n",
    "*   Test two or more different ideas against each other in a real world\n",
    "*   See which one empirically performs better\n",
    "\n",
    "![A/B testing](http://snapagency.com/wp-content/uploads/2018/03/what-is-a-b-testing.png)\n",
    "\n",
    "### Why is A/B Testing Important?\n",
    "\n",
    "*   It is done in real world their is no guessing and you get to know which idea is better under the conditions which matters most\n",
    "*   It provides accurate answers quickly providing companies to rapidly iterate over ideas\n",
    "*   It is statistical way to establish casual relationships\n",
    "\n",
    "### How Does A/B Testing Work?\n",
    "\n",
    "* A/B testing works by exposing very unique randomly assigned group of users to each of the ideas you want to test.\n",
    "* Then you can observe these users, and  measure how they behave.\n",
    "*  then untangle the impact of each of your ideas ultimately determining which is best\n",
    "\n",
    "\n",
    "### Where Can A/B Testing be Used?\n",
    "* It can be used in variety of industry.\n",
    "   for example: Pharmaceutical compant testing the impact of different drugs, Mobile game company trying to incentivize users to spend more, etc.\n",
    "\n",
    "\n",
    "### Key Performance Indicators\n",
    "Typically A/B testing is done to improve Key Performance Indicators aka KPIs. These are the metrics which are most improtant to a company. e.g. for a mobile game it can revenue or playtime per user.\n",
    "\n",
    "Experience, domain knowledge and Exploratory data analysis help decide which KPI is important.\n",
    "\n",
    "Stable, Generalizable KPI is better than custom KPI."
   ]
  },
  {
   "cell_type": "markdown",
   "metadata": {
    "colab_type": "text",
    "id": "vs8d7NeCVgHC"
   },
   "source": [
    "### Dataset 1: User Demographics\n",
    "Set of user demographics tied to unique user id number. "
   ]
  },
  {
   "cell_type": "code",
   "execution_count": 15,
   "metadata": {
    "colab": {
     "base_uri": "https://localhost:8080/",
     "height": 34
    },
    "colab_type": "code",
    "id": "paQiI6thxGTe",
    "outputId": "38f50fb2-107a-468b-9c61-3dc089fe3ddd"
   },
   "outputs": [
    {
     "name": "stdout",
     "output_type": "stream",
     "text": [
      "Index(['uid', 'reg_date', 'device', 'gender', 'country', 'age'], dtype='object')\n"
     ]
    }
   ],
   "source": [
    "# Import pandas \n",
    "import pandas as pd\n",
    "\n",
    "# Load the customer_data\n",
    "customer_data = pd.read_csv('https://assets.datacamp.com/production/repositories/1646/datasets/c3a701a4729471ae0b92d8c300b470fd2ec0a73a/user_demographics_v1.csv')\n",
    "\n",
    "# Print the columns of customer data\n",
    "print(customer_data.columns)"
   ]
  },
  {
   "cell_type": "markdown",
   "metadata": {
    "colab_type": "text",
    "id": "QxvubLPkVtOu"
   },
   "source": [
    "### Dataset 2: User Actions\n",
    "Set of user actions"
   ]
  },
  {
   "cell_type": "code",
   "execution_count": 16,
   "metadata": {
    "colab": {
     "base_uri": "https://localhost:8080/",
     "height": 34
    },
    "colab_type": "code",
    "id": "yaa31vkAIahp",
    "outputId": "38524301-5125-4e84-ee33-6b4d9f678fbf"
   },
   "outputs": [
    {
     "name": "stdout",
     "output_type": "stream",
     "text": [
      "Index(['date', 'uid', 'sku', 'price'], dtype='object')\n"
     ]
    }
   ],
   "source": [
    "# Load the app_purchases\n",
    "app_purchases = pd.read_csv('https://assets.datacamp.com/production/repositories/1646/datasets/5decd183ef3710475958bbc903160fd6354379d5/purchase_data_v1.csv')\n",
    "\n",
    "# Print the columns of app_purchases\n",
    "print(app_purchases.columns)"
   ]
  },
  {
   "cell_type": "markdown",
   "metadata": {
    "colab_type": "text",
    "id": "Mdky-Zg8WIot"
   },
   "source": [
    "### Cleanup of the dataset"
   ]
  },
  {
   "cell_type": "code",
   "execution_count": null,
   "metadata": {
    "colab": {},
    "colab_type": "code",
    "id": "suPOwTi_OPtW"
   },
   "outputs": [],
   "source": [
    "#both customer_data and app_purchases has common column uid and date - reg_date in customer data and date in purchase data\n",
    "\n",
    "#renaming reg_date to date for easy merging\n",
    "customer_data.rename(columns={'reg_date':'date'}, inplace=True)\n",
    "\n",
    "#changing string date in customer_data and app_purchases to datetime\n",
    "customer_data['date'] = pd.to_datetime(customer_data[\"date\"], utc = True).dt.tz_localize(None)\n",
    "app_purchases['date'] = pd.to_datetime(app_purchases[\"date\"], utc = True).dt.tz_localize(None)"
   ]
  },
  {
   "cell_type": "markdown",
   "metadata": {
    "colab_type": "text",
    "id": "5dWzp-E6V-pN"
   },
   "source": [
    "### Merging both the dataset"
   ]
  },
  {
   "cell_type": "code",
   "execution_count": 18,
   "metadata": {
    "colab": {
     "base_uri": "https://localhost:8080/",
     "height": 122
    },
    "colab_type": "code",
    "id": "QAu6lOoqL2Um",
    "outputId": "7bf73b23-dfa7-4da9-a018-896a1638386b"
   },
   "outputs": [
    {
     "name": "stdout",
     "output_type": "stream",
     "text": [
      "        date       uid             sku  price device gender country  age\n",
      "0 2016-03-30  94055095    sku_four_599    599    iOS      F     BRA   16\n",
      "1 2015-10-28  69627745     sku_one_199    199    and      F     BRA   18\n",
      "2 2017-02-02  11604973  sku_seven_1499    499    and      F     USA   16\n",
      "3 2016-06-05  22495315    sku_four_599    599    and      F     USA   19\n",
      "4 2018-02-17  51365662     sku_two_299    299    iOS      M     TUR   16\n"
     ]
    }
   ],
   "source": [
    "# Merge on the 'uid' and 'date' field\n",
    "purchase_data = app_purchases.merge(customer_data, on=['uid', 'date'], how='inner')\n",
    "\n",
    "# Examine the results \n",
    "print(purchase_data.head())"
   ]
  },
  {
   "cell_type": "code",
   "execution_count": 19,
   "metadata": {
    "colab": {
     "base_uri": "https://localhost:8080/",
     "height": 140
    },
    "colab_type": "code",
    "id": "VI42VNfXQ3js",
    "outputId": "730a1c6c-441a-4b40-dcfb-bc7815acf503"
   },
   "outputs": [
    {
     "name": "stdout",
     "output_type": "stream",
     "text": [
      "470.42857142857144\n",
      "mean      470.428571\n",
      "median    499.000000\n",
      "Name: price, dtype: float64\n",
      "             price        age\n",
      "mean    470.428571  22.771429\n",
      "median  499.000000  20.000000\n"
     ]
    }
   ],
   "source": [
    "# Calculate the mean purchase price \n",
    "purchase_price_mean = purchase_data.price.agg('mean')\n",
    "\n",
    "# Examine the output \n",
    "print(purchase_price_mean)\n",
    "\n",
    "# Calculate the mean and median purchase price \n",
    "purchase_price_summary = purchase_data.price.agg(['mean', 'median'])\n",
    "\n",
    "# Examine the output \n",
    "print(purchase_price_summary)\n",
    "\n",
    "# Calculate the mean and median of price and age\n",
    "purchase_summary = purchase_data.agg({'price': ['mean', 'median'], 'age': ['mean', 'median']})\n",
    "\n",
    "# Examine the output \n",
    "print(purchase_summary)"
   ]
  },
  {
   "cell_type": "code",
   "execution_count": 20,
   "metadata": {
    "colab": {
     "base_uri": "https://localhost:8080/",
     "height": 140
    },
    "colab_type": "code",
    "id": "WXeH8ZTuRcqp",
    "outputId": "ca904619-fe28-4f35-98c7-59616dbb3609"
   },
   "outputs": [
    {
     "name": "stdout",
     "output_type": "stream",
     "text": [
      "                    price                   \n",
      "                     mean median         std\n",
      "device gender                               \n",
      "and    F       477.571429    499  200.685638\n",
      "       M       511.500000    549  229.518129\n",
      "iOS    F       427.571429    599  221.466971\n",
      "       M       449.000000    499  164.316767\n"
     ]
    }
   ],
   "source": [
    "# Group the data \n",
    "grouped_purchase_data = purchase_data.groupby(by = ['device', 'gender'])\n",
    "\n",
    "# Aggregate the data\n",
    "purchase_summary = grouped_purchase_data.agg({'price': ['mean', 'median', 'std']})\n",
    "\n",
    "# Examine the results\n",
    "print(purchase_summary)"
   ]
  },
  {
   "cell_type": "markdown",
   "metadata": {
    "colab_type": "text",
    "id": "FLwfTSk9Ubz1"
   },
   "source": [
    "### Calculating KPIs\n",
    "the average amount paid per purchase within a user's first 28 days"
   ]
  },
  {
   "cell_type": "code",
   "execution_count": 21,
   "metadata": {
    "colab": {
     "base_uri": "https://localhost:8080/",
     "height": 34
    },
    "colab_type": "code",
    "id": "urpkoJkpRkXx",
    "outputId": "493c34b2-318d-4655-eaf2-42dce5c14aec"
   },
   "outputs": [
    {
     "name": "stdout",
     "output_type": "stream",
     "text": [
      "483.375\n"
     ]
    }
   ],
   "source": [
    "#define a current date\n",
    "current_date = pd.to_datetime('2018-03-17')\n",
    "\n",
    "# Compute max_purchase_date \n",
    "max_purchase_date = current_date - pd.Timedelta(days=28)\n",
    "\n",
    "# Filter to only include users who registered before our max date\n",
    "purchase_data_filt = purchase_data[purchase_data.date < max_purchase_date]\n",
    "\n",
    "# Filter to contain only purchases within the first 28 days of registration\n",
    "purchase_data_filt = purchase_data_filt[(purchase_data_filt.date <= \n",
    "                        purchase_data_filt.date + pd.Timedelta(days=28))]\n",
    "\n",
    "# Output the mean price paid per purchase\n",
    "print(purchase_data_filt.price.mean())"
   ]
  },
  {
   "cell_type": "markdown",
   "metadata": {
    "colab_type": "text",
    "id": "vlvrBe--yfbk"
   },
   "source": [
    "## Chapter 2: Exploring and Visualizing Customer Behavior"
   ]
  },
  {
   "cell_type": "code",
   "execution_count": 22,
   "metadata": {
    "colab": {
     "base_uri": "https://localhost:8080/",
     "height": 225
    },
    "colab_type": "code",
    "id": "0imxPthHurG0",
    "outputId": "0657d04a-6bd5-458c-e610-1d8f1896c492"
   },
   "outputs": [
    {
     "data": {
      "text/html": [
       "<div>\n",
       "<style scoped>\n",
       "    .dataframe tbody tr th:only-of-type {\n",
       "        vertical-align: middle;\n",
       "    }\n",
       "\n",
       "    .dataframe tbody tr th {\n",
       "        vertical-align: top;\n",
       "    }\n",
       "\n",
       "    .dataframe thead th {\n",
       "        text-align: right;\n",
       "    }\n",
       "</style>\n",
       "<table border=\"1\" class=\"dataframe\">\n",
       "  <thead>\n",
       "    <tr style=\"text-align: right;\">\n",
       "      <th></th>\n",
       "      <th>uid</th>\n",
       "      <th>price</th>\n",
       "      <th>age</th>\n",
       "    </tr>\n",
       "    <tr>\n",
       "      <th>date</th>\n",
       "      <th></th>\n",
       "      <th></th>\n",
       "      <th></th>\n",
       "    </tr>\n",
       "  </thead>\n",
       "  <tbody>\n",
       "    <tr>\n",
       "      <th>2015-07-31</th>\n",
       "      <td>60266650.0</td>\n",
       "      <td>749.0</td>\n",
       "      <td>20.5</td>\n",
       "    </tr>\n",
       "    <tr>\n",
       "      <th>2015-08-31</th>\n",
       "      <td>50511591.0</td>\n",
       "      <td>599.0</td>\n",
       "      <td>16.0</td>\n",
       "    </tr>\n",
       "    <tr>\n",
       "      <th>2015-09-30</th>\n",
       "      <td>NaN</td>\n",
       "      <td>NaN</td>\n",
       "      <td>NaN</td>\n",
       "    </tr>\n",
       "    <tr>\n",
       "      <th>2015-10-31</th>\n",
       "      <td>69627745.0</td>\n",
       "      <td>199.0</td>\n",
       "      <td>18.0</td>\n",
       "    </tr>\n",
       "    <tr>\n",
       "      <th>2015-11-30</th>\n",
       "      <td>NaN</td>\n",
       "      <td>NaN</td>\n",
       "      <td>NaN</td>\n",
       "    </tr>\n",
       "  </tbody>\n",
       "</table>\n",
       "</div>"
      ],
      "text/plain": [
       "                   uid  price   age\n",
       "date                               \n",
       "2015-07-31  60266650.0  749.0  20.5\n",
       "2015-08-31  50511591.0  599.0  16.0\n",
       "2015-09-30         NaN    NaN   NaN\n",
       "2015-10-31  69627745.0  199.0  18.0\n",
       "2015-11-30         NaN    NaN   NaN"
      ]
     },
     "execution_count": 22,
     "metadata": {
      "tags": []
     },
     "output_type": "execute_result"
    }
   ],
   "source": [
    "purchase_data.set_index('date', inplace=True)\n",
    "purchase_data_subset = purchase_data.loc['2015-01-01':'2019-01-01']\n",
    "purchase_data_subset.resample('M').mean().head()"
   ]
  },
  {
   "cell_type": "code",
   "execution_count": 23,
   "metadata": {
    "colab": {
     "base_uri": "https://localhost:8080/",
     "height": 310
    },
    "colab_type": "code",
    "id": "zuX7wTg-y48P",
    "outputId": "588b1abc-f6f6-4bd0-ed40-4d864ff7ba96"
   },
   "outputs": [
    {
     "data": {
      "text/plain": [
       "Text(0.5, 1.0, 'Price - Time Series')"
      ]
     },
     "execution_count": 23,
     "metadata": {
      "tags": []
     },
     "output_type": "execute_result"
    },
    {
     "data": {
      "image/png": "[encoded data removed]",
      "text/plain": [
       "<Figure size 432x288 with 1 Axes>"
      ]
     },
     "metadata": {
      "tags": []
     },
     "output_type": "display_data"
    }
   ],
   "source": [
    "import matplotlib.pyplot as plt\n",
    "\n",
    "purchase_data_subset_price = purchase_data_subset['price']\n",
    "purchase_data_subset_price.plot()\n",
    "plt.title('Price - Time Series')"
   ]
  },
  {
   "cell_type": "code",
   "execution_count": 24,
   "metadata": {
    "colab": {
     "base_uri": "https://localhost:8080/",
     "height": 158
    },
    "colab_type": "code",
    "id": "W_Wuhttlziwo",
    "outputId": "a8a08991-c674-4de4-ae51-ec0145037d42"
   },
   "outputs": [
    {
     "name": "stdout",
     "output_type": "stream",
     "text": [
      "            price                          \n",
      "country       BRA    CAN    DEU FRA TUR USA\n",
      "date                                       \n",
      "2015-07-09  599.0    NaN    NaN NaN NaN NaN\n",
      "2015-07-18  899.0    NaN    NaN NaN NaN NaN\n",
      "2015-08-01    NaN    NaN  599.0 NaN NaN NaN\n",
      "2015-10-28  199.0    NaN    NaN NaN NaN NaN\n",
      "2015-12-04    NaN  599.0    NaN NaN NaN NaN\n"
     ]
    }
   ],
   "source": [
    "country_pivot = pd.pivot_table(purchase_data_subset, values=['price'], columns=['country'], index=['date'], )\n",
    "print(country_pivot.head())"
   ]
  },
  {
   "cell_type": "code",
   "execution_count": 25,
   "metadata": {
    "colab": {
     "base_uri": "https://localhost:8080/",
     "height": 319
    },
    "colab_type": "code",
    "id": "MvFWPSEq0XaF",
    "outputId": "af550290-1855-4fdd-f3ce-846f37fb5725"
   },
   "outputs": [
    {
     "data": {
      "text/plain": [
       "Text(0, 0.5, 'Number of Rides')"
      ]
     },
     "execution_count": 25,
     "metadata": {
      "tags": []
     },
     "output_type": "execute_result"
    },
    {
     "data": {
      "image/png": "[encoded data removed]",
      "text/plain": [
       "<Figure size 432x288 with 1 Axes>"
      ]
     },
     "metadata": {
      "tags": []
     },
     "output_type": "display_data"
    }
   ],
   "source": [
    "# Your answer goes here\n",
    "daily = purchase_data_subset.resample('M').sum()\n",
    "# Your answer goes here\n",
    "rolling = daily.rolling(30, center=True, win_type='gaussian').mean(std=10)\n",
    "rolling.plot().set_ylabel(\"Number of Rides\")"
   ]
  },
  {
   "cell_type": "code",
   "execution_count": 26,
   "metadata": {
    "colab": {
     "base_uri": "https://localhost:8080/",
     "height": 644
    },
    "colab_type": "code",
    "id": "IJNeu72gbfg4",
    "outputId": "33c22ab8-dd49-4d96-e033-52b6ba06cfd2"
   },
   "outputs": [
    {
     "name": "stderr",
     "output_type": "stream",
     "text": [
      "/usr/local/lib/python3.6/dist-packages/statsmodels/nonparametric/kde.py:488: RuntimeWarning: invalid value encountered in true_divide\n",
      "  binned = fast_linbin(X, a, b, gridsize) / (delta * nobs)\n",
      "/usr/local/lib/python3.6/dist-packages/statsmodels/nonparametric/kdetools.py:34: RuntimeWarning: invalid value encountered in double_scalars\n",
      "  FAC1 = 2*(np.pi*bw/RANGE)**2\n"
     ]
    },
    {
     "data": {
      "text/plain": [
       "<seaborn.axisgrid.PairGrid at 0x7f8499165240>"
      ]
     },
     "execution_count": 26,
     "metadata": {
      "tags": []
     },
     "output_type": "execute_result"
    },
    {
     "data": {
      "image/png": "[encoded data removed]",
      "text/plain": [
       "<Figure size 595.125x540 with 12 Axes>"
      ]
     },
     "metadata": {
      "tags": []
     },
     "output_type": "display_data"
    }
   ],
   "source": [
    "import seaborn as sns\n",
    "\n",
    "sns.pairplot(purchase_data_subset, hue=\"price\")"
   ]
  },
  {
   "cell_type": "markdown",
   "metadata": {
    "colab_type": "text",
    "id": "l5xmw32cyn5v"
   },
   "source": [
    "## Chapter 3: The Design and Application of A/B Testing"
   ]
  },
  {
   "cell_type": "markdown",
   "metadata": {
    "colab_type": "text",
    "id": "HG4WaePZXnyK"
   },
   "source": [
    "### Average Revenue and Standard Deviation per user"
   ]
  },
  {
   "cell_type": "code",
   "execution_count": 27,
   "metadata": {
    "colab": {
     "base_uri": "https://localhost:8080/",
     "height": 52
    },
    "colab_type": "code",
    "id": "BQ8vPmblUsiz",
    "outputId": "91ba116d-6949-4f31-bff9-f04ea0548452"
   },
   "outputs": [
    {
     "name": "stdout",
     "output_type": "stream",
     "text": [
      "Average Revenue: 470.42857142857144\n",
      "Standard Deviation: 199.36875171316058\n"
     ]
    }
   ],
   "source": [
    "average_revenue = purchase_data['price'].mean()\n",
    "print(\"Average Revenue: \"+str(average_revenue))\n",
    "std_revenue = purchase_data['price'].std()\n",
    "print(\"Standard Deviation: \"+str(std_revenue))"
   ]
  },
  {
   "cell_type": "markdown",
   "metadata": {
    "colab_type": "text",
    "id": "waVcfI55ZyFT"
   },
   "source": [
    "### Conversion rate sensitivities"
   ]
  },
  {
   "cell_type": "code",
   "execution_count": 28,
   "metadata": {
    "colab": {
     "base_uri": "https://localhost:8080/",
     "height": 34
    },
    "colab_type": "code",
    "id": "bDS4fGjkUtBG",
    "outputId": "4369b071-6d7a-4b7e-a72e-cdfe24db6060"
   },
   "outputs": [
    {
     "name": "stdout",
     "output_type": "stream",
     "text": [
      "Additional Revenue if small sensitivity: 4.7042857142857315\n"
     ]
    }
   ],
   "source": [
    "#if we have a small sensitivity of 0.01\n",
    "small_sensitivity = 0.01 \n",
    "small_conversion_rate = 1 + small_sensitivity\n",
    "small_purchasers = average_revenue * small_conversion_rate\n",
    "small_purchaser_lift = small_purchasers - average_revenue\n",
    "print(\"Additional Revenue if small sensitivity: \"+str(small_purchaser_lift))"
   ]
  },
  {
   "cell_type": "code",
   "execution_count": 29,
   "metadata": {
    "colab": {
     "base_uri": "https://localhost:8080/",
     "height": 34
    },
    "colab_type": "code",
    "id": "f541ITOzyzPk",
    "outputId": "233a6a2b-dbcb-433c-b5d3-b5b6695d6328"
   },
   "outputs": [
    {
     "name": "stdout",
     "output_type": "stream",
     "text": [
      "Additional Revenue if medium sensitivity: 9.408571428571463\n"
     ]
    }
   ],
   "source": [
    "#if we have a medium sensitivity of 0.02\n",
    "medium_sensitivity = 0.02\n",
    "medium_conversion_rate = 1 + medium_sensitivity\n",
    "medium_purchasers = average_revenue * medium_conversion_rate\n",
    "medium_purchaser_lift = medium_purchasers - average_revenue\n",
    "print(\"Additional Revenue if medium sensitivity: \"+str(medium_purchaser_lift))"
   ]
  },
  {
   "cell_type": "code",
   "execution_count": 30,
   "metadata": {
    "colab": {
     "base_uri": "https://localhost:8080/",
     "height": 34
    },
    "colab_type": "code",
    "id": "z4dg5Yqag_SE",
    "outputId": "e14e8f6d-0a84-45f5-be3b-b98c4685e9f1"
   },
   "outputs": [
    {
     "name": "stdout",
     "output_type": "stream",
     "text": [
      "Additional Revenue if large sensitivity: 23.5214285714286\n"
     ]
    }
   ],
   "source": [
    "#if we have a large sensitivity of 0.05\n",
    "large_sensitivity = 0.05\n",
    "large_conversion_rate = 1 + large_sensitivity\n",
    "large_purchasers = average_revenue * large_conversion_rate\n",
    "large_purchaser_lift = large_purchasers - average_revenue\n",
    "print(\"Additional Revenue if large sensitivity: \"+str(large_purchaser_lift))"
   ]
  },
  {
   "cell_type": "markdown",
   "metadata": {
    "colab_type": "text",
    "id": "0fTjvrhKyzoK"
   },
   "source": [
    "## Chapter 4: Analyzing A/B Testing Results"
   ]
  },
  {
   "cell_type": "markdown",
   "metadata": {
    "colab_type": "text",
    "id": "7WyTmNI_ilqO"
   },
   "source": [
    "### Calculating p value"
   ]
  },
  {
   "cell_type": "code",
   "execution_count": null,
   "metadata": {
    "colab": {},
    "colab_type": "code",
    "id": "6Yl2iBMaik4s"
   },
   "outputs": [],
   "source": [
    "def find_p_value(mean, new_mean, sd):\n",
    "  p_value = float(new_mean-mean)/float(sd)\n",
    "  print(\"p_value: \"+str(p_value))  \n",
    "  return str(p_value)"
   ]
  },
  {
   "cell_type": "markdown",
   "metadata": {
    "colab_type": "text",
    "id": "7IXzWw8jmz_5"
   },
   "source": [
    "### Is p value Statistically SIgnificant"
   ]
  },
  {
   "cell_type": "code",
   "execution_count": null,
   "metadata": {
    "colab": {},
    "colab_type": "code",
    "id": "0tMSvE7OkIsu"
   },
   "outputs": [],
   "source": [
    "def is_statistically_significant(p_value):\n",
    "  if float(p_value) >= 0.05:\n",
    "    print(\"Statistically Significant\")\n",
    "  else:\n",
    "    print(\"Not Statistically Significant\")"
   ]
  },
  {
   "cell_type": "markdown",
   "metadata": {
    "colab_type": "text",
    "id": "fe4GZf6Cm6-H"
   },
   "source": [
    "### Check if small sensitivity is statistically significant?"
   ]
  },
  {
   "cell_type": "code",
   "execution_count": 33,
   "metadata": {
    "colab": {
     "base_uri": "https://localhost:8080/",
     "height": 52
    },
    "colab_type": "code",
    "id": "KpVIetNJzBED",
    "outputId": "d091cf20-dfe6-442a-81e0-58a137fd81ed"
   },
   "outputs": [
    {
     "name": "stdout",
     "output_type": "stream",
     "text": [
      "p_value: 0.023595902937958737\n",
      "Not Statistically Significant\n"
     ]
    }
   ],
   "source": [
    "#small sensitivity\n",
    "small_p_value = find_p_value(average_revenue, small_purchasers, std_revenue)\n",
    "is_statistically_significant(small_p_value)"
   ]
  },
  {
   "cell_type": "markdown",
   "metadata": {
    "colab_type": "text",
    "id": "TMYkDVPWnEOk"
   },
   "source": [
    "### Check if medium sensitivity is statistically significant?"
   ]
  },
  {
   "cell_type": "code",
   "execution_count": 34,
   "metadata": {
    "colab": {
     "base_uri": "https://localhost:8080/",
     "height": 52
    },
    "colab_type": "code",
    "id": "f_B6f_gbmhr_",
    "outputId": "26d7f775-8f0a-4605-efc0-9070408b855e"
   },
   "outputs": [
    {
     "name": "stdout",
     "output_type": "stream",
     "text": [
      "p_value: 0.047191805875917474\n",
      "Not Statistically Significant\n"
     ]
    }
   ],
   "source": [
    "#medium sensitivity\n",
    "medium_p_value = find_p_value(average_revenue, medium_purchasers, std_revenue)\n",
    "is_statistically_significant(medium_p_value)"
   ]
  },
  {
   "cell_type": "markdown",
   "metadata": {
    "colab_type": "text",
    "id": "4rKBadnjnF52"
   },
   "source": [
    "### Check if large sensitivity is statistically significant?"
   ]
  },
  {
   "cell_type": "code",
   "execution_count": 35,
   "metadata": {
    "colab": {
     "base_uri": "https://localhost:8080/",
     "height": 52
    },
    "colab_type": "code",
    "id": "Djhna5CrmsFp",
    "outputId": "af0d0ae5-aa61-44c7-df39-e1976fbcd2ab"
   },
   "outputs": [
    {
     "name": "stdout",
     "output_type": "stream",
     "text": [
      "p_value: 0.1179795146897934\n",
      "Statistically Significant\n"
     ]
    }
   ],
   "source": [
    "#large sensitivity\n",
    "large_p_value = find_p_value(average_revenue, large_purchasers, std_revenue)\n",
    "is_statistically_significant(large_p_value)"
   ]
  }
 ],
 "metadata": {
  "colab": {
   "collapsed_sections": [],
   "name": "Customer Analytics & A/B Testing in Python.ipynb",
   "provenance": [],
   "version": "0.3.2"
  },
  "kernelspec": {
   "display_name": "Python 3",
   "language": "python",
   "name": "python3"
  },
  "language_info": {
   "codemirror_mode": {
    "name": "ipython",
    "version": 3
   },
   "file_extension": ".py",
   "mimetype": "text/x-python",
   "name": "python",
   "nbconvert_exporter": "python",
   "pygments_lexer": "ipython3",
   "version": "3.7.2"
  }
 },
 "nbformat": 4,
 "nbformat_minor": 2
}
