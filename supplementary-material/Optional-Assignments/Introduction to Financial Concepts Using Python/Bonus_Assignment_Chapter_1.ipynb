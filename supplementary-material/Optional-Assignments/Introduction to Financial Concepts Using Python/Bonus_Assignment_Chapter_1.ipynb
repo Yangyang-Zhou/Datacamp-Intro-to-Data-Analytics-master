{
  "nbformat": 4,
  "nbformat_minor": 0,
  "metadata": {
    "colab": {
      "name": "Bonus Assignment Chapter 1",
      "version": "0.3.2",
      "provenance": [],
      "toc_visible": true
    },
    "kernelspec": {
      "display_name": "Python 3",
      "language": "python",
      "name": "python3"
    }
  },
  "cells": [
    {
      "metadata": {
        "id": "L22LdoAVMHF9",
        "colab_type": "text"
      },
      "cell_type": "markdown",
      "source": [
        "#Bonus Datacamp Assignment: Introduction to Financial Concepts Using Python\n",
        "By: Lauren Evans and Doug Sibor\n",
        "\n",
        "The ability to make fundamental financial calculations quickly is vital for a finance professional, and this course is designed to help lay a foundation for building these essential skills. Intially, it's important to understand some key concepts:\n",
        "\n",
        "*   Return on Investment (% gain and dollar value)\n",
        "*   Cumulative Growth or Depreciation\n",
        "*   Discount Factors\n",
        "*   Compound Interest\n",
        "\n",
        "\n",
        "\n"
      ]
    },
    {
      "metadata": {
        "id": "oSYHt_ZO_Xjg",
        "colab_type": "text"
      },
      "cell_type": "markdown",
      "source": [
        "# Growth and Rate of Return\n",
        "*\"How much will I earn on my investment, and how long will I earn it for?\"* This is a question any savvy investor will ask before she plunks down any of her hard-earned cash."
      ]
    },
    {
      "metadata": {
        "id": "dK2bXiWPXCL1",
        "colab_type": "text"
      },
      "cell_type": "markdown",
      "source": [
        "Calculate the future value (cumulative return) of a $100 investment which grows at a rate of 6% per year for 30 years in a row and assign it to \"future_value.\""
      ]
    },
    {
      "metadata": {
        "id": "1QDR4pEE_Xjk",
        "colab_type": "code",
        "outputId": "3a1c00b2-9ba0-4f39-b055-8d370da25de2",
        "colab": {
          "base_uri": "https://localhost:8080/"
        }
      },
      "cell_type": "code",
      "source": [
        "future_value = 100*(1+0.06)**30\n",
        "print(\"Future Value of Investment: \" + str(round(future_value, 2)))"
      ],
      "execution_count": 0,
      "outputs": [
        {
          "output_type": "stream",
          "text": [
            "Future Value of Investment: 574.35\n"
          ],
          "name": "stdout"
        }
      ]
    },
    {
      "metadata": {
        "id": "HSxKcaHERMp0",
        "colab_type": "text"
      },
      "cell_type": "markdown",
      "source": [
        "#Compound Interest\n",
        "A number of factors play a role in determining the future value of an investment. As we discussed above time and rate of return are of course important, and as you'll see here, playing perhaps the most critical role of all is a third major factor: number of compounding periods."
      ]
    },
    {
      "metadata": {
        "id": "zUKTTgkRVLtQ",
        "colab_type": "text"
      },
      "cell_type": "markdown",
      "source": [
        "Calculate the value of a $100 investment which grows at a rate of 6% per year for 30 years in a row compounded once per year and assign it to \"investment_1.\""
      ]
    },
    {
      "metadata": {
        "id": "aeVWaP2Z_Xjt",
        "colab_type": "code",
        "outputId": "664e81f9-b987-4ae8-c48f-1f58aa16d75a",
        "colab": {
          "base_uri": "https://localhost:8080/"
        }
      },
      "cell_type": "code",
      "source": [
        "# Predefined variables\n",
        "initial_investment = 100\n",
        "growth_periods = 30\n",
        "growth_rate = 0.06\n",
        "\n",
        "compound_periods_1 = 1\n",
        "investment_1 = initial_investment*(1 + growth_rate / compound_periods_1)**(compound_periods_1*growth_periods)\n",
        "print(\"Investment 1: \" + str(round(investment_1, 2)))"
      ],
      "execution_count": 0,
      "outputs": [
        {
          "output_type": "stream",
          "text": [
            "Investment 1: 574.35\n"
          ],
          "name": "stdout"
        }
      ]
    },
    {
      "metadata": {
        "id": "QREvquRKSAY8",
        "colab_type": "text"
      },
      "cell_type": "markdown",
      "source": [
        "Calculate the value of the same investment, but compounded quarterly and assign it to \"investment_2.\""
      ]
    },
    {
      "metadata": {
        "id": "U-w65Y0G_Xj3",
        "colab_type": "code",
        "outputId": "1a97bba5-c2d1-41ae-b4fe-07143db4200e",
        "colab": {
          "base_uri": "https://localhost:8080/"
        }
      },
      "cell_type": "code",
      "source": [
        "compound_periods_2 = 4\n",
        "investment_2 = initial_investment*(1 + growth_rate / compound_periods_2)**(compound_periods_2*growth_periods)\n",
        "print(\"Investment 2: \" + str(round(investment_2, 2)))"
      ],
      "execution_count": 0,
      "outputs": [
        {
          "output_type": "stream",
          "text": [
            "Investment 2: 596.93\n"
          ],
          "name": "stdout"
        }
      ]
    },
    {
      "metadata": {
        "id": "j7LiIkFiS3I4",
        "colab_type": "text"
      },
      "cell_type": "markdown",
      "source": [
        "Calculate the value of the same investment, but compounded monthly and assign it to \"investment_3.\""
      ]
    },
    {
      "metadata": {
        "id": "oYD5p9rw_Xj8",
        "colab_type": "code",
        "outputId": "65320416-0707-447c-9bea-8cf15da9317e",
        "colab": {
          "base_uri": "https://localhost:8080/"
        }
      },
      "cell_type": "code",
      "source": [
        "compound_periods_3 = 12\n",
        "investment_3 = initial_investment*(1 + growth_rate / compound_periods_3)**(compound_periods_3*growth_periods)\n",
        "print(\"Investment 3: \" + str(round(investment_3, 2)))"
      ],
      "execution_count": 0,
      "outputs": [
        {
          "output_type": "stream",
          "text": [
            "Investment 3: 602.26\n"
          ],
          "name": "stdout"
        }
      ]
    },
    {
      "metadata": {
        "id": "asdfsGFVTMJO",
        "colab_type": "text"
      },
      "cell_type": "markdown",
      "source": [
        "Note how the value of the investment grows as the number of compounding periods increases. This is why **Albert Einstein** once referred to compounding interest as \"the eighth wonder of the world!\""
      ]
    },
    {
      "metadata": {
        "id": "BMfVk-1J_XkA",
        "colab_type": "text"
      },
      "cell_type": "markdown",
      "source": [
        "# Discount Factors and Depreciation\n",
        "Unfortunately for our wallets and retirement plans, not all assets appreciate! Some decline in value over time.\n",
        "\n",
        "To account for this, we apply the same concept as above but this time use a *negative* rate of return. Similarly, we can also calculate and apply the *discount factor* to the future value of a depreciating asset in order to \"back into\" the investment's initial value."
      ]
    },
    {
      "metadata": {
        "id": "-0Jge2r6X2Uj",
        "colab_type": "text"
      },
      "cell_type": "markdown",
      "source": [
        "Calculate the future value of a $100 investment that depreciates in value by 5% per year for 10 years and assign it to \"future_value.\""
      ]
    },
    {
      "metadata": {
        "id": "gh-ws3TV_XkB",
        "colab_type": "code",
        "outputId": "9761cbe0-73db-4841-feb7-bf5805afe9ef",
        "colab": {
          "base_uri": "https://localhost:8080/"
        }
      },
      "cell_type": "code",
      "source": [
        "initial_investment = 100\n",
        "growth_rate = -0.05\n",
        "growth_periods = 10\n",
        "future_value = initial_investment*(1+growth_rate)**growth_periods\n",
        "print(\"Future value: \" + str(round(future_value, 2)))"
      ],
      "execution_count": 0,
      "outputs": [
        {
          "output_type": "stream",
          "text": [
            "Future value: 59.87\n"
          ],
          "name": "stdout"
        }
      ]
    },
    {
      "metadata": {
        "id": "aFE-2kLX_XkD",
        "colab_type": "text"
      },
      "cell_type": "markdown",
      "source": [
        "Calculate the discount factor of the investment and assign it to \"discount_factor.\""
      ]
    },
    {
      "metadata": {
        "id": "p4cXvmgG_XkE",
        "colab_type": "code",
        "outputId": "a9eab8e7-810e-48f7-a497-45e58b94425d",
        "colab": {
          "base_uri": "https://localhost:8080/"
        }
      },
      "cell_type": "code",
      "source": [
        "discount_factor = 1/((1 + growth_rate)**(growth_periods))\n",
        "print(\"Discount factor: \" + str(round(discount_factor, 2)))"
      ],
      "execution_count": 0,
      "outputs": [
        {
          "output_type": "stream",
          "text": [
            "Discount factor: 1.67\n"
          ],
          "name": "stdout"
        }
      ]
    },
    {
      "metadata": {
        "id": "DuzJYYxM_XkG",
        "colab_type": "text"
      },
      "cell_type": "markdown",
      "source": [
        "Derive the initial value of the investment using the future value and the discount factor and assign it to \"initial_investment_again.\""
      ]
    },
    {
      "metadata": {
        "id": "5ui-1ZG9_XkH",
        "colab_type": "code",
        "outputId": "ed861506-bf07-4a91-c0b7-2eb1ea2ddbb5",
        "colab": {
          "base_uri": "https://localhost:8080/"
        }
      },
      "cell_type": "code",
      "source": [
        "initial_investment_again = future_value*discount_factor\n",
        "print(\"Initial value: \" + str(round(initial_investment_again, 2)))"
      ],
      "execution_count": 0,
      "outputs": [
        {
          "output_type": "stream",
          "text": [
            "Initial value: 100.0\n"
          ],
          "name": "stdout"
        }
      ]
    },
    {
      "metadata": {
        "id": "uxX8O_l3_XkJ",
        "colab_type": "text"
      },
      "cell_type": "markdown",
      "source": [
        "#Present and Future Value\n",
        "One of the most important concepts in finance is that \"a dollar today is worth more than a dollar tomorrow.\" This sentiment reinforces the idea of the *time value of money*.\n",
        "\n",
        "Fundamental to this idea is *present value* (what a future amount of money is worth today, given its rate of return) and *future value* (what a present amount of money is worth at a future point in time, given its rate of return). Making these conversions allows for an \"apples to apples\" comparison between investment opportunities.\n",
        "\n",
        "We'll use the functionality of NumPy and basic information about an investment opportunity to explore these concepts below. Here are some key pieces of information you'll need to fully make use of NumPy:\n",
        "*  **rate**: The rate of return of the investment\n",
        "*  **nper**: The lifespan of the investment\n",
        "*  **pmt**: The (fixed) payment at the beginning or end of each period (which is 0 in our example)\n",
        "*  **fv**: The future value of the investment\n",
        "*  **pv**: The present value of the investment"
      ]
    },
    {
      "metadata": {
        "id": "VWVN5Z91c9e6",
        "colab_type": "text"
      },
      "cell_type": "markdown",
      "source": [
        "Import numpy as np. Then, using Numpy's .pv() function, compute the present value of an investment which will yield $10,000 15 years from now at an inflation rate of 3% per year and assign it to \"investment_1.\""
      ]
    },
    {
      "metadata": {
        "id": "aMV7lKcU_XkJ",
        "colab_type": "code",
        "colab": {}
      },
      "cell_type": "code",
      "source": [
        "import numpy as np\n",
        "investment_1 = np.pv(rate=0.03, nper=15, pmt=0, fv=10000)"
      ],
      "execution_count": 0,
      "outputs": []
    },
    {
      "metadata": {
        "id": "VGgI4JJ2_XkL",
        "colab_type": "text"
      },
      "cell_type": "markdown",
      "source": [
        "Because the present value returned is negative and needs to be rounded, we multiply the result by -1 and round it to the hundredths digit. Print the result along with the text \"Investment 1 is worth [amount] in today's dollars.\""
      ]
    },
    {
      "metadata": {
        "id": "6sbvRI1H_XkM",
        "colab_type": "code",
        "outputId": "85031ff5-b84d-49fd-a991-a3a13df21cda",
        "colab": {
          "base_uri": "https://localhost:8080/"
        }
      },
      "cell_type": "code",
      "source": [
        "print(\"Investment 1 is worth $\" + str(round(-investment_1, 2)) + \" in today's dollars\")"
      ],
      "execution_count": 0,
      "outputs": [
        {
          "output_type": "stream",
          "text": [
            "Investment 1 is worth $6418.62 in today's dollars\n"
          ],
          "name": "stdout"
        }
      ]
    },
    {
      "metadata": {
        "id": "1ZJLhtMBfIR8",
        "colab_type": "text"
      },
      "cell_type": "markdown",
      "source": [
        "Compute the present value of the same investment, but with a time horizon of only 10 years and an inflation rate of 5%, assigning it to \"investment_2.\" Print the result using the same format as above."
      ]
    },
    {
      "metadata": {
        "id": "H-D3BEkhfRIo",
        "colab_type": "code",
        "outputId": "b3957f6b-3974-4671-a8cf-c810e79daa1f",
        "colab": {
          "base_uri": "https://localhost:8080/"
        }
      },
      "cell_type": "code",
      "source": [
        "investment_2 = np.pv(rate=0.05, nper=10, pmt=0, fv=10000)\n",
        "print(\"Investment 2 is worth $\" + str(round(-investment_2, 2)) + \" in today's dollars\")"
      ],
      "execution_count": 0,
      "outputs": [
        {
          "output_type": "stream",
          "text": [
            "Investment 2 is worth $6139.13 in today's dollars\n"
          ],
          "name": "stdout"
        }
      ]
    },
    {
      "metadata": {
        "id": "23q8YDZ4fgxr",
        "colab_type": "text"
      },
      "cell_type": "markdown",
      "source": [
        "**Notice how a higher inflation rate leads to a lower present value!**"
      ]
    },
    {
      "metadata": {
        "id": "aF2Den1tfjJA",
        "colab_type": "text"
      },
      "cell_type": "markdown",
      "source": [
        "Using Numpy's .fv() function, calculate the future value of a $10,000 investment returning 5% per year for 15 years and assign it to \"investment_1.\" *It is important to note that in this function call, you must pass a negative value into the pv parameter if it represents a negative cash flow (cash going out).*"
      ]
    },
    {
      "metadata": {
        "id": "0zIaQXJbfwjt",
        "colab_type": "code",
        "outputId": "fd968916-b6fa-494f-a3cf-1a4d9784a0ee",
        "colab": {
          "base_uri": "https://localhost:8080/"
        }
      },
      "cell_type": "code",
      "source": [
        "investment_1 = np.fv(rate=0.05, nper=15, pmt=0, pv=-10000)\n",
        "print(\"Investment 1 will yield a total of $\" + str(round(investment_1, 2)) + \" in 15 years\")"
      ],
      "execution_count": 0,
      "outputs": [
        {
          "output_type": "stream",
          "text": [
            "Investment 1 will yield a total of $20789.28 in 15 years\n"
          ],
          "name": "stdout"
        }
      ]
    },
    {
      "metadata": {
        "id": "Aqp7Vj3egOGF",
        "colab_type": "text"
      },
      "cell_type": "markdown",
      "source": [
        "Calculate the future value of a $10,000 investment returning 8% per year for 15 years and assign it to \"investment_2.\""
      ]
    },
    {
      "metadata": {
        "id": "3sKK-aOjgSIS",
        "colab_type": "code",
        "outputId": "bc09225b-2f70-410a-ee1f-bd255357f9b9",
        "colab": {
          "base_uri": "https://localhost:8080/"
        }
      },
      "cell_type": "code",
      "source": [
        "investment_2 = np.fv(rate=0.08, nper=15, pmt=0, pv=-10000)\n",
        "print(\"Investment 2 will yield a total of $\" + str(round(investment_2, 2)) + \" in 15 years\")"
      ],
      "execution_count": 0,
      "outputs": [
        {
          "output_type": "stream",
          "text": [
            "Investment 2 will yield a total of $31721.69 in 15 years\n"
          ],
          "name": "stdout"
        }
      ]
    },
    {
      "metadata": {
        "id": "DwZwvI5NgZez",
        "colab_type": "text"
      },
      "cell_type": "markdown",
      "source": [
        "**Note how the growth rate dramatically affects the future value!**"
      ]
    },
    {
      "metadata": {
        "id": "oM6SumSAg_Q7",
        "colab_type": "text"
      },
      "cell_type": "markdown",
      "source": [
        "Calculate the future value of a $10,000 investment returning 8% per year for 10 years using .fv() and assign it to \"investment_1.\""
      ]
    },
    {
      "metadata": {
        "id": "ytquPSXbhD19",
        "colab_type": "code",
        "outputId": "e99a673a-693e-4668-b757-59b1c6b2fce9",
        "colab": {
          "base_uri": "https://localhost:8080/"
        }
      },
      "cell_type": "code",
      "source": [
        "investment_1 = np.fv(rate=0.08, nper=10, pmt=0, pv=-10000)\n",
        "print(\"Investment 1 will yield a total of $\" + str(round(investment_1, 2)) + \" in 10 years\")"
      ],
      "execution_count": 0,
      "outputs": [
        {
          "output_type": "stream",
          "text": [
            "Investment 1 will yield a total of $21589.25 in 10 years\n"
          ],
          "name": "stdout"
        }
      ]
    },
    {
      "metadata": {
        "id": "Qn-qlmbWhHYd",
        "colab_type": "text"
      },
      "cell_type": "markdown",
      "source": [
        "Calculate the inflation-adjusted present value of investment_1, using an inflation rate of 3% per year and assign it to \"investment_1_discounted.\""
      ]
    },
    {
      "metadata": {
        "id": "_wUuW_iDhLf8",
        "colab_type": "code",
        "outputId": "0f4e77c9-5b20-4c31-9ce1-4a2f72e24ecb",
        "colab": {
          "base_uri": "https://localhost:8080/"
        }
      },
      "cell_type": "code",
      "source": [
        "investment_1_discounted = np.pv(rate=0.03, nper=10, pmt=0, fv=investment_1)\n",
        "print(\"After adjusting for inflation, investment 1 is worth $\" + str(round(-investment_1_discounted, 2)) + \" in today's dollars\")"
      ],
      "execution_count": 0,
      "outputs": [
        {
          "output_type": "stream",
          "text": [
            "After adjusting for inflation, investment 1 is worth $16064.43 in today's dollars\n"
          ],
          "name": "stdout"
        }
      ]
    },
    {
      "metadata": {
        "id": "QXCFXgj-_XkO",
        "colab_type": "text"
      },
      "cell_type": "markdown",
      "source": [
        "#Net Present Value and Cash Flows\n",
        "Evaluating financial decisions is a complex process. One of the vital tools in any professional's toolbox is the evaluation of *cash flows* (the gains or losses of an investment over time).\n",
        "\n",
        "To determine how much your expected cash flows are worth today, you calculate the *net present value* of all future cash flows.\n",
        "\n",
        "To do this, you first pass all your future values into NumPy as an array. You can then pass the entire array into NumPy's .npv() function (along with the discount rate) to find how much all those future cash flows are worth in today's dollars."
      ]
    },
    {
      "metadata": {
        "id": "7EaEh4rCj4rK",
        "colab_type": "text"
      },
      "cell_type": "markdown",
      "source": [
        "A five-year project has annual cash flows of $100. Pass these cash flows into NumPy as an array called \"cash_flows\"."
      ]
    },
    {
      "metadata": {
        "id": "iS6u5KF__XkP",
        "colab_type": "code",
        "colab": {}
      },
      "cell_type": "code",
      "source": [
        "import numpy as np\n",
        "cash_flows = np.array([100, 100, 100, 100, 100])"
      ],
      "execution_count": 0,
      "outputs": []
    },
    {
      "metadata": {
        "id": "3CfKETiFkl8Y",
        "colab_type": "text"
      },
      "cell_type": "markdown",
      "source": [
        "Calculate the net present value of the investment with cash_flows at a discount rate of 3% per year, and assign it to \"investment_1.\""
      ]
    },
    {
      "metadata": {
        "id": "_nhoT_g2jXV8",
        "colab_type": "code",
        "outputId": "017006f1-0bdb-4924-e915-f6e69ea03dfc",
        "colab": {
          "base_uri": "https://localhost:8080/"
        }
      },
      "cell_type": "code",
      "source": [
        "investment_1 = np.npv(rate=0.03, values=cash_flows)\n",
        "print(\"Investment 1's net present value is $\" + str(round(investment_1, 2)) + \" in today's dollars\")"
      ],
      "execution_count": 0,
      "outputs": [
        {
          "output_type": "stream",
          "text": [
            "Investment 1's net present value is $471.71 in today's dollars\n"
          ],
          "name": "stdout"
        }
      ]
    },
    {
      "metadata": {
        "id": "45PZ9PaG_XkR",
        "colab_type": "text"
      },
      "cell_type": "markdown",
      "source": [
        "Calculate the net present value of the investment with cash_flows at a discount rate of 5% per year, and assign it to \"investment_2.\""
      ]
    },
    {
      "metadata": {
        "id": "oGieYAST_XkS",
        "colab_type": "code",
        "outputId": "de1d24dc-5eac-44e2-b6c8-883bbda4067c",
        "colab": {
          "base_uri": "https://localhost:8080/"
        }
      },
      "cell_type": "code",
      "source": [
        "investment_2 = np.npv(rate=0.05, values=cash_flows)\n",
        "print(\"Investment 2's net present value is $\" + str(round(investment_2, 2)) + \" in today's dollars\")"
      ],
      "execution_count": 0,
      "outputs": [
        {
          "output_type": "stream",
          "text": [
            "Investment 2's net present value is $454.6 in today's dollars\n"
          ],
          "name": "stdout"
        }
      ]
    },
    {
      "metadata": {
        "id": "Evgwpja1_XkT",
        "colab_type": "text"
      },
      "cell_type": "markdown",
      "source": [
        "Calculate the net present value of the investment with cash_flows at a discount rate of 7% per year, and assign it to \"investment_3.\""
      ]
    },
    {
      "metadata": {
        "id": "uvHvkPyM_XkU",
        "colab_type": "code",
        "outputId": "4138f146-3713-4dea-8c41-1c0337b52e74",
        "colab": {
          "base_uri": "https://localhost:8080/"
        }
      },
      "cell_type": "code",
      "source": [
        "investment_3 = np.npv(rate=0.07, values=cash_flows)\n",
        "print(\"Investment 3's net present value is $\" + str(round(investment_3, 2)) + \" in today's dollars\")"
      ],
      "execution_count": 0,
      "outputs": [
        {
          "output_type": "stream",
          "text": [
            "Investment 3's net present value is $438.72 in today's dollars\n"
          ],
          "name": "stdout"
        }
      ]
    },
    {
      "metadata": {
        "id": "5PFXyaA5lQ4q",
        "colab_type": "text"
      },
      "cell_type": "markdown",
      "source": [
        "Now, let's compare two projects with the following cash flows:\n",
        "\n",
        "**Project 1**\n",
        "*   Year 1: -250 (initial investment)\n",
        "*   Year 2: 100\n",
        "*   Year 3: 200\n",
        "*   Year 4: 300\n",
        "*   Year 5: 400\n",
        "\n",
        "**Project 2**\n",
        "*   Year 1: -250 (initial investment)\n",
        "*   Year 2: 300\n",
        "*   Year 3: -250 (additional investment)\n",
        "*   Year 4: 300\n",
        "*   Year 5: 300\n",
        "\n",
        "Assuming there are no additional cash flows after Year 5 and an inflation rate of 3%, which project should we pursue? Let's find out!"
      ]
    },
    {
      "metadata": {
        "id": "P3RLjMcEmOkU",
        "colab_type": "text"
      },
      "cell_type": "markdown",
      "source": [
        "Create a numpy array of the cash flow values for project 1, assigning it to \"cash_flows_1,\" and then do the same for project 2, assigning the values to \"cash_flows_2.\""
      ]
    },
    {
      "metadata": {
        "id": "B3VxDTv2mix4",
        "colab_type": "code",
        "colab": {}
      },
      "cell_type": "code",
      "source": [
        "cash_flows_1 = np.array([-250,100,200,300,400])\n",
        "cash_flows_2 = np.array([-250,300,-250,300,300])"
      ],
      "execution_count": 0,
      "outputs": []
    },
    {
      "metadata": {
        "id": "ttP8BrRMm0iH",
        "colab_type": "text"
      },
      "cell_type": "markdown",
      "source": [
        "Calculate the net present value of both projects 1 and 2 assuming a 3% inflation rate."
      ]
    },
    {
      "metadata": {
        "id": "lZjeyQGpm20R",
        "colab_type": "code",
        "outputId": "697a27eb-f7be-47c8-c0c8-652c0ea6cd4b",
        "colab": {
          "base_uri": "https://localhost:8080/"
        }
      },
      "cell_type": "code",
      "source": [
        "investment_1 = np.npv(rate=0.03, values=cash_flows_1)\n",
        "print(\"The net present value of Investment 1 is worth $\" + str(round(investment_1, 2)) + \" in today's dollars\")\n",
        "investment_2 = np.npv(rate=0.03, values=cash_flows_2)\n",
        "print(\"The net present value of Investment 2 is worth $\" + str(round(investment_2, 2)) + \" in today's dollars\")"
      ],
      "execution_count": 0,
      "outputs": [
        {
          "output_type": "stream",
          "text": [
            "The net present value of Investment 1 is worth $665.54 in today's dollars\n",
            "The net present value of Investment 2 is worth $346.7 in today's dollars\n"
          ],
          "name": "stdout"
        }
      ]
    },
    {
      "metadata": {
        "id": "inIgiJounHWo",
        "colab_type": "text"
      },
      "cell_type": "markdown",
      "source": [
        "Given the NPVs above, we should choose Investment 1.\n",
        "\n",
        "Also note that the value of a cash flow can diminish over time as well! Think of it this way: would you rather receive a dollar tomorrow, or in five years? Let's see this demonstrated with real numbers..."
      ]
    },
    {
      "metadata": {
        "id": "FSmtpWFJnbev",
        "colab_type": "text"
      },
      "cell_type": "markdown",
      "source": [
        "Calculate the present value of a single $100 payment received 30 years from now with an annual inflation rate of 3%, and assign it to \"investment_1.\""
      ]
    },
    {
      "metadata": {
        "id": "BHHVdZBOngx8",
        "colab_type": "code",
        "outputId": "3b1acd36-07f4-4277-ca52-7ffa3ac1e3d1",
        "colab": {
          "base_uri": "https://localhost:8080/"
        }
      },
      "cell_type": "code",
      "source": [
        "investment_1 = np.pv(rate=0.03, nper=30, pmt=0, fv=100)\n",
        "print(\"Investment 1 is worth $\" + str(round(-investment_1, 2)) + \" in today's dollars\")"
      ],
      "execution_count": 0,
      "outputs": [
        {
          "output_type": "stream",
          "text": [
            "Investment 1 is worth $41.2 in today's dollars\n"
          ],
          "name": "stdout"
        }
      ]
    },
    {
      "metadata": {
        "id": "iF2-47WJn3k3",
        "colab_type": "text"
      },
      "cell_type": "markdown",
      "source": [
        "Calculate the present value of the same payment, but if it was received 50 and 100 years from now, and assign it to \"investment_2\" and \"investment_3\" respectively."
      ]
    },
    {
      "metadata": {
        "id": "k6Ax0Y29n_G3",
        "colab_type": "code",
        "outputId": "d7f880a5-772c-4166-fe17-955987ccf418",
        "colab": {
          "base_uri": "https://localhost:8080/"
        }
      },
      "cell_type": "code",
      "source": [
        "investment_2 = np.pv(rate=0.03, nper=50, pmt=0, fv=100)\n",
        "print(\"Investment 2 is worth $\" + str(round(-investment_2, 2)) + \" in today's dollars\")\n",
        "\n",
        "investment_3 = np.pv(rate=0.03, nper=100, pmt=0, fv=100)\n",
        "print(\"Investment 3 is worth $\" + str(round(-investment_3, 2)) + \" in today's dollars\")"
      ],
      "execution_count": 0,
      "outputs": [
        {
          "output_type": "stream",
          "text": [
            "Investment 2 is worth $22.81 in today's dollars\n",
            "Investment 3 is worth $5.2 in today's dollars\n"
          ],
          "name": "stdout"
        }
      ]
    },
    {
      "metadata": {
        "id": "eSfnmPyvoPq-",
        "colab_type": "text"
      },
      "cell_type": "markdown",
      "source": [
        "**The moral of the story? It's generally better to have money now rather than later!**"
      ]
    }
  ]
}