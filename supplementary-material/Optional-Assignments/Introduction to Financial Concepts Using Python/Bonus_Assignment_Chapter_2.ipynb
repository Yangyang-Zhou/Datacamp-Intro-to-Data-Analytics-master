{
  "nbformat": 4,
  "nbformat_minor": 0,
  "metadata": {
    "colab": {
      "name": "Bonus Assignment Chapter 2.ipynb",
      "version": "0.3.2",
      "provenance": [],
      "collapsed_sections": [
        "r7WbipTQRCm4"
      ],
      "toc_visible": true
    },
    "kernelspec": {
      "name": "python3",
      "display_name": "Python 3"
    }
  },
  "cells": [
    {
      "metadata": {
        "id": "CRg5hNwwkJ92",
        "colab_type": "text"
      },
      "cell_type": "markdown",
      "source": [
        "# Project Proposals and Cash Flow Projections"
      ]
    },
    {
      "metadata": {
        "id": "5KE9oOtvkULj",
        "colab_type": "code",
        "colab": {}
      },
      "cell_type": "code",
      "source": [
        "import pandas as pd\n",
        "import numpy as np"
      ],
      "execution_count": 0,
      "outputs": []
    },
    {
      "metadata": {
        "id": "RFFjvyKMkRBA",
        "colab_type": "text"
      },
      "cell_type": "markdown",
      "source": [
        "In this notebook, imagine you are the CEO of a New York City based transportation company. You will learn the basics of financial decision-making and project financing in order to figure out what types of projects would be most beneficial for your team to undertake."
      ]
    },
    {
      "metadata": {
        "id": "pOX4hlfwOGy6",
        "colab_type": "text"
      },
      "cell_type": "markdown",
      "source": [
        "Your project managers are evaluating projected the cash flows for 2 proposals. Project 1 provides higher short term cash flows, but Project 2 becomes more profitable over time.\n",
        "\n",
        "The cash flow projections for both projects are as follows, listed in 1,000s of dollars:"
      ]
    },
    {
      "metadata": {
        "id": "KDUehsb4IuCi",
        "colab_type": "text"
      },
      "cell_type": "markdown",
      "source": [
        "<img src=\"https://github.com/Lauevs/extracredit/blob/master/Screen%20Shot%202019-04-23%20at%2010.11.56%20PM.png?raw=true\" width=\"300\" align=\"center\"/>\n",
        "\n"
      ]
    },
    {
      "metadata": {
        "id": "P7S3o1n6ll3c",
        "colab_type": "text"
      },
      "cell_type": "markdown",
      "source": [
        "Create variables cf_project_1 and cf_project_2 and set them equal a numpy array of the projected cash flows. Then, scale these projected cash flows 1,000x by multiplying each array by 1,000."
      ]
    },
    {
      "metadata": {
        "id": "7taiCA4dl3Kr",
        "colab_type": "code",
        "colab": {}
      },
      "cell_type": "code",
      "source": [
        "import numpy as np\n",
        "\n",
        "cf_project_1 = np.array([-1000, 200, 250, 300, 350, 400, 450, 500, 550, 600])\n",
        "\n",
        "cf_project_2 = np.array([-1000, 150, 225, 300, 375, 425, 500, 575, 600, 625])"
      ],
      "execution_count": 0,
      "outputs": []
    },
    {
      "metadata": {
        "id": "verHauHql-Sc",
        "colab_type": "code",
        "colab": {}
      },
      "cell_type": "code",
      "source": [
        "cf_project1 = cf_project_1 * 1000\n",
        "cf_project2 = cf_project_2 * 1000"
      ],
      "execution_count": 0,
      "outputs": []
    },
    {
      "metadata": {
        "id": "FTpD9cwNnUht",
        "colab_type": "text"
      },
      "cell_type": "markdown",
      "source": [
        "## Internal Rate of Return"
      ]
    },
    {
      "metadata": {
        "id": "u9A9SuHNnacW",
        "colab_type": "text"
      },
      "cell_type": "markdown",
      "source": [
        "Now that you have the cash flow projections ready to go for each project, you want to compare the internal rate of return (IRR) of each project to help you decide which project would be most beneficial for your company in terms of yield (rate of return). In this exercise, you will calculate the internal rate of return for each project using np.irr(values).\n",
        "\n",
        "Set the internal rate of return for Project 1 equal to irr_project1 and Project 2 equal to irr_project2"
      ]
    },
    {
      "metadata": {
        "id": "3Feb8YoxnlWO",
        "colab_type": "code",
        "outputId": "25b31e95-2aa1-4f32-899d-c9787736b4ff",
        "colab": {
          "base_uri": "https://localhost:8080/",
          "height": 34
        }
      },
      "cell_type": "code",
      "source": [
        "# Calculate the internal rate of return for Project 1\n",
        "irr_project1 = np.irr(cf_project1)\n",
        "print(\"Project 1 IRR: \" + str(round(100*irr_project1, 2)) + \"%\")"
      ],
      "execution_count": 0,
      "outputs": [
        {
          "output_type": "stream",
          "text": [
            "Project 1 IRR: 28.92%\n"
          ],
          "name": "stdout"
        }
      ]
    },
    {
      "metadata": {
        "id": "cKTy3o_nn2-Z",
        "colab_type": "code",
        "outputId": "a2756cbf-e503-4c9e-bc62-b7e8a1afc7c7",
        "colab": {
          "base_uri": "https://localhost:8080/",
          "height": 34
        }
      },
      "cell_type": "code",
      "source": [
        "# Calculate the internal rate of return for Project 2\n",
        "irr_project2 = np.irr(cf_project2)\n",
        "print(\"Project 2 IRR: \" + str(round(100*irr_project2, 2)) + \"%\")"
      ],
      "execution_count": 0,
      "outputs": [
        {
          "output_type": "stream",
          "text": [
            "Project 2 IRR: 28.78%\n"
          ],
          "name": "stdout"
        }
      ]
    },
    {
      "metadata": {
        "id": "-cfdwqkwoFaf",
        "colab_type": "text"
      },
      "cell_type": "markdown",
      "source": [
        "If you were making the decision solely based on internal rate of return, which project would you be more interested in (assuming the IRR is greater than your required rate of return)?"
      ]
    },
    {
      "metadata": {
        "id": "rkASiTX0oFMy",
        "colab_type": "code",
        "outputId": "afd43a8d-fc6f-493f-e1b4-4fbe66682e78",
        "colab": {
          "base_uri": "https://localhost:8080/",
          "height": 34
        }
      },
      "cell_type": "code",
      "source": [
        "print(\"Project 2\")"
      ],
      "execution_count": 0,
      "outputs": [
        {
          "output_type": "stream",
          "text": [
            "Project 2\n"
          ],
          "name": "stdout"
        }
      ]
    },
    {
      "metadata": {
        "id": "5f5PWXncoSuZ",
        "colab_type": "text"
      },
      "cell_type": "markdown",
      "source": [
        "## Debt and Equity Financing using WACC"
      ]
    },
    {
      "metadata": {
        "id": "TLnSHnJEo6-E",
        "colab_type": "text"
      },
      "cell_type": "markdown",
      "source": [
        "Imagine your company has outstanding debt and financing costs, which you will have to adjust for. You will use the WACC as your discount rate. Assume take out a 1,000,000 loan to finance the project, which will be your company's only outstanding debt. This loan will represent 50% of your company's total financing of $2,000,000. The remaining funding comes from the market value of equity."
      ]
    },
    {
      "metadata": {
        "id": "HaxOZnwvqAAl",
        "colab_type": "text"
      },
      "cell_type": "markdown",
      "source": [
        "Set the market value of your company's debt, mval_debt, equal to the amount of the loan you will be issuing to finance the project."
      ]
    },
    {
      "metadata": {
        "id": "ZWg1LBr6qAei",
        "colab_type": "code",
        "colab": {}
      },
      "cell_type": "code",
      "source": [
        "mval_debt = 1000000"
      ],
      "execution_count": 0,
      "outputs": []
    },
    {
      "metadata": {
        "id": "AW25Pn9kqEjy",
        "colab_type": "text"
      },
      "cell_type": "markdown",
      "source": [
        "Set the market value of your company's equity, mval_equity, equal to the remaining amount of funding after the loan."
      ]
    },
    {
      "metadata": {
        "id": "vpPSxzLhqERx",
        "colab_type": "code",
        "colab": {}
      },
      "cell_type": "code",
      "source": [
        "mval_equity = 1000000"
      ],
      "execution_count": 0,
      "outputs": []
    },
    {
      "metadata": {
        "id": "clDoUExzqJW5",
        "colab_type": "text"
      },
      "cell_type": "markdown",
      "source": [
        "Calculate the total market value of your company's financing, mval_total, by taking the sum of the debt and equity."
      ]
    },
    {
      "metadata": {
        "id": "Grf2EWE7qJvd",
        "colab_type": "code",
        "colab": {}
      },
      "cell_type": "code",
      "source": [
        "mval_total = mval_equity + mval_debt"
      ],
      "execution_count": 0,
      "outputs": []
    },
    {
      "metadata": {
        "id": "wS362RqIqL7l",
        "colab_type": "text"
      },
      "cell_type": "markdown",
      "source": [
        "Calculate and print the proportion of your company's financing from debt (percent_debt) and from equity (percent_equity)."
      ]
    },
    {
      "metadata": {
        "id": "wSrtlK35qMRT",
        "colab_type": "code",
        "outputId": "46923725-3028-4966-cd02-d08a28ebff6a",
        "colab": {
          "base_uri": "https://localhost:8080/",
          "height": 51
        }
      },
      "cell_type": "code",
      "source": [
        "percent_debt = mval_debt / mval_total\n",
        "print(\"Debt Financing: \" + str(round(100*percent_debt, 2)) + \"%\")\n",
        "\n",
        "percent_equity = mval_equity / mval_total\n",
        "print(\"Equity Financing: \" + str(round(100*percent_equity, 2)) + \"%\")"
      ],
      "execution_count": 0,
      "outputs": [
        {
          "output_type": "stream",
          "text": [
            "Debt Financing: 50.0%\n",
            "Equity Financing: 50.0%\n"
          ],
          "name": "stdout"
        }
      ]
    },
    {
      "metadata": {
        "id": "KqQJUOZ0q6zP",
        "colab_type": "text"
      },
      "cell_type": "markdown",
      "source": [
        "## Calculating WACC"
      ]
    },
    {
      "metadata": {
        "id": "JyeQQaHpO-WH",
        "colab_type": "text"
      },
      "cell_type": "markdown",
      "source": [
        "The Weighted Average Cost of Capital, or WACC, is essential for our NPV calculation of projects, amount other things. Now that you have determined the proportion of both equity and debt financing, you will need to set up variables for the cost of financing via both debt and equity in order to estimate your WACC."
      ]
    },
    {
      "metadata": {
        "id": "wVpjdw4OP0tT",
        "colab_type": "text"
      },
      "cell_type": "markdown",
      "source": [
        "The **cost of equity** financing can be estimated as the return on equity of similar companies. Calculating the return on equity is a simple accounting exercise, but all you need to know is that essentially, investors will require a rate of return that is close to what could be earned by a similar investment.\n",
        "\n",
        "Assume a cost of equity of 18% based on similar companies and assign to **cost_equity**:"
      ]
    },
    {
      "metadata": {
        "id": "PI7L9FmRLweP",
        "colab_type": "code",
        "colab": {}
      },
      "cell_type": "code",
      "source": [
        "cost_equity = 0.18\n"
      ],
      "execution_count": 0,
      "outputs": []
    },
    {
      "metadata": {
        "id": "DPg04oDbQat7",
        "colab_type": "text"
      },
      "cell_type": "markdown",
      "source": [
        "The **cost of debt** financing can be estimated as the amount you will have to pay on a new loan. This can be estimated by looking at the interest rates of loans of similar sizes to similar companies, or could be based on previous loans your company may already have been issued.\n",
        "\n",
        "The bank is willing to lend at an interest rate of 12%, which you should assing to **cost_debt**:"
      ]
    },
    {
      "metadata": {
        "id": "4kAQ27SJQb6Z",
        "colab_type": "code",
        "colab": {}
      },
      "cell_type": "code",
      "source": [
        "cost_debt = 0.12"
      ],
      "execution_count": 0,
      "outputs": []
    },
    {
      "metadata": {
        "id": "s85y4DLcQtiN",
        "colab_type": "text"
      },
      "cell_type": "markdown",
      "source": [
        "Finally, assume a corporate tax rate of 35% and that your debt financing is tax-deductible. Assign to **tax_rate**."
      ]
    },
    {
      "metadata": {
        "id": "MgoblUFeQuZE",
        "colab_type": "code",
        "colab": {}
      },
      "cell_type": "code",
      "source": [
        "tax_rate = 0.35"
      ],
      "execution_count": 0,
      "outputs": []
    },
    {
      "metadata": {
        "id": "3qzAapDAQ6pD",
        "colab_type": "text"
      },
      "cell_type": "markdown",
      "source": [
        "Calculate and print **wacc** by using the formula:\n",
        "\n",
        "WACC = (% equity * cost of equity ) + (% debt * cost of debt) * (1 - tax rate)"
      ]
    },
    {
      "metadata": {
        "id": "6M2a6goPL7TQ",
        "colab_type": "code",
        "outputId": "22ddfbf1-6138-484d-b22a-8ea200a06914",
        "colab": {
          "base_uri": "https://localhost:8080/",
          "height": 34
        }
      },
      "cell_type": "code",
      "source": [
        "wacc = (percent_equity*cost_equity) + (percent_debt*cost_debt) * (1 - tax_rate)\n",
        "print(\"WACC: \" + str(round(100*wacc, 2)) + \"%\")"
      ],
      "execution_count": 0,
      "outputs": [
        {
          "output_type": "stream",
          "text": [
            "WACC: 12.9%\n"
          ],
          "name": "stdout"
        }
      ]
    },
    {
      "metadata": {
        "id": "TpdUVgoPRmB7",
        "colab_type": "text"
      },
      "cell_type": "markdown",
      "source": [
        "## Comparing Project NPV"
      ]
    },
    {
      "metadata": {
        "id": "scj7L1uLR5s5",
        "colab_type": "text"
      },
      "cell_type": "markdown",
      "source": [
        "Companies use their WACC as the discount rate when calculating the net present value of potential projects. In the same way that you discounted values by inflation in the previous chapter to account for costs over time, companies adjust the cash flows of potential projects by their cost of financing (the WACC) to account for their investor's required rate of return based on market conditions."
      ]
    },
    {
      "metadata": {
        "id": "xBqciB1aSIaS",
        "colab_type": "text"
      },
      "cell_type": "markdown",
      "source": [
        "Now that you calculated the **wacc**, you can determine the net present value (NPV) of the project's cash flows. Numpy has a npv function **```np.npv()```** that uses the **wacc** and an **array** of cash flows to calculate NPV. \n",
        "\n",
        "Find and print the NPV of ** cf_project1** and  **cf_project2**"
      ]
    },
    {
      "metadata": {
        "id": "5UsAPlApMkMr",
        "colab_type": "code",
        "outputId": "d94bc2ca-da17-4d29-833a-1c8732bd5e15",
        "colab": {
          "base_uri": "https://localhost:8080/",
          "height": 51
        }
      },
      "cell_type": "code",
      "source": [
        "# Calculate the net present value for Project 1\n",
        "npv_project1 = np.npv(wacc, cf_project1)\n",
        "print(\"Project 1 NPV: \" + str(round(npv_project1, 2)))\n",
        "\n",
        "# Calculate the net present value for Project 2\n",
        "npv_project2 = np.npv(wacc, cf_project2)\n",
        "print(\"Project 2 NPV: \" + str(round(npv_project2, 2)))"
      ],
      "execution_count": 0,
      "outputs": [
        {
          "output_type": "stream",
          "text": [
            "Project 1 NPV: 302744.98\n",
            "Project 2 NPV: 231228.39\n"
          ],
          "name": "stdout"
        }
      ]
    },
    {
      "metadata": {
        "id": "5KcfOwFCNlJJ",
        "colab_type": "text"
      },
      "cell_type": "markdown",
      "source": [
        "# Two Projects with Different Lifespans"
      ]
    },
    {
      "metadata": {
        "id": "ToyVqhUePIqq",
        "colab_type": "text"
      },
      "cell_type": "markdown",
      "source": [
        "The board of the company has decided to go a different direction, involving slightly shorter term projects and lower initial investments. Your project managers have come up with two new ideas, and projected the cash flows for each of the proposals.\n",
        "\n",
        "Project 1 has a lifespan of 8 years, but Project 2 only has a lifespan of 7 years. Project 1 requires an initial investment of 700,000, but Project 2 only requires $400,000.\n",
        "\n",
        "The cash flow projections for both projects are as follows (in 1,000s of dollars)"
      ]
    },
    {
      "metadata": {
        "id": "mJEHFTKDNtGn",
        "colab_type": "text"
      },
      "cell_type": "markdown",
      "source": [
        "<img src=\"https://github.com/Lauevs/extracredit/blob/master/Screen%20Shot%202019-04-23%20at%2010.39.54%20PM.png?raw=true\" width=\"300\" align=\"center\"/>"
      ]
    },
    {
      "metadata": {
        "id": "qOvc-x5ITrIy",
        "colab_type": "text"
      },
      "cell_type": "markdown",
      "source": [
        "Create new numpy arrays for **cf_project_1** and **cf_project_2** for the cash flows above, then scale up 1000x"
      ]
    },
    {
      "metadata": {
        "id": "bFlj_D7cNyEF",
        "colab_type": "code",
        "colab": {}
      },
      "cell_type": "code",
      "source": [
        "# Create a numpy array of cash flows for Project 1\n",
        "cf_project_1 = np.array([-700, 100, 150, 200, 250, 300, 350, 400])\n",
        "\n",
        "# Create a numpy array of cash flows for Project 2\n",
        "cf_project_2 = np.array([-400, 50, 100, 150, 200, 250, 300])\n",
        "\n",
        "# Scale the original objects by 1000x\n",
        "cf_project1 = cf_project_1 * 1000\n",
        "cf_project2 = cf_project_2 * 1000"
      ],
      "execution_count": 0,
      "outputs": []
    },
    {
      "metadata": {
        "id": "r7WbipTQRCm4",
        "colab_type": "text"
      },
      "cell_type": "markdown",
      "source": [
        "## Calculating IRR and NPV With Different Project Lifespans"
      ]
    },
    {
      "metadata": {
        "id": "G9ht508JRlnu",
        "colab_type": "text"
      },
      "cell_type": "markdown",
      "source": [
        "Using the same **wacc** that you calculated earlier, you can calculate and compare the IRRs and NPVs of each project.\n",
        "\n",
        "While the IRR remains relatively comparable across projects, the NPV, on the other hand, will be much more difficult to compare given the additional year required for project 1. Luckily, in the next exercise, we will introduce another method to compare the NPVs of the projects, but we will first need to compute the NPVs as before."
      ]
    },
    {
      "metadata": {
        "id": "ZsasZGRRUfpd",
        "colab_type": "text"
      },
      "cell_type": "markdown",
      "source": [
        "Calculate **irr_project1** and **irr_project2** by using the **`np.irr()`** function from earlier and the new cash flows arrays in **cf_project1** and **cf_project2**. Print these values as percents and round to 2 decimals."
      ]
    },
    {
      "metadata": {
        "id": "E_cqx5QnRGxL",
        "colab_type": "code",
        "outputId": "0a6cc084-e391-4786-f4b4-efdbdc85910c",
        "colab": {
          "base_uri": "https://localhost:8080/",
          "height": 51
        }
      },
      "cell_type": "code",
      "source": [
        "# Calculate the IRR for Project 1\n",
        "irr_project1 = np.irr(cf_project1)\n",
        "print(\"Project 1 IRR: \" + str(round(100*irr_project1, 2)) + \"%\")\n",
        "\n",
        "# Calculate the IRR for Project 2\n",
        "irr_project2 = np.irr(cf_project2)\n",
        "print(\"Project 2 IRR: \" + str(round(100*irr_project2, 2)) + \"%\")"
      ],
      "execution_count": 0,
      "outputs": [
        {
          "output_type": "stream",
          "text": [
            "Project 1 IRR: 22.94%\n",
            "Project 2 IRR: 26.89%\n"
          ],
          "name": "stdout"
        }
      ]
    },
    {
      "metadata": {
        "id": "ruUUcST6VM3m",
        "colab_type": "text"
      },
      "cell_type": "markdown",
      "source": [
        "Now calculate **npv_project1** and **npv_project2** by using the **`np.npv()`** function from earlier and the new cash flow arrays in **cf_project1** and **cf_project2**. Print these values as percents and round to 2 decimals."
      ]
    },
    {
      "metadata": {
        "id": "fUb87pJXRiDx",
        "colab_type": "code",
        "outputId": "093b5b50-487d-457e-dc55-5cdb336dc8f7",
        "colab": {
          "base_uri": "https://localhost:8080/",
          "height": 51
        }
      },
      "cell_type": "code",
      "source": [
        "# Calculate the NPV for Project 1\n",
        "npv_project1 = np.npv(wacc, cf_project1)\n",
        "print(\"Project 1 NPV: \" + str(round(npv_project1, 2)))\n",
        "\n",
        "# Calculate the NPV for Project 2\n",
        "npv_project2 = np.npv(wacc, cf_project2)\n",
        "print(\"Project 2 NPV: \" + str(round(npv_project2, 2)))"
      ],
      "execution_count": 0,
      "outputs": [
        {
          "output_type": "stream",
          "text": [
            "Project 1 NPV: 302744.98\n",
            "Project 2 NPV: 231228.39\n"
          ],
          "name": "stdout"
        }
      ]
    },
    {
      "metadata": {
        "id": "6zCSt0NHR_8G",
        "colab_type": "text"
      },
      "cell_type": "markdown",
      "source": [
        "## Equivalent Annual Anuity Approach"
      ]
    },
    {
      "metadata": {
        "id": "Pl-QH9PPSGMm",
        "colab_type": "text"
      },
      "cell_type": "markdown",
      "source": [
        "Since the net present values of each project are not directly comparable given the different lifespans of each project, you will have to consider a different approach.\n",
        "\n",
        "The **equivalent annual annuity (EAA)** approach allows us to compare two projects by essentially assuming that each project is an investment generating a flat interest rate each year (an annuity), and calculating the annual payment you would receive from each project, discounted to present value.\n",
        "\n",
        "You can compute the EAA of each project using the **np.pmt(rate, nper, pv, fv)** function in numpy."
      ]
    },
    {
      "metadata": {
        "id": "u-tbR6ePXXQI",
        "colab_type": "text"
      },
      "cell_type": "markdown",
      "source": [
        "Use the same weighted average cost of capital, **wacc**, and the net present values for projects 1 and 2, **npv_project1** and **npv_project2**. Calculate and print **eaa_project1** and **eaa_project2**, rounded to 2 decimals."
      ]
    },
    {
      "metadata": {
        "id": "ptQQ8BBsRqj2",
        "colab_type": "code",
        "outputId": "c7b537d4-de12-44f7-cd27-ea77971e5d55",
        "colab": {
          "base_uri": "https://localhost:8080/",
          "height": 51
        }
      },
      "cell_type": "code",
      "source": [
        "eaa_project1 = np.pmt(rate=wacc, nper=8, pv=-npv_project1, fv=0)\n",
        "print(\"Project 1 EAA: \" + str(round(eaa_project1, 2)))\n",
        "\n",
        "eaa_project2 = np.pmt(rate=wacc, nper=7, pv=-npv_project2, fv=0)\n",
        "print(\"Project 2 EAA: \" + str(round(eaa_project2, 2)))\n"
      ],
      "execution_count": 0,
      "outputs": [
        {
          "output_type": "stream",
          "text": [
            "Project 1 EAA: 62872.2\n",
            "Project 2 EAA: 52120.61\n"
          ],
          "name": "stdout"
        }
      ]
    },
    {
      "metadata": {
        "id": "UlccSOv3SksV",
        "colab_type": "text"
      },
      "cell_type": "markdown",
      "source": [
        "If you were making the decision solely based on the equivalent annual annuity analysis, which project would you be more interested in?"
      ]
    },
    {
      "metadata": {
        "id": "2Sj9ExkVSakH",
        "colab_type": "code",
        "outputId": "f8ea80c4-eca6-4117-9288-71828baae905",
        "colab": {
          "base_uri": "https://localhost:8080/",
          "height": 34
        }
      },
      "cell_type": "code",
      "source": [
        "# Your answer here:\n",
        "\n",
        "print('Project 1!')"
      ],
      "execution_count": 0,
      "outputs": [
        {
          "output_type": "stream",
          "text": [
            "Project 1!\n"
          ],
          "name": "stdout"
        }
      ]
    }
  ]
}