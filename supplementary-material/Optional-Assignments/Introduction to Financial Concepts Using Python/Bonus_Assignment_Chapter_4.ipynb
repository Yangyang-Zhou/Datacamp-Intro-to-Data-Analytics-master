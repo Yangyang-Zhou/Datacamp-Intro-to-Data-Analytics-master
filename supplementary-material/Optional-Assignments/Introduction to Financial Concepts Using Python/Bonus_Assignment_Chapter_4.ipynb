{
  "nbformat": 4,
  "nbformat_minor": 0,
  "metadata": {
    "colab": {
      "name": "Bonus Assignment Chapter 4.ipynb",
      "version": "0.3.2",
      "provenance": [],
      "collapsed_sections": [],
      "toc_visible": true
    },
    "kernelspec": {
      "name": "python3",
      "display_name": "Python 3"
    }
  },
  "cells": [
    {
      "metadata": {
        "id": "3f1ZNw-RXyL0",
        "colab_type": "text"
      },
      "cell_type": "markdown",
      "source": [
        "# Budgeting Application"
      ]
    },
    {
      "metadata": {
        "id": "VJHqwz57X9lY",
        "colab_type": "text"
      },
      "cell_type": "markdown",
      "source": [
        "In this exercise, we're going to combine everything you have learned so far to build a budgeting application to help you plan our your financial future."
      ]
    },
    {
      "metadata": {
        "id": "-SjUCAUNUT8_",
        "colab_type": "code",
        "colab": {}
      },
      "cell_type": "code",
      "source": [
        "import numpy as np\n",
        "import matplotlib.pyplot as plt"
      ],
      "execution_count": 0,
      "outputs": []
    },
    {
      "metadata": {
        "id": "Wcv7IIX4BLFQ",
        "colab_type": "text"
      },
      "cell_type": "markdown",
      "source": [
        "## Salary and Taxes"
      ]
    },
    {
      "metadata": {
        "id": "y3ROLcHiBOC6",
        "colab_type": "text"
      },
      "cell_type": "markdown",
      "source": [
        "You just got a new job as an entry-level Data Scientist at a technology company in New York City with a decent starting salary of 85,000 dollars per year. Unfortunately, after state and local taxes, you can expect to be sending roughly 30% back to the government each year.\n",
        "\n",
        "Calculate your monthly take home pay after taxes in order to begin budgeting."
      ]
    },
    {
      "metadata": {
        "id": "lKipR8MrYm0q",
        "colab_type": "text"
      },
      "cell_type": "markdown",
      "source": [
        "Create variables for **salary** and **tax_rate**, given the information above:"
      ]
    },
    {
      "metadata": {
        "id": "VmqDnVGQUiHu",
        "colab_type": "code",
        "colab": {}
      },
      "cell_type": "code",
      "source": [
        "salary = 85000\n",
        "tax_rate = 0.30"
      ],
      "execution_count": 0,
      "outputs": []
    },
    {
      "metadata": {
        "id": "q6MJunBKY8rm",
        "colab_type": "text"
      },
      "cell_type": "markdown",
      "source": [
        "Calculate and print your **salary_after_taxes** using the formula: *After tax = Before Tax * (1 - tax rate)*"
      ]
    },
    {
      "metadata": {
        "id": "fhtQ8XncBdUG",
        "colab_type": "code",
        "outputId": "63044e2d-573b-470b-c33a-658c50d1858f",
        "colab": {
          "base_uri": "https://localhost:8080/",
          "height": 34
        }
      },
      "cell_type": "code",
      "source": [
        "salary_after_taxes = salary*(1 - tax_rate)\n",
        "print(\"Salary after taxes: \" + str(round(salary_after_taxes, 2)))"
      ],
      "execution_count": 0,
      "outputs": [
        {
          "output_type": "stream",
          "text": [
            "Salary after taxes: 59500.0\n"
          ],
          "name": "stdout"
        }
      ]
    },
    {
      "metadata": {
        "id": "3CmxCWnLBfuH",
        "colab_type": "text"
      },
      "cell_type": "markdown",
      "source": [
        "Now calculate and print your **monthly_takehome_salary** after taxes (Hint: You can use simple division in this case)."
      ]
    },
    {
      "metadata": {
        "id": "ByFa4JygBeoT",
        "colab_type": "code",
        "outputId": "3d2122b6-6415-4039-f998-170c3453b1e4",
        "colab": {
          "base_uri": "https://localhost:8080/",
          "height": 34
        }
      },
      "cell_type": "code",
      "source": [
        "monthly_takehome_salary = salary_after_taxes / 12\n",
        "print(\"Monthly takehome salary: \" + str(round(monthly_takehome_salary, 2)))"
      ],
      "execution_count": 0,
      "outputs": [
        {
          "output_type": "stream",
          "text": [
            "Monthly takehome salary: 4958.33\n"
          ],
          "name": "stdout"
        }
      ]
    },
    {
      "metadata": {
        "id": "U9ded-mFBnon",
        "colab_type": "text"
      },
      "cell_type": "markdown",
      "source": [
        "## Monthly Expenses and Savings"
      ]
    },
    {
      "metadata": {
        "id": "2waegR0dBrUg",
        "colab_type": "text"
      },
      "cell_type": "markdown",
      "source": [
        "In order to make it in New York City, you have decided to split a two-bedroom apartment with a friend. You will have to budget for rent, food and entertainment, but it's also a good idea to allocate an amount for unforeseen expenses each month. This unforeseen expenses budget could be used for anything ranging from new clothes or electronics to doctor appointments.\n",
        "\n",
        "Your monthly budget as follows:\n",
        "\n",
        "*   Rent: 1200 / month (Includes utilities)\n",
        "*   Food: 30 / day (On average. Includes groceries and eating out.)\n",
        "*   Entertainment: 200 / month (Movies, drinks, museums, parties...)\n",
        "*   Unforeseen Expenses: 250 / month (Stay safe, and don't drop your phone!)\n",
        "\n",
        "Assign variables for **monthly_rent**, **monthly_food_budget**, **monthly_entertainment_budget**, and **monthly_unforseen_expenses**."
      ]
    },
    {
      "metadata": {
        "id": "eeLVugRCBjD_",
        "colab_type": "code",
        "colab": {}
      },
      "cell_type": "code",
      "source": [
        "monthly_rent = 1200\n",
        "monthly_food_budget = 30 * 30\n",
        "monthly_entertainment_budget = 200\n",
        "monthly_unforeseen_expenses = 250"
      ],
      "execution_count": 0,
      "outputs": []
    },
    {
      "metadata": {
        "id": "STrFqePpCVMC",
        "colab_type": "text"
      },
      "cell_type": "markdown",
      "source": [
        "Calculate and print your total **monthly_expenses** as the sum of these inputs."
      ]
    },
    {
      "metadata": {
        "id": "Yy0-ijFuCEvy",
        "colab_type": "code",
        "outputId": "28b65ce7-b07d-4380-f7c4-1ce24a81a07b",
        "colab": {
          "base_uri": "https://localhost:8080/",
          "height": 34
        }
      },
      "cell_type": "code",
      "source": [
        "monthly_expenses = monthly_rent + monthly_food_budget + monthly_entertainment_budget + monthly_unforeseen_expenses\n",
        "print(\"Monthly expenses: \" + str(round(monthly_expenses, 2)))"
      ],
      "execution_count": 0,
      "outputs": [
        {
          "output_type": "stream",
          "text": [
            "Monthly expenses: 2550\n"
          ],
          "name": "stdout"
        }
      ]
    },
    {
      "metadata": {
        "id": "5WbeVTY9CcLl",
        "colab_type": "text"
      },
      "cell_type": "markdown",
      "source": [
        "Finally, calculate and print your **monthly_savings** as money leftover after your **monthly_expenses** have been deducted from your **monthly_takehome_salary**."
      ]
    },
    {
      "metadata": {
        "id": "8Am1cWJ4CbTI",
        "colab_type": "code",
        "outputId": "36827684-9d61-47e2-c7af-82d32bbb0d7a",
        "colab": {
          "base_uri": "https://localhost:8080/",
          "height": 34
        }
      },
      "cell_type": "code",
      "source": [
        "monthly_savings = monthly_takehome_salary - monthly_expenses\n",
        "print(\"Monthly savings: \" + str(round(monthly_savings, 2)))"
      ],
      "execution_count": 0,
      "outputs": [
        {
          "output_type": "stream",
          "text": [
            "Monthly savings: 2408.33\n"
          ],
          "name": "stdout"
        }
      ]
    },
    {
      "metadata": {
        "id": "1JS1sDk_CvEc",
        "colab_type": "text"
      },
      "cell_type": "markdown",
      "source": [
        "## Forecast Salary Growth and Cost of Living"
      ]
    },
    {
      "metadata": {
        "id": "K-aUNQfvC0b1",
        "colab_type": "text"
      },
      "cell_type": "markdown",
      "source": [
        "Due to both inflation and increased productivity from experience, you can expect your salary to grow at different rates depending on your job. Now, since you are working in a growing and in-demand career field as a Data Scientist, you can assume a steady growth in your annual salary every year based on performance."
      ]
    },
    {
      "metadata": {
        "id": "VmXVGpyMayiX",
        "colab_type": "text"
      },
      "cell_type": "markdown",
      "source": [
        "You can assume an annual salary growth rate of 5%, which is applied in smaller increments on a monthly basis instead of just one large increase at the end of each year. Imagine you'd like to find your expected salary after 15 years."
      ]
    },
    {
      "metadata": {
        "id": "UTx1i2QSC8Me",
        "colab_type": "text"
      },
      "cell_type": "markdown",
      "source": [
        "Start by setting up **forecast_months** for the total number of months in 15 years, and **annual_salary_growth** as provided above."
      ]
    },
    {
      "metadata": {
        "id": "k9ngmhU0CeiJ",
        "colab_type": "code",
        "colab": {}
      },
      "cell_type": "code",
      "source": [
        "forecast_months = 12*15\n",
        "annual_salary_growth = 0.05\n"
      ],
      "execution_count": 0,
      "outputs": []
    },
    {
      "metadata": {
        "id": "2CBHGCMODJBM",
        "colab_type": "text"
      },
      "cell_type": "markdown",
      "source": [
        "Derive the equivalent **monthly_salary_growth** through the following formula: monthly *growth = (1 + annual growth) ^ (1/12) - 1*"
      ]
    },
    {
      "metadata": {
        "id": "43FyYyozDEWA",
        "colab_type": "code",
        "colab": {}
      },
      "cell_type": "code",
      "source": [
        "monthly_salary_growth = (1+annual_salary_growth)**(1/12) - 1"
      ],
      "execution_count": 0,
      "outputs": []
    },
    {
      "metadata": {
        "id": "XWvVsjgNcnjW",
        "colab_type": "text"
      },
      "cell_type": "markdown",
      "source": [
        "Next, use the numpy functions **np.cumprod()** and **np.repeat()** to forecast the **cumulative_salary_growth** over the next 15 years. To do so, repeat (1+ the monthly salary growth) with the total forecasted months through the repeat function, then find the cumulative product."
      ]
    },
    {
      "metadata": {
        "id": "8tHMIqNdDdpe",
        "colab_type": "code",
        "colab": {}
      },
      "cell_type": "code",
      "source": [
        "cumulative_salary_growth_forecast = np.cumprod(np.repeat(1 + monthly_salary_growth, forecast_months))\n"
      ],
      "execution_count": 0,
      "outputs": []
    },
    {
      "metadata": {
        "id": "CUuZai0Nh80A",
        "colab_type": "text"
      },
      "cell_type": "markdown",
      "source": [
        "Then multiply this value with your **monthly_takehome_salary** to find the **salary_forecast**"
      ]
    },
    {
      "metadata": {
        "id": "8gVvo1mtD7G5",
        "colab_type": "code",
        "colab": {}
      },
      "cell_type": "code",
      "source": [
        "salary_forecast = monthly_takehome_salary*cumulative_salary_growth_forecast"
      ],
      "execution_count": 0,
      "outputs": []
    },
    {
      "metadata": {
        "id": "CltSd3QXEEKz",
        "colab_type": "code",
        "outputId": "53faaed7-de9f-4b43-ca40-eac13ad778c7",
        "colab": {
          "base_uri": "https://localhost:8080/",
          "height": 269
        }
      },
      "cell_type": "code",
      "source": [
        "# Plot the forecasted salary\n",
        "plt.plot(salary_forecast, color='blue')\n",
        "plt.show()"
      ],
      "execution_count": 0,
      "outputs": [
        {
          "output_type": "display_data",
          "data": {
            "image/png": "[encoded data removed]",
            "text/plain": [
              "<Figure size 432x288 with 1 Axes>"
            ]
          },
          "metadata": {
            "tags": []
          }
        }
      ]
    },
    {
      "metadata": {
        "id": "PcvRCyd9iR0p",
        "colab_type": "text"
      },
      "cell_type": "markdown",
      "source": [
        "By the end of 15 years, you are forecasted to make 175k! Neato!"
      ]
    },
    {
      "metadata": {
        "id": "HAp5wBZMEoxB",
        "colab_type": "text"
      },
      "cell_type": "markdown",
      "source": [
        "## Forecast Growing Expenses Due to Inflation"
      ]
    },
    {
      "metadata": {
        "id": "bK5TfjkNEyJM",
        "colab_type": "text"
      },
      "cell_type": "markdown",
      "source": [
        "Unfortunately, salary growth is only half of the story. \n",
        "\n",
        "You will also assume your monthly expenses will rise by an average of 2.5% per year due to inflation. This will lead to higher cost of living over time, paying for the same expenses each year but at a higher price. Luckily, your salary is growing faster than inflation, which means you should have more money going into savings each month."
      ]
    },
    {
      "metadata": {
        "id": "F9YNDQ6cihRq",
        "colab_type": "text"
      },
      "cell_type": "markdown",
      "source": [
        "Start by assigning the **annual_inflation**  and using that value to find the **monthly_inflation** rate. (hint: use the formula: monthly rate = (1 + annual rate) ^ 1/12 - 1)"
      ]
    },
    {
      "metadata": {
        "id": "r2wWpAVxEVG6",
        "colab_type": "code",
        "colab": {}
      },
      "cell_type": "code",
      "source": [
        "annual_inflation = 0.025\n",
        "monthly_inflation = (1+annual_inflation)**(1/12) - 1"
      ],
      "execution_count": 0,
      "outputs": []
    },
    {
      "metadata": {
        "id": "wpfB406Ci5Wx",
        "colab_type": "text"
      },
      "cell_type": "markdown",
      "source": [
        "Using the same methodology as we used in the salary growth, find the **cumulative_inflation_forecast**"
      ]
    },
    {
      "metadata": {
        "id": "m1AQn_5cjHTh",
        "colab_type": "code",
        "colab": {}
      },
      "cell_type": "code",
      "source": [
        "cumulative_inflation_forecast = np.cumprod(np.repeat(1 + monthly_inflation, forecast_months))"
      ],
      "execution_count": 0,
      "outputs": []
    },
    {
      "metadata": {
        "id": "bP7LEJEeE81K",
        "colab_type": "text"
      },
      "cell_type": "markdown",
      "source": [
        "Now we can derive your adjusted **expenses_forecast** by multiplying your **monthly_expenses** and **cumulative_inflation_forecast**"
      ]
    },
    {
      "metadata": {
        "id": "8TVsuY0TE76m",
        "colab_type": "code",
        "colab": {}
      },
      "cell_type": "code",
      "source": [
        "expenses_forecast = monthly_expenses*cumulative_inflation_forecast"
      ],
      "execution_count": 0,
      "outputs": []
    },
    {
      "metadata": {
        "id": "FjAPjgtfFAeK",
        "colab_type": "code",
        "outputId": "5660258c-4c6e-4776-9d25-11a460abe162",
        "colab": {
          "base_uri": "https://localhost:8080/",
          "height": 269
        }
      },
      "cell_type": "code",
      "source": [
        "# Plot the forecasted expenses\n",
        "plt.plot(expenses_forecast, color='red')\n",
        "plt.show()"
      ],
      "execution_count": 0,
      "outputs": [
        {
          "output_type": "display_data",
          "data": {
            "image/png": "[encoded data removed]",
            "text/plain": [
              "<Figure size 432x288 with 1 Axes>"
            ]
          },
          "metadata": {
            "tags": []
          }
        }
      ]
    },
    {
      "metadata": {
        "id": "-92OFSLeFD_q",
        "colab_type": "text"
      },
      "cell_type": "markdown",
      "source": [
        "## Calculate Your Net Worth"
      ]
    },
    {
      "metadata": {
        "id": "nuF5uo_zFqkh",
        "colab_type": "text"
      },
      "cell_type": "markdown",
      "source": [
        "Now that you have forecasted your savings and salary over time while taking career progression and inflation into account, you have constructed a time-series which you can use to calculate your cash flows, just like in Chapter 1.\n",
        "\n",
        "For this example, all you need to do is subtract your forecasted monthly expenses from your forecasted monthly salary. The remaining cash flow will go straight into your savings account for each month.\n",
        "\n",
        "You want to project your cumulative savings over time to see how effective your budgeting process will be given your projections."
      ]
    },
    {
      "metadata": {
        "id": "sL3VQ5JXFuf9",
        "colab_type": "text"
      },
      "cell_type": "markdown",
      "source": [
        "Forecast your **savings_forecast** using projections for expenses and your monthly salary. This value should be equal to your **salary_forecast** less your **expenses_forecast**"
      ]
    },
    {
      "metadata": {
        "id": "hIH2cpBaFp6K",
        "colab_type": "code",
        "colab": {}
      },
      "cell_type": "code",
      "source": [
        "savings_forecast = salary_forecast - expenses_forecast\n"
      ],
      "execution_count": 0,
      "outputs": []
    },
    {
      "metadata": {
        "id": "-QIL3xYEF06V",
        "colab_type": "text"
      },
      "cell_type": "markdown",
      "source": [
        "Calculate your **cumulative_savings** over time, passing this **savings_forecast** through the `np.cumsum()` function.\n"
      ]
    },
    {
      "metadata": {
        "id": "Tozp4NNpFBsC",
        "colab_type": "code",
        "colab": {}
      },
      "cell_type": "code",
      "source": [
        "cumulative_savings = np.cumsum(savings_forecast)\n"
      ],
      "execution_count": 0,
      "outputs": []
    },
    {
      "metadata": {
        "id": "lFEyDo3mF7FT",
        "colab_type": "text"
      },
      "cell_type": "markdown",
      "source": [
        "Calculate and print your **final_net_worth** after 15 years of diligent savings. This will be the last value in your **cumulative_savings **array."
      ]
    },
    {
      "metadata": {
        "id": "6rblMSa2F4r6",
        "colab_type": "code",
        "outputId": "ff72aa55-0190-4b7e-fcb1-7b94a9cb290c",
        "colab": {
          "base_uri": "https://localhost:8080/",
          "height": 34
        }
      },
      "cell_type": "code",
      "source": [
        "final_net_worth = cumulative_savings[-1]\n",
        "print(\"Your final net worth: \" + str(round(final_net_worth, 2)))\n"
      ],
      "execution_count": 0,
      "outputs": [
        {
          "output_type": "stream",
          "text": [
            "Your final net worth: 762318.83\n"
          ],
          "name": "stdout"
        }
      ]
    },
    {
      "metadata": {
        "id": "q0FX1vxhF8_O",
        "colab_type": "code",
        "outputId": "d346a6de-4ac3-449a-b2e2-e6d629b9d09b",
        "colab": {
          "base_uri": "https://localhost:8080/",
          "height": 269
        }
      },
      "cell_type": "code",
      "source": [
        "# Plot the forecasted savings\n",
        "plt.plot(cumulative_savings, color='blue')\n",
        "plt.show()"
      ],
      "execution_count": 0,
      "outputs": [
        {
          "output_type": "display_data",
          "data": {
            "image/png": "[encoded data removed]",
            "text/plain": [
              "<Figure size 432x288 with 1 Axes>"
            ]
          },
          "metadata": {
            "tags": []
          }
        }
      ]
    },
    {
      "metadata": {
        "id": "-BeeU-UEkOBR",
        "colab_type": "text"
      },
      "cell_type": "markdown",
      "source": [
        "Your projections show that you can accumulate over $700,000 in just 15 years by following a strict budget and growing your salary steadily over time!"
      ]
    },
    {
      "metadata": {
        "id": "HWQOJf7eGAi0",
        "colab_type": "text"
      },
      "cell_type": "markdown",
      "source": [
        "# So You Want To Be a Millionaire?"
      ]
    },
    {
      "metadata": {
        "id": "4X73uQ8_GLRY",
        "colab_type": "text"
      },
      "cell_type": "markdown",
      "source": [
        "But - what if you want to be a millionaire in 15 years, retire young, sip margaritas and travel for the rest of your life? In order to do that, you're going to need to invest.\n",
        "\n",
        "Remember the `.pmt()` function from numpy? You can use this function to calculate how much you need to save each month in order to accumulate your desired wealth over time."
      ]
    },
    {
      "metadata": {
        "id": "H4WS95ujGNfz",
        "colab_type": "text"
      },
      "cell_type": "markdown",
      "source": [
        "Set the **investment_rate_annual** to 7% and the **investment_rate_monthly**, using: *month rate = (1 + annual rate) ^ 1/12 - 1*\n",
        "\n",
        "Calculate and print the **required_monthly_investment** to amass $1,000,000 over 15 years using the `.pmt()` function, setting `rate` and `nper` using the information you've calculated above. Assuming you presently have 0 dollars."
      ]
    },
    {
      "metadata": {
        "id": "ZRtGAFlNF-mM",
        "colab_type": "code",
        "outputId": "e6a69e4d-9f75-4751-e6e4-ef11f43a0eff",
        "colab": {
          "base_uri": "https://localhost:8080/",
          "height": 34
        }
      },
      "cell_type": "code",
      "source": [
        "investment_rate_annual = 0.07\n",
        "investment_rate_monthly = (1+investment_rate_annual)**(1/12) - 1\n",
        "\n",
        "required_investment_monthly = np.pmt(rate=investment_rate_monthly, nper=forecast_months, pv=0, fv=-1000000)\n",
        "print(\"You will have to invest $\" + str(round(required_investment_monthly, 2)) + \" per month to amass $1M over 15 years\")"
      ],
      "execution_count": 0,
      "outputs": [
        {
          "output_type": "stream",
          "text": [
            "You will have to invest $3214.35 per month to amass $1M over 15 years\n"
          ],
          "name": "stdout"
        }
      ]
    },
    {
      "metadata": {
        "id": "JaykOYmCGUOg",
        "colab_type": "text"
      },
      "cell_type": "markdown",
      "source": [
        "# Investing a Percentage of Your Income"
      ]
    },
    {
      "metadata": {
        "id": "44Ium62FGc1I",
        "colab_type": "text"
      },
      "cell_type": "markdown",
      "source": [
        "Unfortunately, you really can't afford to save 3,000 per month in order to amass 1,000,000 after only 15 years. In this exercise, you will lay the foundations to simulate this investing process over time.\n",
        "\n",
        "But what you can do is start slowly, investing a 30% of your take-home income each month, which should grow over time as your income grows as well. Set this variable as **monthly_investment_percentage**."
      ]
    },
    {
      "metadata": {
        "id": "jlh4Ks6ily7U",
        "colab_type": "code",
        "colab": {}
      },
      "cell_type": "code",
      "source": [
        "monthly_investment_percentage = 0.30"
      ],
      "execution_count": 0,
      "outputs": []
    },
    {
      "metadata": {
        "id": "rrwGsf8rmJ6p",
        "colab_type": "text"
      },
      "cell_type": "markdown",
      "source": [
        "You will also need an array for your **cash_flow_forecast**, which we're previously calculated as **savings_forecast**"
      ]
    },
    {
      "metadata": {
        "id": "YGXGOEqqmpU1",
        "colab_type": "code",
        "colab": {}
      },
      "cell_type": "code",
      "source": [
        "cash_flow_forecast = savings_forecast"
      ],
      "execution_count": 0,
      "outputs": []
    },
    {
      "metadata": {
        "id": "LyyhmPg9Ge3i",
        "colab_type": "text"
      },
      "cell_type": "markdown",
      "source": [
        "Using the **monthly_investment_percentage**, calculate **investment_deposit_forecast**, your monthly investment deposits for each period based on your **cash_flow_forecast** and **monthly_investment_percentage**."
      ]
    },
    {
      "metadata": {
        "id": "kLphOPvgGP86",
        "colab_type": "code",
        "colab": {}
      },
      "cell_type": "code",
      "source": [
        "# Calculate your monthly deposit into your investment account\n",
        "investment_deposit_forecast = cash_flow_forecast * monthly_investment_percentage"
      ],
      "execution_count": 0,
      "outputs": []
    },
    {
      "metadata": {
        "id": "Ttqka6mRpENA",
        "colab_type": "text"
      },
      "cell_type": "markdown",
      "source": [
        "Calculate your **savings_forecast_new** for each period. This is the money left over from **cash_flow_forecast** that you didn't invest."
      ]
    },
    {
      "metadata": {
        "id": "1UN3MqlopDKG",
        "colab_type": "code",
        "colab": {}
      },
      "cell_type": "code",
      "source": [
        "# The rest goes into your savings account\n",
        "savings_forecast_new = cash_flow_forecast * (1 - monthly_investment_percentage)"
      ],
      "execution_count": 0,
      "outputs": []
    },
    {
      "metadata": {
        "id": "R3kV7_qMpG-N",
        "colab_type": "text"
      },
      "cell_type": "markdown",
      "source": [
        "Finally, calculate your **cumulative_savings_new** over time, using the `np.cumsum()` function and **savings_forecast_new**.\n",
        "\n",
        "Run the code provided to plot forecasted monthly savings vs investments."
      ]
    },
    {
      "metadata": {
        "id": "tl7QHk0IpP4v",
        "colab_type": "code",
        "outputId": "045465d6-0dd1-47be-e278-f0ad72512612",
        "colab": {
          "base_uri": "https://localhost:8080/",
          "height": 269
        }
      },
      "cell_type": "code",
      "source": [
        "# Calculate your cumulative savings over time\n",
        "cumulative_savings_new = np.cumsum(savings_forecast_new)\n",
        "\n",
        "# Plot your forecasted monthly savings vs investments\n",
        "plt.plot(investment_deposit_forecast, color='red')\n",
        "plt.plot(savings_forecast_new, color='blue')\n",
        "plt.show()"
      ],
      "execution_count": 0,
      "outputs": [
        {
          "output_type": "display_data",
          "data": {
            "image/png": "[encoded data removed]",
            "text/plain": [
              "<Figure size 432x288 with 1 Axes>"
            ]
          },
          "metadata": {
            "tags": []
          }
        }
      ]
    },
    {
      "metadata": {
        "id": "SMOya356p2AQ",
        "colab_type": "text"
      },
      "cell_type": "markdown",
      "source": [
        "# Creating Your Portfolio"
      ]
    },
    {
      "metadata": {
        "id": "tLtes-SRGktO",
        "colab_type": "text"
      },
      "cell_type": "markdown",
      "source": [
        "To finish up your investment simulation, you will need to loop through each time period, calculate the growth of any investments you have already made, add your new monthly deposit, and calculate your net worth at each point in time.\n",
        "\n",
        "You can do it!\n",
        "\n",
        "Cumulative savings (cumulative_savings_new) from the previous exercise is available, and investment_portfolio and net_worth are pre-allocated empty numpy arrays of length equal to forecast_months."
      ]
    },
    {
      "metadata": {
        "id": "sAJNiWZLGqWw",
        "colab_type": "text"
      },
      "cell_type": "markdown",
      "source": [
        "For each period, set your **previous_investment** equal to the previous value of **investment_portfolio**, unless it is the first iteration, in which case you have no investments yet.\n",
        "Calculate your **net_worth** at each time period by summing your **cumulative_savings_new** and **investment_portfolio** at that same time period."
      ]
    },
    {
      "metadata": {
        "id": "Xo5ZeSUbvyQk",
        "colab_type": "code",
        "colab": {}
      },
      "cell_type": "code",
      "source": [
        "investment_portfolio = np.empty(shape = 180,)\n",
        "net_worth = np.empty(shape = 180,)"
      ],
      "execution_count": 0,
      "outputs": []
    },
    {
      "metadata": {
        "id": "Zl9cSncDGhHT",
        "colab_type": "code",
        "colab": {}
      },
      "cell_type": "code",
      "source": [
        "# Loop through each forecast period\n",
        "for i in range(forecast_months):\n",
        "    \n",
        "    # Find the previous investment deposit amount\n",
        "    if i == 0: \n",
        "        previous_investment = 0\n",
        "    else:\n",
        "        previous_investment = investment_portfolio[i-1]\n",
        "        \n",
        "    # Calculate the value of your previous investments, which have grown\n",
        "    previous_investment_growth = previous_investment*(1 + investment_rate_monthly)\n",
        "    \n",
        "    # Add your new deposit to your investment portfolio\n",
        "    investment_portfolio[i] =  previous_investment_growth + investment_deposit_forecast[i]\n",
        "    \n",
        "    # Calculate your net worth at each point in time\n",
        "    net_worth[i] = investment_portfolio[i] + cumulative_savings_new[i]"
      ],
      "execution_count": 0,
      "outputs": []
    },
    {
      "metadata": {
        "id": "U7mzi6MCvpYx",
        "colab_type": "text"
      },
      "cell_type": "markdown",
      "source": [
        "Run the provided code to see a plot of net worth vs. savings and investments."
      ]
    },
    {
      "metadata": {
        "id": "Jpz4hSMOvqOV",
        "colab_type": "code",
        "outputId": "d857b29d-53fc-4b17-cf12-f8b7893b9e1b",
        "colab": {
          "base_uri": "https://localhost:8080/",
          "height": 269
        }
      },
      "cell_type": "code",
      "source": [
        "plt.plot(investment_portfolio, color='red')\n",
        "plt.plot(cumulative_savings_new, color='blue')\n",
        "plt.plot(net_worth, color='green')\n",
        "plt.show()"
      ],
      "execution_count": 0,
      "outputs": [
        {
          "output_type": "display_data",
          "data": {
            "image/png": "[encoded data removed]",
            "text/plain": [
              "<Figure size 432x288 with 1 Axes>"
            ]
          },
          "metadata": {
            "tags": []
          }
        }
      ]
    },
    {
      "metadata": {
        "id": "xM1vI3CJG8vX",
        "colab_type": "text"
      },
      "cell_type": "markdown",
      "source": [
        "# Inflation Adjusted Net Worth"
      ]
    },
    {
      "metadata": {
        "id": "WUMJj3vHHA4s",
        "colab_type": "text"
      },
      "cell_type": "markdown",
      "source": [
        "By saving 30% per year, your simulation shows that you can accumulate $896,962.66. Not quite a millionaire, but not bad at all!\n",
        "\n",
        "For the sake of simplicity, let's assume you were able to save $900,000 by following your budget.\n",
        "\n",
        "But what if you retire 15 years from now? What is $900,000 going to be truly worth 15 years from now?"
      ]
    },
    {
      "metadata": {
        "id": "AE0MZlUVHCst",
        "colab_type": "text"
      },
      "cell_type": "markdown",
      "source": [
        "Set your **future_net_worth** equal to $900,000.\n",
        "Set the **annual_inflation** rate equal to 2.5%. Do not compound inflation monthly.\n",
        "Using` .pv()`, calculate the **inflation_adjusted_net_worth** 15 years from now."
      ]
    },
    {
      "metadata": {
        "id": "pVFpSIejGtBq",
        "colab_type": "code",
        "colab": {}
      },
      "cell_type": "code",
      "source": [
        "# Set your future net worth\n",
        "future_net_worth = 900000\n",
        "\n",
        "# Set the annual inflation rate to 2.5%\n",
        "annual_inflation = 0.025\n",
        "\n",
        "# Calculate the present value of your terminal wealth over 15 years\n",
        "inflation_adjusted_net_worth = np.pv(rate=annual_inflation, nper=15, pmt=0, fv=-1*future_net_worth)\n",
        "print(\"Your inflation-adjusted net worth: $\" + str(round(inflation_adjusted_net_worth, 2)))"
      ],
      "execution_count": 0,
      "outputs": []
    }
  ]
}