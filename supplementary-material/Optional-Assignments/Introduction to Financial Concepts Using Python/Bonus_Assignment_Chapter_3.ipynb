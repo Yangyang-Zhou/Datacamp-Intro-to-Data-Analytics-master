{
  "nbformat": 4,
  "nbformat_minor": 0,
  "metadata": {
    "colab": {
      "name": "Bonus Assignment Chapter 3",
      "version": "0.3.2",
      "provenance": [],
      "collapsed_sections": []
    },
    "kernelspec": {
      "name": "python3",
      "display_name": "Python 3"
    }
  },
  "cells": [
    {
      "metadata": {
        "id": "B-fggGyjC23K",
        "colab_type": "code",
        "colab": {}
      },
      "cell_type": "code",
      "source": [
        "#Import all of the necessary \"background\" data for the exercises\n"
      ],
      "execution_count": 0,
      "outputs": []
    },
    {
      "metadata": {
        "id": "M2v7DDjvkczE",
        "colab_type": "text"
      },
      "cell_type": "markdown",
      "source": [
        "#Simulating a Mortgage Loan\n",
        "\n",
        "One of the great milestones in life is when you finally buy your first home. But unless you've been wildly successful saving your money, you won't have the cash needed to pay for the entire purchase by yourself. You'll need to take out a **mortgage loan**, where you pay what you can afford as a down payment (typically 20% of the home price) and a bank lends you the balance. You then repay the bank (with interest) in monthly installments for a set period of time until the loan is paid off, often 30 years.\n",
        "\n",
        "To calculate mortgage loan payments, we can use NumPy's .pmt() functionality to find out exactly what we owe each month given the loan amount, payment periods, and interest rate. Note that the interest rate we want to use here is a *monthly* rate, not the typical yearly rate the bank indicates.\n",
        "\n",
        "To calculate this monthly rate, you perform the following calculation:\n",
        "\n",
        ">Monthly Rate = (1 + Annual Rate)^(1/12) - 1\n",
        "\n",
        ">For example, for a 5% annual rate the Monthly Rate = (1 + 0.05)^(1/12) - 1 = 1.0041 - 1 = 0.41%\n",
        "\n",
        "Note that 0.41% is *not* the same rate as 5% / 12. This is because of the effect of our old friend compound interest! Now, let's try some exercises to work on our own mortgage mastery."
      ]
    },
    {
      "metadata": {
        "id": "gndBVYPaoHbG",
        "colab_type": "text"
      },
      "cell_type": "markdown",
      "source": [
        "#Taking Out a Mortgage Loan\n",
        "\n",
        "Congratulations! You've decided to purchase a studio apartment in Downtown Boston for the bargain price of $800,000.\n",
        "\n",
        "You also had the great fortune of winning big on a scratch ticket you got at 7-Eleven, so you'll be able to make a 20% down payment on your new digs.\n",
        "\n",
        "Import NumPy and set \"home_value\" equal to 800000 and \"down_payment_percent\" equal to 20%. Then, calculate the value of the down payment (labeled \"down_payment\") and the mortgage loan (labeled \"mortgage_loan\")."
      ]
    },
    {
      "metadata": {
        "id": "tfhvwmhikZwl",
        "colab_type": "code",
        "outputId": "327a6187-56c9-4b4f-c4bd-bb63882b5723",
        "colab": {
          "base_uri": "https://localhost:8080/",
          "height": 51
        }
      },
      "cell_type": "code",
      "source": [
        "import numpy as np\n",
        "import matplotlib.pyplot as plt\n",
        "\n",
        "# Set the value of the home you are looking to buy\n",
        "home_value = 800000\n",
        "\n",
        "# What percentage are you paying up-front?\n",
        "down_payment_percent = 0.2\n",
        "\n",
        "# Calculate the dollar value of the down payment\n",
        "down_payment = home_value*down_payment_percent\n",
        "print(\"Initial Down Payment: \" + str(down_payment))\n",
        "\n",
        "# Calculate the value of the mortgage loan required after the down payment\n",
        "mortgage_loan = home_value-down_payment\n",
        "print(\"Mortgage Loan: \" + str(mortgage_loan))"
      ],
      "execution_count": 1,
      "outputs": [
        {
          "output_type": "stream",
          "text": [
            "Initial Down Payment: 160000.0\n",
            "Mortgage Loan: 640000.0\n"
          ],
          "name": "stdout"
        }
      ]
    },
    {
      "metadata": {
        "id": "TmvzpCX3q4oF",
        "colab_type": "text"
      },
      "cell_type": "markdown",
      "source": [
        "#Calculating the Monthly Mortgage Payment\n",
        "\n",
        "Congratulations! You have been given a 30-year mortgage loan quote for your desired amount at 3.75%. The value of the mortgage loan is available as mortgage_loan.\n",
        "\n",
        "In order to make sure you can afford the home, you will have to calculate the monthly mortgage payment you will have to make on a loan that size.\n"
      ]
    },
    {
      "metadata": {
        "id": "Tnmeal3mwTFl",
        "colab_type": "text"
      },
      "cell_type": "markdown",
      "source": [
        "Derive the equivalent monthly mortgage interest rate from the quoted annual mortgage_rate (Hint: You cannot simply divide by 12). Then, derive the number of \"mortgage_payment_periods\" (months) in the lifespan of the 30-year loan. Finally, calculate the value of your monthly mortgage payment using np.pmt()."
      ]
    },
    {
      "metadata": {
        "id": "3j9L5r7YtRdS",
        "colab_type": "code",
        "outputId": "2616ac55-9339-4b8f-e77c-8c13ca49f2de",
        "colab": {
          "base_uri": "https://localhost:8080/",
          "height": 34
        }
      },
      "cell_type": "code",
      "source": [
        "import numpy as np\n",
        "mortgage_rate = .0375\n",
        "mortgage_rate_periodic = (1+mortgage_rate)**(1/12)-1\n",
        "mortgage_payment_periods = 12*30\n",
        "periodic_mortgage_payment = -1*np.pmt(mortgage_rate_periodic, mortgage_payment_periods, mortgage_loan)\n",
        "print(\"Monthly Mortgage Payment: \" + str(round(periodic_mortgage_payment, 2)))"
      ],
      "execution_count": 2,
      "outputs": [
        {
          "output_type": "stream",
          "text": [
            "Monthly Mortgage Payment: 2941.13\n"
          ],
          "name": "stdout"
        }
      ]
    },
    {
      "metadata": {
        "id": "CYrJYwRDxs16",
        "colab_type": "text"
      },
      "cell_type": "markdown",
      "source": [
        "The more money you have for a down payment, the better - a higher down payment means a smaller mortgage loan, and a lower payment!"
      ]
    },
    {
      "metadata": {
        "id": "RvgaWz6ty5pi",
        "colab_type": "text"
      },
      "cell_type": "markdown",
      "source": [
        "#Amortization, Interest and Principal\n",
        "One important thing to remember is that not all mortgage payments are created equal. It's not so simple as \"X dollars of my payment are for interest, and Y dollars are for the the principal.\" Early on, the majority of your monthly payment counts toward the interest on your loan rather than the principal, then the ratio changes over time according to the *amortization schedule*.\n",
        "\n",
        "Remember your \"For Loops?\" You'll need them for the next few exercises!"
      ]
    },
    {
      "metadata": {
        "id": "NtKRnfhUDPt3",
        "colab_type": "text"
      },
      "cell_type": "markdown",
      "source": [
        "#Calculating Interest and Principal Payments\n",
        "\n",
        "Due to the size of the mortgage loan, you begin the mortgage in the initial period by paying mostly interest and retaining very little principal, or equity that goes towards the ownership of your home.\n",
        "\n",
        "This means that if you were to stop paying your mortgage and sell your home after only a few years, the bank would actually own most of the home because what you paid was mostly interest, and very little principal.\n",
        "\n",
        "mortgage_loan, mortgage_rate_periodic, and periodic_mortgage_payment from the previous exercise are available for use."
      ]
    },
    {
      "metadata": {
        "id": "75jNefQ2ERot",
        "colab_type": "text"
      },
      "cell_type": "markdown",
      "source": [
        "Calculate the amount of the first loan payment that will go towards the mortgage interest based on the mortgage rate. Then, calculate the remaining amount of the first loan payment that will go towards the mortgage principal."
      ]
    },
    {
      "metadata": {
        "id": "8J8VjD4LEXt4",
        "colab_type": "code",
        "outputId": "b3581aea-80bb-410f-a814-2c05d649bfb8",
        "colab": {
          "base_uri": "https://localhost:8080/",
          "height": 51
        }
      },
      "cell_type": "code",
      "source": [
        "initial_interest_payment = mortgage_rate_periodic*mortgage_loan\n",
        "print(\"Initial Interest Payment: \" + str(round(initial_interest_payment, 2)))\n",
        "initial_principal_payment = periodic_mortgage_payment-initial_interest_payment\n",
        "print(\"Initial Principal Payment: \" + str(round(initial_principal_payment, 2)))"
      ],
      "execution_count": 3,
      "outputs": [
        {
          "output_type": "stream",
          "text": [
            "Initial Interest Payment: 1966.43\n",
            "Initial Principal Payment: 974.7\n"
          ],
          "name": "stdout"
        }
      ]
    },
    {
      "metadata": {
        "id": "UzAGoTcyFgoM",
        "colab_type": "text"
      },
      "cell_type": "markdown",
      "source": [
        "#Simulating Periodic Payments (I)\n",
        "Every time a mortgage payment is made, the following payment will have a slightly lower percentage, which is used to pay off interest. This means that more of the remainder will go towards the portion of the home that you own instead of the bank. You will now write a simple program to calculate the interest and mortgage portions of each payment over time.\n",
        "\n",
        "The new \"principal_remaining\" variable is initialized as an array of 0's with length equal to the number of payment periods."
      ]
    },
    {
      "metadata": {
        "id": "ULIEjrDDKfJf",
        "colab_type": "code",
        "colab": {}
      },
      "cell_type": "code",
      "source": [
        "# Loop through each mortgage payment period\n",
        "principal_remaining = [0] * 3600\n",
        "for i in range(0, mortgage_payment_periods):\n",
        "    \n",
        "    # Handle the case for the first iteration\n",
        "    if i == 0:\n",
        "        previous_principal_remaining = mortgage_loan\n",
        "    else:\n",
        "        previous_principal_remaining = principal_remaining[i-1]\n",
        "        \n",
        "    # Calculate the interest and principal payments\n",
        "    interest_payment = round(previous_principal_remaining*mortgage_rate_periodic, 2)\n",
        "    principal_payment = round(periodic_mortgage_payment - interest_payment, 2)\n",
        "    \n",
        "    # Catch the case where all principal is paid off in the final period\n",
        "    if previous_principal_remaining - principal_payment < 0:\n",
        "        principal_payment = previous_principal_remaining\n",
        "        \n",
        "    # Collect the principal remaining values in an array\n",
        "    principal_remaining[i] = previous_principal_remaining - principal_payment"
      ],
      "execution_count": 0,
      "outputs": []
    },
    {
      "metadata": {
        "id": "g1WTzrhOR9vW",
        "colab_type": "text"
      },
      "cell_type": "markdown",
      "source": [
        "#Simulating Periodic Payments (II)\n",
        "\n",
        "You have decided to extend your program from the previous exercise to store the principal and interest payments made at each period, and to plot the results instead of simply printing them.\n",
        "\n",
        "For this example, the plotting code is already done, so you just need to finish the logic inside the for loop and the initialization of the variables which will be updated at each iteration."
      ]
    },
    {
      "metadata": {
        "id": "Tm03Niq5SHHP",
        "colab_type": "text"
      },
      "cell_type": "markdown",
      "source": [
        "Simply store the interest_paid and principal_paid for each time period. Then, calculate the principal_remaining for each time period based on the principal payment and the remaining principal. Run the provided code to plot the monthly Interest vs Principal payments."
      ]
    },
    {
      "metadata": {
        "id": "H02CoW1vSMrY",
        "colab_type": "code",
        "outputId": "57ce98e1-d094-4295-a2f0-009c09a0e971",
        "colab": {
          "base_uri": "https://localhost:8080/",
          "height": 269
        }
      },
      "cell_type": "code",
      "source": [
        "# Loop through each mortgage payment period\n",
        "interest_paid = []\n",
        "principal_paid = []\n",
        "principal_remaining = []\n",
        "for i in range(0, mortgage_payment_periods):\n",
        "    \n",
        "    # Handle the case for the first iteration\n",
        "    if i == 0:\n",
        "        previous_principal_remaining = mortgage_loan\n",
        "    else:\n",
        "        previous_principal_remaining = principal_remaining[i-1]\n",
        "        \n",
        "    # Calculate the interest based on the previous principal\n",
        "    interest_payment = round(previous_principal_remaining * mortgage_rate_periodic, 2)\n",
        "    principal_payment = round(periodic_mortgage_payment - interest_payment, 2)\n",
        "    \n",
        "    # Catch the case where all principal is paid off in the final period\n",
        "    if previous_principal_remaining - principal_payment < 0:\n",
        "        principal_payment = previous_principal_remaining\n",
        "        \n",
        "    # Collect the historical values\n",
        "    interest_paid.append(interest_payment)\n",
        "    principal_paid.append(principal_payment)\n",
        "    principal_remaining.append(previous_principal_remaining - principal_payment)\n",
        "    \n",
        "# Plot the interest vs principal\n",
        "plt.plot(interest_paid, color=\"red\")\n",
        "plt.plot(principal_paid, color=\"blue\")\n",
        "plt.show()"
      ],
      "execution_count": 5,
      "outputs": [
        {
          "output_type": "display_data",
          "data": {
            "image/png": "[encoded data removed]",
            "text/plain": [
              "<Figure size 432x288 with 1 Axes>"
            ]
          },
          "metadata": {
            "tags": []
          }
        }
      ]
    },
    {
      "metadata": {
        "id": "uh4IWBQfUrDC",
        "colab_type": "text"
      },
      "cell_type": "markdown",
      "source": [
        "#Home Ownership, Home Prices and Recessions\n",
        "\n",
        "Home ownership doesn't always work out how we hope. If home values fall - like they did during the U.S. financial crisis in 2007-08 - you may find your mortgage *underwater*, which means the amount you owe on the mortgage exceeds the value of your home. When this happens, the best course of action is to either \"stay the course\" and hope home prices rally, or refinance your mortgage to get a better rate.\n",
        "\n",
        "We'll use the NumPy .cumsum() and .cumprod() functions to forecast cumulative growth."
      ]
    },
    {
      "metadata": {
        "id": "vsGLDDOgW29T",
        "colab_type": "text"
      },
      "cell_type": "markdown",
      "source": [
        "You are faithfully paying your mortgage each month, but it's difficult to tell how much of the house you actually own and how much interest you have paid in total over the years.\n",
        "\n",
        "Use np.cumsum() to add up all the interest payments and also to add up all the principal payments over time to see how your ownership changes over time.\n",
        "\n",
        "Recall that np.cumsum() performs a cumulative sum over time. Return a series of iterative sums instead of just a single number.\n",
        "\n",
        "principal_paid, interest_paid, home_value and down_payment_percent from the previous exercise are available."
      ]
    },
    {
      "metadata": {
        "id": "LcewF4w7W5kL",
        "colab_type": "code",
        "outputId": "02d2de78-72e8-4d16-aaaf-b5fc0e77dd34",
        "colab": {
          "base_uri": "https://localhost:8080/",
          "height": 269
        }
      },
      "cell_type": "code",
      "source": [
        "import numpy as np\n",
        "\n",
        "# Calculate the cumulative home equity (principal) over time\n",
        "cumulative_home_equity = np.cumsum(principal_paid)\n",
        "\n",
        "# Calculate the cumulative interest paid over time\n",
        "cumulative_interest_paid = np.cumsum(interest_paid)\n",
        "\n",
        "# Calculate your percentage home equity over time\n",
        "cumulative_percent_owned = down_payment_percent + (cumulative_home_equity/home_value)\n",
        "\n",
        "# Plot the cumulative interest paid vs equity accumulated\n",
        "plt.plot(cumulative_interest_paid, color='red')\n",
        "plt.plot(cumulative_home_equity, color='blue')\n",
        "plt.show()"
      ],
      "execution_count": 15,
      "outputs": [
        {
          "output_type": "display_data",
          "data": {
            "image/png": "[encoded data removed]",
            "text/plain": [
              "<Figure size 432x288 with 1 Axes>"
            ]
          },
          "metadata": {
            "tags": []
          }
        }
      ]
    },
    {
      "metadata": {
        "id": "6Rpbp4eQX2-A",
        "colab_type": "text"
      },
      "cell_type": "markdown",
      "source": [
        "Home values have been rising steadily each year, and this is a rather large investment for you.\n",
        "\n",
        "Calculate your home equity value over time given a steady growth rate of 0.25% per month. A repeated array of this growth rate (with a length equal to the number of mortgage payment periods) is already stored for you in an object called growth_array.\n",
        "\n",
        "The home_value and cumulative_percent_owned variables from the previous exercise are available."
      ]
    },
    {
      "metadata": {
        "id": "fpbcBuOGXw54",
        "colab_type": "code",
        "colab": {}
      },
      "cell_type": "code",
      "source": [
        "growth_array = np.empty(360,)"
      ],
      "execution_count": 0,
      "outputs": []
    },
    {
      "metadata": {
        "id": "wWyPhtykZsKA",
        "colab_type": "code",
        "outputId": "a1850275-e3ea-4ea1-b3d8-7d1bf1c973cb",
        "colab": {
          "base_uri": "https://localhost:8080/",
          "height": 276
        }
      },
      "cell_type": "code",
      "source": [
        "import numpy as np\n",
        "\n",
        "# Calculate the cumulative growth over time\n",
        "cumulative_growth_forecast = np.cumprod(1 + growth_array)\n",
        "\n",
        "# Forecast the home value over time\n",
        "home_value_forecast = home_value * cumulative_growth_forecast\n",
        "\n",
        "# Forecast the home equity value owned over time\n",
        "cumulative_home_value_owned = cumulative_percent_owned * home_value_forecast\n",
        "\n",
        "# Plot the home value vs equity accumulated\n",
        "plt.plot(home_value_forecast, color='red')\n",
        "plt.plot(cumulative_home_value_owned, color='blue')\n",
        "plt.show()"
      ],
      "execution_count": 16,
      "outputs": [
        {
          "output_type": "display_data",
          "data": {
            "image/png": "[encoded data removed]",
            "text/plain": [
              "<Figure size 432x288 with 1 Axes>"
            ]
          },
          "metadata": {
            "tags": []
          }
        }
      ]
    },
    {
      "metadata": {
        "id": "sBrKZccYaGia",
        "colab_type": "text"
      },
      "cell_type": "markdown",
      "source": [
        "#Falling Housing Prices and Underwater Mortgages\n",
        "In this exercise, you will calculate the worst case scenario where home prices drop steadily at the rate of 0.45% per month. To speed things up, the cumulative drop in home prices has already been forecasted and stored for you in a variable called cumulative_decline_forecast, which is an array of multiplicative discount factors compared to today's price - no need to add 1 to the rate array.\n",
        "\n",
        "The outstanding principal on the mortgage is available as principal_remaining."
      ]
    },
    {
      "metadata": {
        "id": "yvB55WhZaPeG",
        "colab_type": "text"
      },
      "cell_type": "markdown",
      "source": [
        "Forecast the home value over time using a simple operation between the cumulative_decline_forecast array and the initial home_value. Calculate where the mortgage is underwater at each time period, storing an array of boolean values when the condition is true or false. Finally, run the existing code to plot the home value vs. principal remaining over time."
      ]
    },
    {
      "metadata": {
        "id": "gSHoyfSOYHjN",
        "colab_type": "code",
        "colab": {}
      },
      "cell_type": "code",
      "source": [
        "decline_array = np.empty(360,)"
      ],
      "execution_count": 0,
      "outputs": []
    },
    {
      "metadata": {
        "id": "RSVOjmWJaO22",
        "colab_type": "code",
        "outputId": "32bc0acb-9bc9-49c3-be88-17fab620d3a7",
        "colab": {
          "base_uri": "https://localhost:8080/",
          "height": 303
        }
      },
      "cell_type": "code",
      "source": [
        "import numpy as np\n",
        "import pandas as pd\n",
        "\n",
        "# Cumulative drop in home value over time as a ratio\n",
        "cumulative_decline_forecast = np.cumprod(1+decline_array)\n",
        "\n",
        "# Forecast the home value over time\n",
        "home_value_forecast = cumulative_decline_forecast*home_value\n",
        "\n",
        "# Find all periods where your mortgage is underwater\n",
        "underwater = (home_value_forecast-principal_remaining)<0\n",
        "pd.value_counts(underwater)\n",
        "\n",
        "# Plot the home value vs principal remaining\n",
        "plt.plot(home_value_forecast, color='red')\n",
        "plt.plot(principal_remaining, color='blue')\n",
        "plt.show()"
      ],
      "execution_count": 13,
      "outputs": [
        {
          "output_type": "stream",
          "text": [
            "/usr/local/lib/python3.6/dist-packages/ipykernel_launcher.py:11: RuntimeWarning: invalid value encountered in less\n",
            "  # This is added back by InteractiveShellApp.init_path()\n"
          ],
          "name": "stderr"
        },
        {
          "output_type": "display_data",
          "data": {
            "image/png": "[encoded data removed]",
            "text/plain": [
              "<Figure size 432x288 with 1 Axes>"
            ]
          },
          "metadata": {
            "tags": []
          }
        }
      ]
    },
    {
      "metadata": {
        "id": "U5le2n19YK6x",
        "colab_type": "code",
        "colab": {}
      },
      "cell_type": "code",
      "source": [
        ""
      ],
      "execution_count": 0,
      "outputs": []
    }
  ]
}