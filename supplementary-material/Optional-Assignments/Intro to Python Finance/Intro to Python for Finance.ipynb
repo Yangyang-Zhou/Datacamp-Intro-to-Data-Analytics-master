{
 "cells": [
  {
   "cell_type": "code",
   "execution_count": null,
   "metadata": {
    "colab": {},
    "colab_type": "code",
    "id": "lnDh0JKHmytM"
   },
   "outputs": [],
   "source": []
  },
  {
   "cell_type": "markdown",
   "metadata": {
    "colab_type": "text",
    "id": "io7tgDURvu60"
   },
   "source": [
    "# Basics of Python "
   ]
  },
  {
   "cell_type": "markdown",
   "metadata": {
    "colab_type": "text",
    "id": "hmm3KdK9m3Sl"
   },
   "source": [
    "Python has become popular in finance because of the open source nature, which allows for modules to be developed and reused by multiple organizations for repititive work.\n"
   ]
  },
  {
   "cell_type": "markdown",
   "metadata": {
    "colab_type": "text",
    "id": "GGhmr3r6m2v-"
   },
   "source": [
    "Why might you use Python in finance?\n",
    "Python is routinely used in financial quantitative analyses. Some possible solutions possible with Python are:\n",
    "\n",
    "1. To compile monthly sales reports\n",
    "\n",
    "2. To optimize an investment strategies performance\n",
    "\n",
    "3. Visualizing stock data trends\n"
   ]
  },
  {
   "cell_type": "code",
   "execution_count": null,
   "metadata": {
    "colab": {},
    "colab_type": "code",
    "id": "gZFilnSXnpXh"
   },
   "outputs": [],
   "source": []
  },
  {
   "cell_type": "markdown",
   "metadata": {
    "colab_type": "text",
    "id": "od7reP13nwD4"
   },
   "source": [
    "Starting off, we see that the course takes a simplistic view to integrate simple Python commands.\n",
    "\n",
    "Example 1, do not modify!\n",
    "\n",
    "print(8 / 2)\n",
    "\n",
    "Example 2, do not modify!\n",
    "\n",
    "print(2**2)"
   ]
  },
  {
   "cell_type": "code",
   "execution_count": null,
   "metadata": {
    "colab": {
     "base_uri": "https://localhost:8080/",
     "height": 34
    },
    "colab_type": "code",
    "executionInfo": {
     "elapsed": 711,
     "status": "ok",
     "timestamp": 1555979855762,
     "user": {
      "displayName": "Sushrut Sood",
      "photoUrl": "https://lh6.googleusercontent.com/-K5rUTFc20ZI/AAAAAAAAAAI/AAAAAAAAAAc/h4OnScXkacU/s64/photo.jpg",
      "userId": "14475610978695126388"
     },
     "user_tz": 240
    },
    "id": "7noaeWz4oDHa",
    "outputId": "63a702f1-9b97-4cd4-ccda-4c22f022f53d"
   },
   "outputs": [
    {
     "name": "stdout",
     "output_type": "stream",
     "text": [
      "4.0\n"
     ]
    }
   ],
   "source": [
    "print(8/2)"
   ]
  },
  {
   "cell_type": "code",
   "execution_count": null,
   "metadata": {
    "colab": {
     "base_uri": "https://localhost:8080/",
     "height": 34
    },
    "colab_type": "code",
    "executionInfo": {
     "elapsed": 265,
     "status": "ok",
     "timestamp": 1555979869180,
     "user": {
      "displayName": "Sushrut Sood",
      "photoUrl": "https://lh6.googleusercontent.com/-K5rUTFc20ZI/AAAAAAAAAAI/AAAAAAAAAAc/h4OnScXkacU/s64/photo.jpg",
      "userId": "14475610978695126388"
     },
     "user_tz": 240
    },
    "id": "YSromlEooH4N",
    "outputId": "2a0b6e76-18fe-4ea7-cc84-c0f5ce330631"
   },
   "outputs": [
    {
     "name": "stdout",
     "output_type": "stream",
     "text": [
      "4\n"
     ]
    }
   ],
   "source": [
    "print(2**2)"
   ]
  },
  {
   "cell_type": "markdown",
   "metadata": {
    "colab_type": "text",
    "id": "WdnIYqBfocGr"
   },
   "source": [
    "**Variables** : Some variable names are reserved (keywords) and some are illegal (starting wth numbers). These are memory locations containing data.\n"
   ]
  },
  {
   "cell_type": "code",
   "execution_count": null,
   "metadata": {
    "colab": {
     "base_uri": "https://localhost:8080/",
     "height": 34
    },
    "colab_type": "code",
    "executionInfo": {
     "elapsed": 331,
     "status": "ok",
     "timestamp": 1555980630014,
     "user": {
      "displayName": "Sushrut Sood",
      "photoUrl": "https://lh6.googleusercontent.com/-K5rUTFc20ZI/AAAAAAAAAAI/AAAAAAAAAAc/h4OnScXkacU/s64/photo.jpg",
      "userId": "14475610978695126388"
     },
     "user_tz": 240
    },
    "id": "iA6-NzblqiI2",
    "outputId": "039d1c92-cfa0-4dc7-f780-595b2b739a7f"
   },
   "outputs": [
    {
     "name": "stdout",
     "output_type": "stream",
     "text": [
      "The revenue of Apple in 2017 was $229.23 billion.\n"
     ]
    }
   ],
   "source": [
    "revenue_1= 229.23\n",
    "year_1=2017\n",
    "company_1='Apple'\n",
    "# Update data types\n",
    "year_1_str = str(year_1)\n",
    "revenue_1_str = str(revenue_1)\n",
    "\n",
    "# Create a complete sentence combining only the string data types\n",
    "sentence = 'The revenue of ' + company_1 + ' in ' + year_1_str + ' was $' + revenue_1_str + ' billion.'\n",
    "\n",
    "# Print sentence\n",
    "print(sentence)"
   ]
  },
  {
   "cell_type": "code",
   "execution_count": null,
   "metadata": {
    "colab": {},
    "colab_type": "code",
    "id": "8wqAG3nOrFLk"
   },
   "outputs": [],
   "source": []
  },
  {
   "cell_type": "markdown",
   "metadata": {
    "colab_type": "text",
    "id": "vshPwvylrIab"
   },
   "source": [
    "**List in Python**\n",
    "\n",
    "\n",
    "1.   Zero Indexed by default\n",
    "2.  Can be accessed using the square bracket annotation \\[x] with x being the index.\n",
    "Follow with an example\n",
    "\n",
    "\n",
    "\n"
   ]
  },
  {
   "cell_type": "code",
   "execution_count": null,
   "metadata": {
    "colab": {
     "base_uri": "https://localhost:8080/",
     "height": 50
    },
    "colab_type": "code",
    "executionInfo": {
     "elapsed": 282,
     "status": "ok",
     "timestamp": 1555980930750,
     "user": {
      "displayName": "Sushrut Sood",
      "photoUrl": "https://lh6.googleusercontent.com/-K5rUTFc20ZI/AAAAAAAAAAI/AAAAAAAAAAc/h4OnScXkacU/s64/photo.jpg",
      "userId": "14475610978695126388"
     },
     "user_tz": 240
    },
    "id": "s5BV4v43r8wB",
    "outputId": "00d6e262-3815-476b-acc8-6053b3830c0b"
   },
   "outputs": [
    {
     "name": "stdout",
     "output_type": "stream",
     "text": [
      "['Apple Inc', 'Coca-Cola', 'Walmart']\n",
      "[59.54, 37.13, 71.17]\n"
     ]
    }
   ],
   "source": [
    "# Create and print list names\n",
    "names = ['Apple Inc', 'Coca-Cola', 'Walmart']\n",
    "print(names)\n",
    "\n",
    "# Create and print list prices\n",
    "prices = [159.54, 37.13, 71.17]\n",
    "print(prices)"
   ]
  },
  {
   "cell_type": "code",
   "execution_count": null,
   "metadata": {
    "colab": {
     "base_uri": "https://localhost:8080/",
     "height": 67
    },
    "colab_type": "code",
    "executionInfo": {
     "elapsed": 387,
     "status": "ok",
     "timestamp": 1555981255844,
     "user": {
      "displayName": "Sushrut Sood",
      "photoUrl": "https://lh6.googleusercontent.com/-K5rUTFc20ZI/AAAAAAAAAAI/AAAAAAAAAAc/h4OnScXkacU/s64/photo.jpg",
      "userId": "14475610978695126388"
     },
     "user_tz": 240
    },
    "id": "RBe_sijdtLrr",
    "outputId": "30558409-d160-4dba-ea3c-de3d17f9b248"
   },
   "outputs": [
    {
     "name": "stdout",
     "output_type": "stream",
     "text": [
      "Apple Inc\n",
      "Coca-Cola\n",
      "71.17\n"
     ]
    }
   ],
   "source": [
    "# Print the first item in names\n",
    "print(names[0])\n",
    "\n",
    "# Print the second item in names\n",
    "print(names[1])\n",
    "\n",
    "# Print the last element in prices\n",
    "print(prices[-1])"
   ]
  },
  {
   "cell_type": "code",
   "execution_count": null,
   "metadata": {
    "colab": {
     "base_uri": "https://localhost:8080/",
     "height": 50
    },
    "colab_type": "code",
    "executionInfo": {
     "elapsed": 295,
     "status": "ok",
     "timestamp": 1555981456538,
     "user": {
      "displayName": "Sushrut Sood",
      "photoUrl": "https://lh6.googleusercontent.com/-K5rUTFc20ZI/AAAAAAAAAAI/AAAAAAAAAAc/h4OnScXkacU/s64/photo.jpg",
      "userId": "14475610978695126388"
     },
     "user_tz": 240
    },
    "id": "3f6PiCVht_nH",
    "outputId": "4fb0ea12-2375-47b9-8b3a-5d75bab1af3a"
   },
   "outputs": [
    {
     "name": "stdout",
     "output_type": "stream",
     "text": [
      "['Coca-Cola', 'Walmart']\n",
      "[59.54]\n"
     ]
    }
   ],
   "source": [
    "#Slicing the list\n",
    "print(names[len(names)-2:])\n",
    "#Slicing using a negative index\n",
    "print(prices[:-2])"
   ]
  },
  {
   "cell_type": "code",
   "execution_count": null,
   "metadata": {
    "colab": {},
    "colab_type": "code",
    "id": "_dfTLtWxuaJF"
   },
   "outputs": [],
   "source": []
  },
  {
   "cell_type": "markdown",
   "metadata": {
    "colab_type": "text",
    "id": "KRG90StLuayF"
   },
   "source": [
    "**Nested Lists**: Lists can contain multiple data-types, including other lists. THis means we can create and access lists within lists using the same notations as we used above."
   ]
  },
  {
   "cell_type": "code",
   "execution_count": null,
   "metadata": {
    "colab": {
     "base_uri": "https://localhost:8080/",
     "height": 50
    },
    "colab_type": "code",
    "executionInfo": {
     "elapsed": 373,
     "status": "ok",
     "timestamp": 1555981583605,
     "user": {
      "displayName": "Sushrut Sood",
      "photoUrl": "https://lh6.googleusercontent.com/-K5rUTFc20ZI/AAAAAAAAAAI/AAAAAAAAAAc/h4OnScXkacU/s64/photo.jpg",
      "userId": "14475610978695126388"
     },
     "user_tz": 240
    },
    "id": "9fCTKppluq8Z",
    "outputId": "24698201-55dc-4d30-ae26-9bb57e8df395"
   },
   "outputs": [
    {
     "name": "stdout",
     "output_type": "stream",
     "text": [
      "[['Apple Inc', 'Coca-Cola', 'Walmart'], [59.54, 37.13, 71.17]]\n",
      "[59.54, 37.13, 71.17]\n"
     ]
    }
   ],
   "source": [
    "# Create and print the nested list stocks\n",
    "stocks = [names, prices]\n",
    "print(stocks)\n",
    "\n",
    "# Use list indexing to obtain the list of prices\n",
    "print(stocks[1])"
   ]
  },
  {
   "cell_type": "code",
   "execution_count": null,
   "metadata": {
    "colab": {
     "base_uri": "https://localhost:8080/",
     "height": 50
    },
    "colab_type": "code",
    "executionInfo": {
     "elapsed": 299,
     "status": "ok",
     "timestamp": 1555981647742,
     "user": {
      "displayName": "Sushrut Sood",
      "photoUrl": "https://lh6.googleusercontent.com/-K5rUTFc20ZI/AAAAAAAAAAI/AAAAAAAAAAc/h4OnScXkacU/s64/photo.jpg",
      "userId": "14475610978695126388"
     },
     "user_tz": 240
    },
    "id": "BPAwxy0wu7YH",
    "outputId": "9cde2bde-ac5b-4270-b052-95a8b32eb700"
   },
   "outputs": [
    {
     "name": "stdout",
     "output_type": "stream",
     "text": [
      "Coca-Cola\n",
      "71.17\n"
     ]
    }
   ],
   "source": [
    "# Use indexing to obtain company name Coca-Cola\n",
    "print(stocks[0][1])\n",
    "\n",
    "# Use indexing to obtain 71.17\n",
    "print(stocks[1][2])"
   ]
  },
  {
   "cell_type": "markdown",
   "metadata": {
    "colab_type": "text",
    "id": "i7N7-u5mvBPe"
   },
   "source": [
    "**Methods and Fucntions**\n",
    "Methods are attributes of objects defined in python. These can be internal and overridden/ added later. List methods are: index, min, max, len, etc."
   ]
  },
  {
   "cell_type": "code",
   "execution_count": null,
   "metadata": {
    "colab": {},
    "colab_type": "code",
    "id": "LR7dSUVgvfF3"
   },
   "outputs": [],
   "source": [
    "# Find the maximum price in the list price\n",
    "prices = [159.54, 37.13, 71.17]\n",
    "price_max = max(prices)\n",
    "print(price_max)"
   ]
  },
  {
   "cell_type": "code",
   "execution_count": null,
   "metadata": {
    "colab": {
     "base_uri": "https://localhost:8080/",
     "height": 34
    },
    "colab_type": "code",
    "executionInfo": {
     "elapsed": 314,
     "status": "ok",
     "timestamp": 1555982041599,
     "user": {
      "displayName": "Sushrut Sood",
      "photoUrl": "https://lh6.googleusercontent.com/-K5rUTFc20ZI/AAAAAAAAAAI/AAAAAAAAAAc/h4OnScXkacU/s64/photo.jpg",
      "userId": "14475610978695126388"
     },
     "user_tz": 240
    },
    "id": "eGq9-VlXwQ3E",
    "outputId": "f8a20d94-a83b-4970-91a4-68bccd3a8e52"
   },
   "outputs": [
    {
     "name": "stdout",
     "output_type": "stream",
     "text": [
      "The largest stock price is associated with Walmart and is $71.17.\n"
     ]
    }
   ],
   "source": [
    "# Do not modify this\n",
    "max_price = max(prices)\n",
    "\n",
    "# Identify index of max price\n",
    "max_index = prices.index(max_price)\n",
    "\n",
    "# Identify the name of the company with max price\n",
    "max_stock_name = names[max_index]\n",
    "\n",
    "# Fill in the blanks \n",
    "print('The largest stock price is associated with ' + max_stock_name + ' and is $' + str(max_price) + '.')"
   ]
  },
  {
   "cell_type": "code",
   "execution_count": 68,
   "metadata": {
    "colab": {
     "base_uri": "https://localhost:8080/",
     "height": 121
    },
    "colab_type": "code",
    "executionInfo": {
     "elapsed": 24774,
     "status": "ok",
     "timestamp": 1555988460653,
     "user": {
      "displayName": "Sushrut Sood",
      "photoUrl": "https://lh6.googleusercontent.com/-K5rUTFc20ZI/AAAAAAAAAAI/AAAAAAAAAAc/h4OnScXkacU/s64/photo.jpg",
      "userId": "14475610978695126388"
     },
     "user_tz": 240
    },
    "id": "2ofdQktzwsai",
    "outputId": "ab18c07a-8444-4b8d-c947-9e869bb33898"
   },
   "outputs": [
    {
     "name": "stdout",
     "output_type": "stream",
     "text": [
      "Go to this URL in a browser: https://accounts.google.com/o/oauth2/auth?client_id=947318989803-6bn6qk8qdgf4n4g3pfee6491hc0brc4i.apps.googleusercontent.com&redirect_uri=urn%3Aietf%3Awg%3Aoauth%3A2.0%3Aoob&scope=email%20https%3A%2F%2Fwww.googleapis.com%2Fauth%2Fdocs.test%20https%3A%2F%2Fwww.googleapis.com%2Fauth%2Fdrive%20https%3A%2F%2Fwww.googleapis.com%2Fauth%2Fdrive.photos.readonly%20https%3A%2F%2Fwww.googleapis.com%2Fauth%2Fpeopleapi.readonly&response_type=code\n",
      "\n",
      "Enter your authorization code:\n",
      "··········\n",
      "Mounted at /content/gdrive\n"
     ]
    }
   ],
   "source": [
    "import numpy as np\n",
    "import seaborn as sns\n",
    "import pandas as pd\n",
    "import matplotlib.pyplot as plt\n",
    "import numpy as np\n",
    "from google.colab import drive\n",
    "\n",
    "drive.mount('/content/gdrive')\n",
    "df=pd.read_csv(\"/content/gdrive/My Drive/Analytics-MSDI-IS833/sector.csv\")"
   ]
  },
  {
   "cell_type": "code",
   "execution_count": 69,
   "metadata": {
    "colab": {
     "base_uri": "https://localhost:8080/",
     "height": 195
    },
    "colab_type": "code",
    "executionInfo": {
     "elapsed": 342,
     "status": "ok",
     "timestamp": 1555988483951,
     "user": {
      "displayName": "Sushrut Sood",
      "photoUrl": "https://lh6.googleusercontent.com/-K5rUTFc20ZI/AAAAAAAAAAI/AAAAAAAAAAc/h4OnScXkacU/s64/photo.jpg",
      "userId": "14475610978695126388"
     },
     "user_tz": 240
    },
    "id": "mdXN9KSCI_W_",
    "outputId": "306baaf3-b576-4c53-e6c9-03ae49877c4d"
   },
   "outputs": [
    {
     "data": {
      "text/html": [
       "<div>\n",
       "<style scoped>\n",
       "    .dataframe tbody tr th:only-of-type {\n",
       "        vertical-align: middle;\n",
       "    }\n",
       "\n",
       "    .dataframe tbody tr th {\n",
       "        vertical-align: top;\n",
       "    }\n",
       "\n",
       "    .dataframe thead th {\n",
       "        text-align: right;\n",
       "    }\n",
       "</style>\n",
       "<table border=\"1\" class=\"dataframe\">\n",
       "  <thead>\n",
       "    <tr style=\"text-align: right;\">\n",
       "      <th></th>\n",
       "      <th>Name</th>\n",
       "      <th>Sector</th>\n",
       "      <th>Price</th>\n",
       "      <th>EPS</th>\n",
       "    </tr>\n",
       "  </thead>\n",
       "  <tbody>\n",
       "    <tr>\n",
       "      <th>0</th>\n",
       "      <td>Apple Inc</td>\n",
       "      <td>Information Technology</td>\n",
       "      <td>170.12</td>\n",
       "      <td>9.20</td>\n",
       "    </tr>\n",
       "    <tr>\n",
       "      <th>1</th>\n",
       "      <td>Abbvie Inc</td>\n",
       "      <td>Health Care</td>\n",
       "      <td>93.29</td>\n",
       "      <td>5.31</td>\n",
       "    </tr>\n",
       "    <tr>\n",
       "      <th>2</th>\n",
       "      <td>Abbott Laboratories</td>\n",
       "      <td>Health Care</td>\n",
       "      <td>55.28</td>\n",
       "      <td>2.41</td>\n",
       "    </tr>\n",
       "    <tr>\n",
       "      <th>3</th>\n",
       "      <td>Accenture Plc</td>\n",
       "      <td>Information Technology</td>\n",
       "      <td>145.30</td>\n",
       "      <td>5.91</td>\n",
       "    </tr>\n",
       "    <tr>\n",
       "      <th>4</th>\n",
       "      <td>Allergan Plc</td>\n",
       "      <td>Health Care</td>\n",
       "      <td>171.81</td>\n",
       "      <td>15.42</td>\n",
       "    </tr>\n",
       "  </tbody>\n",
       "</table>\n",
       "</div>"
      ],
      "text/plain": [
       "                  Name                  Sector   Price    EPS\n",
       "0            Apple Inc  Information Technology  170.12   9.20\n",
       "1           Abbvie Inc             Health Care   93.29   5.31\n",
       "2  Abbott Laboratories             Health Care   55.28   2.41\n",
       "3        Accenture Plc  Information Technology  145.30   5.91\n",
       "4         Allergan Plc             Health Care  171.81  15.42"
      ]
     },
     "execution_count": 69,
     "metadata": {
      "tags": []
     },
     "output_type": "execute_result"
    }
   ],
   "source": [
    "df.head()"
   ]
  },
  {
   "cell_type": "markdown",
   "metadata": {
    "colab_type": "text",
    "id": "PVFi4WSewxFb"
   },
   "source": [
    "# Arrays"
   ]
  },
  {
   "cell_type": "markdown",
   "metadata": {
    "colab_type": "text",
    "id": "XBGgQpidxAeU"
   },
   "source": [
    "Arrays contain only one single data type, which implies that python will try to convert all data to a compatible datatype when converting a list to an array.\n"
   ]
  },
  {
   "cell_type": "code",
   "execution_count": 70,
   "metadata": {
    "colab": {
     "base_uri": "https://localhost:8080/",
     "height": 470
    },
    "colab_type": "code",
    "executionInfo": {
     "elapsed": 333,
     "status": "ok",
     "timestamp": 1555988549166,
     "user": {
      "displayName": "Sushrut Sood",
      "photoUrl": "https://lh6.googleusercontent.com/-K5rUTFc20ZI/AAAAAAAAAAI/AAAAAAAAAAc/h4OnScXkacU/s64/photo.jpg",
      "userId": "14475610978695126388"
     },
     "user_tz": 240
    },
    "id": "Dsai41g6xRCB",
    "outputId": "dec26a8a-1fde-4e2d-efbf-3311aabceb02"
   },
   "outputs": [
    {
     "name": "stdout",
     "output_type": "stream",
     "text": [
      "[ 170.12   93.29   55.28  145.3   171.81   59.5   100.5   168.93 1126.82\n",
      "   93.92  265.04   26.7   311.92   52.73  474.05   60.48  181.27   71.87\n",
      "  137.37  102.88  346.2    72.16   36.13   88.26   49.89  171.22   36.38\n",
      "   70.18  114.84   93.45  103.02   88.61   71.12   60.14   41.32   12.11\n",
      "  179.14  217.75   30.42   31.14  198.7    17.91   71.63   44.74 1018.48\n",
      " 1034.09  238.05   41.57  170.13  148.04  151.4    44.88  138.54   98.58\n",
      "   80.59   17.04   45.6    82.97  312.93   81.43  149.93  167.01   42.49\n",
      "   79.52   51.85  232.49   66.51  118.19   53.74   49.06   82.49  155.7\n",
      "   59.46   48.97   68.17 1762.23  115.5    35.38   88.33  103.35   76.55\n",
      "   66.83  184.22   56.83   61.53   51.12  159.25   34.59   57.77   88.62\n",
      "   98.59  209.75  115.58  113.2    51.88  117.05  110.27   45.85   70.25\n",
      "   54.02   96.08   80.31]\n",
      "[9.200e+00 5.310e+00 2.410e+00 5.910e+00 1.542e+01 2.510e+00 6.790e+00\n",
      " 1.258e+01 3.940e+00 5.220e+00 9.750e+00 1.750e+00 2.159e+01 3.470e+00\n",
      " 2.155e+01 2.960e+00 6.290e+00 5.190e+00 5.550e+00 6.400e+00 1.610e+00\n",
      " 2.870e+00 2.020e+00 7.580e+00 2.000e-02 5.820e+00 2.170e+00 5.710e+00\n",
      " 3.570e+00 3.890e+00 5.700e+00 4.450e+00 3.660e+00 2.580e+00 2.480e+00\n",
      " 1.680e+00 5.190e+00 1.191e+01 1.920e+00 1.920e+00 1.007e+01 1.240e+00\n",
      " 9.580e+00 6.190e+00 2.987e+01 2.987e+01 1.920e+01 7.300e-01 6.960e+00\n",
      " 6.950e+00 1.366e+01 3.180e+00 7.140e+00 6.940e+00 3.560e+00 6.500e-01\n",
      " 1.890e+00 4.090e+00 1.272e+01 4.340e+00 4.310e+00 6.400e+00 2.050e+00\n",
      " 4.690e+00 5.200e+00 8.950e+00 3.160e+00 5.530e+00 3.890e+00 3.610e+00\n",
      " 3.380e+00 6.670e+00 2.350e+00 2.550e+00 3.500e-01 7.445e+01 5.120e+00\n",
      " 2.500e+00 3.980e+00 4.490e+00 1.400e+00 3.780e+00 7.560e+00 2.070e+00\n",
      " 1.290e+00 2.750e+00 6.050e+00 2.930e+00 4.930e+00 6.060e+00 4.060e+00\n",
      " 9.600e+00 5.660e+00 5.980e+00 3.370e+00 6.620e+00 3.480e+00 3.750e+00\n",
      " 5.100e+00 4.140e+00 4.360e+00 3.560e+00]\n"
     ]
    }
   ],
   "source": [
    "# Import numpy as np\n",
    "\n",
    "import numpy as np\n",
    "\n",
    "# Lists\n",
    "prices = df['Price']\n",
    "earnings = df['EPS']\n",
    "\n",
    "# NumPy arrays\n",
    "prices_array = np.array(prices)\n",
    "earnings_array = np.array(earnings)\n",
    "\n",
    "# Print the arrays\n",
    "print(prices_array)\n",
    "print(earnings_array)"
   ]
  },
  {
   "cell_type": "markdown",
   "metadata": {
    "colab_type": "text",
    "id": "EILRvGXIxo5D"
   },
   "source": [
    "Arrays can be used to simplify operations, since we can use shortcuts to do element wise operations such as addition, subtraction, multiplication and even some logical operations (using logical operations &, | and !)"
   ]
  },
  {
   "cell_type": "code",
   "execution_count": 71,
   "metadata": {
    "colab": {
     "base_uri": "https://localhost:8080/",
     "height": 370
    },
    "colab_type": "code",
    "executionInfo": {
     "elapsed": 327,
     "status": "ok",
     "timestamp": 1555988555811,
     "user": {
      "displayName": "Sushrut Sood",
      "photoUrl": "https://lh6.googleusercontent.com/-K5rUTFc20ZI/AAAAAAAAAAI/AAAAAAAAAAc/h4OnScXkacU/s64/photo.jpg",
      "userId": "14475610978695126388"
     },
     "user_tz": 240
    },
    "id": "RrouKy7Rx7XH",
    "outputId": "7274b048-8372-494d-8617-49810c8d2eb1"
   },
   "outputs": [
    {
     "name": "stdout",
     "output_type": "stream",
     "text": [
      "[  18.49130435   17.56873823   22.93775934   24.58544839   11.14202335\n",
      "   23.70517928   14.8011782    13.42845787  285.99492386   17.99233716\n",
      "   27.18358974   15.25714286   14.44742937   15.19596542   21.99767981\n",
      "   20.43243243   28.81875994   13.8477842    24.75135135   16.075\n",
      "  215.0310559    25.14285714   17.88613861   11.64379947 2494.5\n",
      "   29.41924399   16.76497696   12.29071804   32.16806723   24.02313625\n",
      "   18.07368421   19.91235955   19.43169399   23.31007752   16.66129032\n",
      "    7.20833333   34.51637765   18.2829555    15.84375      16.21875\n",
      "   19.73187686   14.44354839    7.47703549    7.22778675   34.09708738\n",
      "   34.6196853    12.3984375    56.94520548   24.44396552   21.30071942\n",
      "   11.08345534   14.11320755   19.40336134   14.20461095   22.63764045\n",
      "   26.21538462   24.12698413   20.28606357   24.60141509   18.76267281\n",
      "   34.78654292   26.0953125    20.72682927   16.95522388    9.97115385\n",
      "   25.97653631   21.04746835   21.37251356   13.81491003   13.5900277\n",
      "   24.40532544   23.34332834   25.30212766   19.20392157  194.77142857\n",
      "   23.66997985   22.55859375   14.152        22.19346734   23.01781737\n",
      "   54.67857143   17.67989418   24.36772487   27.45410628   47.69767442\n",
      "   18.58909091   26.32231405   11.80546075   11.71805274   14.62376238\n",
      "   24.28325123   21.84895833   20.4204947    18.92976589   15.39465875\n",
      "   17.68126888   31.68678161   12.22666667   13.7745098    13.04830918\n",
      "   22.03669725   22.55898876]\n"
     ]
    }
   ],
   "source": [
    "# Import numpy as np\n",
    "import numpy as np\n",
    "\n",
    "# Create PE ratio array\n",
    "pe_array = prices_array/earnings_array\n",
    "\n",
    "# Print pe_array\n",
    "print(pe_array)"
   ]
  },
  {
   "cell_type": "code",
   "execution_count": null,
   "metadata": {
    "colab": {},
    "colab_type": "code",
    "id": "vqqlVEnsyJgV"
   },
   "outputs": [],
   "source": []
  },
  {
   "cell_type": "markdown",
   "metadata": {
    "colab_type": "text",
    "id": "2BjU5nxGyKfo"
   },
   "source": [
    "Stepping and slicing work on arrays as well as they do on lists\n"
   ]
  },
  {
   "cell_type": "code",
   "execution_count": 72,
   "metadata": {
    "colab": {
     "base_uri": "https://localhost:8080/",
     "height": 34
    },
    "colab_type": "code",
    "executionInfo": {
     "elapsed": 283,
     "status": "ok",
     "timestamp": 1555988560290,
     "user": {
      "displayName": "Sushrut Sood",
      "photoUrl": "https://lh6.googleusercontent.com/-K5rUTFc20ZI/AAAAAAAAAAI/AAAAAAAAAAc/h4OnScXkacU/s64/photo.jpg",
      "userId": "14475610978695126388"
     },
     "user_tz": 240
    },
    "id": "TIA_3YJMyQZa",
    "outputId": "affcaba9-d4d2-4320-b63f-369a647e0ae4"
   },
   "outputs": [
    {
     "name": "stdout",
     "output_type": "stream",
     "text": [
      "[170.12 145.3  100.5 ]\n"
     ]
    }
   ],
   "source": [
    "# Subset every third element\n",
    "prices_subset_3 = prices_array[0:7:3]\n",
    "print(prices_subset_3)"
   ]
  },
  {
   "cell_type": "markdown",
   "metadata": {
    "colab_type": "text",
    "id": "dc1JatvZyUTB"
   },
   "source": [
    "**Multi-Dimensional Arrays:**\n",
    "We will primarily be working with 2D data- which is useful to correlate different data in a grid, especially useful in finance."
   ]
  },
  {
   "cell_type": "code",
   "execution_count": 73,
   "metadata": {
    "colab": {
     "base_uri": "https://localhost:8080/",
     "height": 2369
    },
    "colab_type": "code",
    "executionInfo": {
     "elapsed": 325,
     "status": "ok",
     "timestamp": 1555988565112,
     "user": {
      "displayName": "Sushrut Sood",
      "photoUrl": "https://lh6.googleusercontent.com/-K5rUTFc20ZI/AAAAAAAAAAI/AAAAAAAAAAc/h4OnScXkacU/s64/photo.jpg",
      "userId": "14475610978695126388"
     },
     "user_tz": 240
    },
    "id": "LDm4eYTyymXn",
    "outputId": "9a4283f3-2cf1-4150-e6a0-cfef5fc821cd"
   },
   "outputs": [
    {
     "name": "stdout",
     "output_type": "stream",
     "text": [
      "[[1.70120e+02 9.32900e+01 5.52800e+01 1.45300e+02 1.71810e+02 5.95000e+01\n",
      "  1.00500e+02 1.68930e+02 1.12682e+03 9.39200e+01 2.65040e+02 2.67000e+01\n",
      "  3.11920e+02 5.27300e+01 4.74050e+02 6.04800e+01 1.81270e+02 7.18700e+01\n",
      "  1.37370e+02 1.02880e+02 3.46200e+02 7.21600e+01 3.61300e+01 8.82600e+01\n",
      "  4.98900e+01 1.71220e+02 3.63800e+01 7.01800e+01 1.14840e+02 9.34500e+01\n",
      "  1.03020e+02 8.86100e+01 7.11200e+01 6.01400e+01 4.13200e+01 1.21100e+01\n",
      "  1.79140e+02 2.17750e+02 3.04200e+01 3.11400e+01 1.98700e+02 1.79100e+01\n",
      "  7.16300e+01 4.47400e+01 1.01848e+03 1.03409e+03 2.38050e+02 4.15700e+01\n",
      "  1.70130e+02 1.48040e+02 1.51400e+02 4.48800e+01 1.38540e+02 9.85800e+01\n",
      "  8.05900e+01 1.70400e+01 4.56000e+01 8.29700e+01 3.12930e+02 8.14300e+01\n",
      "  1.49930e+02 1.67010e+02 4.24900e+01 7.95200e+01 5.18500e+01 2.32490e+02\n",
      "  6.65100e+01 1.18190e+02 5.37400e+01 4.90600e+01 8.24900e+01 1.55700e+02\n",
      "  5.94600e+01 4.89700e+01 6.81700e+01 1.76223e+03 1.15500e+02 3.53800e+01\n",
      "  8.83300e+01 1.03350e+02 7.65500e+01 6.68300e+01 1.84220e+02 5.68300e+01\n",
      "  6.15300e+01 5.11200e+01 1.59250e+02 3.45900e+01 5.77700e+01 8.86200e+01\n",
      "  9.85900e+01 2.09750e+02 1.15580e+02 1.13200e+02 5.18800e+01 1.17050e+02\n",
      "  1.10270e+02 4.58500e+01 7.02500e+01 5.40200e+01 9.60800e+01 8.03100e+01]\n",
      " [9.20000e+00 5.31000e+00 2.41000e+00 5.91000e+00 1.54200e+01 2.51000e+00\n",
      "  6.79000e+00 1.25800e+01 3.94000e+00 5.22000e+00 9.75000e+00 1.75000e+00\n",
      "  2.15900e+01 3.47000e+00 2.15500e+01 2.96000e+00 6.29000e+00 5.19000e+00\n",
      "  5.55000e+00 6.40000e+00 1.61000e+00 2.87000e+00 2.02000e+00 7.58000e+00\n",
      "  2.00000e-02 5.82000e+00 2.17000e+00 5.71000e+00 3.57000e+00 3.89000e+00\n",
      "  5.70000e+00 4.45000e+00 3.66000e+00 2.58000e+00 2.48000e+00 1.68000e+00\n",
      "  5.19000e+00 1.19100e+01 1.92000e+00 1.92000e+00 1.00700e+01 1.24000e+00\n",
      "  9.58000e+00 6.19000e+00 2.98700e+01 2.98700e+01 1.92000e+01 7.30000e-01\n",
      "  6.96000e+00 6.95000e+00 1.36600e+01 3.18000e+00 7.14000e+00 6.94000e+00\n",
      "  3.56000e+00 6.50000e-01 1.89000e+00 4.09000e+00 1.27200e+01 4.34000e+00\n",
      "  4.31000e+00 6.40000e+00 2.05000e+00 4.69000e+00 5.20000e+00 8.95000e+00\n",
      "  3.16000e+00 5.53000e+00 3.89000e+00 3.61000e+00 3.38000e+00 6.67000e+00\n",
      "  2.35000e+00 2.55000e+00 3.50000e-01 7.44500e+01 5.12000e+00 2.50000e+00\n",
      "  3.98000e+00 4.49000e+00 1.40000e+00 3.78000e+00 7.56000e+00 2.07000e+00\n",
      "  1.29000e+00 2.75000e+00 6.05000e+00 2.93000e+00 4.93000e+00 6.06000e+00\n",
      "  4.06000e+00 9.60000e+00 5.66000e+00 5.98000e+00 3.37000e+00 6.62000e+00\n",
      "  3.48000e+00 3.75000e+00 5.10000e+00 4.14000e+00 4.36000e+00 3.56000e+00]]\n",
      "(2, 102)\n",
      "204\n",
      "[[1.70120e+02 9.20000e+00]\n",
      " [9.32900e+01 5.31000e+00]\n",
      " [5.52800e+01 2.41000e+00]\n",
      " [1.45300e+02 5.91000e+00]\n",
      " [1.71810e+02 1.54200e+01]\n",
      " [5.95000e+01 2.51000e+00]\n",
      " [1.00500e+02 6.79000e+00]\n",
      " [1.68930e+02 1.25800e+01]\n",
      " [1.12682e+03 3.94000e+00]\n",
      " [9.39200e+01 5.22000e+00]\n",
      " [2.65040e+02 9.75000e+00]\n",
      " [2.67000e+01 1.75000e+00]\n",
      " [3.11920e+02 2.15900e+01]\n",
      " [5.27300e+01 3.47000e+00]\n",
      " [4.74050e+02 2.15500e+01]\n",
      " [6.04800e+01 2.96000e+00]\n",
      " [1.81270e+02 6.29000e+00]\n",
      " [7.18700e+01 5.19000e+00]\n",
      " [1.37370e+02 5.55000e+00]\n",
      " [1.02880e+02 6.40000e+00]\n",
      " [3.46200e+02 1.61000e+00]\n",
      " [7.21600e+01 2.87000e+00]\n",
      " [3.61300e+01 2.02000e+00]\n",
      " [8.82600e+01 7.58000e+00]\n",
      " [4.98900e+01 2.00000e-02]\n",
      " [1.71220e+02 5.82000e+00]\n",
      " [3.63800e+01 2.17000e+00]\n",
      " [7.01800e+01 5.71000e+00]\n",
      " [1.14840e+02 3.57000e+00]\n",
      " [9.34500e+01 3.89000e+00]\n",
      " [1.03020e+02 5.70000e+00]\n",
      " [8.86100e+01 4.45000e+00]\n",
      " [7.11200e+01 3.66000e+00]\n",
      " [6.01400e+01 2.58000e+00]\n",
      " [4.13200e+01 2.48000e+00]\n",
      " [1.21100e+01 1.68000e+00]\n",
      " [1.79140e+02 5.19000e+00]\n",
      " [2.17750e+02 1.19100e+01]\n",
      " [3.04200e+01 1.92000e+00]\n",
      " [3.11400e+01 1.92000e+00]\n",
      " [1.98700e+02 1.00700e+01]\n",
      " [1.79100e+01 1.24000e+00]\n",
      " [7.16300e+01 9.58000e+00]\n",
      " [4.47400e+01 6.19000e+00]\n",
      " [1.01848e+03 2.98700e+01]\n",
      " [1.03409e+03 2.98700e+01]\n",
      " [2.38050e+02 1.92000e+01]\n",
      " [4.15700e+01 7.30000e-01]\n",
      " [1.70130e+02 6.96000e+00]\n",
      " [1.48040e+02 6.95000e+00]\n",
      " [1.51400e+02 1.36600e+01]\n",
      " [4.48800e+01 3.18000e+00]\n",
      " [1.38540e+02 7.14000e+00]\n",
      " [9.85800e+01 6.94000e+00]\n",
      " [8.05900e+01 3.56000e+00]\n",
      " [1.70400e+01 6.50000e-01]\n",
      " [4.56000e+01 1.89000e+00]\n",
      " [8.29700e+01 4.09000e+00]\n",
      " [3.12930e+02 1.27200e+01]\n",
      " [8.14300e+01 4.34000e+00]\n",
      " [1.49930e+02 4.31000e+00]\n",
      " [1.67010e+02 6.40000e+00]\n",
      " [4.24900e+01 2.05000e+00]\n",
      " [7.95200e+01 4.69000e+00]\n",
      " [5.18500e+01 5.20000e+00]\n",
      " [2.32490e+02 8.95000e+00]\n",
      " [6.65100e+01 3.16000e+00]\n",
      " [1.18190e+02 5.53000e+00]\n",
      " [5.37400e+01 3.89000e+00]\n",
      " [4.90600e+01 3.61000e+00]\n",
      " [8.24900e+01 3.38000e+00]\n",
      " [1.55700e+02 6.67000e+00]\n",
      " [5.94600e+01 2.35000e+00]\n",
      " [4.89700e+01 2.55000e+00]\n",
      " [6.81700e+01 3.50000e-01]\n",
      " [1.76223e+03 7.44500e+01]\n",
      " [1.15500e+02 5.12000e+00]\n",
      " [3.53800e+01 2.50000e+00]\n",
      " [8.83300e+01 3.98000e+00]\n",
      " [1.03350e+02 4.49000e+00]\n",
      " [7.65500e+01 1.40000e+00]\n",
      " [6.68300e+01 3.78000e+00]\n",
      " [1.84220e+02 7.56000e+00]\n",
      " [5.68300e+01 2.07000e+00]\n",
      " [6.15300e+01 1.29000e+00]\n",
      " [5.11200e+01 2.75000e+00]\n",
      " [1.59250e+02 6.05000e+00]\n",
      " [3.45900e+01 2.93000e+00]\n",
      " [5.77700e+01 4.93000e+00]\n",
      " [8.86200e+01 6.06000e+00]\n",
      " [9.85900e+01 4.06000e+00]\n",
      " [2.09750e+02 9.60000e+00]\n",
      " [1.15580e+02 5.66000e+00]\n",
      " [1.13200e+02 5.98000e+00]\n",
      " [5.18800e+01 3.37000e+00]\n",
      " [1.17050e+02 6.62000e+00]\n",
      " [1.10270e+02 3.48000e+00]\n",
      " [4.58500e+01 3.75000e+00]\n",
      " [7.02500e+01 5.10000e+00]\n",
      " [5.40200e+01 4.14000e+00]\n",
      " [9.60800e+01 4.36000e+00]\n",
      " [8.03100e+01 3.56000e+00]]\n",
      "(102, 2)\n",
      "204\n"
     ]
    }
   ],
   "source": [
    "# Create a 2D array of prices and earnings\n",
    "stock_array = np.array([prices,earnings])\n",
    "print(stock_array)\n",
    "\n",
    "# Print the shape of stock_array\n",
    "print(stock_array.shape)\n",
    "\n",
    "# Print the size of stock_array\n",
    "print(stock_array.size)\n",
    "\n",
    "# Transpose stock_array\n",
    "stock_array_transposed = np.transpose(stock_array)\n",
    "print(stock_array_transposed)\n",
    "\n",
    "# Print the shape of stock_array\n",
    "print(stock_array_transposed.shape)\n",
    "\n",
    "# Print the size of stock_array\n",
    "print(stock_array_transposed.size)"
   ]
  },
  {
   "cell_type": "code",
   "execution_count": 74,
   "metadata": {
    "colab": {
     "base_uri": "https://localhost:8080/",
     "height": 2402
    },
    "colab_type": "code",
    "executionInfo": {
     "elapsed": 342,
     "status": "ok",
     "timestamp": 1555988573189,
     "user": {
      "displayName": "Sushrut Sood",
      "photoUrl": "https://lh6.googleusercontent.com/-K5rUTFc20ZI/AAAAAAAAAAI/AAAAAAAAAAc/h4OnScXkacU/s64/photo.jpg",
      "userId": "14475610978695126388"
     },
     "user_tz": 240
    },
    "id": "nAt85PIw0Zip",
    "outputId": "e9e982d9-fc2f-44b4-fd0b-3f557c5a3bf3"
   },
   "outputs": [
    {
     "name": "stdout",
     "output_type": "stream",
     "text": [
      "[ 170.12   93.29   55.28  145.3   171.81   59.5   100.5   168.93 1126.82\n",
      "   93.92  265.04   26.7   311.92   52.73  474.05   60.48  181.27   71.87\n",
      "  137.37  102.88  346.2    72.16   36.13   88.26   49.89  171.22   36.38\n",
      "   70.18  114.84   93.45  103.02   88.61   71.12   60.14   41.32   12.11\n",
      "  179.14  217.75   30.42   31.14  198.7    17.91   71.63   44.74 1018.48\n",
      " 1034.09  238.05   41.57  170.13  148.04  151.4    44.88  138.54   98.58\n",
      "   80.59   17.04   45.6    82.97  312.93   81.43  149.93  167.01   42.49\n",
      "   79.52   51.85  232.49   66.51  118.19   53.74   49.06   82.49  155.7\n",
      "   59.46   48.97   68.17 1762.23  115.5    35.38   88.33  103.35   76.55\n",
      "   66.83  184.22   56.83   61.53   51.12  159.25   34.59   57.77   88.62\n",
      "   98.59  209.75  115.58  113.2    51.88  117.05  110.27   45.85   70.25\n",
      "   54.02   96.08   80.31]\n",
      "[ 170.12   93.29   55.28  145.3   171.81   59.5   100.5   168.93 1126.82\n",
      "   93.92  265.04   26.7   311.92   52.73  474.05   60.48  181.27   71.87\n",
      "  137.37  102.88  346.2    72.16   36.13   88.26   49.89  171.22   36.38\n",
      "   70.18  114.84   93.45  103.02   88.61   71.12   60.14   41.32   12.11\n",
      "  179.14  217.75   30.42   31.14  198.7    17.91   71.63   44.74 1018.48\n",
      " 1034.09  238.05   41.57  170.13  148.04  151.4    44.88  138.54   98.58\n",
      "   80.59   17.04   45.6    82.97  312.93   81.43  149.93  167.01   42.49\n",
      "   79.52   51.85  232.49   66.51  118.19   53.74   49.06   82.49  155.7\n",
      "   59.46   48.97   68.17 1762.23  115.5    35.38   88.33  103.35   76.55\n",
      "   66.83  184.22   56.83   61.53   51.12  159.25   34.59   57.77   88.62\n",
      "   98.59  209.75  115.58  113.2    51.88  117.05  110.27   45.85   70.25\n",
      "   54.02   96.08   80.31]\n",
      "[[1.70120e+02 9.20000e+00]\n",
      " [9.32900e+01 5.31000e+00]\n",
      " [5.52800e+01 2.41000e+00]\n",
      " [1.45300e+02 5.91000e+00]\n",
      " [1.71810e+02 1.54200e+01]\n",
      " [5.95000e+01 2.51000e+00]\n",
      " [1.00500e+02 6.79000e+00]\n",
      " [1.68930e+02 1.25800e+01]\n",
      " [1.12682e+03 3.94000e+00]\n",
      " [9.39200e+01 5.22000e+00]\n",
      " [2.65040e+02 9.75000e+00]\n",
      " [2.67000e+01 1.75000e+00]\n",
      " [3.11920e+02 2.15900e+01]\n",
      " [5.27300e+01 3.47000e+00]\n",
      " [4.74050e+02 2.15500e+01]\n",
      " [6.04800e+01 2.96000e+00]\n",
      " [1.81270e+02 6.29000e+00]\n",
      " [7.18700e+01 5.19000e+00]\n",
      " [1.37370e+02 5.55000e+00]\n",
      " [1.02880e+02 6.40000e+00]\n",
      " [3.46200e+02 1.61000e+00]\n",
      " [7.21600e+01 2.87000e+00]\n",
      " [3.61300e+01 2.02000e+00]\n",
      " [8.82600e+01 7.58000e+00]\n",
      " [4.98900e+01 2.00000e-02]\n",
      " [1.71220e+02 5.82000e+00]\n",
      " [3.63800e+01 2.17000e+00]\n",
      " [7.01800e+01 5.71000e+00]\n",
      " [1.14840e+02 3.57000e+00]\n",
      " [9.34500e+01 3.89000e+00]\n",
      " [1.03020e+02 5.70000e+00]\n",
      " [8.86100e+01 4.45000e+00]\n",
      " [7.11200e+01 3.66000e+00]\n",
      " [6.01400e+01 2.58000e+00]\n",
      " [4.13200e+01 2.48000e+00]\n",
      " [1.21100e+01 1.68000e+00]\n",
      " [1.79140e+02 5.19000e+00]\n",
      " [2.17750e+02 1.19100e+01]\n",
      " [3.04200e+01 1.92000e+00]\n",
      " [3.11400e+01 1.92000e+00]\n",
      " [1.98700e+02 1.00700e+01]\n",
      " [1.79100e+01 1.24000e+00]\n",
      " [7.16300e+01 9.58000e+00]\n",
      " [4.47400e+01 6.19000e+00]\n",
      " [1.01848e+03 2.98700e+01]\n",
      " [1.03409e+03 2.98700e+01]\n",
      " [2.38050e+02 1.92000e+01]\n",
      " [4.15700e+01 7.30000e-01]\n",
      " [1.70130e+02 6.96000e+00]\n",
      " [1.48040e+02 6.95000e+00]\n",
      " [1.51400e+02 1.36600e+01]\n",
      " [4.48800e+01 3.18000e+00]\n",
      " [1.38540e+02 7.14000e+00]\n",
      " [9.85800e+01 6.94000e+00]\n",
      " [8.05900e+01 3.56000e+00]\n",
      " [1.70400e+01 6.50000e-01]\n",
      " [4.56000e+01 1.89000e+00]\n",
      " [8.29700e+01 4.09000e+00]\n",
      " [3.12930e+02 1.27200e+01]\n",
      " [8.14300e+01 4.34000e+00]\n",
      " [1.49930e+02 4.31000e+00]\n",
      " [1.67010e+02 6.40000e+00]\n",
      " [4.24900e+01 2.05000e+00]\n",
      " [7.95200e+01 4.69000e+00]\n",
      " [5.18500e+01 5.20000e+00]\n",
      " [2.32490e+02 8.95000e+00]\n",
      " [6.65100e+01 3.16000e+00]\n",
      " [1.18190e+02 5.53000e+00]\n",
      " [5.37400e+01 3.89000e+00]\n",
      " [4.90600e+01 3.61000e+00]\n",
      " [8.24900e+01 3.38000e+00]\n",
      " [1.55700e+02 6.67000e+00]\n",
      " [5.94600e+01 2.35000e+00]\n",
      " [4.89700e+01 2.55000e+00]\n",
      " [6.81700e+01 3.50000e-01]\n",
      " [1.76223e+03 7.44500e+01]\n",
      " [1.15500e+02 5.12000e+00]\n",
      " [3.53800e+01 2.50000e+00]\n",
      " [8.83300e+01 3.98000e+00]\n",
      " [1.03350e+02 4.49000e+00]\n",
      " [7.65500e+01 1.40000e+00]\n",
      " [6.68300e+01 3.78000e+00]\n",
      " [1.84220e+02 7.56000e+00]\n",
      " [5.68300e+01 2.07000e+00]\n",
      " [6.15300e+01 1.29000e+00]\n",
      " [5.11200e+01 2.75000e+00]\n",
      " [1.59250e+02 6.05000e+00]\n",
      " [3.45900e+01 2.93000e+00]\n",
      " [5.77700e+01 4.93000e+00]\n",
      " [8.86200e+01 6.06000e+00]\n",
      " [9.85900e+01 4.06000e+00]\n",
      " [2.09750e+02 9.60000e+00]\n",
      " [1.15580e+02 5.66000e+00]\n",
      " [1.13200e+02 5.98000e+00]\n",
      " [5.18800e+01 3.37000e+00]\n",
      " [1.17050e+02 6.62000e+00]\n",
      " [1.10270e+02 3.48000e+00]\n",
      " [4.58500e+01 3.75000e+00]\n",
      " [7.02500e+01 5.10000e+00]\n",
      " [5.40200e+01 4.14000e+00]\n",
      " [9.60800e+01 4.36000e+00]\n",
      " [8.03100e+01 3.56000e+00]]\n",
      "[9.200e+00 5.310e+00 2.410e+00 5.910e+00 1.542e+01 2.510e+00 6.790e+00\n",
      " 1.258e+01 3.940e+00 5.220e+00 9.750e+00 1.750e+00 2.159e+01 3.470e+00\n",
      " 2.155e+01 2.960e+00 6.290e+00 5.190e+00 5.550e+00 6.400e+00 1.610e+00\n",
      " 2.870e+00 2.020e+00 7.580e+00 2.000e-02 5.820e+00 2.170e+00 5.710e+00\n",
      " 3.570e+00 3.890e+00 5.700e+00 4.450e+00 3.660e+00 2.580e+00 2.480e+00\n",
      " 1.680e+00 5.190e+00 1.191e+01 1.920e+00 1.920e+00 1.007e+01 1.240e+00\n",
      " 9.580e+00 6.190e+00 2.987e+01 2.987e+01 1.920e+01 7.300e-01 6.960e+00\n",
      " 6.950e+00 1.366e+01 3.180e+00 7.140e+00 6.940e+00 3.560e+00 6.500e-01\n",
      " 1.890e+00 4.090e+00 1.272e+01 4.340e+00 4.310e+00 6.400e+00 2.050e+00\n",
      " 4.690e+00 5.200e+00 8.950e+00 3.160e+00 5.530e+00 3.890e+00 3.610e+00\n",
      " 3.380e+00 6.670e+00 2.350e+00 2.550e+00 3.500e-01 7.445e+01 5.120e+00\n",
      " 2.500e+00 3.980e+00 4.490e+00 1.400e+00 3.780e+00 7.560e+00 2.070e+00\n",
      " 1.290e+00 2.750e+00 6.050e+00 2.930e+00 4.930e+00 6.060e+00 4.060e+00\n",
      " 9.600e+00 5.660e+00 5.980e+00 3.370e+00 6.620e+00 3.480e+00 3.750e+00\n",
      " 5.100e+00 4.140e+00 4.360e+00 3.560e+00]\n",
      "[170.12   9.2 ]\n"
     ]
    }
   ],
   "source": [
    "# Subset prices from stock_array_transposed\n",
    "prices = stock_array_transposed[:, 0]\n",
    "print(prices)\n",
    "# Subset prices from stock_array_transposed\n",
    "prices = stock_array_transposed[:, 0]\n",
    "print(prices)\n",
    "# Subset earnings from stock_array_transposed\n",
    "print(stock_array_transposed)\n",
    "earnings = stock_array_transposed[:,1]\n",
    "print(earnings)\n",
    "# Subset the price and earning for first company\n",
    "company_1 = stock_array_transposed[0,:]\n",
    "print(company_1)"
   ]
  },
  {
   "cell_type": "code",
   "execution_count": null,
   "metadata": {
    "colab": {},
    "colab_type": "code",
    "id": "Auk2wkik100W"
   },
   "outputs": [],
   "source": []
  },
  {
   "cell_type": "markdown",
   "metadata": {
    "colab_type": "text",
    "id": "yEWN-ggD160z"
   },
   "source": [
    "Using methods defined in numpy package, we can calculate the mean and other statistical characteristics of arrays"
   ]
  },
  {
   "cell_type": "code",
   "execution_count": 75,
   "metadata": {
    "colab": {
     "base_uri": "https://localhost:8080/",
     "height": 50
    },
    "colab_type": "code",
    "executionInfo": {
     "elapsed": 377,
     "status": "ok",
     "timestamp": 1555988584147,
     "user": {
      "displayName": "Sushrut Sood",
      "photoUrl": "https://lh6.googleusercontent.com/-K5rUTFc20ZI/AAAAAAAAAAI/AAAAAAAAAAc/h4OnScXkacU/s64/photo.jpg",
      "userId": "14475610978695126388"
     },
     "user_tz": 240
    },
    "id": "rgn4EXoX2EZr",
    "outputId": "8e8c271a-620d-4129-c006-0910ea9f0bd4"
   },
   "outputs": [
    {
     "name": "stdout",
     "output_type": "stream",
     "text": [
      "150.50068627450983\n",
      "239.58531859198538\n"
     ]
    }
   ],
   "source": [
    "# Calculate the mean \n",
    "prices_mean = np.mean(prices)\n",
    "print(prices_mean)\n",
    "# Calculate the standard deviation \n",
    "prices_std = np.std(prices)\n",
    "print(prices_std)"
   ]
  },
  {
   "cell_type": "markdown",
   "metadata": {
    "colab_type": "text",
    "id": "AMPolZr32hAN"
   },
   "source": [
    "Other Methods:\n",
    "  1. Arange: TO generate and select in steps."
   ]
  },
  {
   "cell_type": "markdown",
   "metadata": {
    "colab_type": "text",
    "id": "4fd33PKv22Ut"
   },
   "source": [
    "Indexing Arrays\n",
    "1. We can save a index arrays to logically or systematically select elements in an array\n",
    "2. Boolean arrays are extremely powerful for this"
   ]
  },
  {
   "cell_type": "code",
   "execution_count": 76,
   "metadata": {
    "colab": {
     "base_uri": "https://localhost:8080/",
     "height": 218
    },
    "colab_type": "code",
    "executionInfo": {
     "elapsed": 285,
     "status": "ok",
     "timestamp": 1555988591769,
     "user": {
      "displayName": "Sushrut Sood",
      "photoUrl": "https://lh6.googleusercontent.com/-K5rUTFc20ZI/AAAAAAAAAAI/AAAAAAAAAAc/h4OnScXkacU/s64/photo.jpg",
      "userId": "14475610978695126388"
     },
     "user_tz": 240
    },
    "id": "OPJ8VUKu3BTv",
    "outputId": "5a3382d4-f323-4435-a5e3-db080f6c8ae0"
   },
   "outputs": [
    {
     "name": "stdout",
     "output_type": "stream",
     "text": [
      "[ True False False False  True False False  True  True False  True False\n",
      "  True False  True False  True False False False  True False False False\n",
      " False  True False False False False False False False False False False\n",
      "  True  True False False  True False False False  True  True  True False\n",
      "  True False  True False False False False False False False  True False\n",
      " False  True False False False  True False False False False False  True\n",
      " False False False  True False False False False False False  True False\n",
      " False False  True False False False False  True False False False False\n",
      " False False False False False False]\n",
      "[ 170.12  171.81  168.93 1126.82  265.04  311.92  474.05  181.27  346.2\n",
      "  171.22  179.14  217.75  198.7  1018.48 1034.09  238.05  170.13  151.4\n",
      "  312.93  167.01  232.49  155.7  1762.23  184.22  159.25  209.75]\n"
     ]
    }
   ],
   "source": [
    "# Find the mean\n",
    "price_mean = np.mean(prices)\n",
    "\n",
    "# Create boolean array\n",
    "boolean_array = (prices>price_mean)\n",
    "print(boolean_array)\n",
    "\n",
    "# Select prices that are greater than average\n",
    "above_avg = prices[boolean_array]\n",
    "print(above_avg)"
   ]
  },
  {
   "cell_type": "code",
   "execution_count": null,
   "metadata": {
    "colab": {},
    "colab_type": "code",
    "id": "IBdfixohJeyo"
   },
   "outputs": [],
   "source": []
  },
  {
   "cell_type": "markdown",
   "metadata": {
    "colab_type": "text",
    "id": "k9M3HWDa4bXW"
   },
   "source": [
    "# Visualization of Data"
   ]
  },
  {
   "cell_type": "markdown",
   "metadata": {
    "colab_type": "text",
    "id": "0gLpwiye4fgG"
   },
   "source": [
    "Multiple python libraries can help visualize the data- we Use matplotlib for this purpose, but there can be multiple othe libraries that do the same.\n"
   ]
  },
  {
   "cell_type": "code",
   "execution_count": 77,
   "metadata": {
    "colab": {
     "base_uri": "https://localhost:8080/",
     "height": 269
    },
    "colab_type": "code",
    "executionInfo": {
     "elapsed": 779,
     "status": "ok",
     "timestamp": 1555988719976,
     "user": {
      "displayName": "Sushrut Sood",
      "photoUrl": "https://lh6.googleusercontent.com/-K5rUTFc20ZI/AAAAAAAAAAI/AAAAAAAAAAc/h4OnScXkacU/s64/photo.jpg",
      "userId": "14475610978695126388"
     },
     "user_tz": 240
    },
    "id": "LRBJWZLi5lBz",
    "outputId": "8bb43955-c0a5-492d-fb3e-29e9315992f5"
   },
   "outputs": [
    {
     "data": {
      "image/png": "[encoded data removed]",
      "text/plain": [
       "<Figure size 432x288 with 1 Axes>"
      ]
     },
     "metadata": {
      "tags": []
     },
     "output_type": "display_data"
    }
   ],
   "source": [
    "# Import matplotlib.pyplot with the alias plt\n",
    "import matplotlib.pyplot as plt\n",
    "stock_df=pd.read_csv(\"/content/gdrive/My Drive/Analytics-MSDI-IS833/stock_data.csv\")\n",
    "# Plot the price of stock over time\n",
    "days=stock_df['Day']\n",
    "prices=stock_df['Price']\n",
    "plt.plot(days, prices, color=\"red\", linestyle=\"--\")\n",
    "\n",
    "# Display the plot\n",
    "plt.show()"
   ]
  },
  {
   "cell_type": "code",
   "execution_count": 78,
   "metadata": {
    "colab": {
     "base_uri": "https://localhost:8080/",
     "height": 295
    },
    "colab_type": "code",
    "executionInfo": {
     "elapsed": 563,
     "status": "ok",
     "timestamp": 1555988724950,
     "user": {
      "displayName": "Sushrut Sood",
      "photoUrl": "https://lh6.googleusercontent.com/-K5rUTFc20ZI/AAAAAAAAAAI/AAAAAAAAAAc/h4OnScXkacU/s64/photo.jpg",
      "userId": "14475610978695126388"
     },
     "user_tz": 240
    },
    "id": "42ToHINE6Yps",
    "outputId": "3b652896-c09c-484c-8220-5051eacedf0c"
   },
   "outputs": [
    {
     "data": {
      "image/png": "[encoded data removed]",
      "text/plain": [
       "<Figure size 432x288 with 1 Axes>"
      ]
     },
     "metadata": {
      "tags": []
     },
     "output_type": "display_data"
    }
   ],
   "source": [
    "import matplotlib.pyplot as plt\n",
    "\n",
    "# Plot price as a function of time\n",
    "plt.plot(days, prices, color=\"red\", linestyle=\"--\")\n",
    "\n",
    "# Add x and y labels\n",
    "plt.xlabel('Days')\n",
    "plt.ylabel('Prices, $')\n",
    "\n",
    "# Add plot title\n",
    "plt.title('Company Stock Prices Over Time')\n",
    "\n",
    "# Show plot\n",
    "plt.show()"
   ]
  },
  {
   "cell_type": "code",
   "execution_count": null,
   "metadata": {
    "colab": {},
    "colab_type": "code",
    "id": "HXmlx97361Ux"
   },
   "outputs": [],
   "source": []
  },
  {
   "cell_type": "markdown",
   "metadata": {
    "colab_type": "text",
    "id": "v8N78_Mt62HI"
   },
   "source": [
    "Scatter plots essentially plot all the points in a one to one mapping.\n"
   ]
  },
  {
   "cell_type": "code",
   "execution_count": 79,
   "metadata": {
    "colab": {
     "base_uri": "https://localhost:8080/",
     "height": 269
    },
    "colab_type": "code",
    "executionInfo": {
     "elapsed": 543,
     "status": "ok",
     "timestamp": 1555988727736,
     "user": {
      "displayName": "Sushrut Sood",
      "photoUrl": "https://lh6.googleusercontent.com/-K5rUTFc20ZI/AAAAAAAAAAI/AAAAAAAAAAc/h4OnScXkacU/s64/photo.jpg",
      "userId": "14475610978695126388"
     },
     "user_tz": 240
    },
    "id": "vlyHU1AD68LK",
    "outputId": "9dd83aac-800c-40ef-87d5-535bb0382874"
   },
   "outputs": [
    {
     "data": {
      "image/png": "[encoded data removed]",
      "text/plain": [
       "<Figure size 432x288 with 1 Axes>"
      ]
     },
     "metadata": {
      "tags": []
     },
     "output_type": "display_data"
    }
   ],
   "source": [
    "# Import pyplot as plt\n",
    "import matplotlib.pyplot as plt\n",
    "\n",
    "# Plot price as a function of time\n",
    "plt.scatter(days, prices, color='green', s=0.1)\n",
    "\n",
    "# Show plot\n",
    "plt.show()"
   ]
  },
  {
   "cell_type": "markdown",
   "metadata": {
    "colab_type": "text",
    "id": "BpMe0Ymi7BCv"
   },
   "source": [
    "Histograms: For economic indicators, stock returns and other financial indicators, we can use histograms to identify outliers and abnormalities within the data."
   ]
  },
  {
   "cell_type": "code",
   "execution_count": 80,
   "metadata": {
    "colab": {
     "base_uri": "https://localhost:8080/",
     "height": 269
    },
    "colab_type": "code",
    "executionInfo": {
     "elapsed": 1250,
     "status": "ok",
     "timestamp": 1555988803405,
     "user": {
      "displayName": "Sushrut Sood",
      "photoUrl": "https://lh6.googleusercontent.com/-K5rUTFc20ZI/AAAAAAAAAAI/AAAAAAAAAAc/h4OnScXkacU/s64/photo.jpg",
      "userId": "14475610978695126388"
     },
     "user_tz": 240
    },
    "id": "iZ_JsVg87NSj",
    "outputId": "7f65a334-0d7d-494d-a27a-1e0c0e676606"
   },
   "outputs": [
    {
     "data": {
      "image/png": "[encoded data removed]",
      "text/plain": [
       "<Figure size 432x288 with 1 Axes>"
      ]
     },
     "metadata": {
      "tags": []
     },
     "output_type": "display_data"
    }
   ],
   "source": [
    "#comparing Stock A and Stock B distribution\n",
    "stock_df=pd.read_csv(\"/content/gdrive/My Drive/Analytics-MSDI-IS833/stock_data2.csv\")\n",
    "stock_A=stock_df['company1']\n",
    "stock_B=stock_df['company2']\n",
    "# Plot histogram of stocks_A\n",
    "plt.hist(stock_A, bins=100, alpha=0.4)\n",
    "\n",
    "# Plot histogram of stocks_B \n",
    "plt.hist(stock_B, bins=100, alpha=0.4)\n",
    "\n",
    "# Display plot\n",
    "plt.show()"
   ]
  },
  {
   "cell_type": "markdown",
   "metadata": {
    "colab_type": "text",
    "id": "8DDOOIL59Gqi"
   },
   "source": [
    "#Introducing the DataSet\n"
   ]
  },
  {
   "cell_type": "markdown",
   "metadata": {
    "colab_type": "text",
    "id": "066g-_x-9T0e"
   },
   "source": [
    "Analyzing the S & P 100 data based on the Name, Sector, Price and Earnings of the Stocks."
   ]
  },
  {
   "cell_type": "code",
   "execution_count": null,
   "metadata": {
    "colab": {},
    "colab_type": "code",
    "id": "l-M7Ke5U9jqi"
   },
   "outputs": [],
   "source": [
    "names=np.array(df['Name'])\n",
    "prices=np.array(df['Price'])\n",
    "sectors=np.array(df['Sector'])\n",
    "earnings=np.array(df['EPS'])\n"
   ]
  },
  {
   "cell_type": "code",
   "execution_count": 82,
   "metadata": {
    "colab": {
     "base_uri": "https://localhost:8080/",
     "height": 370
    },
    "colab_type": "code",
    "executionInfo": {
     "elapsed": 296,
     "status": "ok",
     "timestamp": 1555988950090,
     "user": {
      "displayName": "Sushrut Sood",
      "photoUrl": "https://lh6.googleusercontent.com/-K5rUTFc20ZI/AAAAAAAAAAI/AAAAAAAAAAc/h4OnScXkacU/s64/photo.jpg",
      "userId": "14475610978695126388"
     },
     "user_tz": 240
    },
    "id": "7l59KCLF-p1O",
    "outputId": "e1d09408-c327-4fa2-962b-d4a163d4bfb1"
   },
   "outputs": [
    {
     "name": "stdout",
     "output_type": "stream",
     "text": [
      "[  18.49130435   17.56873823   22.93775934   24.58544839   11.14202335\n",
      "   23.70517928   14.8011782    13.42845787  285.99492386   17.99233716\n",
      "   27.18358974   15.25714286   14.44742937   15.19596542   21.99767981\n",
      "   20.43243243   28.81875994   13.8477842    24.75135135   16.075\n",
      "  215.0310559    25.14285714   17.88613861   11.64379947 2494.5\n",
      "   29.41924399   16.76497696   12.29071804   32.16806723   24.02313625\n",
      "   18.07368421   19.91235955   19.43169399   23.31007752   16.66129032\n",
      "    7.20833333   34.51637765   18.2829555    15.84375      16.21875\n",
      "   19.73187686   14.44354839    7.47703549    7.22778675   34.09708738\n",
      "   34.6196853    12.3984375    56.94520548   24.44396552   21.30071942\n",
      "   11.08345534   14.11320755   19.40336134   14.20461095   22.63764045\n",
      "   26.21538462   24.12698413   20.28606357   24.60141509   18.76267281\n",
      "   34.78654292   26.0953125    20.72682927   16.95522388    9.97115385\n",
      "   25.97653631   21.04746835   21.37251356   13.81491003   13.5900277\n",
      "   24.40532544   23.34332834   25.30212766   19.20392157  194.77142857\n",
      "   23.66997985   22.55859375   14.152        22.19346734   23.01781737\n",
      "   54.67857143   17.67989418   24.36772487   27.45410628   47.69767442\n",
      "   18.58909091   26.32231405   11.80546075   11.71805274   14.62376238\n",
      "   24.28325123   21.84895833   20.4204947    18.92976589   15.39465875\n",
      "   17.68126888   31.68678161   12.22666667   13.7745098    13.04830918\n",
      "   22.03669725   22.55898876]\n"
     ]
    }
   ],
   "source": [
    "# Import numpy as np\n",
    "import numpy as np \n",
    "\n",
    "# Convert lists to arrays\n",
    "prices_array = np.array(prices)\n",
    "earnings_array = np.array(earnings)\n",
    "\n",
    "# Calculate P/E ratio \n",
    "pe = prices_array/earnings_array\n",
    "print(pe)"
   ]
  },
  {
   "cell_type": "code",
   "execution_count": 83,
   "metadata": {
    "colab": {
     "base_uri": "https://localhost:8080/",
     "height": 134
    },
    "colab_type": "code",
    "executionInfo": {
     "elapsed": 269,
     "status": "ok",
     "timestamp": 1555988952288,
     "user": {
      "displayName": "Sushrut Sood",
      "photoUrl": "https://lh6.googleusercontent.com/-K5rUTFc20ZI/AAAAAAAAAAI/AAAAAAAAAAc/h4OnScXkacU/s64/photo.jpg",
      "userId": "14475610978695126388"
     },
     "user_tz": 240
    },
    "id": "2sVxoZul_Siq",
    "outputId": "dd70bd1c-fde9-4720-f3af-c00ed9ca42c3"
   },
   "outputs": [
    {
     "name": "stdout",
     "output_type": "stream",
     "text": [
      "['Apple Inc' 'Accenture Plc' 'Cisco Systems Inc' 'Facebook Inc'\n",
      " 'Alphabet Class C' 'Alphabet Class A' 'International Business Machines'\n",
      " 'Intel Corp' 'Mastercard Inc' 'Microsoft Corp' 'Oracle Corp'\n",
      " 'Paypal Holdings' 'Qualcomm Inc' 'Texas Instruments' 'Visa Inc']\n",
      "[18.49130435 24.58544839 16.76497696 34.51637765 34.09708738 34.6196853\n",
      " 11.08345534 14.11320755 34.78654292 24.40532544 19.20392157 54.67857143\n",
      " 17.67989418 24.28325123 31.68678161]\n"
     ]
    }
   ],
   "source": [
    "# Create boolean array \n",
    "boolean_array = (sectors== 'Information Technology')\n",
    "\n",
    "# Subset sector-specific data\n",
    "it_names = names[boolean_array]\n",
    "it_pe = pe[boolean_array]\n",
    "# Display sector names\n",
    "print(it_names)\n",
    "\n",
    "print(it_pe)"
   ]
  },
  {
   "cell_type": "code",
   "execution_count": 84,
   "metadata": {
    "colab": {
     "base_uri": "https://localhost:8080/",
     "height": 134
    },
    "colab_type": "code",
    "executionInfo": {
     "elapsed": 283,
     "status": "ok",
     "timestamp": 1555988954377,
     "user": {
      "displayName": "Sushrut Sood",
      "photoUrl": "https://lh6.googleusercontent.com/-K5rUTFc20ZI/AAAAAAAAAAI/AAAAAAAAAAc/h4OnScXkacU/s64/photo.jpg",
      "userId": "14475610978695126388"
     },
     "user_tz": 240
    },
    "id": "Ccl9z7NkAI87",
    "outputId": "030403da-a5a0-4b46-a433-401d5bd87d81"
   },
   "outputs": [
    {
     "name": "stdout",
     "output_type": "stream",
     "text": [
      "['Colgate-Palmolive Company' 'Costco Wholesale' 'CVS Corp'\n",
      " 'Kraft Heinz Co' 'Coca-Cola Company' 'Mondelez Intl Cmn A' 'Altria Group'\n",
      " 'Pepsico Inc' 'Procter & Gamble Company'\n",
      " 'Philip Morris International Inc' 'Walgreens Boots Alliance'\n",
      " 'Wal-Mart Stores']\n",
      "[25.14285714 29.41924399 12.29071804 22.63764045 24.12698413 20.72682927\n",
      " 21.04746835 22.55859375 22.19346734 23.01781737 13.7745098  22.03669725]\n"
     ]
    }
   ],
   "source": [
    "# Create boolean array \n",
    "boolean_array = (sectors=='Consumer Staples')\n",
    "\n",
    "# Subset sector-specific data\n",
    "cs_names = names[boolean_array]\n",
    "cs_pe = pe[boolean_array]\n",
    "\n",
    "# Display sector names\n",
    "print(cs_names)\n",
    "print(cs_pe)"
   ]
  },
  {
   "cell_type": "code",
   "execution_count": 85,
   "metadata": {
    "colab": {
     "base_uri": "https://localhost:8080/",
     "height": 50
    },
    "colab_type": "code",
    "executionInfo": {
     "elapsed": 253,
     "status": "ok",
     "timestamp": 1555988956167,
     "user": {
      "displayName": "Sushrut Sood",
      "photoUrl": "https://lh6.googleusercontent.com/-K5rUTFc20ZI/AAAAAAAAAAI/AAAAAAAAAAc/h4OnScXkacU/s64/photo.jpg",
      "userId": "14475610978695126388"
     },
     "user_tz": 240
    },
    "id": "7pbP-yzYAJ-0",
    "outputId": "931f7b47-7a24-4b27-8664-c0ebd491432c"
   },
   "outputs": [
    {
     "name": "stdout",
     "output_type": "stream",
     "text": [
      "21.581068906419564\n",
      "4.412021654267338\n"
     ]
    }
   ],
   "source": [
    "# Calculate mean and standard deviation\n",
    "cs_pe_mean = np.mean(cs_pe)\n",
    "cs_pe_std = np.std(cs_pe)\n",
    "\n",
    "print(cs_pe_mean)\n",
    "print(cs_pe_std)"
   ]
  },
  {
   "cell_type": "code",
   "execution_count": 86,
   "metadata": {
    "colab": {
     "base_uri": "https://localhost:8080/",
     "height": 283
    },
    "colab_type": "code",
    "executionInfo": {
     "elapsed": 549,
     "status": "ok",
     "timestamp": 1555988958114,
     "user": {
      "displayName": "Sushrut Sood",
      "photoUrl": "https://lh6.googleusercontent.com/-K5rUTFc20ZI/AAAAAAAAAAI/AAAAAAAAAAc/h4OnScXkacU/s64/photo.jpg",
      "userId": "14475610978695126388"
     },
     "user_tz": 240
    },
    "id": "I2zW_kLPA5CH",
    "outputId": "1e251fc6-e785-48dc-c31f-485ecdaf1d41"
   },
   "outputs": [
    {
     "data": {
      "image/png": "[encoded data removed]",
      "text/plain": [
       "<Figure size 432x288 with 1 Axes>"
      ]
     },
     "metadata": {
      "tags": []
     },
     "output_type": "display_data"
    }
   ],
   "source": [
    "import matplotlib.pyplot as plt\n",
    "\n",
    "# Make a scatterplot\n",
    "plt.scatter(it_id, it_pe, color='red', label='IT')\n",
    "plt.scatter(cs_id, cs_pe, color='green', label='CS')\n",
    "\n",
    "# Add legend\n",
    "plt.legend()\n",
    "\n",
    "# Add labels\n",
    "plt.xlabel('Company ID')\n",
    "plt.ylabel('P/E Ratio')\n",
    "plt.show()\n"
   ]
  },
  {
   "cell_type": "code",
   "execution_count": 87,
   "metadata": {
    "colab": {
     "base_uri": "https://localhost:8080/",
     "height": 283
    },
    "colab_type": "code",
    "executionInfo": {
     "elapsed": 419,
     "status": "ok",
     "timestamp": 1555988961849,
     "user": {
      "displayName": "Sushrut Sood",
      "photoUrl": "https://lh6.googleusercontent.com/-K5rUTFc20ZI/AAAAAAAAAAI/AAAAAAAAAAc/h4OnScXkacU/s64/photo.jpg",
      "userId": "14475610978695126388"
     },
     "user_tz": 240
    },
    "id": "rPyyKd0LE1X6",
    "outputId": "9d41d35c-d4a5-47f5-839f-97b1886a546b"
   },
   "outputs": [
    {
     "data": {
      "image/png": "[encoded data removed]",
      "text/plain": [
       "<Figure size 432x288 with 1 Axes>"
      ]
     },
     "metadata": {
      "tags": []
     },
     "output_type": "display_data"
    }
   ],
   "source": [
    "# Using Histograms to find outliers\n",
    "import matplotlib.pyplot as plt\n",
    "\n",
    "# Plot histogram \n",
    "plt.hist(it_pe, bins=8)\n",
    "\n",
    "# Add x-label\n",
    "plt.xlabel('P/E ratio')\n",
    "\n",
    "# Add y-label\n",
    "plt.ylabel('Frequency')\n",
    "\n",
    "# Show plot\n",
    "plt.show()"
   ]
  },
  {
   "cell_type": "code",
   "execution_count": 88,
   "metadata": {
    "colab": {
     "base_uri": "https://localhost:8080/",
     "height": 34
    },
    "colab_type": "code",
    "executionInfo": {
     "elapsed": 264,
     "status": "ok",
     "timestamp": 1555988964042,
     "user": {
      "displayName": "Sushrut Sood",
      "photoUrl": "https://lh6.googleusercontent.com/-K5rUTFc20ZI/AAAAAAAAAAI/AAAAAAAAAAc/h4OnScXkacU/s64/photo.jpg",
      "userId": "14475610978695126388"
     },
     "user_tz": 240
    },
    "id": "xSniXV6-E6ic",
    "outputId": "20e5a757-89d0-4e94-84aa-8ad158cc25ca"
   },
   "outputs": [
    {
     "name": "stdout",
     "output_type": "stream",
     "text": [
      "In 2017, Paypal Holdings had an abnormally high P/E ratio of 54.68.\n"
     ]
    }
   ],
   "source": [
    "# Identify P/E ratio within it_pe that is > 50\n",
    "outlier_price = it_pe[it_pe > 50]\n",
    "\n",
    "# Identify the company with PE ratio > 50\n",
    "outlier_name = it_names[it_pe>50]\n",
    "\n",
    "# Display results\n",
    "print(\"In 2017, \" + str(outlier_name[0]) + \" had an abnormally high P/E ratio of \" + str(round(outlier_price[0], 2)) + \".\")"
   ]
  },
  {
   "cell_type": "markdown",
   "metadata": {
    "colab_type": "text",
    "id": "N0laiKUkGEqS"
   },
   "source": [
    "With this , we can remove the outlier or keep it, depending on the data analysis. Further inspection would prove that Paypal has a higher than industry average P/E ratio, implying it might be overvalued and we can take a put option close to the stock price so that when the price reduces, we can make some profit."
   ]
  }
 ],
 "metadata": {
  "colab": {
   "collapsed_sections": [],
   "name": "Intro to Python for Finance.ipynb",
   "provenance": [],
   "version": "0.3.2"
  },
  "kernelspec": {
   "display_name": "Python 3",
   "language": "python",
   "name": "python3"
  },
  "language_info": {
   "codemirror_mode": {
    "name": "ipython",
    "version": 3
   },
   "file_extension": ".py",
   "mimetype": "text/x-python",
   "name": "python",
   "nbconvert_exporter": "python",
   "pygments_lexer": "ipython3",
   "version": "3.7.2"
  }
 },
 "nbformat": 4,
 "nbformat_minor": 2
}
